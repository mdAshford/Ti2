{
 "cells": [
  {
   "cell_type": "code",
   "execution_count": 1,
   "metadata": {},
   "outputs": [
    {
     "ename": "UndefVarError",
     "evalue": "UndefVarError: basepath not defined",
     "output_type": "error",
     "traceback": [
      "UndefVarError: basepath not defined",
      "",
      "Stacktrace:",
      " [1] top-level scope",
      "   @ ./In[1]:17"
     ]
    }
   ],
   "source": [
    "# lynx.jl\n",
    "# make a nice ordered set of symlinks to the files we will knit together\n",
    "\n",
    "symlink_prefix = \"⋮⋮sym.\"\n",
    "path_chapters = \"chapters\"\n",
    "\n",
    "# collect names of all .Rmd files, except `index.Rmd`\n",
    "files = readdir(path_chapters) |> \n",
    "  f -> filter!(endswith(\".Rmd\"),f) |>\n",
    "    f -> filter!(!startswith(\"index\"),f)\n",
    "\n",
    "# delete all files with `symlink_prefix`\n",
    "rm.(readdir() |> f -> filter!(startswith(symlink_prefix),f), force=true)\n",
    "\n",
    "# make new symlinks in root folder\n",
    "for i in 1:length(files)\n",
    "  symlink(joinpath(path_chapters,files[i]), symlink_prefix * string(i, pad=4) * \"⋮⋮\" * files[i])\n",
    "end"
   ]
  },
  {
   "cell_type": "code",
   "execution_count": 1,
   "metadata": {},
   "outputs": [
    {
     "name": "stdout",
     "output_type": "stream",
     "text": [
      "VERSION = v\"1.6.0-DEV.1123\"\n",
      "All done\n"
     ]
    }
   ],
   "source": [
    "# lynx.jl\n",
    "# make a nice ordered set of symlinks to the files we will knit together\n",
    "\n",
    "@show VERSION\n",
    "\n",
    "symlink_prefix = \"⋮⋮sym.\"\n",
    "path_chapters = \"chapters\"\n",
    "\n",
    "# collect names of all .Rmd files, except `index.Rmd`\n",
    "files = readdir(path_chapters) |> \n",
    "  f -> filter!(endswith(\".Rmd\"),f) |>\n",
    "    f -> filter!(!startswith(\"index\"),f)\n",
    "\n",
    "# delete all files with `symlink_prefix`\n",
    "rm.(readdir() |> f -> filter!(startswith(symlink_prefix),f), force=true)\n",
    "\n",
    "# make new symlinks in root folder\n",
    "for i in 1:length(files)\n",
    "  symlink(joinpath(path_chapters,files[i]), symlink_prefix * string(i, pad=4) * \"⋮⋮\" * files[i])\n",
    "end\n",
    "\n",
    "println(\"All done\")"
   ]
  },
  {
   "cell_type": "code",
   "execution_count": null,
   "metadata": {},
   "outputs": [],
   "source": []
  }
 ],
 "metadata": {
  "@webio": {
   "lastCommId": null,
   "lastKernelId": null
  },
  "kernelspec": {
   "display_name": "Julia 1.6.0-DEV",
   "language": "julia",
   "name": "julia-1.6"
  },
  "language_info": {
   "file_extension": ".jl",
   "mimetype": "application/julia",
   "name": "julia",
   "version": "1.6.0"
  }
 },
 "nbformat": 4,
 "nbformat_minor": 4
}
