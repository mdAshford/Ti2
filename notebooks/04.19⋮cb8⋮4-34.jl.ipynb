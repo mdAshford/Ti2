{
 "cells": [
  {
   "cell_type": "markdown",
   "metadata": {},
   "source": [
    "<div style=\"display:inline-block; position:absolute; top:0; right:0; color: #230e3e; font:italic 1em serif;\">$\\LaTeX$<span style=\"display:inline-block; vertical-align:bottom\"><a href=\"https://www.mathjax.org\">\n",
    "    <img style=\"height:1.25em\" title=\"Powered by MathJax\"\n",
    "    src=\"https://www.mathjax.org/badge/mj_logo.png\"\n",
    "    border=\"0\" alt=\"Powered by MathJax\" />\n",
    "</a></span> </div>"
   ]
  },
  {
   "cell_type": "markdown",
   "metadata": {},
   "source": [
    "<header style=\"background-color:#e7e2ee; color:#461d7c; line-height:2em; padding-left:1em; padding-right:1em; bottom:0; float:bottom; text-align:right; float:right; font-family:serif; font-size:small;\">Problem 4-34 ⋮ Çengel, Y. A., and Boles, M. A. (2001). <i>Thermodynamics: An Engineering Approach.</i> Boston: McGraw-Hill.</header>  \n",
    "\n"
   ]
  },
  {
   "cell_type": "markdown",
   "metadata": {},
   "source": [
    "\n",
    "### Given   \n",
    "An insulated piston–cylinder device contains 5 L of saturated liquid water at a constant pressure of 175 kPa. Water is stirred by a paddle wheel while a current of 8 A flows for 45 min through a resistor placed in the water. One-half of the liquid is evaporated during this constant-pressure process and the paddle-wheel work amounts to 400 kJ. \n",
    "\n",
    "\n",
    "### Find \n",
    "1. Determine the voltage of the source.  \n",
    "1. Show the process on a P-V diagram with respect to saturation lines. "
   ]
  },
  {
   "cell_type": "markdown",
   "metadata": {},
   "source": [
    "### Get Organized\n",
    "\n",
    "Even dysfunctional homes deserve a decent diagram.\n",
    "\n",
    "![figure, cb8, 4-34](figures/ch04_cen98179_p04034_lg.jpg)"
   ]
  },
  {
   "cell_type": "markdown",
   "metadata": {},
   "source": [
    "#### This gets easy if you recognize these things:  \n",
    "1. Closed system ⋮ constant mass  \n",
    "1. Insulated ⋮ no heat transfer   \n",
    "1. Isobaric process in closed system ⋮ expect $\\Delta V$ and the boundary work that comes with it.  \n",
    "1. We can resolve both states ⋮ $(P_1,x_1),\\ (x_2,P_2=P_1)$  \n",
    "1. We can assume $\\rm \\Delta KE = \\Delta PE \\approx 0$  \n",
    "1. Don't forget: energy transfer that isn't heat transfer is all classified as work.\n",
    "\n",
    "#### Assumptions\n",
    "1. $\\rm \\Delta KE = \\Delta PE \\approx 0$   \n",
    "1. Volume will increase. If we're wrong, we'll see it when we calculate boundary work.\n",
    "\n"
   ]
  },
  {
   "cell_type": "markdown",
   "metadata": {},
   "source": [
    "<div style=\"font-size:4000%; font-weight:900; line-height:1em; background-color:#461d7c; color:#fdd023; text-align:center;\">Attack</div>"
   ]
  },
  {
   "cell_type": "markdown",
   "metadata": {},
   "source": [
    "A few more things:\n",
    "\n",
    "1. We are given $W_\\textit{paddle,in} = 400\\,\\text{kJ}$  \n",
    "2. Recall, $W_\\textit{electricity} = \\left[ \\dot W_{\\substack{\\textit{electricity} \\\\ \\textit{(power)}} }\\right]\\textit{time} = \\text{VI}t$\n",
    "3. $W_{b,out} = \\displaystyle \\int^2_1 P\\,{\\rm d}V$\n",
    "\n",
    "We'll solve for the electrical work, then break that down to get the voltage we need. You can solve directly if you prefer.  \n",
    "Apply the First Law, with subscripts 1 and 2 representing initial and final states, respectively:\n",
    "\n",
    "\\begin{array}{ccccc}\n",
    "  &E_{in} &&-& E_{out} &=& \\Delta E_{sys} \\\\\n",
    "  W_\\textit{electricity,in} &+& W_\\textit{paddle,in} &-& W_{b,out} &=& U_2 - U_1 \\\\ \n",
    "  W_\\textit{electricity,in} &+& 400\\,\\text{kJ} &-& \\displaystyle \\int^2_1 P\\,{\\rm d}V &=&  U_2 - U_1 \\\\[6pt]{}\n",
    "\\end{array}\n",
    "\n",
    "\n",
    "\\begin{align*}\n",
    "   W_\\textit{electricity,in} &= U_2 - U_1 + \\int^2_1 P\\,{\\rm d}V - 400\\,\\text{kJ} \\\\[6pt]\n",
    "     &= U_2 - U_1 + P\\left( V_2 - V_1 \\right) - 400\\,\\text{kJ} \\\\[9pt]\n",
    "     &= \\left( U_2 + P V_2\\right) - \\left(U_1 + P V_1 \\right) - 400\\,\\text{kJ} \\\\[9pt]{}\n",
    "     &= H_2 - H_1 - 400\\,\\text{kJ} \\\\[9pt]{}\n",
    "\\end{align*}"
   ]
  },
  {
   "cell_type": "markdown",
   "metadata": {},
   "source": [
    "\n",
    "\\begin{gather*}\n",
    "  W_\\textit{electricity,in} = m\\left( h_2 - h_1 \\right) - 400\\,\\text{kJ} \\\\[6pt]\n",
    "  m = \\frac{V_1}{v_1}  \\qquad v_1 = v \\left(P_1, x_1 \\right) \n",
    "  \\qquad h_1 = h \\left(P, x_1 \\right) \\qquad  h_2 = h \\left( P, x_2 \\right)  \\\\\n",
    "\\end{gather*}"
   ]
  },
  {
   "cell_type": "code",
   "execution_count": 1,
   "metadata": {},
   "outputs": [],
   "source": [
    "using Unitful"
   ]
  },
  {
   "cell_type": "code",
   "execution_count": 2,
   "metadata": {},
   "outputs": [
    {
     "name": "stdout",
     "output_type": "stream",
     "text": [
      "running marcucius...\n",
      "package LaTeXStrings...package Unitful...function roundme...function sopretty...function subscripts...macro sopretty...macro rubber...marcucius done!\n"
     ]
    }
   ],
   "source": [
    "include(\"src/marcucius.jl\");"
   ]
  },
  {
   "cell_type": "code",
   "execution_count": 3,
   "metadata": {},
   "outputs": [
    {
     "data": {
      "text/latex": [
       "$v_{ \\text{f,175kPa}} = \\textstyle 0.00105665~\\frac{\\rm  m^{3} }{\\rm  kg }$"
      ],
      "text/plain": [
       "L\"$v_{ \\text{f,175kPa}} = \\textstyle 0.00105665~\\frac{\\rm  m^{3} }{\\rm  kg }$\""
      ]
     },
     "metadata": {},
     "output_type": "display_data"
    },
    {
     "data": {
      "text/latex": [
       "$h_{ \\text{f,175kPa}} = \\textstyle 485.905~\\frac{\\rm  kJ }{\\rm  kg }$"
      ],
      "text/plain": [
       "L\"$h_{ \\text{f,175kPa}} = \\textstyle 485.905~\\frac{\\rm  kJ }{\\rm  kg }$\""
      ]
     },
     "metadata": {},
     "output_type": "display_data"
    },
    {
     "data": {
      "text/latex": [
       "$h_{ \\text{fg,175kPa}} = \\textstyle 2214.2~\\frac{\\rm  kJ }{\\rm  kg }$"
      ],
      "text/plain": [
       "L\"$h_{ \\text{fg,175kPa}} = \\textstyle 2214.2~\\frac{\\rm  kJ }{\\rm  kg }$\""
      ]
     },
     "metadata": {},
     "output_type": "display_data"
    },
    {
     "data": {
      "text/latex": [
       "$m = \\textstyle 4.7319~{\\rm  kg }{\\rm  }$"
      ],
      "text/plain": [
       "L\"$m = \\textstyle 4.7319~{\\rm  kg }{\\rm  }$\""
      ]
     },
     "metadata": {},
     "output_type": "display_data"
    },
    {
     "data": {
      "text/latex": [
       "$h_{ \\text{1}} = \\textstyle 485.905~\\frac{\\rm  kJ }{\\rm  kg }$"
      ],
      "text/plain": [
       "L\"$h_{ \\text{1}} = \\textstyle 485.905~\\frac{\\rm  kJ }{\\rm  kg }$\""
      ]
     },
     "metadata": {},
     "output_type": "display_data"
    },
    {
     "data": {
      "text/latex": [
       "$h_{ \\text{2}} = \\textstyle 1593.005~\\frac{\\rm  kJ }{\\rm  kg }$"
      ],
      "text/plain": [
       "L\"$h_{ \\text{2}} = \\textstyle 1593.005~\\frac{\\rm  kJ }{\\rm  kg }$\""
      ]
     },
     "metadata": {},
     "output_type": "display_data"
    },
    {
     "data": {
      "text/latex": [
       "$W_{ \\text{elec,in}} = \\textstyle 4838.6865~{\\rm  kJ }{\\rm  }$"
      ],
      "text/plain": [
       "L\"$W_{ \\text{elec,in}} = \\textstyle 4838.6865~{\\rm  kJ }{\\rm  }$\""
      ]
     },
     "metadata": {},
     "output_type": "display_data"
    },
    {
     "data": {
      "text/latex": [
       "$voltage = \\displaystyle 224.0133~{\\rm  V }{\\rm  }$"
      ],
      "text/plain": [
       "L\"$voltage = \\displaystyle 224.0133~{\\rm  V }{\\rm  }$\""
      ]
     },
     "metadata": {},
     "output_type": "display_data"
    }
   ],
   "source": [
    "\n",
    "#___ given____________\n",
    "V = 5u\"L\"\n",
    "I = 8u\"A\"\n",
    "time = 45u\"minute\"\n",
    "x_1 = 0\n",
    "x_2 = 0.5\n",
    "W_paddle = 400u\"kJ\"\n",
    "\n",
    "v_f_170kPa  = 1.0528e-3u\"m^3/kg\" \n",
    "v_f_180kPa  = 1.0605e-3u\"m^3/kg\" \n",
    "\n",
    "h_f_170kPa  = 467.11u\"kJ/kg\"  \n",
    "h_f_180kPa  = 504.70u\"kJ/kg\" \n",
    "h_fg_170kPa = 2226.5u\"kJ/kg\"\n",
    "h_fg_180kPa = 2201.9u\"kJ/kg\" \n",
    "\n",
    "v_f_175kPa  = roundme((v_f_170kPa  + v_f_180kPa)/2, 10)\n",
    "h_f_175kPa  = (h_f_170kPa  + h_f_180kPa)/2\n",
    "h_fg_175kPa = (h_fg_170kPa + h_fg_180kPa)/2\n",
    "\n",
    "\n",
    "m = roundme((V / v_f_175kPa)|> u\"kg\") \n",
    "h_1 = h_f_175kPa  \n",
    "h_2 = (h_f_175kPa + x_2 * h_fg_175kPa)   |> roundme\n",
    "\n",
    "W_elec_in = (m * (h_2 - h_1) - W_paddle) |> roundme\n",
    "\n",
    "voltage = W_elec_in / (time * I) |> u\"V\" |> roundme\n",
    "\n",
    "(@sopretty v_f_175kPa  render left fraction)    |> display\n",
    "(@sopretty h_f_175kPa  render left fraction)    |> display\n",
    "(@sopretty h_fg_175kPa render left fraction)    |> display\n",
    "(@sopretty m render left fraction)              |> display\n",
    "(@sopretty h_1 render left fraction)            |> display\n",
    "(@sopretty h_2 render left fraction)            |> display\n",
    "(@sopretty W_elec_in render left fraction)      |> display\n",
    "\n",
    "(@sopretty voltage render left fraction display)|> display\n",
    "\n"
   ]
  },
  {
   "cell_type": "markdown",
   "metadata": {},
   "source": [
    "<div class=\"btn-success\">&nbsp;<div class=\"badge\"></div><i class=\"fa fa-bomb\"></i><strong> Boom</strong></div>\n",
    "<div class=\"panel-success\"><div class=\"panel-heading\"><div class=\"badge\"></div> \n",
    "\n",
    "\\begin{equation*}\n",
    "   224\\,\\text{Volts}\n",
    "\\end{equation*}  \n",
    "\n",
    "\n",
    "</div></div>"
   ]
  },
  {
   "cell_type": "markdown",
   "metadata": {},
   "source": [
    "<footer style=\"background-color: #461d7c; color:rgba(253,208,35,0.35); line-height:2em; padding-left:1em; padding-right:0.5em; bottom:0; float:bottom; text-align:right;\"><i>ψᵟ</i></footer>"
   ]
  }
 ],
 "metadata": {
  "@webio": {
   "lastCommId": null,
   "lastKernelId": null
  },
  "kernelspec": {
   "display_name": "Julia 1.5.0-DEV",
   "language": "julia",
   "name": "julia-1.5"
  },
  "language_info": {
   "file_extension": ".jl",
   "mimetype": "application/julia",
   "name": "julia",
   "version": "1.5.0"
  },
  "varInspector": {
   "cols": {
    "lenName": 16,
    "lenType": 16,
    "lenVar": 40
   },
   "kernels_config": {
    "python": {
     "delete_cmd_postfix": "",
     "delete_cmd_prefix": "del ",
     "library": "var_list.py",
     "varRefreshCmd": "print(var_dic_list())"
    },
    "r": {
     "delete_cmd_postfix": ") ",
     "delete_cmd_prefix": "rm(",
     "library": "var_list.r",
     "varRefreshCmd": "cat(var_dic_list()) "
    }
   },
   "types_to_exclude": [
    "module",
    "function",
    "builtin_function_or_method",
    "instance",
    "_Feature"
   ],
   "window_display": true
  }
 },
 "nbformat": 4,
 "nbformat_minor": 2
}
