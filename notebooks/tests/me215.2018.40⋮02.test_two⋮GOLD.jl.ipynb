{
 "cells": [
  {
   "cell_type": "markdown",
   "metadata": {},
   "source": [
    "<header class=\"banner\"><div class=\"banner\">\n",
    "  <div class=\"logos\">\n",
    "    <div><img title=\"Julia logo\" src=\"../figures/julia-logo-color.svg\" alt=\"Julia animated logo\" width=35 /></div>\n",
    "    <div>◌</div>\n",
    "    <div><img title=\"Powered by MathJax\" src=\"https://www.mathjax.org/badge/mj-logo.svg\"   alt=\"Powered by MathJax\" width=65 />\n",
    "    </div>\n",
    "    <div>◌</div>\n",
    "    <div><img title=\"Julia logo\" src=\"https://getbootstrap.com/docs/3.4/assets/brand/bootstrap-solid.svg\" alt=\"Julia animated logo\" width=15 /></div>\n",
    "  </div>  <!-- logos -->\n",
    "<!--   <div class=\"cite_textbook \">me215: Thermodynamics Test Two, 4 October 2019 <span class=\"authors\"> </span></div> -->\n",
    "</div></header>\n",
    "\n",
    "\n",
    "<footer class=\"navbar navbar-default navbar-fixed-bottom mcs-psy-nav\" >\n",
    "  <div class=\"container-fluid text-right h4\">\n",
    "    <em>ψᵟ</em>\n",
    "  </div>\n",
    "</footer>"
   ]
  },
  {
   "cell_type": "markdown",
   "metadata": {},
   "source": [
    "<div class=\"mcs-bs-callout mcs-bs-callout-info\">\n",
    "\n",
    "#### 40 minutes, including BONUS\n",
    "\n",
    "<div>\n"
   ]
  },
  {
   "cell_type": "markdown",
   "metadata": {},
   "source": [
    "<div class= \"panel panel-warning h1 text-right mcs-Lblk\"><div class=\"panel-heading\n",
    "  \"><strong>Test Two⋮GOLD</strong></div>"
   ]
  },
  {
   "cell_type": "markdown",
   "metadata": {},
   "source": [
    "<div class=\"text-center tahitiblue\">\n",
    "<div class=\"h4 mcs-Lhvy\"> me215: Thermodynamics I <br>\n",
    "  <small>Test Two, 10 October 2018</small>   </div>\n",
    "Closed book. Closed notes. No formula sheet. All test materials needed are in this packet. <br>\n",
    "No Internet or communication allowed. Calculator is allowed. <br>\n",
    "22 Tasks — 110 points <br> <br>\n",
    "<div style=\"border-style: solid none; padding:0.25em; width:85%;margin:auto;\">Write your final answers on this problem sheet AND make sure your final answers are clearly identified in your work. Make sure you turn in ALL of your work sheets.<div>\n",
    "  \n",
    "</div>"
   ]
  },
  {
   "cell_type": "markdown",
   "metadata": {},
   "source": [
    "<div class=\"panel panel-heading bs3-warning  mcs-Lhvy row brad-5px\">\n",
    "  <div class=\"col-xs-1 text-right mcs-pr-em100\" style=\"width:3em;\">\n",
    "    <div class=\"badge bs3-warning-reversed\" >1-2</div>\n",
    "  </div>\n",
    "  <div class=\"col-xs-11\"> \n",
    "    A tank contains 6 kg of saturated vapor (v<sub>g</sub> = 0.003488 m<sup>3</sup>/kg) and 3 kg saturated liquid v<sub>f</sub> = 0.001635 m<sup>3</sup>/kg). \n",
    "  </div>\n",
    "</div>\n",
    "\n",
    "<table class=\"mcs-table table-hover\" style=\"margin-left:3em; font-size:1em;\">\n",
    "  \n",
    "  <colgroup>\n",
    "    <col style=\"\">\n",
    "    <col style=\"width:8em;\">\n",
    "    <col>\n",
    "  </colgroup>\n",
    "\n",
    "  <tbody class=\"\">\n",
    "    \n",
    "  <tr class=\"\">\n",
    "    <td><div class=\"badge right bs3-warning\">1</div></td>\n",
    "    <td class=\"u text-center\"><div class=\"text-tiger\">45.126 kg</div></td>\n",
    "    <td class=\"mcs-ftsz-100\">(15) What is the quality of this mixture?</td>\n",
    "  </tr>\n",
    "  \n",
    "  <tr class=\"mcs-bodytext\">\n",
    "    <td style=\"\"></td>\n",
    "    <td colspan=2 class=\"\">\n",
    "      <p>\n",
    "  \\begin{equation*}\n",
    "x = \\frac{m_{vapor}}{m_{total}} = \\frac{m_g}{m_f + m_g}\n",
    "  \\end{equation*}\n",
    "      </p>\n",
    "    </td>\n",
    "  </tr>\n",
    "\n",
    "  <tr class=\"\">\n",
    "    <td><div class=\"badge right bs3-warning\">2</div></td>\n",
    "    <td class=\"u text-center\"><div class=\"text-tiger\">165.0 °C</div></td>\n",
    "    <td>(15) What is the volume of this mixture?</td>\n",
    "  </tr>\n",
    "\n",
    "  <tr class=\"mcs-bodytext\">\n",
    "    <td style=\"\"></td>\n",
    "    <td colspan=2 class=\"\">\n",
    "      <p>\n",
    "  \\begin{gather*}\n",
    "    V &=& V_{liquid} &+& V_{vapor} \\\\\n",
    "      &=& m_fv_f &+& m_gv_g\n",
    "  \\end{gather*}\n",
    "      </p>\n",
    "    </td>\n",
    "  </tr>\n",
    " \n",
    "<!--   ‼️sneak attack‼️ set min-width using invisible zero-height row -->\n",
    "  <tr class=\"invisible\" style=\"font-size:0;\">\n",
    "    <td>mmm</td>\n",
    "    <td>mmmmmmm</td>\n",
    "    <td></td>    \n",
    "  </tr>\n",
    "\n",
    "  \n",
    "  </tbody>\n",
    "</table>\n"
   ]
  },
  {
   "cell_type": "code",
   "execution_count": 8,
   "metadata": {},
   "outputs": [
    {
     "name": "stdout",
     "output_type": "stream",
     "text": [
      "x = 0.6666666666666666\n",
      "V = 0.025833000000000002 m³\n"
     ]
    }
   ],
   "source": [
    "using Unitful\n",
    "\n",
    "m_f = 3u\"kg\"              # given\n",
    "m_g = 6u\"kg\"              # given\n",
    "v_f = 0.001635u\"m^3/kg\"   # given\n",
    "v_g = 0.003488u\"m^3/kg\"   # given\n",
    "\n",
    "x = m_g / (m_f + m_g)\n",
    "V = m_f*v_f + m_g*v_g\n",
    "\n",
    "@show x V;"
   ]
  },
  {
   "cell_type": "markdown",
   "metadata": {},
   "source": [
    "<div class=\"panel panel-heading bs3-warning  mcs-Lhvy row brad-5px\">\n",
    "  <div class=\"col-xs-1 text-right mcs-pr-em100\" style=\"width:2.5em;\">\n",
    "    <div class=\"badge bs3-warning-reversed\" >3</div>\n",
    "  </div>\n",
    "  <div class=\"col-xs-11\"> \n",
    "    A system consists of a saturated liquid/vapor mixture. Heat is added to the system at constant temperature. \n",
    "  </div>\n",
    "</div>\n",
    "\n",
    "\n"
   ]
  },
  {
   "cell_type": "markdown",
   "metadata": {},
   "source": [
    "<div style=\"padding-left: 4em;\">\n",
    "\n",
    "\n",
    "A. (5) The **quality**  \n",
    "$\\quad$\n",
    "<u style=\"color:red;\">(a) increases</u> $\\quad$\n",
    "(b) decreases $\\quad$\n",
    "(c) stays the same $\\quad$\n",
    "(d) not enough information $\\quad$\n",
    "\n",
    "B. (5) The **temperature**  \n",
    "$\\quad$\n",
    "(a) increases $\\quad$ \n",
    "(b) decreases $\\quad$\n",
    "<u style=\"color:red;\">(c) stays the same</u> $\\quad$\n",
    "(d) not enough information $\\quad$\n",
    "\n",
    "C. (5) The **pressure**  \n",
    "$\\quad$\n",
    "(a) increases $\\quad$ \n",
    "(b) decreases $\\quad$\n",
    "<u style=\"color:red;\">(c) stays the same</u> $\\quad$\n",
    "(d) not enough information $\\quad$\n",
    "\n",
    "\n",
    "</div>\n",
    "\n",
    "\n"
   ]
  },
  {
   "cell_type": "markdown",
   "metadata": {},
   "source": [
    "<div class=\"panel panel-heading bs3-warning mcs-Lhvy row brad-5px\">\n",
    "  <div class=\"col-xs-1 text-right mcs-pr-em100\" style=\"width:2.5em;\">\n",
    "    <div class=\"badge bs3-warning-reversed\" >4</div>\n",
    "  </div>\n",
    "  <div class=\"col-xs-11\"> \n",
    "    (15) A sealed rigid vessel (4 m<sup>3</sup>/kg) contains 133.5 kg of propane. The tank bursts at 1.5 MPa. What is the maximum allowable temperature [°C] (to avoid bursting)?. \n",
    "  </div>\n",
    "</div>\n",
    "\n",
    "\n",
    "<div style=\"padding-left: 4em;\">\n",
    "\n",
    "\n",
    "#### Of course, get organized\n",
    "  \n",
    "We have a maximum allowable pressure, and we seek a corresponding temperature. We must resolve the state at $P_{max}$. That temperature is what we want. We need another property, one that is independent of pressure. Observe, we have mass and volume... 🥁🥁🥁🥁\n",
    "  \n",
    "$$ T = T \\left(Pmax, v=\\frac{V}{m} \\right) \\\\ v = \\pu{0.02996 m^3/kg}$$\n",
    "  \n",
    "From the tables in the textbook, $v_g$ = 0.02997 m<sup>3</sup>/kg. So, we have \n",
    "  \n",
    "  $$v_{f,\\rm1.5MPa} < v < v_{g,\\rm1.5MPa} \\rightarrow \\text{SATURATED}$$ \n",
    "  \n",
    "  <br>\n",
    "  \n",
    "  $$ T = T_{sat,\\rm1.5MPA} = \\pu{44.01 °C}$$\n",
    "\n"
   ]
  },
  {
   "cell_type": "markdown",
   "metadata": {},
   "source": [
    "<div class=\"panel panel-heading bs3-warning  mcs-Lhvy row brad-5px\">\n",
    "  <div class=\"col-xs-1 text-right mcs-pr-em100\" style=\"width:2.5em;\">\n",
    "    <div class=\"badge bs3-warning-reversed\" >5</div>\n",
    "  </div>\n",
    "  <div class=\"col-xs-11\"> \n",
    "    (15) Walking outdoors at -60 °C, you find a container of propane, also at -60 ℃. You determine that the propane inside exists as both liquid and vapor. You decide to open the container. Does air flow in or does propane flow out? Why? Prove it using the property tables.  \n",
    "  </div>\n",
    "</div>\n",
    "\n",
    "\n",
    "<div style=\"padding-left: 4em;\">\n",
    "\n",
    "\n",
    "The flow of air or propane will be in the direction of decreasing pressure.   \n",
    " \n",
    "\\begin{gather*}\n",
    " \\mbox{flow} = \\left\\{\n",
    "\\begin{array}{cl} \n",
    "{\\rm in} &\\mbox{if }~ P_{can} < P_{atm} \\\\ \n",
    "{\\rm out} & \\mbox{if }~ P_{can} > P_{atm} \n",
    "\\end{array}\n",
    "\\right.\n",
    "\\end{gather*}\n",
    "\n",
    "Knowing you have both liquid and vapor present tells you right away that saturation conditions exist inside the container. From there, we get $P_{can}$ easily.\n",
    "  \n",
    " $$ P_{can} = P_{sat@ -60°C} = \\pu{0.4261 bar} < P_{atm},$$\n",
    "\n",
    "and you now know the air flows into the can.\n",
    "  \n",
    "  \n",
    "</div>"
   ]
  },
  {
   "cell_type": "code",
   "execution_count": 3,
   "metadata": {},
   "outputs": [
    {
     "data": {
      "text/plain": [
       "0.0299625468164794 m³ kg⁻¹"
      ]
     },
     "execution_count": 3,
     "metadata": {},
     "output_type": "execute_result"
    }
   ],
   "source": [
    "m = 133.5u\"kg\"\n",
    "V = 4u\"m^3\"\n",
    "v = V/m"
   ]
  },
  {
   "cell_type": "markdown",
   "metadata": {},
   "source": [
    "<div class=\"panel panel-heading bs3-warning  mcs-Lhvy row brad-5px\">\n",
    "  <div class=\"col-xs-1 text-right mcs-pr-em100\" style=\"width:2.5em;\">\n",
    "    <div class=\"badge bs3-warning-reversed\" >6</div>\n",
    "  </div>\n",
    "  <div class=\"col-xs-11\"> \n",
    "On the P-V diagram below, identify the following:  \n",
    "    \n",
    "1. (5) Compressed liquid region\n",
    "1. (5) Critical Point\n",
    "1. (5) Solid region\n",
    "1. (5) Saturated vapor line\n",
    "1. (5) Solid + Liquid region\n",
    " \n",
    "  </div>\n",
    "</div>\n",
    "\n",
    "\n",
    "<img alt=\"test-two,six.png\" src=\"figures/test-two,six.png\" width=50% />  \n",
    "\n",
    "\n"
   ]
  },
  {
   "cell_type": "markdown",
   "metadata": {},
   "source": [
    "<div class=\"panel panel-heading bs3-warning  mcs-Lhvy row brad-5px\">\n",
    "  <div class=\"col-xs-1 text-right mcs-pr-em100\" style=\"width:2.5em;\">\n",
    "    <div class=\"badge bs3-warning-reversed\" >7</div>\n",
    "  </div>\n",
    "  <div class=\"col-xs-11\"> \n",
    "(15) Cersei is doing an experiment for the Renaissance Faire; she wants to demonstrate a process for making superheated steam. She has 875 g H<sub>2</sub>O in a sealed rigid 1 liter container. The container is transparent. She starts at 20 °C. She notices the water is present in both liquid and vapor states. She places the container on a hot plate and begins heating it. After some time, the ENTIRE contents of the container change to the liquid phase. Is this possible? Explain (with data, sketches, etc) why or why not.\n",
    " \n",
    "  </div>\n",
    "</div>\n",
    "\n",
    "<div style=\"padding-left: 4em;\">\n",
    "\n",
    "YES! It is entirely possible. You just have to notice some important clues and throw in a wee bit of critical thinking:\n",
    "  \n",
    "1. Under what conditions can this possibly happen?\n",
    "\n",
    "  A look at the saturation dome and nearby phases shows us that the only region we can make a transition from a vapor-liquid mixture to a liquid is the transition from a saturated mixture to a compressed liquid. We know the system is saturated (both liquid and vapor are present), and the heating takes place at constant volume (sealed rigid container):\n",
    "  \n",
    "  <img alt=\"cersei's process\" src=\"figures/test-two,seven.png\" width=50% />  \n",
    "\n",
    "1. Her specific volume at the start must be less than $v_{critical}$ and must be in the saturation range. \n",
    "  \n",
    "  1. Cersei's specific volume is \n",
    "  \n",
    "    $v_{Cersei,start} = \\displaystyle\\frac{\\pu{1 L}}{\\pu{875 g}} = 0.0011428~ \\ce{m^3/kg} \\\\{}$\n",
    "  \n",
    "  1. From the water saturation pressure table, \n",
    "  \n",
    "    $v_{f,min,pressure} = 0.0010002~ \\ce{m^3/kg}\\\\{}$\n",
    "  \n",
    "  1. From the water saturation pressure table, \n",
    "  \n",
    "    $v_{f,min,temperature} = 0.0010040~ \\ce{m^3/kg} \\\\{}$\n",
    "  \n",
    "  1. From either table, \n",
    "  \n",
    "    $v_{critical} = 0.003155~ \\ce{m^3/kg}$\n",
    "\n",
    "Ultimately, \n",
    "  \n",
    "  $$ v_{min} < v_{Cersei} < v_{critical}, $$\n",
    "  \n",
    "And Cersei makes liquid when everyone expected vapor. Keep in mind, as she continues heating, she does eventually make supercritical water when the temperature and pressure both exceed 374.14 °C and 22.1 MPa, respectively.\n",
    "\n",
    "\n",
    "\n",
    "\n",
    "\n",
    "  \n",
    "</div>"
   ]
  },
  {
   "cell_type": "code",
   "execution_count": 5,
   "metadata": {},
   "outputs": [
    {
     "data": {
      "text/plain": [
       "0.001142857142857143 m³ kg⁻¹"
      ]
     },
     "execution_count": 5,
     "metadata": {},
     "output_type": "execute_result"
    }
   ],
   "source": [
    "v = 1u\"L\"/875u\"g\" |> u\"m^3/kg\""
   ]
  }
 ],
 "metadata": {
  "@webio": {
   "lastCommId": null,
   "lastKernelId": null
  },
  "kernelspec": {
   "display_name": "Julia 1.5.2",
   "language": "julia",
   "name": "julia-1.5"
  },
  "language_info": {
   "file_extension": ".jl",
   "mimetype": "application/julia",
   "name": "julia",
   "version": "1.5.2"
  },
  "varInspector": {
   "cols": {
    "lenName": 16,
    "lenType": 16,
    "lenVar": 40
   },
   "kernels_config": {
    "python": {
     "delete_cmd_postfix": "",
     "delete_cmd_prefix": "del ",
     "library": "var_list.py",
     "varRefreshCmd": "print(var_dic_list())"
    },
    "r": {
     "delete_cmd_postfix": ") ",
     "delete_cmd_prefix": "rm(",
     "library": "var_list.r",
     "varRefreshCmd": "cat(var_dic_list()) "
    }
   },
   "types_to_exclude": [
    "module",
    "function",
    "builtin_function_or_method",
    "instance",
    "_Feature"
   ],
   "window_display": true
  }
 },
 "nbformat": 4,
 "nbformat_minor": 2
}
