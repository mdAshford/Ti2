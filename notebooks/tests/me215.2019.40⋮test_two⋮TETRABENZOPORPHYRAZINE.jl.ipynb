{
 "cells": [
  {
   "cell_type": "markdown",
   "metadata": {},
   "source": [
    "<header class=\"banner\"><div class=\"banner\">\n",
    "  <div class=\"logos\">\n",
    "    <div><img title=\"Julia logo\" src=\"../figures/julia-logo-color.svg\" alt=\"Julia animated logo\" width=35 /></div>\n",
    "    <div>◌</div>\n",
    "    <div><img title=\"Powered by MathJax\" src=\"https://www.mathjax.org/badge/mj-logo.svg\"   alt=\"Powered by MathJax\" width=65 />\n",
    "    </div>\n",
    "    <div>◌</div>\n",
    "    <div><img title=\"Julia logo\" src=\"https://getbootstrap.com/docs/3.4/assets/brand/bootstrap-solid.svg\" alt=\"Julia animated logo\" width=15 /></div>\n",
    "  </div>  <!-- logos -->\n",
    "  <div class=\"cite_textbook \">me215: Thermodynamics Test Two, 4 October 2019 <span class=\"authors\"> </span></div>\n",
    "</div></header>\n",
    "\n",
    "\n",
    "<footer class=\"navbar navbar-default navbar-fixed-bottom mcs-bg-tahitiblue mcs-text-argentum \">\n",
    "  <div class=\"container-fluid text-right h4 mcs-Lthin\" style=\"padding: 0 12px 5px initial; \">\n",
    "    <em>ψᵟ</em>\n",
    "  </div>\n",
    "</footer>"
   ]
  },
  {
   "cell_type": "markdown",
   "metadata": {},
   "source": [
    "<div class= \"panel panel-heading mcs-bg-tahitiblue mcs-text-argentum h1 text-right mcs-Lblk\"><strong>Test Two⋮TETRABENZOPORPHYRAZINE</strong></div>"
   ]
  },
  {
   "cell_type": "markdown",
   "metadata": {},
   "source": [
    "<div class=\"text-center tahitiblue\">\n",
    "<div class=\"h4 mcs-Lhvy\"> me215: Thermodynamics I <br>\n",
    "  <small>Test Two, 4 October 2019</small>   </div>\n",
    "Closed book. Closed notes. No formula sheet. All test materials needed are in this packet. <br>\n",
    "No Internet or communication allowed. Calculator is allowed. <br>\n",
    "22 Tasks — 110 points <br> <br>\n",
    "<div style=\"border-style: solid none; padding:0.25em;\">Write your final answers on this problem sheet AND make sure your final answers are clearly identified in your work. Make sure you turn in ALL of your work sheets.<div>\n",
    "  \n",
    "</div>"
   ]
  },
  {
   "cell_type": "code",
   "execution_count": 1,
   "metadata": {
    "scrolled": true
   },
   "outputs": [],
   "source": [
    "using Unitful #.DefaultSymbols"
   ]
  },
  {
   "cell_type": "code",
   "execution_count": 2,
   "metadata": {},
   "outputs": [
    {
     "data": {
      "text/plain": [
       "9.80665 m s⁻²"
      ]
     },
     "execution_count": 2,
     "metadata": {},
     "output_type": "execute_result"
    }
   ],
   "source": [
    "g = u\"gn\""
   ]
  },
  {
   "cell_type": "markdown",
   "metadata": {},
   "source": [
    "<!-- <div class=\"mcs-bs-callout mcs-bs-callout-danger extra \">\n",
    " -->\n",
    "\n",
    "\n",
    "<div class= \"panel panel-heading argentum-tahitiblue h4 mcs-Lhvy row brad-5px\">  \n",
    "  <div class=\"col-md-1\">\n",
    "    <div class=\"badge tahitiblue-argentum\" >1-7</div>\n",
    "  </div>\n",
    "  <div class=\"col-md-11\">\n",
    "  On your scratch paper, sketch a P-V diagram, labeled with the following:\n",
    "  </div>\n",
    "</div>\n",
    "\n",
    "\n",
    "\n",
    "\n",
    "\n",
    "<table class=\"mcs-table table-hover\" style=\"margin-left:3em;\"><tbody>\n",
    "  \n",
    "  <tr class=\"\">\n",
    "    <td><div class=\"badge right argentum-tahitiblue\">1</div></td>\n",
    "    <td>(2) Compressed liquid region </td>\n",
    "  </tr>\n",
    "  \n",
    "  <tr class=\"\">\n",
    "    <td><div class=\"badge right argentum-tahitiblue\">2</div></td>\n",
    "    <td>(2) Critical Point </td>\n",
    "  </tr>\n",
    "\n",
    "  \n",
    "  <tr class=\"\">\n",
    "    <td><div class=\"badge right argentum-tahitiblue\">3</div></td>\n",
    "    <td>(2) Saturated Vapor Line  </td>\n",
    "  </tr>\n",
    "\n",
    "\n",
    "  <tr class=\"\">\n",
    "    <td><div class=\"badge right argentum-tahitiblue\">4</div></td>\n",
    "    <td>(2) Superheated Vapor region  </td>\n",
    "  </tr>\n",
    "\n",
    "\n",
    "  <tr class=\"\">\n",
    "    <td><div class=\"badge right argentum-tahitiblue\">5</div></td>\n",
    "    <td>(2) Supercritical Fluid region  </td>\n",
    "  </tr>\n",
    "\n",
    "\n",
    "  <tr class=\"\">\n",
    "    <td><div class=\"badge right argentum-tahitiblue\">6</div></td>\n",
    "    <td>(1) <b>BONUS:</b> Solid Region  </td>\n",
    "  </tr>\n",
    "\n",
    "\n",
    "  <tr class=\"\">\n",
    "    <td><div class=\"badge right argentum-tahitiblue\">7</div></td>\n",
    "    <td>(1) <b>BONUS:</b> Triple Point</td>\n",
    "  </tr>\n",
    "  \n",
    "<!--   ‼️sneak attack‼️ set min-width -->\n",
    "  <tr class=\"invisible\">\n",
    "    <td>mmm</td>\n",
    "    <td>mmmm</td>\n",
    "  </tr>\n",
    "  \n",
    "  \n",
    "</tbody></table>\n",
    "\n",
    "\n",
    "<!-- </div> -->\n",
    "\n",
    "\n",
    "  \n",
    "  "
   ]
  },
  {
   "cell_type": "markdown",
   "metadata": {},
   "source": [
    "<div class= \"panel panel-heading argentum-tahitiblue h4 mcs-Lhvy row brad-5px\">  \n",
    "    <div class=\"col-md-1\">\n",
    "      <div class=\"badge tahitiblue-argentum\" >8-13</div>\n",
    "    </div>\n",
    "    <div class=\"col-md-11\">\n",
    "Label the following descriptions using terms in the right column below. Terms may appear more than once or not at all. If multiple terms apply, any one is sufficient. If no terms apply, respond “N/A”\n",
    "      \n",
    "\n",
    "</div></div>\n",
    "\n",
    "\n",
    "<div class=\"container-fluid\"> \n",
    "<div class=\"row\">\n",
    "<div class=\"col-md-6\">\n",
    "\n",
    "<table class=\"mcs-table table-hover\" style=\"margin-left:3em;\"><tbody >\n",
    "  \n",
    "  <tr class=\"\">\n",
    "    <td><div class=\"badge right argentum-tahitiblue\">8</div></td>\n",
    "    <td class=\"u text-center\"><div>Saturated Vapor</div></td>\n",
    "    <td>(5) Begins to condense with the loss of any energy</td>\n",
    "  </tr>\n",
    "  \n",
    "  <tr class=\"\">\n",
    "    <td><div class=\"badge right argentum-tahitiblue\">9</div></td>\n",
    "    <td class=\"u text-center\"><div>Compressed Liquid</div></td>\n",
    "    <td>(5) Open container of 10 °C water at sea level</td>\n",
    "  </tr>\n",
    "\n",
    "  \n",
    "  <tr class=\"\">\n",
    "    <td><div class=\"badge right argentum-tahitiblue\">10</div></td>\n",
    "    <td class=\"u text-center\"><div>Supercritical Fluid</div></td>\n",
    "    <td>(5) No distinction between liquid and vapor phases</td>\n",
    "  </tr>\n",
    "\n",
    "\n",
    "  <tr class=\"\">\n",
    "    <td><div class=\"badge right argentum-tahitiblue\">11</div></td>\n",
    "    <td class=\"u text-center\"><div>Superheated Vapor</div></td>\n",
    "    <td>(5) A 2m³ latex balloon holding 80 kg H2O at 85 bar</td>\n",
    "  </tr>\n",
    "\n",
    "\n",
    "  <tr class=\"\">\n",
    "    <td><div class=\"badge right argentum-tahitiblue\">12</div></td>\n",
    "    <td class=\"u text-center\"><div>Compressed Liquid</div></td>\n",
    "    <td>(5) Water at 270 °C, 55 bar</td>\n",
    "  </tr>\n",
    "\n",
    "\n",
    "  <tr class=\"\">\n",
    "    <td><div class=\"badge right argentum-tahitiblue\">13</div></td>\n",
    "    <td class=\"u text-center\"><div>NA (UNDEFINED)</div></td>\n",
    "    <td>(5) Quality x = 1.1</td>\n",
    "  </tr>\n",
    "\n",
    "<!--   ‼️sneak attack‼️ set min-width -->\n",
    "  <tr class=\"invisible\">\n",
    "    <td>mmm</td>\n",
    "    <td>mmmm</td>\n",
    "    <td></td>    \n",
    "  </tr>\n",
    "  \n",
    "</tbody></table>\n",
    "\n",
    "<!-- </div>\n",
    "<div class=\"col-md-1\"> -->\n",
    "\n",
    "</div>\n",
    "<div class=\"col-md-3\" style=\"margin-left:3em;\">\n",
    "\n",
    "  \n",
    "Compressed Liquid   \n",
    "Saturated Liquid   \n",
    "Saturated Mixture   \n",
    "Saturated Vapor   \n",
    "Supercooled Vapor   \n",
    "Supercritical Fluid   \n",
    "Superheated Liquid   \n",
    "Superheated Vapor \n",
    "  \n",
    "</div>\n",
    "\n",
    "  \n",
    "</div>\n",
    "  "
   ]
  },
  {
   "cell_type": "markdown",
   "metadata": {},
   "source": [
    "<div class=\"btn-warning\" style=\"display:table;background-color:#000f89;\"><span style=\"display:table-cell; padding:0.25em 0 0.25em 0.4em; color:#bfc3e1; white-space:nowrap;\">\n",
    "&nbsp;&nbsp;</span><span style=\"display:table-cell; padding-bottom:0.35em; width:100%; line-height:1.1em; color:#bfc3e1;\"><strong>  \n",
    "A rigid tank contains 8 kg of H<sub>2</sub>O at 1 MPa and 400 °C. \n",
    "</strong></span></div>"
   ]
  },
  {
   "cell_type": "markdown",
   "metadata": {},
   "source": [
    "<table class=\"mcs-table table-hover\" style=\"margin-left:3em; font-size:1em;\"><tbody class=\"mcs-text-tahitiblue\">\n",
    "  \n",
    "  <tr class=\"\">\n",
    "    <td><div class=\"badge right argentum-tahitiblue\">14</div></td>\n",
    "    <td class=\"u text-center\"><div>&nbsp;</div></td>\n",
    "    <td>m<sup>3</sup>\t(10) Find the volume of the tank.</td>\n",
    "  </tr>\n",
    "  \n",
    "<!--   ‼️sneak attack‼️ set min-width -->\n",
    "  <tr class=\"invisible\">\n",
    "    <td>mmm</td>\n",
    "    <td>mmmmmmm</td>\n",
    "    <td></td>    \n",
    "  </tr>\n",
    "  \n",
    "</tbody></table>\n",
    "\n",
    " \n",
    "\n",
    "\\begin{align*}\n",
    " &&V &= mv &\\\\\n",
    "\\ce{where} & \\\\  \n",
    "&& m &= \\ce{8 kg} \\\\\n",
    "&& v_\\text{1MPa,400°C} &= 0.3066\\,\\ce{m^3/kg}\n",
    "\\end{align*}\n"
   ]
  },
  {
   "cell_type": "code",
   "execution_count": 3,
   "metadata": {},
   "outputs": [
    {
     "name": "stdout",
     "output_type": "stream",
     "text": [
      "V = 2.4528 m³\n",
      "m = 8 kg\n",
      "v = 0.3066 m³ kg⁻¹\n",
      "V = 2.4528 m³\n"
     ]
    },
    {
     "data": {
      "text/plain": [
       "2.4528 m³"
      ]
     },
     "execution_count": 3,
     "metadata": {},
     "output_type": "execute_result"
    }
   ],
   "source": [
    "m = 8u\"kg\"\n",
    "v = 0.3066u\"m^3/kg\"\n",
    "\n",
    "V = m * v\n",
    "println(\"V = \",V)\n",
    "@show m v V"
   ]
  },
  {
   "cell_type": "markdown",
   "metadata": {},
   "source": [
    "<table class=\"mcs-table table-hover\" style=\"margin-left:3em; font-size:1em;\"><tbody class=\"mcs-text-tahitiblue\">\n",
    "  \n",
    "  <tr class=\"\">\n",
    "    <td><div class=\"badge right argentum-tahitiblue\">15</div></td>\n",
    "    <td class=\"u text-center\"><div>&nbsp;</div></td>\n",
    "    <td>kJ\t(10) Find the total internal energy of the H<sub>2</sub>O.</td>\n",
    "  </tr>\n",
    "  \n",
    "<!--   ‼️sneak attack‼️ set min-width -->\n",
    "  <tr class=\"invisible\">\n",
    "    <td>mmm</td>\n",
    "    <td>mmmmmmm</td>\n",
    "    <td></td>    \n",
    "  </tr>\n",
    "  \n",
    "</tbody></table>\n",
    "\n",
    "\n",
    "\n",
    "\\begin{align*}\n",
    " &&U &= mu &\\\\\n",
    "\\ce{where} & \\\\  \n",
    "&& m &= \\ce{8 kg} \\\\\n",
    "&& u_\\text{1MPa,400°C} &= 2957.3\\,\\ce{kJ/kg}\n",
    "\\end{align*}\n"
   ]
  },
  {
   "cell_type": "code",
   "execution_count": 4,
   "metadata": {},
   "outputs": [
    {
     "name": "stdout",
     "output_type": "stream",
     "text": [
      "U = 23658.4 kJ\n"
     ]
    }
   ],
   "source": [
    "m = 8u\"kg\"\n",
    "u = 2957.3u\"kJ/kg\"\n",
    "\n",
    "U = m * u\n",
    "println(\"U = \",U)"
   ]
  },
  {
   "cell_type": "markdown",
   "metadata": {},
   "source": [
    "<div class=\"btn-warning\" style=\"display:table;background-color:#000f89;\"><span style=\"display:table-cell; padding:0.25em 0 0.25em 0.4em; color:#bfc3e1; white-space:nowrap;\">\n",
    "&nbsp;&nbsp;</span><span style=\"display:table-cell; padding-bottom:0.35em; width:100%; line-height:1.1em; color:#bfc3e1;\"><strong>  \n",
    "A piston-cylinder device initially contains 50 L of saturated liquid water 700 kPa. Heat is transferred to the water at constant pressure until all the liquid is vaporized.\n",
    "</strong></span></div>"
   ]
  },
  {
   "cell_type": "markdown",
   "metadata": {},
   "source": [
    "<table class=\"mcs-table table-hover\" style=\"margin-left:3em; font-size:1em;\"><tbody class=\"mcs-text-tahitiblue\">\n",
    "  \n",
    "  <tr class=\"\">\n",
    "    <td><div class=\"badge right argentum-tahitiblue\">16</div></td>\n",
    "    <td class=\"u text-center\"><div class=\"text-tiger\">45.126 kg</div></td>\n",
    "    <td>kJ\t(10) Find the total internal energy of the H<sub>2</sub>O.</td>\n",
    "  </tr>\n",
    "  \n",
    "<!--   ‼️sneak attack‼️ set min-width -->\n",
    "  <tr class=\"invisible\">\n",
    "    <td>mmm</td>\n",
    "    <td>mmmmmmm</td>\n",
    "    <td></td>    \n",
    "  </tr>\n",
    "  \n",
    "</tbody></table>\n",
    "\n",
    "<div class=\"badge\" style=\"color:#bfc3e1; background-color:#000f89;\">16\n",
    "</div><span style=\"color:#000f89;\">\n",
    "＿＿＿＿＿＿ kg\t(10) What is the mass of the water?"
   ]
  },
  {
   "cell_type": "markdown",
   "metadata": {},
   "source": [
    "\\begin{align*}\n",
    " &&m &= \\frac{V}{v} &\\\\\n",
    "\\ce{where} & \\\\  \n",
    "&& V &= \\ce{50 L} \\\\\n",
    "&& v_{\\text{700kPa,sat.liq}} &= 0.0011080\\,\\ce{m^3/kg}\n",
    "\\end{align*}\n"
   ]
  },
  {
   "cell_type": "code",
   "execution_count": 5,
   "metadata": {},
   "outputs": [
    {
     "data": {
      "text/plain": [
       "45.12635379061371 kg"
      ]
     },
     "execution_count": 5,
     "metadata": {},
     "output_type": "execute_result"
    }
   ],
   "source": [
    "V = 50u\"L\"\n",
    "v = 0.0011080u\"m^3/kg\"\n",
    "\n",
    "m = V/v |> u\"kg\""
   ]
  },
  {
   "cell_type": "markdown",
   "metadata": {},
   "source": [
    "<table class=\"mcs-table table-hover\" style=\"margin-left:3em; font-size:1em;\"><tbody class=\"mcs-text-tahitiblue\">\n",
    "  \n",
    "  <tr class=\"\">\n",
    "    <td><div class=\"badge right argentum-tahitiblue\">17</div></td>\n",
    "    <td class=\"u text-center\"><div class=\"text-tiger\">165.0</div></td>\n",
    "    <td>kJ\t(10) Find the total internal energy of the H<sub>2</sub>O.</td>\n",
    "  </tr>\n",
    "  \n",
    "<!--   ‼️sneak attack‼️ set min-width -->\n",
    "  <tr class=\"invisible\">\n",
    "    <td>mmm</td>\n",
    "    <td>mmmmmmm</td>\n",
    "    <td></td>    \n",
    "  </tr>\n",
    "  \n",
    "</tbody></table>\n",
    "\n",
    "\n",
    "<div class=\"badge\" style=\"color:#bfc3e1; background-color:#000f89;\">17\n",
    "</div><span style=\"color:#000f89;\">\n",
    "＿＿＿＿＿＿ °C\t(10) What is the final temperature?\n",
    "</span>    "
   ]
  },
  {
   "cell_type": "markdown",
   "metadata": {},
   "source": [
    "Recognize that our final state is saturated vapor at the initial (constant) pressure. Thus,\n",
    "\n",
    "$$ T_\\ce{final} = T_\\text{sat@700kPa} = 165.0\\,\\ce{°C} $$"
   ]
  },
  {
   "cell_type": "markdown",
   "metadata": {},
   "source": [
    "<table class=\"mcs-table table-hover\" style=\"margin-left:3em; font-size:1em;\"><tbody class=\"mcs-text-tahitiblue\">\n",
    "  \n",
    "  <tr class=\"\">\n",
    "    <td><div class=\"badge right argentum-tahitiblue\">18</div></td>\n",
    "    <td class=\"u text-center\"><div class=\"text-tiger\">2066.3</div></td>\n",
    "    <td>kJ\t(10) Find the total internal energy of the H<sub>2</sub>O.</td>\n",
    "  </tr>\n",
    "  \n",
    "<!--   ‼️sneak attack‼️ set min-width -->\n",
    "  <tr class=\"invisible\">\n",
    "    <td>mmm</td>\n",
    "    <td>mmmmmmm</td>\n",
    "    <td></td>    \n",
    "  </tr>\n",
    "  \n",
    "</tbody></table>\n",
    "\n",
    "\n",
    "\n",
    "\n",
    "<div class=\"badge\" style=\"color:#bfc3e1; background-color:#000f89;\">18\n",
    "</div><span style=\"color:#000f89;\">\n",
    "＿＿＿＿＿＿ kJ/kg\t(10) Determine the specific enthalpy change."
   ]
  },
  {
   "cell_type": "markdown",
   "metadata": {},
   "source": [
    "\\begin{gather*}\n",
    "  \\Delta h = h_\\ce{final} - h_\\ce{initial} = h_\\text{g@700kPa} - h_\\text{f@700kPa} = h_\\text{fg@700kPa} = 2066.3\\,\\ce{kJ/kg} \\\\[6pt]\n",
    "  \\Delta h = 2066.3\\,\\ce{kJ/kg} \n",
    "\\end{gather*}"
   ]
  },
  {
   "cell_type": "markdown",
   "metadata": {},
   "source": [
    "<div class=\"btn-warning\" style=\"display:table;background-color:#000f89;\"><span style=\"display:table-cell; padding:0.25em 0 0.25em 0.4em; color:#bfc3e1; white-space:nowrap;\">\n",
    "&nbsp;&nbsp;</span><span style=\"display:table-cell; padding-bottom:0.35em; width:100%; line-height:1.1em; color:#bfc3e1;\"><strong>  \n",
    "A piston-cylinder device contains 0.5 kg saturated liquid H<sub>2</sub>O at a pressure of 500 kPa. Heat is added, and the H<sub>2</sub>O expands at constant pressure until it reaches 500 °C.\n",
    "</strong></span></div>"
   ]
  },
  {
   "cell_type": "markdown",
   "metadata": {},
   "source": [
    "<table class=\"mcs-table table-hover\" style=\"margin-left:3em; font-size:1em;\"><tbody class=\"mcs-text-tahitiblue\">\n",
    "  \n",
    "  <tr class=\"\">\n",
    "    <td><div class=\"badge right argentum-tahitiblue\">19</div></td>\n",
    "    <td class=\"u text-center\"><div class=\"text-tiger\">0.355</div></td>\n",
    "    <td>kJ\t(10) Find the total internal energy of the H<sub>2</sub>O.</td>\n",
    "  </tr>\n",
    "  \n",
    "<!--   ‼️sneak attack‼️ set min-width -->\n",
    "  <tr class=\"invisible\">\n",
    "    <td>mmm</td>\n",
    "    <td>mmmmmmm</td>\n",
    "    <td></td>    \n",
    "  </tr>\n",
    "  \n",
    "</tbody></table>\n",
    "\n",
    "\n",
    "<div class=\"badge\" style=\"color:#bfc3e1; background-color:#000f89;\">19\n",
    "</div><span style=\"color:#000f89;\">\n",
    "＿＿＿＿＿＿ m<sup>3</sup>\t(10) Find the final volume of the H<sub>2</sub>O."
   ]
  },
  {
   "cell_type": "markdown",
   "metadata": {},
   "source": [
    "$\\begin{gather*}\n",
    "  V_\\ce{final} = mv_\\ce{final}. \\qquad \\text{Final state:} \\left\\{\n",
    "\\begin{split}\n",
    "  T &= \\ce{500 °C} \\\\\n",
    "  P &= \\ce{500 kPa}\n",
    "\\end{split} \\right| v_\\ce{final} = 0.7109\\,\\ce{m^3/kg} \n",
    "\\end{gather*}$"
   ]
  },
  {
   "cell_type": "code",
   "execution_count": 6,
   "metadata": {},
   "outputs": [
    {
     "name": "stdout",
     "output_type": "stream",
     "text": [
      "V_final = 0.35545 m³\n"
     ]
    }
   ],
   "source": [
    "m = 0.5u\"kg\"\n",
    "v_final = 0.7109u\"m^3/kg\"\n",
    "\n",
    "V_final = m * v_final\n",
    "println(\"V_final = \",V_final)"
   ]
  },
  {
   "cell_type": "markdown",
   "metadata": {},
   "source": [
    "<table class=\"mcs-table table-hover\" style=\"margin-left:3em; font-size:1em;\"><tbody class=\"mcs-text-tahitiblue\">\n",
    "  \n",
    "  <tr class=\"\">\n",
    "    <td><div class=\"badge right argentum-tahitiblue\">16</div></td>\n",
    "    <td class=\"u text-center\"><div class=\"text-tiger\">151.9 °C</div></td>\n",
    "    <td>kJ\t(10) Find the total internal energy of the H<sub>2</sub>O.</td>\n",
    "  </tr>\n",
    "  \n",
    "<!--   ‼️sneak attack‼️ set min-width -->\n",
    "  <tr class=\"invisible\">\n",
    "    <td>mmm</td>\n",
    "    <td>mmmmmmm</td>\n",
    "    <td></td>    \n",
    "  </tr>\n",
    "  \n",
    "</tbody></table>\n",
    "\n",
    "\n",
    "<div class=\"badge\" style=\"color:#bfc3e1; background-color:#000f89;\">20\n",
    "</div><span style=\"color:#000f89;\">\n",
    "＿＿＿＿＿＿ °C\t(10) Find the initial temperature of the H<sub>2</sub>O prior to heating."
   ]
  },
  {
   "cell_type": "markdown",
   "metadata": {},
   "source": [
    "We are given saturated liquid at 500 kPa, so \n",
    "$T = T_\\text{sat@500kPa} = 151.9\\,\\ce{°C}$"
   ]
  },
  {
   "cell_type": "markdown",
   "metadata": {},
   "source": [
    "<table class=\"mcs-table table-hover\" style=\"margin-left:3em; font-size:1em;\"><tbody class=\"mcs-text-tahitiblue\">\n",
    "  \n",
    "  <tr class=\"\">\n",
    "    <td><div class=\"badge right argentum-tahitiblue\">16</div></td>\n",
    "    <td class=\"u text-center\"><div class=\"text-tiger\">177.45</div></td>\n",
    "    <td>kJ\t(10) Find the total internal energy of the H<sub>2</sub>O.</td>\n",
    "  </tr>\n",
    "  \n",
    "<!--   ‼️sneak attack‼️ set min-width -->\n",
    "  <tr class=\"invisible\">\n",
    "    <td>mmm</td>\n",
    "    <td>mmmmmmm</td>\n",
    "    <td></td>    \n",
    "  </tr>\n",
    "  \n",
    "</tbody></table>\n",
    "\n",
    "\n",
    "<div class=\"badge\" style=\"color:#bfc3e1; background-color:#000f89;\">21\n",
    "</div><span style=\"color:#000f89;\">\n",
    "    ＿＿＿＿＿＿ kJ\t<b>(4) BONUS:</b> Determine the work done by the H<sub>2</sub>O."
   ]
  },
  {
   "cell_type": "markdown",
   "metadata": {},
   "source": [
    "We are given no indication of work, other than our system experiencing a volume change ⋮ BOUNDARY WORK.  \n",
    "\n",
    "\\begin{align*}\n",
    "  W_\\ce{out} = W_\\text{b,out} &= \\int^\\ce{final}_\\ce{initial} P\\, {\\rm d}V \\\\[6pt]\n",
    "  &= mP\\left( v_\\ce{final} - v_\\ce{initial} \\right) &&  \\textit{constant pressure process} \\\\[6pt]\n",
    "  &&& v_\\ce{initial} = v_\\text{f@500kPa} = 0.0010926\\,\\ce{m^3/kg} \\\\\n",
    "\\end{align*}\n"
   ]
  },
  {
   "cell_type": "code",
   "execution_count": 7,
   "metadata": {},
   "outputs": [
    {
     "name": "stdout",
     "output_type": "stream",
     "text": [
      "W_out = 177.45185 kJ\n"
     ]
    }
   ],
   "source": [
    "m = 0.5u\"kg\"\n",
    "P = 500u\"kPa\"\n",
    "v_final   = 0.7109u\"m^3/kg\"\n",
    "v_initial = 0.0010926u\"m^3/kg\"\n",
    "\n",
    "W_out = m * P * (v_final - v_initial)\n",
    "println(\"W_out = \",W_out |> u\"kJ\")"
   ]
  },
  {
   "cell_type": "markdown",
   "metadata": {},
   "source": [
    "<table class=\"mcs-table table-hover\" style=\"margin-left:3em; font-size:1em;\"><tbody class=\"mcs-text-tahitiblue\">\n",
    "  \n",
    "  <tr class=\"\">\n",
    "    <td><div class=\"badge right argentum-tahitiblue\">16</div></td>\n",
    "    <td class=\"u text-center\"><div class=\"text-tiger\">1421.81</div></td>\n",
    "    <td>kJ\t(10) Find the total internal energy of the H<sub>2</sub>O.</td>\n",
    "  </tr>\n",
    "  \n",
    "<!--   ‼️sneak attack‼️ set min-width -->\n",
    "  <tr class=\"invisible\">\n",
    "    <td>mmm</td>\n",
    "    <td>mmmmmmm</td>\n",
    "    <td></td>    \n",
    "  </tr>\n",
    "  \n",
    "</tbody></table>\n",
    "\n",
    "\n",
    "<div class=\"badge\" style=\"color:#bfc3e1; background-color:#000f89;\">22\n",
    "</div><span style=\"color:#000f89;\">\n",
    "＿＿＿＿＿＿ kJ\t<b>(4) BONUS:</b> Determine the heat transfer."
   ]
  },
  {
   "cell_type": "markdown",
   "metadata": {},
   "source": [
    "To find heat transfer, we employ the energy equation. The assumed direction of heat transfer is arbitrary. We have no indication of kinetic or potential energy implications, so we neglect both $\\left( \\Delta\\ce{KE} \\cong \\Delta\\ce{PE} \\cong 0\\right)$. We proceed as follows:  \n",
    "\n",
    "\\begin{array}{ccccc}\n",
    "  E_{in} &-& E_{out} &=& \\Delta E_{sys} \\\\\n",
    "  Q_{in} &-& W_{out} &=& U_{final} - U_{initial} \\\\\n",
    "   &&&&& \\scriptsize\\textit{our work is the boundary work we calculated earlier} \\\\\n",
    "  Q_{in} &-& W_{b,out} &=& m\\left( u_{final} - u_{initial}\\right) \\\\{} \n",
    "\\end{array}\n",
    "\n",
    "\\begin{align*}\n",
    "  Q_{in} &= W_{b,out} + m\\left( u_\\text{500°C,500kPa} - u_\\text{f@500kPa}\\right) \\\\\n",
    "\\end{align*}"
   ]
  },
  {
   "cell_type": "code",
   "execution_count": 8,
   "metadata": {},
   "outputs": [
    {
     "name": "stdout",
     "output_type": "stream",
     "text": [
      "Q_in = 1421.8118500000003 kJ\n"
     ]
    }
   ],
   "source": [
    "u_500°C_500kPa = 3128.4u\"kJ/kg\"\n",
    "uf_500kPa = 639.68u\"kJ/kg\"\n",
    "\n",
    "Q_in = W_out + m*(u_500°C_500kPa - uf_500kPa)\n",
    "println(\"Q_in = \",Q_in |> u\"kJ\")"
   ]
  },
  {
   "cell_type": "markdown",
   "metadata": {},
   "source": [
    "We had already figured out the boundary work, so I worked the bonus using internal energy. We can also use enthalpy in this case. Let's take a look. \n",
    "\n",
    "\\begin{array}{ccccc}\n",
    "  E_{in} &-& E_{out} &=& \\Delta E_{sys} \\\\[6pt]\n",
    "  Q_{in} &-& W_{out} &=& U_{final} - U_{initial} \\\\\n",
    "   &&&&& \\scriptsize\\textit{our work is all boundary work} \\\\\n",
    "  Q_{in} &-& W_{b,out} &=&  U_{final} - U_{initial} \\\\[6pt] \n",
    "  Q_{in} &-& \\displaystyle \\int^\\ce{final}_\\ce{initial} P\\, {\\rm d}V &=&  U_{final} - U_{initial} \\\\[6pt] \n",
    "  Q_{in} &-& \\displaystyle  P\\left(V_{final} - V_{initial} \\right) &=&  U_{final} - U_{initial} \\\\ {}\n",
    "\\end{array}\n",
    "\n",
    "\\begin{array}{c}\n",
    "  Q_{in} &=& U_{final} - U_{initial} \\displaystyle + P\\left(V_{final} - V_{initial} \\right) \n",
    "    &=& \\left( U_{final} + PV_{final} \\right) &-& \\left( U_{initial} + PV_{initial} \\right) \\\\\n",
    "    &&&=& H_{final} &-& H_{initial} \\\\{}\n",
    "\\end{array}\n",
    "\n",
    "\\begin{equation*}\n",
    "  Q_{in} = m\\left(h_{final} - h_{initial}\\right) = m\\left( h_\\text{500°C,500kPa} - h_\\text{f@500kPa}\\right)\n",
    "\\end{equation*}"
   ]
  },
  {
   "cell_type": "code",
   "execution_count": 9,
   "metadata": {},
   "outputs": [
    {
     "name": "stdout",
     "output_type": "stream",
     "text": [
      "Q_in_using_enthalpy = 1421.835 kJ\n",
      "Q_in_from_earlier = 1421.8118500000003 kJ\n"
     ]
    }
   ],
   "source": [
    "h_500°C_500kPa = 3483.9u\"kJ/kg\"\n",
    "hf_500kPa = 640.23u\"kJ/kg\"\n",
    "\n",
    "Q_in_enthalpy = m*(h_500°C_500kPa - hf_500kPa)\n",
    "println(\"Q_in_using_enthalpy = \",Q_in_enthalpy |> u\"kJ\")\n",
    "println(\"Q_in_from_earlier = \",Q_in |> u\"kJ\")"
   ]
  },
  {
   "cell_type": "markdown",
   "metadata": {},
   "source": []
  },
  {
   "cell_type": "code",
   "execution_count": null,
   "metadata": {},
   "outputs": [],
   "source": []
  },
  {
   "cell_type": "markdown",
   "metadata": {},
   "source": [
    "<!-- <div class=\"row\">\n",
    " -->\n",
    "<!-- <div class=\"col-md-6\"> -->\n",
    "\n",
    "<!-- <div class=\"container-fluid\"> -->\n",
    "\n",
    "\n",
    "<table class=\"mcs-table table-hover\" style=\"margin-left:3em;\"><tbody>\n",
    "  \n",
    "  <tr>\n",
    "    <td><span class=\"badge mcs-text-argentum mcs-bg-tahitiblue\">1</span></td>\n",
    "    <td><div class=\"u text-center\">h</div></td>\n",
    "    <td>(5) Begins to condense with the loss of any energy</td>\n",
    "  </tr>\n",
    "  \n",
    "  <tr >\n",
    "    <td><span class=\"badge mcs-text-argentum mcs-bg-tahitiblue\">1</span></td>\n",
    "    <td><div class=\"u text-center\">dddd</div></td>\n",
    "    <td>(5) Open container of 10 °C water at sea level (5) Open container of 10 °C water at sea level</td>\n",
    "  </tr>\n",
    "\n",
    "  <tr class=\"invisible\">\n",
    "    <td></td>\n",
    "    <td>mmm mmm</td>\n",
    "    <td></td>    \n",
    "  </tr>\n",
    "\n",
    "\n",
    "  \n",
    "  \n",
    "\n",
    "  \n",
    "</tbody></table>\n",
    "\n",
    "  \n",
    "  \n",
    "</div> "
   ]
  }
 ],
 "metadata": {
  "@webio": {
   "lastCommId": null,
   "lastKernelId": null
  },
  "kernelspec": {
   "display_name": "Julia 1.5.2",
   "language": "julia",
   "name": "julia-1.5"
  },
  "language_info": {
   "file_extension": ".jl",
   "mimetype": "application/julia",
   "name": "julia",
   "version": "1.5.2"
  },
  "varInspector": {
   "cols": {
    "lenName": 16,
    "lenType": 16,
    "lenVar": 40
   },
   "kernels_config": {
    "python": {
     "delete_cmd_postfix": "",
     "delete_cmd_prefix": "del ",
     "library": "var_list.py",
     "varRefreshCmd": "print(var_dic_list())"
    },
    "r": {
     "delete_cmd_postfix": ") ",
     "delete_cmd_prefix": "rm(",
     "library": "var_list.r",
     "varRefreshCmd": "cat(var_dic_list()) "
    }
   },
   "types_to_exclude": [
    "module",
    "function",
    "builtin_function_or_method",
    "instance",
    "_Feature"
   ],
   "window_display": true
  }
 },
 "nbformat": 4,
 "nbformat_minor": 2
}
