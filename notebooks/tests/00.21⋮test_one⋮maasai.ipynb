{
 "cells": [
  {
   "cell_type": "markdown",
   "metadata": {},
   "source": [
    "<tr style=\"width:100%\">\n",
    "<td style=\"text-align:center;\">\n",
    "<strong>ME215: Thermodynamics I  <br>\n",
    "    Test Two, 12 February 2020</strong> <br> \n",
    "Closed book. Closed notes. No formula sheet. All test materials needed are in this packet.  <br>\n",
    "No Internet or communication allowed. Calculator is allowed.  <br>\n",
    "<i>12 Tasks — 100 points</i>\n",
    "</td></tr>\n",
    "<tr style=\"width:100%\">\n",
    "<td style=\"text-align:left; border-top: 0.4em solid #461D7C; border-bottom: 0.4em solid #461D7C;\">\n",
    "Write your final answers on this problem sheet <strong>AND</strong> make sure your final answers are <strong>clearly identified</strong> in your work. Make sure you turn in <strong>ALL</strong> of your work sheets.\n",
    "</td></tr>"
   ]
  },
  {
   "cell_type": "markdown",
   "metadata": {},
   "source": [
    "### Label the following descriptions using terms below. Terms may appear more than once or not at all. If multiple terms apply, any one is sufficient. If no terms apply, respond “N/A”\n",
    "\n",
    "|     Compressed Liquid |    Saturated  Liquid    |    Saturated Mixture   |    Saturated Vapor    |\n",
    "|:---------------------:|:-----------------------:|:----------------------:|:----------------------|\n",
    "| **Supercooled Vapor** | **Supercritical Fluid** | **Superheated Liquid** | **Superheated Vapor** |\n"
   ]
  },
  {
   "cell_type": "markdown",
   "metadata": {},
   "source": [
    "1. `____ Saturated Liquid ___` (5) Begins to vaporize with the gain of any energy.</tr>  \n",
    "1. `__ Supercritical Fluid __` (5) No distinction between liquid and vapor phases.\n",
    "1. `___ Compressed Liquid ___` (5) Water at 270 °C, 55 bar.  \n",
    "1. `_______ undefined _______` (5) Quality x = 1.01  "
   ]
  },
  {
   "cell_type": "markdown",
   "metadata": {},
   "source": [
    "<div style=\"border-top: 0.4em solid #461D7C; width=100wv;\"></div>"
   ]
  },
  {
   "cell_type": "markdown",
   "metadata": {},
   "source": [
    "### A 350 m<sup>3</sup> tank is filled with a saturated liquid-vapor mixture of water at 200 kPa, where 25% of the mass is liquid.\n",
    "5. `____ 1053.36 kg _________` (10) Find the mass of the contents of the tank.  \n",
    "1. `____ 120.2 °C ___________` (10) Find the temperature of the contents of the tank.  \n",
    "1. `____ 2131208.0 kJ _______` (10) Find the total internal energy of the H2O.  "
   ]
  },
  {
   "cell_type": "markdown",
   "metadata": {},
   "source": [
    "----\n",
    "5. *Find the mass of the contents of the tank.*  \n",
    "We have volume $V$ and enough information ($P$,$x$) to get specific volume $v$.  \n",
    "\\begin{gather*} {}\\\\[-9pt]\n",
    "m = \\frac{V}{v} \\\\[6pt]\n",
    "v = v_f + x\\left(v_g - v_f\\right) \\\\[6pt]\n",
    "x = \\frac{m_{vapor}}{m}\\\\[-9pt]{}\n",
    "\\end{gather*}  \n",
    "We head to the saturated water pressure table at $P = 200\\,{\\rm kPa}$  \n",
    "![water saturated pressure, water](./figures/test1.05.png)\n",
    "It's all algebra from here. "
   ]
  },
  {
   "cell_type": "code",
   "execution_count": 2,
   "metadata": {},
   "outputs": [],
   "source": [
    "using Unitful\n",
    "using CoolProp"
   ]
  },
  {
   "cell_type": "code",
   "execution_count": 3,
   "metadata": {},
   "outputs": [
    {
     "name": "stdout",
     "output_type": "stream",
     "text": [
      "m = 526.6800104809322 kg"
     ]
    }
   ],
   "source": [
    "\"\"\"Find the mass of the contents of the tank.\"\"\"\n",
    "\n",
    "V = 350u\"m^3\"\n",
    "x = 0.75\n",
    "vf = 1.0605e-3u\"m^3/kg\"\n",
    "vg = 0.8857u\"m^3/kg\"\n",
    "\n",
    "v = vf + x * (vg - vf)\n",
    "m = V/v\n",
    "\n",
    "print(\"m = $m\")"
   ]
  },
  {
   "cell_type": "markdown",
   "metadata": {},
   "source": [
    "----\n",
    "6. *Find the temperature of the contents of the tank.*  \n",
    "\n",
    "  $T = T_{sat} = 120.2~°C$"
   ]
  },
  {
   "cell_type": "markdown",
   "metadata": {},
   "source": [
    "----\n",
    "7. *Find the total internal energy of the H₂O.*   \n",
    "\\begin{gather*} {}\\\\[-9pt]\n",
    "U = mu \\\\[6pt]\n",
    "u = u_f + x\\left(u_g - u_f\\right) \\\\[6pt]\n",
    "x = \\frac{m_{vapor}}{m}\n",
    "\\end{gather*}"
   ]
  },
  {
   "cell_type": "code",
   "execution_count": 3,
   "metadata": {},
   "outputs": [
    {
     "name": "stdout",
     "output_type": "stream",
     "text": [
      "U = 2.1312080290110395e6 kJ"
     ]
    }
   ],
   "source": [
    "\"\"\"Find the total internal energy of the H₂O.\"\"\"  \n",
    "\n",
    "# use m, x from (5)\n",
    "\n",
    "uf = 504.49u\"kJ/kg\"\n",
    "ug = 2529.5u\"kJ/kg\"\n",
    "\n",
    "u = uf + x * (ug - uf)\n",
    "U = m*u\n",
    "\n",
    "print(\"U = $U\")"
   ]
  },
  {
   "cell_type": "markdown",
   "metadata": {},
   "source": [
    "<div style=\"border-top: 0.4em solid #461D7C; width=100wv;\"></div>"
   ]
  },
  {
   "cell_type": "markdown",
   "metadata": {},
   "source": [
    "### Water exiting a turbine at 0.4 bar and 90% quality has a specific volume of 1.60 m³/kg.  \n",
    "8. `____ 0.625 kg/m³ ________` (10) What is the water’s density?  \n",
    "1. `____ 2404.8 kJ/kg _______` (10) Determine the specific enthalpy.  \n",
    "1. `____ 75.87 °C ___________` (10) Determine the water’s temperature.  "
   ]
  },
  {
   "cell_type": "markdown",
   "metadata": {},
   "source": [
    "----\n",
    "8. _What is the water’s density?_\n",
    "\n",
    " $$\\rho = \\frac{1}{v}$$"
   ]
  },
  {
   "cell_type": "code",
   "execution_count": 4,
   "metadata": {},
   "outputs": [
    {
     "name": "stdout",
     "output_type": "stream",
     "text": [
      "ρ = 0.625 kg m^-3\n"
     ]
    }
   ],
   "source": [
    "v = 1.6u\"m^3/kg\"\n",
    "println(\"ρ = $(1/v)\")"
   ]
  },
  {
   "cell_type": "markdown",
   "metadata": {},
   "source": [
    "----\n",
    "9. _Determine the specific enthalpy._\n",
    "\n",
    " We have quality, so we know the water is saturated. Employ the version of the quality calculation you like:  \n",
    " \n",
    " $$h = h_f + x \\left(h_g - h_f\\right) = h_f + x h_{fg} $$\n",
    " ![water saturated pressure, water](./figures/test1.08.png)\n",
    "\n"
   ]
  },
  {
   "cell_type": "code",
   "execution_count": 5,
   "metadata": {},
   "outputs": [
    {
     "name": "stdout",
     "output_type": "stream",
     "text": [
      "h = 2404.8599999999997 kJ kg^-1\n"
     ]
    }
   ],
   "source": [
    "\"\"\"Determine the specific enthalpy\"\"\"\n",
    "\n",
    "hf = 317.58u\"kJ/kg\"\n",
    "hfg = 2319.2u\"kJ/kg\"\n",
    "x = 0.90\n",
    "\n",
    "h = hf + x*hfg\n",
    "println(\"h = $h\")"
   ]
  },
  {
   "cell_type": "markdown",
   "metadata": {},
   "source": [
    "----\n",
    "10. *Determine the water’s temperature.*  \n",
    "\n",
    " The water is saturated, so \n",
    "  $T = T_{sat} = 75.8\\,{\\rm°C}$"
   ]
  },
  {
   "cell_type": "markdown",
   "metadata": {},
   "source": [
    "<div style=\"border-top: 0.4em solid #461D7C; width=100wv;\"></div>"
   ]
  },
  {
   "cell_type": "markdown",
   "metadata": {},
   "source": [
    "### A piston-cylinder device contains 0.6 kg of steam at 200 °C and 0.5 MPa. The steam is cooled at constant pressure until one-half of the mass condenses.  \n",
    "11. `____ 81.33 °C ___________` (10) Find the final temperature.  \n",
    "1.  `____ 0.7174 m³ __________` (10) Determine the volume change  \n"
   ]
  },
  {
   "cell_type": "markdown",
   "metadata": {},
   "source": [
    "----\n",
    "With (1) and (2) representing initial and final states, respectively, We seek  \n",
    " - $T_2$, which we'll get from the table at State 2, and \n",
    " - $\\Delta V = V_2 - V_1 = m\\left(v_2 - v_1\\right)$.  \n",
    " \n",
    "State 1:\n",
    " $\\left\\{\\begin{split}\n",
    " T_1 = 200\\,{\\rm °C}\\\\\n",
    " P_1 = 0.5\\,{\\rm kPa}\n",
    " \\end{split}\\right| \\ v_1= 0.4249 \\rm\\,m^3/kg$  \n",
    " \n",
    "![superheated vapor, water](./figures/test1.12.png)  \n",
    "\n",
    "----\n",
    "\n",
    "State 2 is saturated; we know because we have liquid and vapor both present. Half the mass condensed, so half the mass is still vapor, meaning $x_2 = 0.5.$  \n",
    " \n",
    "State 2:\n",
    " $\\left\\{\\begin{split}\n",
    " x_2 = 0.5 \\\\\n",
    " P_2 = 0.5\\,{\\rm kPa}\n",
    " \\end{split}\\right| \n",
    " \\begin{array}{l}\n",
    " v_1 = 0.4249 \\rm\\,m^3/kg \\\\\n",
    " \\color{red}{T_2 = T_{sat} = 81.33\\,{\\rm °C}}\n",
    " \\end{array}$  \n",
    "\n",
    "  ![superheated vapor, water](./figures/test1.11.png)\n",
    "\n"
   ]
  },
  {
   "cell_type": "code",
   "execution_count": 6,
   "metadata": {},
   "outputs": [
    {
     "name": "stdout",
     "output_type": "stream",
     "text": [
      "ΔV = 0.717369 m^3\n"
     ]
    }
   ],
   "source": [
    "\"\"\"Determine the volume change\"\"\"\n",
    "\n",
    "m = 0.6u\"kg\"\n",
    "v1 = 0.4249u\"m^3/kg\"\n",
    "x2 = 0.5\n",
    "vf2 = 1.0300e-3u\"m^3/kg\"\n",
    "vg2 = 3.240u\"m^3/kg\"\n",
    "\n",
    "v2 = vf2 + x2*(vg2 - vf2)\n",
    "\n",
    "ΔV = m*(v2 - v1)\n",
    "println(\"ΔV = $ΔV\")"
   ]
  },
  {
   "cell_type": "markdown",
   "metadata": {},
   "source": [
    "<footer style=\"background-color: #461d7c; color:rgba(253,208,35,0.35); line-height:2em; padding-left:1em; padding-right:0.5em; bottom:0; float:bottom; text-align:right;\"><i>ψᵟ</i></footer>"
   ]
  }
 ],
 "metadata": {
  "kernelspec": {
   "display_name": "Julia 1.5.0-DEV",
   "language": "julia",
   "name": "julia-1.5"
  },
  "language_info": {
   "file_extension": ".jl",
   "mimetype": "application/julia",
   "name": "julia",
   "version": "1.5.0"
  },
  "nteract": {
   "version": "nteract-on-jupyter@2.1.3"
  },
  "varInspector": {
   "cols": {
    "lenName": 16,
    "lenType": 16,
    "lenVar": 40
   },
   "kernels_config": {
    "python": {
     "delete_cmd_postfix": "",
     "delete_cmd_prefix": "del ",
     "library": "var_list.py",
     "varRefreshCmd": "print(var_dic_list())"
    },
    "r": {
     "delete_cmd_postfix": ") ",
     "delete_cmd_prefix": "rm(",
     "library": "var_list.r",
     "varRefreshCmd": "cat(var_dic_list()) "
    }
   },
   "types_to_exclude": [
    "module",
    "function",
    "builtin_function_or_method",
    "instance",
    "_Feature"
   ],
   "window_display": true
  }
 },
 "nbformat": 4,
 "nbformat_minor": 2
}
