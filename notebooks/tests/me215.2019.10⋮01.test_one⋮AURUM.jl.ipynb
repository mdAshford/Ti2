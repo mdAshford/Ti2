{
 "cells": [
  {
   "cell_type": "markdown",
   "metadata": {},
   "source": [
    "<header class=\"banner\"><div class=\"banner\">\n",
    "  <div class=\"logos\">\n",
    "    <div><img title=\"Julia logo\" src=\"../figures/julia-logo-color.svg\" alt=\"Julia animated logo\" width=35 /></div>\n",
    "    <div>◌</div>\n",
    "    <div><img title=\"Powered by MathJax\" src=\"https://www.mathjax.org/badge/mj-logo.svg\"   alt=\"Powered by MathJax\" width=65 />\n",
    "    </div>\n",
    "    <div>◌</div>\n",
    "    <div><img title=\"Julia logo\" src=\"https://getbootstrap.com/docs/3.4/assets/brand/bootstrap-solid.svg\" alt=\"Julia animated logo\" width=15 /></div>\n",
    "  </div>  <!-- logos -->\n",
    "<!--   <div class=\"cite_textbook \">me215: Thermodynamics Test Two, 4 October 2019 <span class=\"authors\"> </span></div> -->\n",
    "</div></header>\n",
    "\n",
    "\n",
    "<footer class=\"navbar navbar-default navbar-fixed-bottom mcs-psy-nav\" >\n",
    "  <div class=\"container-fluid text-right h4\">\n",
    "    <em>ψᵟ</em>\n",
    "  </div>\n",
    "</footer>"
   ]
  },
  {
   "cell_type": "markdown",
   "metadata": {},
   "source": [
    "<div class=\"mcs-bs-callout mcs-bs-callout-info\">\n",
    "\n",
    "#### 25 minutes\n",
    "\n",
    "<div>\n",
    "\n"
   ]
  },
  {
   "cell_type": "markdown",
   "metadata": {},
   "source": [
    "<div class= \"panel panel-warning h1 text-right mcs-Lblk\"><div class=\"panel-heading\n",
    "  \"><strong>Test One⋮GOLD</strong></div>"
   ]
  },
  {
   "cell_type": "markdown",
   "metadata": {},
   "source": [
    "<div class=\"text-center\">\n",
    "<div class=\"h4 mcs-Lhvy\"> me215: Thermodynamics I <br>\n",
    "  <small>Test Two, 30 January 2019</small>   </div>\n",
    "Closed book. Closed notes. No formula sheet. All test materials needed are in this packet. <br>\n",
    "No Internet or communication allowed. Calculator is allowed.<br>\n",
    "100 points <br> \n",
    "<div style=\"border-style: solid none; padding:0.25em; margin:auto;\">Write your final answers on this problem sheet AND make sure your final answers are clearly identified in your work.<br>Make sure you turn in ALL of your work sheets.<div>\n",
    "  \n",
    "</div>"
   ]
  },
  {
   "cell_type": "markdown",
   "metadata": {},
   "source": [
    "1. (30) Match the terms with the appropriate descriptions:\n",
    "\n",
    "<br>\n",
    "\n",
    "<div class=\"hbox space-around bordered\" style=\"height:22em;\">\n",
    "\n",
    "<div>\n",
    "  \n",
    "__ C __ Boundary  \n",
    "  \n",
    "__ H __ Closed system  \n",
    "  \n",
    "__ F __ Extensive property  \n",
    "  \n",
    "__ B __ Intensive property   \n",
    "  \n",
    "__ G __ Surroundings   \n",
    "  \n",
    "__ E __ System   \n",
    "\n",
    "</div>\n",
    "  \n",
    "<ol class=\"vbox space-between mcs-mt-0\" style=\"max-width:50%; list-style:upper-alpha; margin-top:0\">\n",
    "  <li>The condition of a system as described by its properties </li>  \n",
    "  <li>A property whose value is independent of the size or extent of a system</li>\n",
    "  <li>Distinguishes the system from its surroundings</li>\n",
    "  <li>A region of space through which mass may flow</li>\n",
    "  <li>The region of interest</li>\n",
    "  <li>A property whose value for an overall system is the sum of its values for the parts into which the system is divided</li>\n",
    "  <li>Everything external to the system</li>\n",
    "  <li>A fixed quantity of matter</li>\n",
    "</ol>\n",
    "  \n",
    "</div>"
   ]
  },
  {
   "cell_type": "markdown",
   "metadata": {},
   "source": [
    "    \n",
    "\n",
    "2. __ 26.8258 kPa __ (20)\n",
    "\n",
    "  **Given:** The pressure of a gas in a well-sealed vertical frictionless piston-cylinder device is to be increased by adding a mass of 55 kg on the piston. The diameter of the cylinder is 16 cm.\n",
    "\n",
    "  **Find:** The increase in the pressure of the gas.\n",
    "  \n",
    "  #### Get organized:\n",
    "  \n",
    "  Strictly speaking, \n",
    "  \n",
    "  \\begin{align*}\n",
    "   F &= PA \\\\[6pt]\n",
    "   \\Delta F &= P\\Delta A + A \\Delta P \\\\[6pt]\n",
    "  \\end{align*}.\n",
    "  \n",
    "  We can safely assume A is constant, so\n",
    "  \n",
    "  $$\n",
    "    \\Delta F =  A \\Delta P, \n",
    "  $$\n",
    "  \n",
    "  and\n",
    "\n",
    "  \\begin{align} \\label{eq:deltaP}\n",
    "    \\Delta P =  \\frac{1}{A} \\Delta F.\n",
    "  \\end{align}\n",
    "  \n",
    "  Assuming $g$ is constant, \n",
    "\n",
    "  \\begin{align} \\notag\n",
    "   F &= mg \\\\[6pt]\n",
    "   \\Delta F &= g\\Delta m \\label{eq:deltaF} \\\\[6pt]\n",
    "  \\end{align}.\n",
    "  \n",
    "  Finally, combining eqns (\\ref{eq:deltaP}) and (\\ref{eq:deltaF}):\n",
    "\n",
    "  \\begin{gather*} \n",
    "    \\Delta P = \\frac{g}{A} \\Delta m.\n",
    "  \\end{gather*}\n",
    "\n",
    "  <div class=\"mcs-bs-callout mcs-bs-callout-info\">\n",
    "  \n",
    "  #### About my application of the Chain Rule\n",
    "  \n",
    "  It wasn't necessary. You very easily could have followed a simpler progression:\n",
    "  \n",
    "  \\begin{align*}\n",
    "           P &= \\frac{F}{A} \\\\[6pt]\n",
    "    \\Delta P &= \\frac{\\Delta F}{A} \n",
    "  \\end{align*}\n",
    "  \n",
    "  I started with the general Calculus (as if $A$ were not constant) to show the extent of the mathematics.\n",
    "  \n",
    "  </div>\n",
    "\n",
    "\n",
    "\n"
   ]
  },
  {
   "cell_type": "code",
   "execution_count": 1,
   "metadata": {},
   "outputs": [
    {
     "name": "stdout",
     "output_type": "stream",
     "text": [
      "ΔP = 26.825851639677325 kPa\n"
     ]
    }
   ],
   "source": [
    "using Unitful\n",
    "\n",
    "g  = 1u\"gn\"     # assuming Earth\n",
    "Δm = 55u\"kg\"    # given\n",
    "D  = 16u\"cm\"    # given\n",
    "\n",
    "A  = π/4 * D^2  # circular piston\n",
    "\n",
    "ΔP = Δm * g / A |> u\"kPa\"\n",
    "@show ΔP;"
   ]
  },
  {
   "cell_type": "markdown",
   "metadata": {},
   "source": [
    "<p style = \" background-image:  url(./figures/bacgroundTiles.png); line-height: 0.35em\" >&nbsp;</p>"
   ]
  },
  {
   "cell_type": "markdown",
   "metadata": {},
   "source": [
    "3.  __ 266.5 kPa __ (20)\n",
    "\n",
    "  **Given:** A pressure gage connected to a tank reads 165 kPa at a location where the atmospheric pressure is 76.1 cmHg. The density of mercury is $\\small \\sf \\ce{13600 kg/m^3}.$\n",
    "\n",
    "  **Find:** The absolute pressure in the tank\n",
    "\n",
    "  $$P_{abs} = P_{atm} + \\Delta P_{gage} = \\rho g \\Delta z \\big|_{atm} + P_{gage}$$\n"
   ]
  },
  {
   "cell_type": "code",
   "execution_count": 2,
   "metadata": {},
   "outputs": [
    {
     "name": "stdout",
     "output_type": "stream",
     "text": [
      "P_atm = 101.49490484 kPa\n",
      "\n",
      "P_abs_tank = 266.49490484 kPa\n"
     ]
    }
   ],
   "source": [
    "ρ_Hg = 13600u\"kg/m^3\"\n",
    "Δz = 76.1u\"cm\"\n",
    "P_gage = 165u\"kPa\"\n",
    "\n",
    "P_atm = ρ_Hg * 1u\"gn\" * Δz |> u\"kPa\"\n",
    "\n",
    "println(\"P_atm = \",P_atm)\n",
    "println()\n",
    "println(\"P_abs_tank = \",P_gage + P_atm)"
   ]
  },
  {
   "cell_type": "markdown",
   "metadata": {},
   "source": [
    "<p style = \" background-image:  url(./figures/bacgroundTiles.png); line-height: 0.35em\" >&nbsp;</p>"
   ]
  },
  {
   "cell_type": "markdown",
   "metadata": {},
   "source": [
    "4. __ 9756.24 ft __ (20)\n",
    "\n",
    "  **Given:** The difference in atmospheric pressure from the base of a mountain to its summit is equivalent to a manometer reading of 159 inches H₂O. The average specific volume of air is 11.8 $\\small \\sf \\ce{ft^3/lbm}$, and the density of water is 62.4 $\\small \\sf \\ce{lbm/ft^3}$.\n",
    "\n",
    "  **Find:** The height of the mountain\n",
    "\n",
    "  **Get organized:**\n",
    "\n",
    "  We are measuring the same pressure change with two manometers. \n",
    "\n",
    "  $$\\begin{align*}\n",
    "  \\Delta P_{mountain} = \\rho g \\Delta z_{air}\\big|_{air} &= \\rho g \\Delta z \\big|_{water} \\\\[6pt]\n",
    "                        \\rho_{air} \\Delta z_{air} &= \\rho_{water} \\Delta z_{water} \\\\[6pt]\n",
    "  \\end{align*}$$  \n",
    "  \n",
    "  <br>\n",
    "\n",
    "  $$ \\displaystyle \\Delta z_{air} = \\frac{\\rho_{water}}{\\rho_{air}}\\Delta z_{water}\n",
    "  = v_{air}\\rho_{water}\\Delta z_{water}\n",
    "  $$\n"
   ]
  },
  {
   "cell_type": "code",
   "execution_count": 3,
   "metadata": {
    "inputHidden": false,
    "outputHidden": false,
    "scrolled": true
   },
   "outputs": [
    {
     "data": {
      "text/plain": [
       "9756.24 ft"
      ]
     },
     "execution_count": 3,
     "metadata": {},
     "output_type": "execute_result"
    }
   ],
   "source": [
    "v_air    = 11.8u\"ft^3/lb\"  # given\n",
    "Δz_water = 159u\"inch\"      # given\n",
    "ρ_water  = 62.4u\"lb/ft^3\"  # given\n",
    "\n",
    "Δz_air = v_air * ρ_water * Δz_water |> u\"ft\""
   ]
  }
 ],
 "metadata": {
  "@webio": {
   "lastCommId": null,
   "lastKernelId": null
  },
  "kernel_info": {
   "name": "python3"
  },
  "kernelspec": {
   "display_name": "Julia 1.0.2",
   "language": "julia",
   "name": "julia-1.0"
  },
  "language_info": {
   "file_extension": ".jl",
   "mimetype": "application/julia",
   "name": "julia",
   "version": "1.0.2"
  },
  "nteract": {
   "version": "0.11.6"
  },
  "varInspector": {
   "cols": {
    "lenName": 16,
    "lenType": 16,
    "lenVar": 40
   },
   "kernels_config": {
    "python": {
     "delete_cmd_postfix": "",
     "delete_cmd_prefix": "del ",
     "library": "var_list.py",
     "varRefreshCmd": "print(var_dic_list())"
    },
    "r": {
     "delete_cmd_postfix": ") ",
     "delete_cmd_prefix": "rm(",
     "library": "var_list.r",
     "varRefreshCmd": "cat(var_dic_list()) "
    }
   },
   "types_to_exclude": [
    "module",
    "function",
    "builtin_function_or_method",
    "instance",
    "_Feature"
   ],
   "window_display": false
  }
 },
 "nbformat": 4,
 "nbformat_minor": 2
}
