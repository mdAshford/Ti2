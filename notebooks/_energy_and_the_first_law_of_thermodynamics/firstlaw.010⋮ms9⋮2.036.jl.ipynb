{
 "cells": [
  {
   "cell_type": "markdown",
   "metadata": {},
   "source": [
    "<header class=\"banner\"><div class=\"banner\">\n",
    "  <div class=\"logos\">\n",
    "    <div><img title=\"Julia logo\" src=\"../figures/julia-logo-color.svg\" alt=\"Julia animated logo\" width=35 /></div>\n",
    "    <div>◌</div>\n",
    "    <div><img title=\"Powered by MathJax\" src=\"https://www.mathjax.org/badge/mj-logo.svg\"\n",
    "              alt=\"Powered by MathJax\" width=65 />\n",
    "    </div>\n",
    "  </div>  <!-- logos -->\n",
    "  <div class=\"cite_textbook ms9\">2.036<span class=\"authors\"></span></div>\n",
    "</div></header>\n",
    "\n",
    "\n",
    "<footer class=\"navbar navbar-default navbar-fixed-bottom mcs-psy-nav\" >\n",
    "  <div class=\"container-fluid text-right h4\">\n",
    "    <em>ψᵟ</em>\n",
    "  </div>\n",
    "</footer>\n",
    "\n"
   ]
  },
  {
   "cell_type": "markdown",
   "metadata": {},
   "source": [
    "\n",
    "## Given \n",
    "\n",
    "As shown in the figure, an oven wall consists of a 0.635 cm thick layer of steel ($\\LatoMath{κ_s}$ = 15.1 W/m·K) and a layer of brick ($\\LatoMath{κ_b}$ = 0.72 W/m·K). At steady state, a temperature decrease of 0.7 °C occurs over the steel layer. The inner temperature of the steel layer is 300 °C. <br><br><br>\n",
    "\n",
    "\n",
    "![Fig. P2.36](../figures/ms9,2-036⋮w0164.png)\n",
    "\n",
    "\n",
    "## Find\n",
    "\n",
    "If the temperature of the outer surface of the brick must not exceed 40 °C,\n",
    "\n",
    "1. Determine the thickness of brick, in cm, that ensures this limit is met.  \n",
    "1. What is the rate of conduction, in kW per m² of wall surface area?\n"
   ]
  },
  {
   "cell_type": "markdown",
   "metadata": {},
   "source": [
    "### Get Organized\n",
    "\n",
    "<div class=\"mcs-bs-callout mcs-bs-callout-info\">\n",
    "\n",
    "<h4> Before you dive in </h4>\n",
    "  \n",
    "Here is a quick Heat Transfer primer:  \n",
    "[Just enough heat transfer to make you dangerous](enough-heat-transfer-to-make-you-dangerous.jl.ipynb)\n",
    "\n",
    "</div>\n",
    "\n",
    "When resolving the details of any heat transfer scenario, always look for these 3 elements:\n",
    "\n",
    "1. a temperature difference;\n",
    "1. some factor (often the product of multiple terms) detailing the heat transfer mechanism; and\n",
    "1. of course, the heat flow itself.\n",
    "\n",
    "<b class=\"mcs-primary\">The key to this problem is recognizing that all of the heat flowing through the steel also flows through the bricks. It's the **only** path the heat has to escape the oven. </b>\n",
    "\n",
    "So express your base thermodynamic relationship.  \n",
    "\n",
    "\\begin{gather*} \n",
    "\\dot Q_\\textit{steel} = \\dot Q_\\textit{brick} \\\\{}\n",
    "\\end{gather*}\n",
    "\n",
    "Add details germane to our heat transfer mode, conduction.\n",
    "\n",
    "\\begin{gather*} {}\\\\\n",
    "\\dot Q_\\textit{steel} = \\left. kA\\frac{\\Delta T}{\\Delta L} \\right|_\\textit{steel} = \\left. kA\\frac{\\Delta T}{\\Delta L} \\right|_\\textit{brick} = \\dot Q_\\textit{brick} \\\\{}\n",
    "\\end{gather*}\n",
    "\n",
    "We're asked to find heat flux ($\\dot Q/A$), and the area is the same on both sides of the equation, so we can safely divide it out.\n",
    "\n",
    "\\begin{gather*} {}\\\\\n",
    "q''_\\textit{steel} \n",
    "= \\left. k\\frac{\\Delta T}{\\Delta L} \\right|_\\textit{steel} \n",
    "= \\left. k\\frac{\\Delta T}{\\Delta L} \\right|_\\textit{brick} \n",
    "= q''_\\textit{brick} \\\\{}\n",
    "\\end{gather*}\n",
    "\n",
    "Switch from thermodynamics to math and solve for the requested information.\n",
    "\n",
    "\\begin{align*} \\\\{}\n",
    "q'' &=  \\pu{15.1 W/m·K}\\frac{\\pu{0.7 K^{*}}}{\\pu{0.635cm}} \\\\[9pt]\n",
    "    &= \\pu{0.72 W/m·K} \\frac{\\pu{(300 - 0.7)K^{*} - 40 K^{*}} }{\\Delta L_\\textit{brick}} \n",
    "\\end{align*}\n",
    "\n",
    "\\begin{multline*}\n",
    "\\shoveright \\LatoText{*Remember, Δ°C = ΔK}\n",
    "\\end{multline*}"
   ]
  },
  {
   "cell_type": "markdown",
   "metadata": {},
   "source": [
    "## Attack\n",
    "\n",
    "Put Julia to work. "
   ]
  },
  {
   "cell_type": "code",
   "execution_count": 1,
   "metadata": {},
   "outputs": [
    {
     "name": "stdout",
     "output_type": "stream",
     "text": [
      "qʺ = 1.6645669291338583 kW m^-2\n",
      "ΔLb = 11.215890255439925 cm\n"
     ]
    }
   ],
   "source": [
    "using Unitful\n",
    "\n",
    "ks  = 15.1u\"W/(m*K)\"\n",
    "ΔTs = 0.7u\"K\"\n",
    "ΔLs = 0.635u\"cm\"\n",
    "\n",
    "kb  = 0.72u\"W/(m*K)\"\n",
    "ΔTb = (300 - 0.7 - 40)u\"K\"\n",
    "\n",
    "qʺ  = ks * ΔTs / ΔLs |> u\"kW/m^2\"; @show qʺ\n",
    "ΔLb = kb * ΔTb / qʺ  |> u\"cm\";     @show ΔLb;"
   ]
  },
  {
   "cell_type": "markdown",
   "metadata": {},
   "source": [
    "<div class=\"alert alert-success\" role=\"alert\" style=\"border: 1px solid #c3e6cb;\">\n",
    "<H2> Found</h2>\n",
    "  \n",
    "1. Minimum brick thickness $\\LatoMath{= 11.22\\, cm}$\n",
    "  \n",
    "1. Heat flux $~\\LatoMath{= 1.665\\, kW/m^2}$\n",
    "\n",
    "</div>"
   ]
  },
  {
   "cell_type": "markdown",
   "metadata": {},
   "source": [
    "<footer style=\"background-color: #461d7c; color:rgba(253,208,35,0.35); line-height:2em; padding-left:1em; padding-right:0.5em; bottom:0; float:bottom; text-align:right;\"><i>ψᵟ</i></footer>"
   ]
  }
 ],
 "metadata": {
  "@webio": {
   "lastCommId": null,
   "lastKernelId": null
  },
  "kernelspec": {
   "display_name": "Julia 1.7.0-DEV",
   "language": "julia",
   "name": "julia-1.7"
  },
  "language_info": {
   "file_extension": ".jl",
   "mimetype": "application/julia",
   "name": "julia",
   "version": "1.7.0"
  },
  "varInspector": {
   "cols": {
    "lenName": 16,
    "lenType": 16,
    "lenVar": 40
   },
   "kernels_config": {
    "python": {
     "delete_cmd_postfix": "",
     "delete_cmd_prefix": "del ",
     "library": "var_list.py",
     "varRefreshCmd": "print(var_dic_list())"
    },
    "r": {
     "delete_cmd_postfix": ") ",
     "delete_cmd_prefix": "rm(",
     "library": "var_list.r",
     "varRefreshCmd": "cat(var_dic_list()) "
    }
   },
   "types_to_exclude": [
    "module",
    "function",
    "builtin_function_or_method",
    "instance",
    "_Feature"
   ],
   "window_display": true
  }
 },
 "nbformat": 4,
 "nbformat_minor": 2
}
