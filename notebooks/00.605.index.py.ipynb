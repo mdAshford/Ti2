{
 "cells": [
  {
   "cell_type": "markdown",
   "metadata": {
    "nteract": {
     "transient": {
      "deleting": false
     }
    }
   },
   "source": [
    "<div style=\"position:absolute;width:100%;right:0;\">\n",
    "  \n",
    "  \n",
    "<p style=\"color: #461d7c; font-size: 250%; line-height:2em; margin-left:1em; font-weight:900; margin-top:-0.5em;\">\n",
    "youCAN do thermodynamics</p>\n",
    "\n",
    "<div style=\"margin-top:-0.68em; padding-botton:0; margin-bottom:-0.5em; background-color:#fcf8e3; \">\n",
    "    <p style=\"text-align:right; background-color:#461D7C; color:#fcf8e3; padding-right:1em;\">a production of the BENGAL-TIGER Laboratory at the University of Alabama</p>\n",
    "  <div style=\"background-color:#fcf8e3; color:#461d7c; padding:0.6em 1em 0 1em; margin-bottom:0;\">A repository of guided solutions to thermodynamics problems, presented in Jupyter Notebooks. Notebooks combine rich media with live code execution. More information about Jupyter Notebooks and the programming languages used herein can be found at  \n",
    "\n",
    "+ [Project Jupyter (official)](https://jupyter.org)\n",
    "+ [Dataquest.io Jupyter Notebook for Beginners: A Tutorial](https://www.dataquest.io/blog/jupyter-notebook-tutorial#thenotebookinterface)\n",
    "+ [Python.org (official)](https://www.python.org) <span style=\"display:inline-block; vertical-align:text-bottom\"><a href=\"https://www.python.org\"><img style=\"height:1em;\" src=\"./figures/flatPYTHONlogo.png\" alt=\"python\"></a></span> \n",
    "+ [The Julia Programming Language (official)](https://www.julialang.org) <span style=\"display:inline-block; vertical-align:bottom\"><a href=\"https://www.julialang.org\"><img style=\"height:1.25em\" src=\"./figures/juliaLOGO-three-balls.png\" alt=\"julia\" ></a></span> \n",
    "+ [Introducing Julia](https://en.wikibooks.org/wiki/Introducing_Julia)\n",
    "+ [MATLAB–Python–Julia cheatsheet](https://cheatsheets.quantecon.org)\n",
    "+ [The Markdown Guide: Everything you need to learn Markdown](https://www.markdownguide.org)\n",
    "\n",
    "$$$$**Quickstart:**\n",
    "Double-click cells to edit. Execute cells with ⇧⏎. The Help menu is pretty good.\n",
    "  </div>\n",
    "  <p style = \"background-image: url(./figures/cream-tiles.png); background-color:blue; line-height: 2px; padding:0; margin-top:4px;\" >&nbsp;</p>\n",
    "</div>\n",
    "  \n",
    "  \n",
    "</div>\n",
    "\n",
    "\n",
    "\n",
    "\n",
    "\n",
    "<div style=\"visibility:hidden;\">\n",
    "  \n",
    "  \n",
    "<p style=\"color: #461d7c; font-size: 250%; line-height:2em; margin-left:1em; font-weight:900; margin-top:-0.5em;\">\n",
    "youCAN do thermodynamics</p>\n",
    "\n",
    "<div style=\"margin-top:-0.68em; padding-botton:0; margin-bottom:-0.5em; background-color:#fcf8e3; \">\n",
    "    <p style=\"text-align:right; background-color:#461D7C; color:#fcf8e3; padding-right:1em;\">a production of the BENGAL-TIGER Laboratory at the University of Alabama</p>\n",
    "  <div style=\"background-color:#fcf8e3; color:#461d7c; padding:0.6em 1em 0 1em; margin-bottom:0;\">A repository of guided solutions to thermodynamics problems, presented in Jupyter Notebooks. Notebooks combine rich media with live code execution. More information about Jupyter Notebooks and the programming languages used herein can be found at  \n",
    "\n",
    "+ [Project Jupyter (official)](https://jupyter.org)\n",
    "+ [Dataquest.io Jupyter Notebook for Beginners: A Tutorial](https://www.dataquest.io/blog/jupyter-notebook-tutorial#thenotebookinterface)\n",
    "+ [Python.org (official)](https://www.python.org) <span style=\"display:inline-block; vertical-align:text-bottom\"><a href=\"https://www.python.org\"><img style=\"height:1em;\" src=\"./figures/flatPYTHONlogo.png\" alt=\"python\"></a></span> \n",
    "+ [The Julia Programming Language (official)](https://www.julialang.org) <span style=\"display:inline-block; vertical-align:bottom\"><a href=\"https://www.julialang.org\"><img style=\"height:1.25em\" src=\"./figures/juliaLOGO-three-balls.png\" alt=\"julia\" ></a></span> \n",
    "+ [Introducing Julia](https://en.wikibooks.org/wiki/Introducing_Julia)\n",
    "+ [MATLAB–Python–Julia cheatsheet](https://cheatsheets.quantecon.org)\n",
    "+ [The Markdown Guide: Everything you need to learn Markdown](https://www.markdownguide.org)\n",
    "\n",
    "$$$$**Quickstart:**\n",
    "Double-click cells to edit. Execute cells with ⇧⏎. The Help menu is pretty good.\n",
    "  </div>\n",
    "  <p style = \"background-image: url(./figures/cream-tiles.png); background-color:blue; line-height: 2px; padding:0; margin-top:4px;\" >&nbsp;</p>\n",
    "</div>\n",
    "  \n",
    "  \n",
    "</div>"
   ]
  },
  {
   "cell_type": "markdown",
   "metadata": {},
   "source": [
    "<section class=\"toc\">\n",
    "\n",
    "## Undergraduate review\n",
    "  \n",
    "1. [A rigid tank is divided into two equal parts by a partition. One part of the tank contains 1.5 kg of compressed liquid water at 300 kPa and 60 °C while the other part is evacuated. The partition is now removed, and the water expands to fill other the entire tank. Determine the entropy change of the water during this process, if the final pressure in the tank is 15 kPa.](605.rigid-tank-divided-into-two-equal-partitions.jl.ipynb)\n",
    "\n",
    " \n",
    "\n",
    "</section>"
   ]
  },
  {
   "cell_type": "markdown",
   "metadata": {},
   "source": [
    "<footer class=\"psy\"><div class=\"psy\">ψᵟ</div></footer>"
   ]
  },
  {
   "cell_type": "markdown",
   "metadata": {},
   "source": [
    "<header class=\"index\">\n",
    "<div class=\"index\">\n",
    "  <div><img title=\"Julia logo\" src=\"figures/julia-logo-color.svg\" alt=\"Julia animated logo\" width=35 /></div>\n",
    "  <div><img title=\"Powered by Python\" src=\"https://www.python.org/static/community_logos/python-logo-inkscape.svg\" alt=\"Powered by Python\" width=85 /></div>\n",
    "  <div><img title=\"R Logo\" src=\"https://www.r-project.org/logo/Rlogo.svg\" alt=\"R Logo\" width=25 /></div>\n",
    "  <div>${\\normalsize\\LaTeX}$</div>\n",
    "  <div><img title=\"Powered by MathJax\" src=\"https://www.mathjax.org/badge/mj-logo.svg\" alt=\"Powered by MathJax\" width=65 /></div>\n",
    "</div>\n",
    "</header>"
   ]
  }
 ],
 "metadata": {
  "@webio": {
   "lastCommId": null,
   "lastKernelId": null
  },
  "kernel_info": {
   "name": "python3"
  },
  "kernelspec": {
   "display_name": "Python 3",
   "language": "python",
   "name": "python3"
  },
  "language_info": {
   "codemirror_mode": {
    "name": "ipython",
    "version": 3
   },
   "file_extension": ".py",
   "mimetype": "text/x-python",
   "name": "python",
   "nbconvert_exporter": "python",
   "pygments_lexer": "ipython3",
   "version": "3.8.2"
  },
  "nteract": {
   "version": "0.25.0"
  }
 },
 "nbformat": 4,
 "nbformat_minor": 1
}
