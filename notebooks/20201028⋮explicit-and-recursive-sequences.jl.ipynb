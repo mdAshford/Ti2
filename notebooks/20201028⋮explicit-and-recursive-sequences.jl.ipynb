{
 "cells": [
  {
   "cell_type": "markdown",
   "metadata": {},
   "source": [
    "<div class=\"mcs-bs-callout mcs-bs-callout-warning extra\">\n",
    "\n",
    "<h4>About these problems</h4>\n",
    "  \n",
    "<p>They came from the gray set at the bottom of the discussion on the \"Additinal Materials\" web page you sent: <br /> \n",
    "<a href=\"https://cnx.org/contents/mh31WrFn@4.14:6V8AnfOp@2/Sequences\">\n",
    "https://cnx.org/contents/mh31WrFn@4.14:6V8AnfOp@2/Sequences</a>\n",
    "</p>\n",
    "  \n",
    "<p>Ultimately, I used this Khan Academy source: <br /> \n",
    "<a href=\"https://www.khanacademy.org/math/algebra-2018/sequences/constructing-arithmetic-sequences/v/recursive-formulas-for-arithmetic-sequences\">\n",
    "https://www.khanacademy.org/math/algebra-2018/sequences/constructing-arithmetic-sequences/v/recursive-formulas-for-arithmetic-sequences</a>\n",
    "</p>\n",
    "  \n",
    "</div>\n",
    " "
   ]
  },
  {
   "cell_type": "markdown",
   "metadata": {},
   "source": [
    "## Given \n",
    "\n",
    "An arithmetic sequence whose first term is $a_1=1$, and $a_n=a_{n−1}+n$ for $n≥2$\n",
    "\n",
    "## Find \n",
    "\n",
    "Find an explicit formula for $a_n$."
   ]
  },
  {
   "cell_type": "markdown",
   "metadata": {},
   "source": [
    "# Attack\n",
    "\n",
    "Let's find a pattern. There's no really good method behind this madness\n",
    "\n",
    "\\begin{align*} \n",
    "  a_n &= a_{n−1}+n              \\qquad  & a_n &= a_{n−1}+n     \\\\[3pt]\n",
    "  a_1 &= 1                              & a_1 &= 1             \\\\\n",
    "  a_2 &= a_1 + 2 = 1  + 2 = 3           & a_2 &= 3             \\\\\n",
    "  a_3 &= a_2 + 3 = 3  + 3 = 6           & a_3 &= 6             \\\\\n",
    "  a_4 &= a_3 + 4 = 6  + 4 = 10  \\qquad  & a_4 &= 10            \\\\\n",
    "  a_5 &= a_4 + 5 = 10 + 5 = 15  \\qquad  & a_4 &= 15            \\\\\n",
    "\\end{align*}\n",
    "\n",
    "\n",
    "I just kept adding columns this table, hoping a pattern will jump out. \n",
    "\n",
    "\n",
    " $$n$$ | $$f(n)$$ | base=1 | base=n | base=n² \n",
    ":-----:|:--------:|:------:|:------:|:-------:\n",
    "   1   |    1     |   1    |  n     |  n²   \n",
    "   2   |    3     |   1+2  |  n+1   |  n²-1   \n",
    "   3   |    6     |   1+5  |  n+3   |  n²-3\n",
    "   4   |    10    |   1+9  |  n+6   |  n²-6 \n",
    "   5   |    15    |   1+14 |  n+10  |  n²-10\n",
    "\n",
    "\n",
    "Those last 2 columns are screaming **investigate me**... Simplest thing is to add them and hunt from there. \n",
    "\n",
    "\n",
    " $$n$$ | $$f(n)$$ |  base=n²+n \n",
    ":-----:|:--------:|:------------:\n",
    "   1   |    1     |  n² + n = 2   \n",
    "   2   |    3     |  n² + n = 6  \n",
    "   3   |    6     |  n² + n = 12\n",
    "   4   |    10    |  n² + n = 20\n",
    "   5   |    15    |  n² + n = 30\n",
    "\n",
    "\n",
    "\n",
    "<div class=\"mcs-bs-callout mcs-bs-callout-success\">\n",
    "\n",
    "<h4> BOOM: our hopes about those two columns paid off, and we discovered the pattern. </h4>\n",
    "  \n",
    "$$\n",
    "a_n=\\frac{n^2 + n}{2} \n",
    "$$\n",
    "\n",
    "</div>"
   ]
  },
  {
   "cell_type": "markdown",
   "metadata": {},
   "source": [
    "<div style=\"width:100%; border:1px solid #461d7b; border-radius: 1em; text-align:center; background: #461dff; color:#fffdf2; margin:2em 0;\">next</div>"
   ]
  },
  {
   "cell_type": "markdown",
   "metadata": {},
   "source": [
    "## Given \n",
    "\n",
    "An arithmetic sequence whose first term is $a_1 = −3$, and $a_{n−1} − a_n = 4$ for $n ≥ 1$.\n",
    "\n",
    "\n",
    "## Find \n",
    "\n",
    "Find a formula $a_n$ for the $n$th term of the arithmetic sequence"
   ]
  },
  {
   "cell_type": "markdown",
   "metadata": {},
   "source": [
    "## Attack\n",
    "\n",
    "### Same drill. Let's find that pattern. \n",
    "\n",
    "Still, there's no great solution method, though sometimes you CAN get lucky and solve it with simultaneous equations. They have to provide more than one known value for that to work, though. \n",
    "\n",
    "I'm more comfortable expressing the relationship in terms of $a_n$, so note that ($ a_n = a_{n−1} − 4 $) as we build the sequence to decipher the pattern. \n",
    "\n",
    "\\begin{align*}\n",
    "  a_n &= a_{n−1} − 4    \\qquad  &  a_n &= a_{n−1} − 4   \\\\[3pt]\n",
    "  a_1 &= -3                     &  a_1 &= -3            \\\\\n",
    "  a_2 &= -3  - 4 = -7           &  a_2 &= -7            \\\\\n",
    "  a_3 &= -7  - 4 = -11          &  a_3 &= -11           \\\\\n",
    "  a_4 &= -11 - 4 = -15  \\qquad  &  a_4 &= -15           \\\\\n",
    "  a_5 &= -15 - 4 = -19  \\qquad  &  a_4 &= -19           \\\\\n",
    "\\end{align*}"
   ]
  },
  {
   "cell_type": "markdown",
   "metadata": {},
   "source": [
    "This sequence has a constant difference between each term, so it will be a lot easier to conquer. We already know the pattern: **it is linear**. \n",
    "\n",
    "\n",
    " $$n$$ | $$a_n$$ |  difference  |       $$a_n$$ \n",
    ":-----:|:-------:|:------------:|:--------------------:\n",
    "   1   |   -3    |    &mdash;   |       $$a_1$$\n",
    "   2   |   -7    |      -4      | $$ a_1 - 4 \\cdot 1 $$\n",
    "   3   |   -11   |      -4      | $$ a_1 - 4 \\cdot 2 $$\n",
    "   4   |   -15   |      -4      | $$ a_1 - 4 \\cdot 3 $$\n",
    "   5   |   -19   |      -4      | $$ a_1 - 4 \\cdot 4 $$"
   ]
  },
  {
   "cell_type": "markdown",
   "metadata": {},
   "source": [
    "<div class=\"mcs-bs-callout mcs-bs-callout-success\">\n",
    "\n",
    "<h4> See the pattern? </h4>\n",
    "  \n",
    "$$\n",
    "a_n = a_1 - 4 \\left(n-1\\right) = -3 - 4 \\left(n-1\\right) \n",
    "$$\n",
    "  \n",
    "You might choose to be kind in the way you express it, but that's on you. \n",
    "  \n",
    "$$\n",
    "a_n = -\\big( 3 + 4 \\left(n-1\\right) \\big)\n",
    "$$\n",
    "  \n",
    "</div>"
   ]
  },
  {
   "cell_type": "markdown",
   "metadata": {},
   "source": [
    "<div style=\"height: 4em;\"></div>"
   ]
  }
 ],
 "metadata": {
  "kernelspec": {
   "display_name": "Julia 1.5.2",
   "language": "julia",
   "name": "julia-1.5"
  },
  "language_info": {
   "file_extension": ".jl",
   "mimetype": "application/julia",
   "name": "julia",
   "version": "1.5.2"
  }
 },
 "nbformat": 4,
 "nbformat_minor": 4
}
