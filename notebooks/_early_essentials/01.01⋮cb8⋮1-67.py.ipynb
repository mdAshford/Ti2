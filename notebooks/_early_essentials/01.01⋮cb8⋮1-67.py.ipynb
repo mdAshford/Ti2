{
 "cells": [
  {
   "cell_type": "markdown",
   "metadata": {},
   "source": [
    "<header class=\"banner\"><div class=\"banner\">\n",
    "  <div class=\"logos\">\n",
    "    <div><img title=\"Julia logo\" src=\"../figures/julia-logo-color.svg\" alt=\"Julia animated logo\" width=35 /></div>\n",
    "    <div>◌</div>\n",
    "    <div><img title=\"Powered by MathJax\" src=\"https://www.mathjax.org/badge/mj-logo.svg\"\n",
    "              alt=\"Powered by MathJax\" width=65 />\n",
    "    </div>\n",
    "  </div>  <!-- logos -->\n",
    "  <div class=\"cite_textbook cb8\">1-67 <span class=\"authors\"></span></div>\n",
    "</div></header>\n",
    "\n",
    "\n",
    "<footer class=\"navbar navbar-default navbar-fixed-bottom mcs-psy-nav\" >\n",
    "  <div class=\"container-fluid text-right h4\">\n",
    "    <em>ψᵟ</em>\n",
    "  </div>\n",
    "</footer>"
   ]
  },
  {
   "cell_type": "markdown",
   "metadata": {},
   "source": [
    "\n",
    "A mercury manometer ( $\\rho_{\\it Hg}$ = 13600 kg/m$^3$) is connected to an air duct to measure the pressure inside. The difference in the manometer levels is 15 mm, and the atmospheric pressure is 100 kPa. (a) Judging from the figure, determine if the pressure in the duct is above or below the atmospheric pressure. (b) Determine the absolute pressure in the duct.   \n",
    "\n",
    "\n",
    "<img src=\"../figures/classic_manometer-lesswhitespace.png\" width=400px />"
   ]
  },
  {
   "cell_type": "markdown",
   "metadata": {},
   "source": [
    "### Given  \n",
    "   Duct with manometer attached as in illustration above, with $\\rho_{\\it Hg}$ = 13600 kg/m³, \n",
    "$Δh_{\\it Hg}$ = 15 mm, and $P_{\\it atm}$ = 100 kPa."
   ]
  },
  {
   "cell_type": "markdown",
   "metadata": {},
   "source": [
    "### Find\n",
    "\n",
    "1. By inspection, is $P_{duct}$ above or below $P_{atm}$?\n",
    "2. $P_{duct}$"
   ]
  },
  {
   "cell_type": "markdown",
   "metadata": {},
   "source": [
    "### Get Organized\n",
    "\n",
    "The physical principles we employ involve pressure changes in fluids. We must traverse a path between the pressure we want $(P_{duct})$, and a pressure we know $(P_{atm})$, accounting for the pressure changes along the way. It's best to treat each fluid (or phase) separately; in this case, \n",
    "\n",
    "$$ P_{atm} \\rightarrow \\Delta P_{outer} \\rightarrow \\Delta P_\\textit{Hg} \\rightarrow \\Delta P_{inner} \\rightarrow P_{duct}, $$\n",
    "\n",
    "$$\\textsf{or}$$\n",
    "\n",
    "$$ P_{duct}\\rightarrow \\Delta P_{inner} \\rightarrow \\Delta P_\\textit{Hg} \\rightarrow \\Delta P_{outer} \\rightarrow P_{atm}. $$\n",
    "\n",
    "\n",
    "In a quiescent fluid like ours, pressure effects are *hydrostatic*. That is, the only factor influencing pressure is elevation (depth). In mathematical terms, \n",
    "\n",
    "$$\n",
    "\\\\\n",
    "\\begin{align}\n",
    "     \\Delta P  & = \\rho g \\Delta h, \\notag \\\\ \n",
    "     \\notag \\\\\n",
    "     \\small\\textsf{where } \\rho & \\equiv\\small\\textsf{fluid density,} \\notag \\\\\n",
    "        g & \\equiv\\small\\textsf{acceleration} \\left(\\textsf{gravity}\\right)\\textsf{, and}  \\notag  \\\\\n",
    "     \\Delta h & \\equiv\\small\\textsf{change in elevation.}  \\notag \\\\\n",
    "      \\notag \\\\\n",
    "\\end{align}\n",
    "$$"
   ]
  },
  {
   "cell_type": "markdown",
   "metadata": {},
   "source": [
    "<div class=\"btn-warning\">&nbsp;<div class=\"badge\"></div><i class=\"fa fa-exclamation-circle\"></i><strong> Sidebar: What about signs?</strong> </div>\n",
    "<div class=\"panel-warning\"><div class=\"panel-heading\">\n",
    "Many fall prey to improper signs. One of these options should work for you. <img style=\"height:28em; float:right;\" title=\"water-tower\" src=\"../figures/water-tower.png\" border=\"0\" alt=\"metropolisville township water tower, 100m elevation\">\n",
    "   \n",
    "+ If you are most comfortable \"reasoning\" your way through physical problems, then remember **pressure increases in the same direction in which gravity acts.** Keep the magnitudes of all terms positive, and manipulate the signs between the terms. Considering the simple scenario in the figure,   \n",
    "$$\n",
    "\\begin{array}{c}\n",
    "\\\\\n",
    "P_2 + \\left| \\rho gh \\right| = P_1  \\\\\n",
    "\\small \\sf or    \\\\\n",
    "P_1 - \\left| \\rho gh \\right| = P_2,\n",
    "\\\\\n",
    "\\end{array}\n",
    "$$\n",
    "\n",
    "     depending on your choice of origin. \n",
    " \n",
    " \n",
    "+ However, if you prefer a stricter relationship with math and physics, establish a coordinate system and treat elevation $\\vec h$ and gravity $\\vec g$ as the **signed** vectors they truly are, keeping all signs between the terms positive. Remember, the sign on elevation is in accordance with the direction you traverse, relative to your coordinate system. Returning to our water tower,   \n",
    "    $$\n",
    "\\begin{array}{c}\n",
    "\\\\\n",
    "P_2 + (\\rho)(-|g|)(-h) = P_1  \\\\\n",
    "\\small \\sf or    \\\\\n",
    "P_1 + (\\rho)(-|g|)(+h) = P_2.\n",
    "\\end{array}\n",
    "$$\n",
    "\n",
    "We approached our water tower four different ways. Because we applied our physics consistently and harmoniously, our four approaches yielded four mathematically identical relationships. However, ...\n",
    "</div></div>\n",
    "\n",
    "<div style=\"padding:0.5em; color:#fcf8e3; background-color:#c9302c; font-weight: 900; font-stretch: ultra-expanded;\"><div class=\"badge\"></div><i style=\"float:left; padding-left:1em;\"class=\"fa fa-3x fa-warning\"></i><i style=\"float:right; padding-right:1em;\"class=\"fa fa-3x fa-warning\"></i><div style=\"padding-left:4em; font-size:120%; text-align:center;\">Do NOT mix methods. The failure rate for doing so is 100%.<br>Find your favorite methods and stick with them, perhaps for the rest of your natural life.</div></div>"
   ]
  },
  {
   "cell_type": "markdown",
   "metadata": {},
   "source": [
    "### Assumptions\n",
    "\n",
    "1. We are given no information about gravity, so we assume the sea-level gravitational constant $g = 9.80665\\, {\\rm m/s^2}$.\n",
    "2. We can neglect the contributions of the air-filled manometer segments:  \n",
    "    \n",
    "   1. $\\rho_\\textit{air} \\ll \\rho_\\textit{Hg}$, $\\Delta P_\\textit{air} \\ll \\Delta P_\\textit{Hg}$, and $\\Delta P_\\textit{inner} = \\Delta P_{outer} \\approx 0.$ \n",
    "    \n",
    "   1. For $\\Delta P_\\textit{air}$ to make a significant contribution, we would need $\\Delta h_\\textit{air} \\approx 10000~ \\Delta h_\\textit{Hg}. $"
   ]
  },
  {
   "cell_type": "markdown",
   "metadata": {},
   "source": [
    "## Attack  $\\require{cancel}\\require{mhchem}\\require{color}$\n",
    "\n",
    "1. By inspection, is $P_{duct}$ greater than or less than $P_{atm}$?  \n",
    "    \n",
    "    The mercury in the leg of the manometer in communication with the atmosphere is pushed up by the higher pressure in the duct.   \n",
    "    \n",
    "    $\\therefore P_{duct} > P_{atm} \\\\[12pt]$  \n",
    "\n",
    "\n",
    "2. Find $P_{duct}$. Traverse the manometer as we discussed earlier, keeping our assumptions in mind.  \n",
    "\n",
    "    $\n",
    "\\begin{array}{lccc}\n",
    "  P_{atm} &\\rightarrow& \\cancelto{0}{\\Delta P_{outer}} &\\rightarrow& \\Delta P_\\ce{Hg} &\\rightarrow& \\cancelto{0}{\\Delta P_{inner}} &\\rightarrow& P_{duct} \\\\\n",
    "\\\\\n",
    "  P_{atm} &&  &+& \\big|\\rho g \\Delta h \\big|_\\ce{Hg} && &=& P_{duct}  \\\\[3pt] \n",
    "  &&&& \\textsf{or} &&&&   \\\\[3pt] \n",
    "  P_{atm} &&  &+& \\rho_\\ce{Hg}(-g)(-\\Delta h)  && &=& P_{duct}  \n",
    "\\end{array}\n",
    "$  \n",
    "\n",
    "  ----\n",
    "  \n",
    "  $ \n",
    " \\displaystyle\n",
    "P_{duct} =  \\ce{ 100 kPa} + \\left\\lgroup 13600 \\frac{\\color{red}\\ce{kg}}{\\color{green}\\ce{m^3}}\n",
    "      \\cdot 9.807 \\frac{{\\color{green}{\\ce{m}}}}{\\color{purple}{s^2}}\n",
    "      \\cdot 15\\, {\\color{blue}\\ce{mm}}  \n",
    "      \\right\\rgroup  \\left\\lgroup\n",
    "      \\frac{{\\color{green}{\\ce{m}}}}{1000\\,  \\color{blue}{\\ce{mm}}} \n",
    "      \\cdot \\frac{{\\color{orange}{\\ce{N}}}}{\\color{red}{\\ce{kg}} \\color{black} \\cdot {\\color{green}{\\ce{m}}} \\cdot \\color{purple}{\\ce{s^{-2}}}} \n",
    "      \\cdot\\frac{\\ce{kPa}}{1000\\, {\\color{orange}{\\ce{N}}} \\cdot {\\color{green}{\\ce{m^{-2}}}}} \n",
    "      \\right\\rgroup \n",
    "     $\n",
    "\n",
    "$\\definecolor{royalpurple}{RGB}{070,029,124}$\n",
    "\n",
    "$\\definecolor{oldgold}{RGB}{253,208,035}$\n",
    "\n",
    "$$\\bbox[black,5pt]{\\color{oldgold}\\textit{ enjoy the pretty colors this one time: you get to chew your own food foor the rest of the semester}}$$"
   ]
  },
  {
   "cell_type": "markdown",
   "metadata": {},
   "source": [
    "<p style = \"background-image:  url(./figures/bacgroundTiles.png); line-height: 0.35em\" >&nbsp;</p>"
   ]
  },
  {
   "cell_type": "code",
   "execution_count": 1,
   "metadata": {},
   "outputs": [
    {
     "name": "stdout",
     "output_type": "stream",
     "text": [
      "P_duct = 102.0005566 kPa\n"
     ]
    }
   ],
   "source": [
    "#=══ Julia allows most of the unicode symbol space for variable names ═══════80════5═══=#\n",
    "\n",
    "# Given\n",
    "g_m¹s⁻²   = 9.80665\n",
    "ρHg_kgm⁻³ = 13600      \n",
    "Δh_Hg_mm  = 15\n",
    "Patm_kPa  = 100\n",
    "\n",
    "# Find\n",
    "P_duct = 100 + ρHg_kgm⁻³ *  g_m¹s⁻²  *  Δh_Hg_mm  *  1/1000    *    1/1000\n",
    "# kPa  = kPa +  kg/m³    *   m/s²    *     mm     *  m/1000mm  *  kPa/1000Pa\n",
    "\n",
    "\n",
    "println(\"P_duct = $(P_duct) kPa\");\n",
    "\n",
    "\n",
    "#=══ good comments and good variable names mean I can look at this months \n",
    "     from now and have no trouble figuring out what I was doing                     ═══=#"
   ]
  },
  {
   "cell_type": "markdown",
   "metadata": {},
   "source": [
    "<div class=\"tricks\"><div class=\"tricks\"></div><span class=\"tricks\">\n",
    "HTML tricks\n",
    "</span></div>"
   ]
  },
  {
   "cell_type": "markdown",
   "metadata": {},
   "source": [
    "<div class=\"btn-success\">&nbsp;<div class=\"badge\"></div><i class=\"fa fa-exclamation-circle\"></i><strong> \n",
    "  Pat yourself on the back, but stay humble.\n",
    "</strong></div><div class=\"panel-success\"><div class=\"panel-heading\">\n",
    "    \n",
    "$$ P_{\\it duct} = 102.0\\,\\rm kPa $$\n",
    "  \n",
    "</div></div>"
   ]
  },
  {
   "cell_type": "markdown",
   "metadata": {},
   "source": [
    "<footer class=\"psy\"><div class=\"psy\">ψᵟ</div></footer>"
   ]
  }
 ],
 "metadata": {
  "@webio": {
   "lastCommId": null,
   "lastKernelId": null
  },
  "kernel_info": {
   "name": "python3"
  },
  "kernelspec": {
   "display_name": "Julia 1.5.2",
   "language": "julia",
   "name": "julia-1.5"
  },
  "language_info": {
   "file_extension": ".jl",
   "mimetype": "application/julia",
   "name": "julia",
   "version": "1.5.2"
  },
  "nteract": {
   "version": "0.11.6"
  },
  "varInspector": {
   "cols": {
    "lenName": 16,
    "lenType": 16,
    "lenVar": 40
   },
   "kernels_config": {
    "python": {
     "delete_cmd_postfix": "",
     "delete_cmd_prefix": "del ",
     "library": "var_list.py",
     "varRefreshCmd": "print(var_dic_list())"
    },
    "r": {
     "delete_cmd_postfix": ") ",
     "delete_cmd_prefix": "rm(",
     "library": "var_list.r",
     "varRefreshCmd": "cat(var_dic_list()) "
    }
   },
   "types_to_exclude": [
    "module",
    "function",
    "builtin_function_or_method",
    "instance",
    "_Feature"
   ],
   "window_display": true
  }
 },
 "nbformat": 4,
 "nbformat_minor": 2
}
