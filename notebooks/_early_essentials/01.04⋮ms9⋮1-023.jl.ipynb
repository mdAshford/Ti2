{
 "cells": [
  {
   "cell_type": "markdown",
   "metadata": {},
   "source": [
    "<header class=\"banner\"><div class=\"banner\">\n",
    "  <div class=\"logos\">\n",
    "    <div><img title=\"Julia logo\" src=\"../figures/julia-logo-color.svg\" alt=\"Julia animated logo\" width=35 /></div>\n",
    "    <div>◌</div>\n",
    "    <div><img title=\"Powered by MathJax\" src=\"https://www.mathjax.org/badge/mj-logo.svg\"\n",
    "              alt=\"Powered by MathJax\" width=65 />\n",
    "    </div>\n",
    "  </div>  <!-- logos -->\n",
    "  <div class=\"cite_textbook ms9\">1-023 <span class=\"authors\"></span></div>\n",
    "</div></header>\n",
    "\n",
    "\n",
    "<footer class=\"navbar navbar-default navbar-fixed-bottom mcs-psy-nav\" >\n",
    "  <div class=\"container-fluid text-right h4\">\n",
    "    <em>ψᵟ</em>\n",
    "  </div>\n",
    "</footer>"
   ]
  },
  {
   "cell_type": "markdown",
   "metadata": {},
   "source": [
    "A closed system consisting of 2 lb of a gas undergoes a process during which the relation between pressure and volume is expressed as $PV^n = \\small {\\rm constant}$. The process begins with $P_1 = 25\\, {\\small \\rm lbf/in}^2$, $V_1 = 10\\, \\small {\\rm ft^3}$ and ends with $P_2 = 100\\, \\small {\\rm lbf/in^2}$ The value of $n = 1.3.$ Determine the final volume, $V_2$, in $\\small{\\rm ft^3}$, and determine the specific volume at states 1 and 2, in $\\small {\\rm ft^3/lbm}$."
   ]
  },
  {
   "cell_type": "markdown",
   "metadata": {},
   "source": [
    "<div class=\"btn-info\">&nbsp;<div class=\"badge\"></div><i class=\"fa fa-question\"></i><strong> Sidebar: Thermo notes</strong> </div>\n",
    "<div class=\"panel-info\"><div class=\"panel-heading\">\n",
    "    \n",
    "\n",
    "Processes where $\\small PV^n = \\textsf{constant}$ are called **polytropic processes**. They are very common; some examples are piston-cylinder devices like bicycle air pumps, engines, lungs, etc. You'll see them soon in Chapter 2.\n",
    "</div></div>"
   ]
  },
  {
   "cell_type": "markdown",
   "metadata": {},
   "source": [
    "### Given   \n",
    "\n",
    "System undergoing polytropic process: $PV^n = $ constant   \n",
    "\n",
    "$\\quad\n",
    "\\begin{equation*}\n",
    "\\left.\\begin{split}\n",
    "P_1 &= 25\\, \\rm psi\\\\\n",
    "V_1 &= 10\\,\\rm ft^3\n",
    "\\end{split} \\right\\}\n",
    "\\xrightarrow[2\\,\\rm lbm]{\\text{polytropic, }PV^n = \\textbf{ K},~n=1.3 }\\left\\{\\begin{split}\n",
    "P_1 &= 100\\, \\rm psi\\\\\n",
    "V_1 &= \\text{?}\\,\\rm ft^3\n",
    "\\end{split}\n",
    "\\right.\n",
    "\\end{equation*}\n",
    "$\n",
    "\n",
    "\n",
    "### Find  \n",
    "\n",
    "1. ${V_2}$ ft³ \n",
    "1. $v_1$ ft³/lbm  \n",
    "1. $v_2$ ft³/lbm\n"
   ]
  },
  {
   "cell_type": "markdown",
   "metadata": {},
   "source": [
    "### Assumptions  \n",
    "\n",
    "There is no mention of gage pressure anywhere, so assume the pressures you are given are absolute pressures.  \n",
    "\n",
    "<br>\n",
    "<div class=\"btn-warning\">&nbsp;<div class=\"badge\"></div><i class=\"fa fa-exclamation-circle\"></i><strong> Pro Tip #354:</strong></div>\n",
    "<div class=\"panel-warning\"><div class=\"panel-heading\">   \n",
    "   $\\small \\textit{Always work using absolute pressures, and convert your output to gage pressure when necessary.}$</div></div>"
   ]
  },
  {
   "cell_type": "markdown",
   "metadata": {},
   "source": [
    "## Attack   \n",
    "\n",
    "We're organized and calm and ready to find everything we're supposed to find.  "
   ]
  },
  {
   "cell_type": "markdown",
   "metadata": {},
   "source": [
    "### Get Organized\n",
    "\n",
    "You must get organized before you start wildly writing equations and numbers. \n",
    "Generally, consider what you need to find, and mentally plot a path to get there from what you know.  \n",
    "\n",
    "We are given a process in which  \n",
    "\n",
    "$$PV^n = \\small \\textit{constant}$$  \n",
    "\n",
    "which translates to  \n",
    "\n",
    "$$P_1{V_1}^n = P_2{V_2}^n$$    \n",
    "\n",
    "We need $V_2$. Conveniently, \n",
    "\n",
    "$$V_2 = V_1 \\left(\\frac{P_1}{P_2}\\right)^{1/n} \\tag{1} \\label{eq:V_2} \\\\[18pt]$$   \n",
    "\n",
    "From here, we calculate $v_1$ and $v_2$ directly from the definition of specific volume  \n",
    "\n",
    "$$v \\equiv \\frac{V}{m}. \\tag{2} \\label{eq:v}$$  "
   ]
  },
  {
   "cell_type": "code",
   "execution_count": 1,
   "metadata": {
    "scrolled": true
   },
   "outputs": [
    {
     "name": "stdout",
     "output_type": "stream",
     "text": [
      "V₂_ft³ = 3.4425236279856737\n",
      "𝑣₁_ft³lbm⁻¹ = 5.0\n",
      "𝑣₂_ft³lbm⁻¹ = 1.7212618139928368\n"
     ]
    }
   ],
   "source": [
    "# given\n",
    "\n",
    "P₁_psi = 25   # psi\n",
    "V₁_ft³ = 10   # ft³\n",
    "P₂_psi = 100  # psi\n",
    "m_lbm = 2     # lbm\n",
    "n = 1.3;      # unitless\n",
    "\n",
    "V₂_ft³ = V₁_ft³ * (P₁_psi/P₂_psi)^(1/n)   # from eq(1)\n",
    "\n",
    "𝑣₁_ft³lbm⁻¹ = V₁_ft³ / m_lbm   # from eq(2)\n",
    "𝑣₂_ft³lbm⁻¹ = V₂_ft³ / m_lbm   # from eq(2)\n",
    "\n",
    "\n",
    "@show V₂_ft³ 𝑣₁_ft³lbm⁻¹ 𝑣₂_ft³lbm⁻¹  ;"
   ]
  },
  {
   "cell_type": "markdown",
   "metadata": {},
   "source": [
    "<div class=\"btn-success\">&nbsp;<div class=\"badge\"></div><i class=\"fa fa-bomb\"></i><strong> BAM</strong></div>\n",
    "<div class=\"panel-success\"><div class=\"panel-heading\">   \n",
    "\n",
    "$$ \n",
    "V_2 = 3.443\\,{\\rm ft^3}           \\qquad \n",
    "v_1 = 5    \\,{\\rm\\frac{ft^3}{lb}} \\qquad\n",
    "v_2 = 1.721\\,{\\rm\\frac{ft^3}{lb}} \n",
    "$$\n",
    "  \n",
    "</div></div>"
   ]
  },
  {
   "cell_type": "markdown",
   "metadata": {},
   "source": [
    "<footer class=\"psy\"><div class=\"psy\">ψᵟ</div></footer>"
   ]
  }
 ],
 "metadata": {
  "@webio": {
   "lastCommId": null,
   "lastKernelId": null
  },
  "kernelspec": {
   "display_name": "Julia 1.5.2",
   "language": "julia",
   "name": "julia-1.5"
  },
  "language_info": {
   "file_extension": ".jl",
   "mimetype": "application/julia",
   "name": "julia",
   "version": "1.5.2"
  },
  "varInspector": {
   "cols": {
    "lenName": 16,
    "lenType": 16,
    "lenVar": 40
   },
   "kernels_config": {
    "python": {
     "delete_cmd_postfix": "",
     "delete_cmd_prefix": "del ",
     "library": "var_list.py",
     "varRefreshCmd": "print(var_dic_list())"
    },
    "r": {
     "delete_cmd_postfix": ") ",
     "delete_cmd_prefix": "rm(",
     "library": "var_list.r",
     "varRefreshCmd": "cat(var_dic_list()) "
    }
   },
   "types_to_exclude": [
    "module",
    "function",
    "builtin_function_or_method",
    "instance",
    "_Feature"
   ],
   "window_display": true
  }
 },
 "nbformat": 4,
 "nbformat_minor": 2
}
