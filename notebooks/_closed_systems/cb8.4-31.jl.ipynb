{
 "cells": [
  {
   "cell_type": "markdown",
   "metadata": {},
   "source": [
    "<header class=\"banner\"><div class=\"banner\">\n",
    "  <div class=\"logos\">\n",
    "    <div><img title=\"Julia logo\" src=\"../figures/julia-logo-color.svg\" alt=\"Julia animated logo\" width=35 /></div>\n",
    "    <div>◌</div>\n",
    "    <div><img title=\"Powered by MathJax\" src=\"https://www.mathjax.org/badge/mj-logo.svg\"\n",
    "              alt=\"Powered by MathJax\" width=65 />\n",
    "    </div>\n",
    "  </div>  <!-- logos -->\n",
    "  <div class=\"cite_textbook cb7\">4.31 <span class=\"authors\"></span></div>\n",
    "</div></header>\n",
    "\n",
    "\n",
    "<footer class=\"navbar navbar-default navbar-fixed-bottom mcs-psy-nav\" >\n",
    "  <div class=\"container-fluid text-right h4\">\n",
    "    <em>ψᵟ</em>\n",
    "  </div>\n",
    "</footer>\n",
    "\n"
   ]
  },
  {
   "cell_type": "markdown",
   "metadata": {},
   "source": [
    "<div class=\"mcs-bs-callout mcs-bs-callout-info\">\n",
    "\n",
    "#### work time: 12 minutes\n",
    "\n",
    "</div></div>"
   ]
  },
  {
   "cell_type": "markdown",
   "metadata": {},
   "source": [
    "\n",
    "## Given   \n",
    "A rigid 10-L vessel initially contains a mixture of liquid water and vapor at 100°C with 12.3 percent quality. The mixture is then heated until its temperature is 150°C. \n",
    "\n",
    "\n",
    "## Find \n",
    "Calculate the heat transfer required for this process. \n",
    "\n",
    "![figure, cb8, 4-31](../figures/ch04_cen98179_p04031_lg.jpg)"
   ]
  },
  {
   "cell_type": "markdown",
   "metadata": {},
   "source": [
    "### Get Organized\n",
    "\n",
    "### These things you should notice right away:\n",
    "1. Closed system ⋮ constant mass  \n",
    "1. Rigid vessel ⋮ constant volume, no boundary work  \n",
    "1. Constant mass + constant volume $\\rightarrow$ constant specific volume  \n",
    "1. We can resolve both states ⋮ $(T_1,x_1),\\ (T_2,v_2=v_1)$\n",
    "1. We can assume $\\rm \\Delta KE = \\Delta PE \\approx 0$\n"
   ]
  },
  {
   "cell_type": "markdown",
   "metadata": {},
   "source": [
    "## Attack\n",
    "\n",
    "\n",
    "#### Mass\n",
    "Trivial. Closed system.\n",
    "\n",
    "#### Energy\n",
    "\n",
    "Apply the First Law, with subscripts 1 and 2 representing initial and final states, respectively:\n",
    "\n",
    "\\begin{array}{c}\n",
    "  E_{in} &-& E_{out} &=& E_{sys} \\\\\n",
    "  Q_{in} &&&=& U_2 - U_1 \\\\ {} \n",
    "\\end{array}\n",
    "\n",
    "\\begin{gather*}\n",
    "  Q_{in} = m\\left( u_2 - u_1 \\right) \\\\\n",
    "  m = \\frac{V_{given}}{v\\left(T_1, x_1\\right)} \\qquad u_1 = u ( T_1, x_1 ) \\qquad u_2 = u (T_2,v_2)\n",
    "\\end{gather*}\n",
    "\n"
   ]
  },
  {
   "cell_type": "code",
   "execution_count": 1,
   "metadata": {},
   "outputs": [],
   "source": [
    "using Unitful"
   ]
  },
  {
   "cell_type": "code",
   "execution_count": 2,
   "metadata": {},
   "outputs": [
    {
     "name": "stdout",
     "output_type": "stream",
     "text": [
      "v = 0.2066941495 m³ kg⁻¹\n",
      "m = 0.048380663043392044 kg\n",
      "u1 = 675.70988 kJ kg⁻¹\n",
      "x2 = 0.5248880854306572\n",
      "u2 = 1643.5697488549297 kJ kg⁻¹\n",
      "Q_in = 46.82570218829197 kJ\n"
     ]
    }
   ],
   "source": [
    "V = 10u\"L\"     #  given\n",
    "\n",
    "\n",
    "#=      state ①\n",
    "T = 100°C, x1 = 0.123      \n",
    "=#\n",
    "x1 = 0.123     #  given\n",
    "\n",
    "vf_100°C = 1.0435e-3u\"m^3/kg\"   #  table\n",
    "vg_100°C = 1.673u\"m^3/kg\"       #  table\n",
    "v = vf_100°C + x1 * (vg_100°C - vf_100°C); @show v\n",
    "\n",
    "m = V / v |> u\"kg\"; @show m\n",
    "\n",
    "uf_100°C = 418.94u\"kJ/kg\"   #  table\n",
    "ug_100°C = 2506.5u\"kJ/kg\"   #  table\n",
    "u1 = uf_100°C + x1 * (ug_100°C - uf_100°C); @show u1\n",
    "\n",
    "\n",
    "#=      state ②\n",
    "T = 150°C, x1 = 0.123    \n",
    "Get x2(T2, v), then u2(T2,x2)\n",
    "=#\n",
    "vf_150°C = 1.0905e-3u\"m^3/kg\"\n",
    "vg_150°C = 0.3928u\"m^3/kg\"\n",
    "x2 = (v - vf_150°C)/(vg_150°C - vf_150°C); @show x2\n",
    "\n",
    "uf_150°C = 631.68u\"kJ/kg\"\n",
    "ug_150°C = 2559.5u\"kJ/kg\"\n",
    "u2 = uf_150°C + x2 * (ug_150°C - uf_150°C); @show u2\n",
    "\n",
    "\n",
    "# wrap it up\n",
    "Q_in = m * (u2 - u1); @show Q_in;\n"
   ]
  },
  {
   "cell_type": "markdown",
   "metadata": {},
   "source": [
    "<div class=\"mcs-bs-callout mcs-bs-callout-success extra\">\n",
    "\n",
    "### Found\n",
    "  \n",
    "$\n",
    " Q_{in} = 46.826\\,\\text{kJ}\n",
    "$ \n",
    "\n",
    "\n",
    "</div>"
   ]
  },
  {
   "cell_type": "markdown",
   "metadata": {},
   "source": [
    "<footer class=\"psy\"><div class=\"psy\">ψᵟ</div></footer>"
   ]
  }
 ],
 "metadata": {
  "@webio": {
   "lastCommId": null,
   "lastKernelId": null
  },
  "kernelspec": {
   "display_name": "Julia 1.5.2",
   "language": "julia",
   "name": "julia-1.5"
  },
  "language_info": {
   "file_extension": ".jl",
   "mimetype": "application/julia",
   "name": "julia",
   "version": "1.5.2"
  },
  "varInspector": {
   "cols": {
    "lenName": 16,
    "lenType": 16,
    "lenVar": 40
   },
   "kernels_config": {
    "python": {
     "delete_cmd_postfix": "",
     "delete_cmd_prefix": "del ",
     "library": "var_list.py",
     "varRefreshCmd": "print(var_dic_list())"
    },
    "r": {
     "delete_cmd_postfix": ") ",
     "delete_cmd_prefix": "rm(",
     "library": "var_list.r",
     "varRefreshCmd": "cat(var_dic_list()) "
    }
   },
   "types_to_exclude": [
    "module",
    "function",
    "builtin_function_or_method",
    "instance",
    "_Feature"
   ],
   "window_display": true
  }
 },
 "nbformat": 4,
 "nbformat_minor": 2
}
