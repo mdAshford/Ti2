{
 "cells": [
  {
   "cell_type": "markdown",
   "metadata": {},
   "source": [
    "<header class=\"banner\"><div class=\"banner\">\n",
    "  <div class=\"logos\">\n",
    "    <div><img title=\"Julia logo\" src=\"../figures/julia-logo-color.svg\" alt=\"Julia animated logo\" width=35 /></div>\n",
    "    <div>◌</div>\n",
    "    <div><img title=\"Powered by MathJax\" src=\"https://www.mathjax.org/badge/mj-logo.svg\"\n",
    "              alt=\"Powered by MathJax\" width=65 />\n",
    "    </div>\n",
    "  </div>  <!-- logos -->\n",
    "  <div class=\"cite_textbook cb7\">4.21 <span class=\"authors\"></span></div>\n",
    "</div></header>\n",
    "\n",
    "\n",
    "\n"
   ]
  },
  {
   "cell_type": "markdown",
   "metadata": {},
   "source": [
    "<div class=\"mcs-bs-callout mcs-bs-callout-info\">\n",
    "\n",
    "#### work time: 8 minutes\n",
    "\n",
    "</div></div>"
   ]
  },
  {
   "cell_type": "markdown",
   "metadata": {},
   "source": [
    "\n",
    "### Given   \n",
    " 1-kg of water that is initially at 90°C with a quality of 10 percent occupies a spring-loaded piston–cylinder device. This device is now heated until the pressure rises to 800 kPa and the temperature is 250°C. \n",
    "\n",
    "\n",
    "### Find \n",
    "Determine the total work produced during this process, in kJ. "
   ]
  },
  {
   "cell_type": "markdown",
   "metadata": {},
   "source": [
    "### Get Organized\n",
    "\n",
    "Every good home has a good diagram.\n",
    "\n",
    "![figure, cb8, 4-21](../figures/ch04_cen98179_p04021_lg.jpg)\n",
    "\n",
    "These things you should notice right away:\n",
    "1. Closed system ⋮ constant mass.  \n",
    "1. We can resolve both states ⋮ $(T_1,x_1),\\ (P_2,T_2),$ all given.\n",
    "1. Boundary work is the only form of work stated.\n",
    "1. We have to account for a spring $\\left(\\Delta F_{\\rm spring} = k \\Delta x\\right).$ \n",
    "\n",
    "We have two states we can resolve, but are not told the path the system takes to go from one to the other. All we need is a little critical thinking:\n",
    "\n",
    "Our system pressure is dictated by contributions from the following:  \n",
    "1. Atmospheric pressure $P_{\\rm atm}$, which is constant;   \n",
    "1. Piston weight $\\left(\\Delta P_{\\rm piston} = m_{\\rm piston}g/P_{\\rm piston} \\right),$ also constant; and   \n",
    "1. Spring force $\\left(\\Delta F_{\\rm spring} = k \\Delta x\\right)$, which is proportional to displacement. Considering constant area, it follows naturally that the spring's contribution to pressure is proportional to volume (ie, the relationship is linear: $\\Delta P \\propto \\Delta V$."
   ]
  },
  {
   "cell_type": "markdown",
   "metadata": {},
   "source": [
    "### Attack\n",
    "\n",
    "All of our work is boundary work.  We can resolve both states, and we know $\\Delta P \\propto \\Delta V$. Hopefully, you realize this means our process forms a trapezoid on a PV diagram. [see this problem for deeper explanation](cb8.4-68.jl.ipynb)\n",
    "\n",
    "![PV diagram](../figures/cb8,4-021,PVdiagram.png)\n",
    "\n",
    "\\begin{gather*}\n",
    " W_{\\rm b,out} = \\int^2_1 P\\,{\\rm d}V = \\frac{1}{2} \\left( P_1 + P_2 \\right)\\left( V_2 - V_1 \\right) \\\\[6pt]\n",
    " P_1 = P_\\text{sat@90°C} \\quad\n",
    " P_2 = 800\\,{\\rm kPa} \\quad\n",
    " V_1 = mv_\\text{90°C, x=10%} \\quad \n",
    " V_2 = mv_\\text{250°C,800kPa}\n",
    "\\end{gather*}\n"
   ]
  },
  {
   "cell_type": "code",
   "execution_count": 1,
   "metadata": {},
   "outputs": [],
   "source": [
    "using Unitful"
   ]
  },
  {
   "cell_type": "code",
   "execution_count": 2,
   "metadata": {},
   "outputs": [
    {
     "name": "stdout",
     "output_type": "stream",
     "text": [
      "W_out = 24.437 kJ\n"
     ]
    }
   ],
   "source": [
    "m  = 1u\"kg\"                    # given\n",
    "P1 = 0.7014u\"bar\"              # table\n",
    "P2 = 800u\"kPa\"                 # given\n",
    "x1 = 0.1                       # given\n",
    "\n",
    "vf1 = 1.0360e-3u\"m^3/kg\"       # table\n",
    "vg1 = 2.361u\"m^3/kg\"           # table\n",
    "v1 = vf1 + x1 * (vg1 - vf1)    \n",
    "v2 = 0.2932u\"m^3/kg\"           # table\n",
    "\n",
    "W_out = m * (P1 + P2) * (v2 - v1) / 2 |> u\"kJ\"   # trapezoid\n",
    "\n",
    "println(\"W_out = \", round(typeof(W_out),W_out,digits=3))"
   ]
  },
  {
   "cell_type": "markdown",
   "metadata": {},
   "source": [
    "<div class=\"btn-success\">&nbsp;<div class=\"badge\"></div><i class=\"fa fa-bomb\"></i><strong> Boom</strong></div>\n",
    "<div class=\"panel-success\"><div class=\"panel-heading\"><div class=\"badge\"></div> \n",
    "\n",
    "\\begin{equation*}\n",
    "   W_{out} = 24.437\\,\\ce{kJ}\n",
    "\\end{equation*}  \n",
    "\n",
    "\n",
    "</div></div>"
   ]
  },
  {
   "cell_type": "markdown",
   "metadata": {},
   "source": [
    "<footer style=\"background-color: #461d7c; color:rgba(253,208,35,0.35); line-height:2em; padding-left:1em; padding-right:0.5em; bottom:0; float:bottom; text-align:right;\"><i>ψᵟ</i></footer>"
   ]
  }
 ],
 "metadata": {
  "@webio": {
   "lastCommId": null,
   "lastKernelId": null
  },
  "kernelspec": {
   "display_name": "Julia 1.7.0-DEV",
   "language": "julia",
   "name": "julia-1.7"
  },
  "language_info": {
   "file_extension": ".jl",
   "mimetype": "application/julia",
   "name": "julia",
   "version": "1.7.0"
  },
  "varInspector": {
   "cols": {
    "lenName": 16,
    "lenType": 16,
    "lenVar": 40
   },
   "kernels_config": {
    "python": {
     "delete_cmd_postfix": "",
     "delete_cmd_prefix": "del ",
     "library": "var_list.py",
     "varRefreshCmd": "print(var_dic_list())"
    },
    "r": {
     "delete_cmd_postfix": ") ",
     "delete_cmd_prefix": "rm(",
     "library": "var_list.r",
     "varRefreshCmd": "cat(var_dic_list()) "
    }
   },
   "types_to_exclude": [
    "module",
    "function",
    "builtin_function_or_method",
    "instance",
    "_Feature"
   ],
   "window_display": true
  }
 },
 "nbformat": 4,
 "nbformat_minor": 2
}
