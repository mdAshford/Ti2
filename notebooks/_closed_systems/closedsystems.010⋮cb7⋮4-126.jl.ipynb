{
 "cells": [
  {
   "cell_type": "markdown",
   "metadata": {},
   "source": [
    "<header class=\"banner\"><div class=\"banner\">\n",
    "  <div class=\"logos\">\n",
    "    <div><img title=\"Julia logo\" src=\"../figures/julia-logo-color.svg\" alt=\"Julia animated logo\" width=35 /></div>\n",
    "    <div>◌</div>\n",
    "    <div><img title=\"Powered by MathJax\" src=\"https://www.mathjax.org/badge/mj-logo.svg\"\n",
    "              alt=\"Powered by MathJax\" width=65 />\n",
    "    </div>\n",
    "  </div>  <!-- logos -->\n",
    "  <div class=\"cite_textbook cb7\">4.126 <span class=\"authors\"></span></div>\n",
    "</div></header>\n",
    "\n"
   ]
  },
  {
   "cell_type": "markdown",
   "metadata": {},
   "source": [
    "<div class=\"mcs-bs-callout mcs-bs-callout-info\">\n",
    "\n",
    "#### work time: 16 minutes\n",
    "\n",
    "</div></div>"
   ]
  },
  {
   "cell_type": "markdown",
   "metadata": {},
   "source": [
    "### Given\n",
    "A mass of 5 kg of saturated liquid–vapor mixture of water is contained in a piston–cylinder device at 125 kPa. Initially, 2 kg of the water is in the liquid phase and the rest is in the vapor phase. Heat is now transferred to the water, and the piston, which is resting on a set of stops, starts moving when the pressure inside reaches 300 kPa. Heat transfer continues until the total volume increases by 20 percent. \n",
    "\n",
    "   <img src=\"../figures/cb7,4-126.png\" width=20% />\n",
    "\n",
    "\n",
    "\n",
    "\n",
    "### Find\n",
    "\n",
    "1. Show the process on a P-v diagram.\n",
    "1. Determine the following\n",
    "  1. the initial and final temperatures,  \n",
    "  1. the mass of liquid water when the piston first starts moving,  \n",
    "  1. the work done during this process, and  \n"
   ]
  },
  {
   "cell_type": "markdown",
   "metadata": {},
   "source": [
    "### Get Organized   "
   ]
  },
  {
   "cell_type": "markdown",
   "metadata": {},
   "source": [
    "First, we break the problem down into states and the processes that connect them. We are given an initial state. Heat is added at constant volume until we reach the second state, which is right before the piston lifts. More heat is added at constant pressure until we reach the final state.\n",
    "\n",
    "We also note that the only work interactions are boundary work.\n",
    "\n",
    "![Cengelboles7ed4-126](../figures/Cengelboles7ed4-126.png)\n",
    "\n",
    "Plotting the processes is also very helpful, and a habit you want to pick up.\n",
    "\n",
    "![Cengelboles7ed4-126](../figures/Cengelboles7ed4-126plot.png)\n",
    "\n"
   ]
  },
  {
   "cell_type": "markdown",
   "metadata": {},
   "source": [
    "Let's go through all the information we need to find in order to answer the questions.  \n",
    "\n",
    "1. The initial and final temperatures  \n",
    "   1. $T_1 = T_{sat@125\\,\\rm kPa}$   \n",
    "   1. We get $T_3$ once we resolve State ⓷ <br><br>\n",
    "\n",
    "1. The mass of liquid water when the piston first starts moving\n",
    "   1. This is state ⓶, and  \n",
    "   1. $\\displaystyle m_{liquid,2} = m_{total} - m_{vapor,2} = m_{total} - x_2 m_{total} = \\left(1 - x_2 \\right)m_{total}$ <br><br>\n",
    "\n",
    "3. The work done during this process: $W_{total} = W_{1 \\rightarrow 2} + W_{2 \\rightarrow 3}$   \n",
    "\n",
    "  States ⓵ and ⓶ are connected by a constant volume process. With no volume change, there is no boundary work, so  $W_{1 \\rightarrow 2} = 0$.\n",
    "\n",
    "$\\quad$ Thus, $$ W_{total} = W_{2 \\rightarrow 3} = \\int^3_2 P_2\\, \\text dV = P_2 \\left( V_3 - V_2 \\right) = P_2m \\left( v_3 - v_2 \\right) = P_2m \\left( 1.2 v_1 - v_1 \\right) = 0.2 P_2 m v_1 $$  \n",
    "\n",
    "\n",
    "4. Show the process on a P-v diagram.\n",
    "\n",
    "  See plot way above\n",
    "\n"
   ]
  },
  {
   "cell_type": "markdown",
   "metadata": {},
   "source": [
    "# Attack "
   ]
  },
  {
   "cell_type": "markdown",
   "metadata": {},
   "source": [
    "1. The initial and final temperatures\n",
    "  1. $\\color{red} T_1 = T_{sat@125\\,\\rm kPa} =   105.52\\, ℃ $ \n",
    "  1. We'll come back to $T_3.$\n",
    " \n",
    " "
   ]
  },
  {
   "cell_type": "markdown",
   "metadata": {},
   "source": [
    "2. The mass of liquid water when the piston first starts moving     \n",
    "\n",
    "  $m_{liquid,2} = \\left(1 - x_2 \\right)m_{total}$, so we need $x_2: \\ce{H2O} \\left\\{ \\begin{align*} \\ce{P_2 \\ &= \\ 300 kPa} \\\\\n",
    "    \\ce{v_2 \\ &= \\ v_1 }\n",
    "    \\end{align*} \n",
    "    \\right.$\n",
    "\n",
    "  At State ⓵, $\\ce{H2O} \\left\\{ \\begin{align*} \\ce{P_1 \\ &= \\ 125 kPa} \\\\\n",
    "    x_1 \\ &= \\ 0.6 \n",
    "    \\end{align*} \n",
    "    \\right.$   \n",
    "\n",
    "  Our saturated pressure table for water does not have a breakpoint for 125 kPa, but it does have 1 bar and 1.5 bar. We can interpolate between the two easily, because our desired point is halfway between the breakpoints."
   ]
  },
  {
   "cell_type": "code",
   "execution_count": 1,
   "metadata": {},
   "outputs": [
    {
     "name": "stdout",
     "output_type": "stream",
     "text": [
      "v1 = 0.8563192 m^3 kg^-1\n"
     ]
    }
   ],
   "source": [
    "using Unitful\n",
    "\n",
    "vf_100kPa = 0.0010432u\"m^3/kg\"\n",
    "vg_100kPa =     1.694u\"m^3/kg\"\n",
    "\n",
    "vf_150kPa = 0.0010528u\"m^3/kg\"\n",
    "vg_150kPa =     1.159u\"m^3/kg\"\n",
    "\n",
    "vf1 = (vf_100kPa + vf_150kPa)/2  \n",
    "vg1 = (vg_100kPa + vg_150kPa)/2  \n",
    "\n",
    "x1 = 0.6\n",
    "\n",
    "v1 = vf1 + x1*(vg1 - vf1); @show v1;"
   ]
  },
  {
   "cell_type": "markdown",
   "metadata": {},
   "source": [
    "2. (_cont'd_) The mass of liquid water when the piston first starts moving     \n",
    "\n",
    "  Back to finding $x_2: \\ce{H2O} \\left\\{ \\begin{align*} \\ce{P_2 \\ &= \\ 300 kPa} \\\\\n",
    "    \\ce{v_2 \\ &= \\ v_1} = 0.856\\ \\ce{m^3/kg}\n",
    "    \\end{align*} \n",
    "    \\right.$  \n",
    "\n",
    "  We won't presume we know the state's location, so we head to the saturation tables as usual, and find $\\ce{v_{g@300kPa} = 0.6058 m^3/kg}$. We know $\\ce{v_2} = 0.856\\, \\ce{m^3/kg}$. Therefore, $\\ce{v_2} > \\ce{v_{g@300kPa}},$ which means we have superheated vapor, and $ \\color{red} m_{liquid,2} = 0.$"
   ]
  },
  {
   "cell_type": "markdown",
   "metadata": {},
   "source": [
    "3. The work done during this process  \n",
    "\n",
    "  $W_{total} = 0.2 P_2 m v_1$   "
   ]
  },
  {
   "cell_type": "code",
   "execution_count": null,
   "metadata": {},
   "outputs": [],
   "source": [
    "m = 5u\"kg\"\n",
    "P2 = 300u\"kPa\"\n",
    "\n",
    "W = 0.2 * P2 * m * v1 |> u\"kJ\"\n",
    "@show W;"
   ]
  },
  {
   "cell_type": "markdown",
   "metadata": {},
   "source": [
    "$\\color{red} W_{\\rm total} = \\pu{256.90kJ}$   "
   ]
  },
  {
   "cell_type": "markdown",
   "metadata": {},
   "source": [
    "#### back to (a) and $T_3$.  \n",
    "\n",
    "Remember, $v_3 = 1.2v_1$."
   ]
  },
  {
   "cell_type": "code",
   "execution_count": null,
   "metadata": {},
   "outputs": [],
   "source": [
    "v3 = 1.2 * v1; @show v3;"
   ]
  },
  {
   "cell_type": "markdown",
   "metadata": {},
   "source": [
    "$\\quad$ Finding $T_3: \\ce{H2O} \\left\\{ \\begin{align*} \\ce{P_3 \\ &= \\ 300 kPa} \\\\\n",
    "    v_3 \\ &= 1.028\\ \\rm m^3/kg\n",
    "    \\end{align*} \n",
    "    \\right.$  "
   ]
  },
  {
   "cell_type": "markdown",
   "metadata": {},
   "source": [
    "$\\quad$ We find state ③ on the superheated steam table with a little interpolation. \n",
    "\n",
    "| T [℃]   |  v [$\\bf m^3/$kg]  |\n",
    "| --------|:------------------:|\n",
    "|  360    |        0.969       |  \n",
    "|  400    |        1.032       | \n"
   ]
  },
  {
   "cell_type": "code",
   "execution_count": null,
   "metadata": {},
   "outputs": [],
   "source": [
    "# interpolate\n",
    "\n",
    "T_360°C = 360u\"°C\"  # silly, but consistent\n",
    "v_360°C = 0.969u\"m^3/kg\"\n",
    "\n",
    "T_400°C = 400u\"°C\"\n",
    "v_400°C = 1.032u\"m^3/kg\"\n",
    "\n",
    "T3 = T_360°C + (T_400°C - T_360°C)*(v3 - v_360°C)/(v_400°C - v_360°C) |> u\"°C\" \n",
    "@show T3;"
   ]
  },
  {
   "cell_type": "markdown",
   "metadata": {},
   "source": [
    "$\\color{red} T_3 = 397.20\\, \\rm °C$ "
   ]
  },
  {
   "cell_type": "markdown",
   "metadata": {},
   "source": [
    "<div class=\"mcs-bs-callout mcs-bs-callout-success extra\">\n",
    "\n",
    "#### Finis. Now summarize.\n",
    "\n",
    "1. The initial and final temperatures\n",
    "  \n",
    "  \\begin{align*}\n",
    "  T_{\\rm initial} &= \\pu{105.52°C} \\\\\n",
    "  T_{\\rm final} &= 397.20\\, \\rm °C\n",
    "  \\end{align*} <br><br>\n",
    "  \n",
    "1. The mass of liquid water when the piston first starts moving \n",
    "  \n",
    "  $$m = 0$$ <br><br>\n",
    "  \n",
    "1. The work done during this process  \n",
    "  \n",
    "  $$W_{\\rm total} = \\pu{256.90kJ}$$    \n",
    "\n",
    "\n",
    "\n",
    "  \n",
    "</div></div>"
   ]
  },
  {
   "cell_type": "markdown",
   "metadata": {},
   "source": [
    "<footer style=\"background-color: #461d7c; color:rgba(253,208,35,0.35); line-height:2em; padding-left:1em; padding-right:0.5em; bottom:0; float:bottom; text-align:right;\"><i>ψᵟ</i></footer>"
   ]
  }
 ],
 "metadata": {
  "@webio": {
   "lastCommId": null,
   "lastKernelId": null
  },
  "kernelspec": {
   "display_name": "Julia 1.5.2",
   "language": "julia",
   "name": "julia-1.5"
  },
  "language_info": {
   "file_extension": ".jl",
   "mimetype": "application/julia",
   "name": "julia",
   "version": "1.5.2"
  },
  "varInspector": {
   "cols": {
    "lenName": 16,
    "lenType": 16,
    "lenVar": 40
   },
   "kernels_config": {
    "python": {
     "delete_cmd_postfix": "",
     "delete_cmd_prefix": "del ",
     "library": "var_list.py",
     "varRefreshCmd": "print(var_dic_list())"
    },
    "r": {
     "delete_cmd_postfix": ") ",
     "delete_cmd_prefix": "rm(",
     "library": "var_list.r",
     "varRefreshCmd": "cat(var_dic_list()) "
    }
   },
   "types_to_exclude": [
    "module",
    "function",
    "builtin_function_or_method",
    "instance",
    "_Feature"
   ],
   "window_display": true
  }
 },
 "nbformat": 4,
 "nbformat_minor": 2
}
