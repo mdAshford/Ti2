{
 "cells": [
  {
   "cell_type": "markdown",
   "metadata": {},
   "source": [
    "<header class=\"banner\"><div class=\"banner\">\n",
    "  <div class=\"logos\">\n",
    "    <div><img title=\"Julia logo\" src=\"../figures/julia-logo-color.svg\" alt=\"Julia animated logo\" width=35 /></div>\n",
    "    <div>◌</div>\n",
    "    <div><img title=\"Powered by MathJax\" src=\"https://www.mathjax.org/badge/mj-logo.svg\"\n",
    "              alt=\"Powered by MathJax\" width=65 />\n",
    "    </div>\n",
    "  </div>  <!-- logos -->\n",
    "  <div class=\"cite_textbook cb7\">4.6 <span class=\"authors\"></span></div>\n",
    "</div></header>\n",
    "\n",
    "\n",
    "<footer class=\"navbar navbar-default navbar-fixed-bottom mcs-psy-nav\" >\n",
    "  <div class=\"container-fluid text-right h4\">\n",
    "    <em>ψᵟ</em>\n",
    "  </div>\n",
    "</footer>"
   ]
  },
  {
   "cell_type": "markdown",
   "metadata": {},
   "source": [
    "<div class=\"mcs-bs-callout mcs-bs-callout-info\">\n",
    "\n",
    "#### work time: 12 minutes\n",
    "\n",
    "</div></div>"
   ]
  },
  {
   "cell_type": "markdown",
   "metadata": {},
   "source": [
    "## Given   \n",
    "A piston-cylinder device with a set of stops initially contains 0.6 kg of steam at 1.0 MPa and 400 °C. The location of the stops corresponds to 40 percent of the initial volume. Now the steam is cooled.  \n",
    "\n",
    "\n",
    "## Find \n",
    "1. Work for a final state of 1.0 MPa and 250 °C; and \n",
    "2. Work and the final temperature for a final state of 500 kPa.  "
   ]
  },
  {
   "cell_type": "markdown",
   "metadata": {},
   "source": [
    "### Get Organized\n",
    "\n",
    "![figure, cb8, 4-6](../figures/ch04_cen98179_p04006_lg.jpg)\n",
    "\n",
    "\n",
    "#### These things you should notice right away:\n",
    "\n",
    "1. Closed system ⇨ constant mass.  \n",
    "1. Isobaric process until the piston reaches the stops, isometric process after.   \n",
    "1. We can resolve State 1 with $T_1, P_1$ (both given, and State 1 is _superheated vapor_). \n",
    "1. Final state\n",
    "  1. 1.0 MPa and 250 °C: We can resolve State 2 with $P_2, T_2$ (given).\n",
    "      ![pv diagram](../figures/cb8,4-006a.png)\n",
    "      \n",
    "  1. 500 kPa: \n",
    "      1. The piston will hit the stops\n",
    "      2. We can resolve State 2 with $P_2$ (given) and $v_2$ (calculated).  \n",
    "\n",
    "   ![pv diagram](../figures/cb8,4-006b.png)"
   ]
  },
  {
   "cell_type": "markdown",
   "metadata": {},
   "source": [
    "<div class=\"mcs-bs-callout mcs-bs-callout-danger extra\"><div class=\"extra\">\n",
    "  \n",
    "#### Always, Always, ALWAYS:\n",
    "\n",
    "Find the state you can resolve. Relate that state to the states you need via the processes that connect them. Ride that Dog for the rest of your thermodynamic life. It will bring you Home every time.  \n",
    "\n",
    " \n",
    "</div></div>\n"
   ]
  },
  {
   "cell_type": "markdown",
   "metadata": {},
   "source": [
    "# Attack\n",
    "\n",
    "1. Find $\\rm W$ for the final state of 1.0 MPa and 250 °C.\n",
    "\n",
    "  All of our work is isobaric boundary work. \n",
    "\n",
    "  \\begin{gather}\n",
    "     W_{b,out} = \\int^{V_2}_{V_1} P\\,{\\rm d}V = mP \\left( v_2 - v_1 \\right) \\\\ \\notag\n",
    "   \\begin{aligned}\n",
    "     v_1 &= v\\big(\\text{1 MPa, 400 °C}\\big) \\\\\n",
    "     v_2 &= v\\big(\\text{1 MPa, 250 °C}\\big) \\\\   \n",
    "     m &= 0.6\\,\\ce{kg} \\\\\n",
    "     P &= \\ce{1MPa} \\\\{}\n",
    "   \\end{aligned}\n",
    "  \\end{gather}  \n",
    "\n",
    "\n"
   ]
  },
  {
   "cell_type": "code",
   "execution_count": 1,
   "metadata": {},
   "outputs": [],
   "source": [
    "using Unitful"
   ]
  },
  {
   "cell_type": "code",
   "execution_count": 2,
   "metadata": {},
   "outputs": [
    {
     "name": "stdout",
     "output_type": "stream",
     "text": [
      "Wb_out = -44.339999999999996 kJ\n"
     ]
    }
   ],
   "source": [
    "m  = 0.6u\"kg\"           # given\n",
    "P  = 1u\"MPa\"            # given\n",
    "v1 = 0.3066u\"m^3/kg\"    # table\n",
    "v2 = 0.2327u\"m^3/kg\"    # table\n",
    "\n",
    "Wb_out = m * P * (v2 - v1) |> u\"kJ\"\n",
    "@show Wb_out;\n"
   ]
  },
  {
   "cell_type": "markdown",
   "metadata": {},
   "source": [
    "<div class=\"mcs-bs-callout mcs-bs-callout-info\">\n",
    "\n",
    "#### Incidentally, we can calculate the minimum volume now if we desire:   \n",
    "\n",
    "  \n",
    "\\begin{gather*}\n",
    "  v_{min} = 0.4v_1 = 0.12264\\,\\ce{\\frac{m^3}{kg}} \\\\[12pt]\n",
    "  V_{min} = mv_{min} = 0.07358\\,\\ce{m^3} \\\\{}\n",
    "\\end{gather*}\n",
    "\n",
    "</div></div>"
   ]
  },
  {
   "cell_type": "markdown",
   "metadata": {},
   "source": [
    "2. $W, T_{\\it final}$ for the final state of 500 kPa.    \n",
    "\n",
    "  All of our work is _still_ isobaric boundary work, but now we know that the piston hits the stops. Remember there is no boundary work with no volume change. \n",
    "\n",
    "  \\begin{align}\n",
    "     W_{b,out} &= \\int^{V_{min}}_{V_1} P\\,{\\rm d}V = mP \\big( v_{min} - v_1 \\big) = mP \\big( 0.4 v_{1} - v_1 \\big) = - 0.6mPv_1  \\\\  \\notag\n",
    "   &\\begin{aligned}\n",
    "     v_1 &= v\\big(\\pu{1 MPa, 400 °C}\\big) \\\\\n",
    "     v_2 &= v_{min} = 0.4 v_1 \\\\\n",
    "     m &= 0.6\\,\\ce{kg} \n",
    "   \\end{aligned} \\\\[12pt]\n",
    "     T_{\\it final} &= T\\big(\\pu{500kPa},v=0.4v_1\\big) \\\\ {}\\notag\n",
    "  \\end{align} \n",
    "  \n"
   ]
  },
  {
   "cell_type": "code",
   "execution_count": 3,
   "metadata": {},
   "outputs": [
    {
     "name": "stdout",
     "output_type": "stream",
     "text": [
      "v_final = 0.12264 m³ kg⁻¹\n",
      "Wb_out = -110.37599999999999 kJ\n"
     ]
    }
   ],
   "source": [
    "m  = 0.6u\"kg\"           # given\n",
    "P  = 1u\"MPa\"            # given\n",
    "v1 = 0.3066u\"m^3/kg\"    # table\n",
    "\n",
    "v_final = 0.4 * v1; @show v_final;  \n",
    "  \n",
    "Wb_out = -0.6 * m * P * v1 |> u\"kJ\"\n",
    "@show Wb_out;"
   ]
  },
  {
   "cell_type": "markdown",
   "metadata": {},
   "source": [
    "2. (_cont'd_) $W, T_{\\it final}$ for the final state of 500 kPa.    \n",
    "\n",
    "  Find $T_{\\it final}$. \n",
    "  \n",
    "  At $\\pu{500kPa}$, $\\pu{v_{f@500kPa}} = \\ce{0.0010300 m^3/kg}$ and $\\pu{v_{g@500kPa}} = \\ce{3.240m^3/kg}$. Thus, $\\pu{v_{f@500kPa}} < v_{\\it final} < \\pu{v_{g@500kPa}}$, so our final state is under saturation conditions, which means $T_{\\it final} = T_{\\rm sat@500K} = \\pu{151.8°C}.$"
   ]
  },
  {
   "cell_type": "markdown",
   "metadata": {},
   "source": [
    "\n",
    "<div class=\"mcs-bs-callout mcs-bs-callout-success\">\n",
    "\n",
    "#### Finis. Now summarize.\n",
    "\n",
    "1. Work for a final state of 1.0 MPa and 250 °C; and \n",
    "  \n",
    "  \\begin{align*}\n",
    "    W_{in} &= \\pu{44.34kJ}  \\\\\n",
    "    \\phantom{W_{in}} &\\hphantom{= \\pu{110.376kJ}~~~}  \n",
    "  \\end{align*} \n",
    "  \n",
    "2. Work and the final temperature for a final state of 500 kPa.  \n",
    "\n",
    "  \\begin{align*}\n",
    "    W_{in} &= \\pu{110.376kJ} \\\\\n",
    "       T_{\\it final} &= \\pu{151.8°C} \\\\{}\n",
    "  \\end{align*}\n",
    " \n",
    " ---- \n",
    "  \n",
    "Notice that in both cases $ W_{b,out} < 0$, so we used $ W_{b,in} = -W_{b,out}$ to get a result with positive magnitude. The compression work is consistent with the decreasing volume stated in the problem.\n",
    "\n",
    "\n",
    "\n",
    "</div></div>"
   ]
  },
  {
   "cell_type": "markdown",
   "metadata": {},
   "source": [
    "<footer style=\"background-color: #461d7c; color:rgba(253,208,35,0.35); line-height:2em; padding-left:1em; padding-right:0.5em; bottom:0; float:bottom; text-align:right;\"><i>ψᵟ</i></footer>"
   ]
  }
 ],
 "metadata": {
  "@webio": {
   "lastCommId": null,
   "lastKernelId": null
  },
  "kernelspec": {
   "display_name": "Julia 1.5.2",
   "language": "julia",
   "name": "julia-1.5"
  },
  "language_info": {
   "file_extension": ".jl",
   "mimetype": "application/julia",
   "name": "julia",
   "version": "1.5.2"
  },
  "varInspector": {
   "cols": {
    "lenName": 16,
    "lenType": 16,
    "lenVar": 40
   },
   "kernels_config": {
    "python": {
     "delete_cmd_postfix": "",
     "delete_cmd_prefix": "del ",
     "library": "var_list.py",
     "varRefreshCmd": "print(var_dic_list())"
    },
    "r": {
     "delete_cmd_postfix": ") ",
     "delete_cmd_prefix": "rm(",
     "library": "var_list.r",
     "varRefreshCmd": "cat(var_dic_list()) "
    }
   },
   "types_to_exclude": [
    "module",
    "function",
    "builtin_function_or_method",
    "instance",
    "_Feature"
   ],
   "window_display": true
  }
 },
 "nbformat": 4,
 "nbformat_minor": 2
}
