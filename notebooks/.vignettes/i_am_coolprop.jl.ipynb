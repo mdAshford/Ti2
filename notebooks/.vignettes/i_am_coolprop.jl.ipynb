{
 "cells": [
  {
   "cell_type": "markdown",
   "metadata": {},
   "source": [
    "<br>\n",
    "\n",
    "<span style=\"font-family:LatoWebHeavy; font-size:300%; color:#230e7f; line-height:0.8em;\">CoolProp</span>   \n",
    "<a href=\"www.coolprop.org\" alt=\"CoolProp web address\">www.coolprop.org</a>\n",
    "⋮⋮\n",
    "<a href=\"https://doi.org/10.1021/ie4033999\">doi.org/10.1021/ie4033999</a><br>  \n",
    "CoolProp.jl is a Julia wrapper around the excellent CoolProp thermodynamic properties package. CoolProp is an open-source database of fluid and humid air properties, formulated based on the most accurate formulations in open literature. It has been validated against the most accurate data available from the relevant references.\n",
    "\n",
    "The version installed here is [BENGAL-TIGER/CoolProp-6.3.0.jl](https://github.com/BENGAL-TIGER/CoolProp-6.3.0.jl), forked from [CoolProp/CoolProp.jl](https://github.com/CoolProp/CoolProp.jl) by mdAshford to lock the package to CoolProp v6.3.0 for Linux installations. Linux shared libraries are not available beyond CoolProp v6.3.0, so normal installations fail. macOS and Windows users can install CoolProp/CoolProp.jl trouble-free.\n",
    "\n",
    "\n",
    "#### la bibliographie   \n",
    "Bell, I. H., Wronski, J., Quoilin, S., & Lemort, V. (2014). Pure and Pseudo-pure Fluid Thermophysical Property Evaluation and the Open-Source Thermophysical Property Library CoolProp. Industrial & Engineering Chemistry Research, 53(6), 2498–2508. https://doi.org/10.1021/ie4033999\n",
    "    \n",
    "<div class=\"mcs-bs-callout mcs-bs-callout-danger heavy\">\n",
    "    \n",
    "# DO NOT use CoolProp for tests and homework. CoolProp provides values that cannot be achieved via textbook property tables. Moreover, the difference between the two is VERY obvious.\n",
    "    \n",
    "</div>\n",
    "\n",
    "## Basic usage\n",
    "\n",
    "`PropsSI` is the function that gets the most use. It returns a value that depends on the thermodynamic state. Of course, two independent properties are required to fix the state.\n",
    "\n",
    "```julia\n",
    "PropsSI(output, name1, value1, name2, value2, fluid)\n",
    "```\n",
    "\n",
    "\n",
    "### Arguments\n",
    "\n",
    "- fluid: The name of the fluid. [List of fluids](http://www.coolprop.org/fluid_properties/PurePseudoPure.html#list-of-fluids)\n",
    "\n",
    "- output: The name of parameter to evaluate. [Table of input parameters](http://www.coolprop.org/coolprop/HighLevelAPI.html#table-of-string-inputs-to-propssi-function)\n",
    "\n",
    "- name1: The name of parameter for first state point\n",
    "\n",
    "- value1: Value of the first state point\n",
    "\n",
    "- name2: The name of parameter for second state point\n",
    "\n",
    "- value2: Value of the second state point\n",
    "\n",
    "\n",
    "\n",
    "### Examples\n",
    "\n",
    "Density of water [kg/m³] at 293.15 K, 100000 Pa:\n",
    "\n",
    "```julia\n",
    "julia> PropsSI(\"D\", \"T\", 293.15, \"P\", 100000, \"water\")\n",
    "\n",
    "998.2065434976455\n",
    "```\n",
    "\n",
    "Specific enthalpy [J/kg] of water at 100000 Pa, 80% quality:\n",
    "\n",
    "```julia\n",
    "julia> PropsSI(\"H\", \"P\", 200000, \"Q\", 0.8, \"water\")\n",
    "\n",
    "2.265925430079615e6\n",
    "```\n",
    "\n",
    "    \n",
    "### Default units for common properties\n",
    "\n",
    "- T [K]   \n",
    "- P [Pa]   \n",
    "- D [kg/m³]   \n",
    "- U [J/kg]   \n",
    "- H [J/kg]   \n",
    "- S [J/kg⋅K] \n",
    "\n",
    "\n",
    "## Integration with Unitful.jl\n",
    "\n",
    "CoolProp.jl is more useful by a factor of ∞ when combined with the [Unitful.jl](https://github.com/PainterQubits/Unitful.jl) package for physical quantities! [Unitful documentation](https://painterqubits.github.io/Unitful.jl/stable/)\n",
    "\n",
    "```julia\n",
    "julia> PropsSI(\"D\", \"T\", 20u\"°C\", \"P\", 1u\"bar\", \"water\")\n",
    "\n",
    "998.2065434976455 kg m^-3\n",
    "\n",
    "\n",
    "julia> PropsSI(\"H\", \"P\", 2u\"bar\", \"Q\", 0.8, \"water\")\n",
    "\n",
    "2.265925430079615e6 J kg^-1\n",
    "\n",
    "\n",
    "julia> PropsSI(\"H\", \"P\", 2u\"bar\", \"Q\", 0.8, \"water\") |> u\"MJ/kg\"\n",
    "\n",
    "2.265925430079615e6 J kg^-1\n",
    "\n",
    "\n",
    "julia> PropsSI(\"H\", \"P\", 2u\"bar\", \"Q\", 0.8, \"water\") |> u\"btu/lb\"\n",
    "\n",
    "974.1687544529052 btu lb^-1\n",
    "```\n"
   ]
  },
  {
   "cell_type": "markdown",
   "metadata": {},
   "source": [
    "## Play Area"
   ]
  },
  {
   "cell_type": "code",
   "execution_count": 6,
   "metadata": {},
   "outputs": [],
   "source": [
    "using CoolProp, Unitful"
   ]
  },
  {
   "cell_type": "code",
   "execution_count": 7,
   "metadata": {},
   "outputs": [
    {
     "data": {
      "text/plain": [
       "998.2065434976455"
      ]
     },
     "execution_count": 7,
     "metadata": {},
     "output_type": "execute_result"
    }
   ],
   "source": [
    "PropsSI(\"D\", \"T\", 293.15, \"P\", 100000, \"water\")"
   ]
  },
  {
   "cell_type": "code",
   "execution_count": 8,
   "metadata": {},
   "outputs": [
    {
     "data": {
      "text/plain": [
       "998.2065434976455 kg m^-3"
      ]
     },
     "execution_count": 8,
     "metadata": {},
     "output_type": "execute_result"
    }
   ],
   "source": [
    "PropsSI(\"D\", \"T\", 20u\"°C\", \"P\", 1u\"bar\", \"water\")"
   ]
  },
  {
   "cell_type": "code",
   "execution_count": 9,
   "metadata": {},
   "outputs": [
    {
     "data": {
      "text/plain": [
       "974.1687544529052 btu lb^-1"
      ]
     },
     "execution_count": 9,
     "metadata": {},
     "output_type": "execute_result"
    }
   ],
   "source": [
    "PropsSI(\"H\", \"P\", 2u\"bar\", \"Q\", 0.8, \"water\") |> u\"btu/lb\""
   ]
  },
  {
   "cell_type": "code",
   "execution_count": 10,
   "metadata": {},
   "outputs": [
    {
     "data": {
      "text/plain": [
       "647.096"
      ]
     },
     "execution_count": 10,
     "metadata": {},
     "output_type": "execute_result"
    }
   ],
   "source": [
    "PropsSI(\"Tcrit\", \"water\")  # K"
   ]
  },
  {
   "cell_type": "code",
   "execution_count": null,
   "metadata": {},
   "outputs": [],
   "source": []
  }
 ],
 "metadata": {
  "@webio": {
   "lastCommId": null,
   "lastKernelId": null
  },
  "kernelspec": {
   "display_name": "Julia 1.5.2",
   "language": "julia",
   "name": "julia-1.5"
  },
  "language_info": {
   "file_extension": ".jl",
   "mimetype": "application/julia",
   "name": "julia",
   "version": "1.5.2"
  },
  "latex_envs": {
   "LaTeX_envs_menu_present": true,
   "autoclose": false,
   "autocomplete": false,
   "bibliofile": "biblio3.bib",
   "cite_by": "apalike",
   "current_citInitial": 1,
   "eqLabelWithNumbers": true,
   "eqNumInitial": 1,
   "hotkeys": {
    "equation": "Ctrl-E",
    "itemize": "Ctrl-I"
   },
   "labels_anchors": true,
   "latex_user_defs": false,
   "report_style_numbering": false,
   "user_envs_cfg": false
  }
 },
 "nbformat": 4,
 "nbformat_minor": 4
}
