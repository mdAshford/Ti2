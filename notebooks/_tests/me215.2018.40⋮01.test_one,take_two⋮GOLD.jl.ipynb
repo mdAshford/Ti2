{
 "cells": [
  {
   "cell_type": "markdown",
   "metadata": {},
   "source": [
    "<header class=\"banner\"><div class=\"banner\">\n",
    "  <div class=\"logos\">\n",
    "    <div><img title=\"Julia logo\" src=\"../figures/julia-logo-color.svg\" alt=\"Julia animated logo\" width=35 /></div>\n",
    "    <div>◌</div>\n",
    "    <div><img title=\"Powered by MathJax\" src=\"https://www.mathjax.org/badge/mj-logo.svg\"   alt=\"Powered by MathJax\" width=65 />\n",
    "    </div>\n",
    "    <div>◌</div>\n",
    "    <div><img title=\"Julia logo\" src=\"https://getbootstrap.com/docs/3.4/assets/brand/bootstrap-solid.svg\" alt=\"Julia animated logo\" width=15 /></div>\n",
    "  </div>  <!-- logos -->\n",
    "<!--   <div class=\"cite_textbook \">me215: Thermodynamics Test Two, 4 October 2019 <span class=\"authors\"> </span></div> -->\n",
    "</div></header>\n",
    "<footer class=\"navbar navbar-default navbar-fixed-bottom mcs-psy-nav\" >\n",
    "  <div class=\"container-fluid text-right h4\">\n",
    "    <em>ψᵟ</em>\n",
    "  </div>\n",
    "</footer>"
   ]
  },
  {
   "cell_type": "markdown",
   "metadata": {},
   "source": [
    "<div class=\"mcs-bs-callout mcs-bs-callout-info\">\n",
    "\n",
    "#### 30 minutes\n",
    "\n",
    "<div>\n",
    "\n"
   ]
  },
  {
   "cell_type": "markdown",
   "metadata": {},
   "source": [
    "<div class= \"panel panel-warning h1 text-right mcs-Lblk\"><div class=\"panel-heading\n",
    "  \"><strong>Test One⋮GOLD</strong></div>"
   ]
  },
  {
   "cell_type": "markdown",
   "metadata": {},
   "source": [
    "<div class=\"text-center\">\n",
    "<div class=\"h4 mcs-Lhvy\"> me215: Thermodynamics I <br>\n",
    "  <small>Test One, 26 September 2018</small>   </div>\n",
    "Closed book. Closed notes. No formula sheet. All test materials needed are in this packet. <br>\n",
    "No Internet or communication allowed. Calculator is allowed. <br>\n",
    "100 points <br> <br>\n",
    "<div style=\"border-style: solid none; padding:0.25em; width:85%;margin:auto;\">Write your final answers on this problem sheet AND make sure your final answers are clearly identified in your work. Make sure you turn in ALL of your work sheets.<div>\n",
    "  \n",
    "</div>"
   ]
  },
  {
   "cell_type": "markdown",
   "metadata": {},
   "source": [
    "1. **(15) A room contains a refrigerator. On a particular day, the refrigerator consumed 0.8 kWh of electricity while removing 1800 kJ of heat from its contents. For that day, what was the net energy change of the room [kJ]?**\n",
    "\n",
    "  All the energy the refrigerator removes from its contents is deposited to the room. The only energy crossing the room boundary is the electricty."
   ]
  },
  {
   "cell_type": "code",
   "execution_count": 1,
   "metadata": {},
   "outputs": [
    {
     "ename": "UndefVarError",
     "evalue": "UndefVarError: kJ not defined",
     "output_type": "error",
     "traceback": [
      "UndefVarError: kJ not defined",
      "",
      "Stacktrace:",
      " [1] top-level scope at In[1]:2"
     ]
    }
   ],
   "source": [
    "using Unitful\n",
    "\n",
    "0.8u\"kW*hr\" |> kJ"
   ]
  },
  {
   "cell_type": "markdown",
   "metadata": {},
   "source": [
    "---\n",
    "2. **(10) Explain the differences between open, closed, and isolated systems.**\n",
    "\n",
    " open: mass and energy may cross the boundary  \n",
    " closed: energy may cross the boundary  \n",
    " isolated: neither mass nor energy may cross the boundary  "
   ]
  },
  {
   "cell_type": "markdown",
   "metadata": {},
   "source": [
    "----\n",
    "3. **(15) A 1.5-kW electric resistance heater in a room is turned on and kept on for 20 min.\n",
    "Calculate the amount of energy transferred to the room by the heater [kJ]**"
   ]
  },
  {
   "cell_type": "code",
   "execution_count": 2,
   "metadata": {},
   "outputs": [
    {
     "ename": "UndefVarError",
     "evalue": "UndefVarError: kJ not defined",
     "output_type": "error",
     "traceback": [
      "UndefVarError: kJ not defined",
      "",
      "Stacktrace:",
      " [1] top-level scope at In[2]:1"
     ]
    }
   ],
   "source": [
    "1.5u\"kW\" * 20u\"minute\" |> kJ"
   ]
  },
  {
   "cell_type": "markdown",
   "metadata": {},
   "source": [
    "---\n",
    "4. **(20) The difference in atmospheric pressure from the base to the summit of a mountain is measured to be a manometer reading of 38 inches H2O. Assuming the average specific volume of air is 12.8 ft^3/lbm, the density of water is 62.4 lbm/ft^3, what is the height of the mountain [feet]?**  \n",
    "\n",
    " $$\n",
    " \\begin{alignat*}{1}\n",
    "  \\Delta P_{water} &= \\Delta P_{air}  \\\\[6pt] \n",
    "  \\rho_{water} g \\Delta h_{water} &= \\rho_{air} g \\Delta h_{air}  \\\\[6pt]\n",
    "  \\Delta h_{air} &= \\frac{\\rho_{water}}{\\rho_{air}} \\Delta h_{water}  \\\\[6pt]\n",
    "  \\Delta h_{air} &= \\rho_{water} v_{air} \\Delta h_{water}\n",
    " \\end{alignat*}\n",
    " $$"
   ]
  },
  {
   "cell_type": "code",
   "execution_count": 3,
   "metadata": {},
   "outputs": [
    {
     "data": {
      "text/plain": [
       "2529.2799999999997 ft"
      ]
     },
     "execution_count": 3,
     "metadata": {},
     "output_type": "execute_result"
    }
   ],
   "source": [
    "rho_water = 62.4u\"lb/ft^3\"\n",
    "v_air = 12.8u\"ft^3/lb\"\n",
    "dh_water = 38u\"inch\"\n",
    "\n",
    "dh_air = rho_water * v_air * dh_water |> u\"ft\""
   ]
  },
  {
   "cell_type": "markdown",
   "metadata": {},
   "source": [
    "---\n",
    "5. **(10) The density and the specific volume of a simple compressible system are known. The number of additional intensive, independent properties needed to fix the state of this system is**  \n",
    "\n",
    "  (a) 0 $\\bbox[2px,border:1px solid red]{(b) 1}$ (c) 2 (d) 3 (e) None of the above"
   ]
  },
  {
   "cell_type": "markdown",
   "metadata": {},
   "source": [
    "---\n",
    "6. **(10) Identify the extensive properties in the following list:**\n",
    "\n",
    " >(a) temperature (b) volume (c) internal energy (d) pressure (e) None of the above \n",
    "\n",
    "   (b) volume (c) internal energy"
   ]
  },
  {
   "cell_type": "markdown",
   "metadata": {},
   "source": [
    "---\n",
    "7. **(20) Ninety-nine (99) thermodynamics students are locked in a room to take an exam. The room is 15 meters wide by 20 meters long by 10 meters tall. The ceiling/roof is a frictionless piston that maintains pressure in the room at a constant 100 kPa. Each student releases heat at a rate of 110 W for the hour-long test.**\n",
    "\n",
    "  **Consider the energy released into the room by the students. If one third is lost through the walls, and one third increases the energy of the room itself, how much will the students raise the roof [m]?**  \n",
    "\n",
    "$$\n",
    " \\begin{alignat*}{1}\n",
    "  E_{roof} &= \\int P \\, \\mathrm dV = \\int P A \\, \\mathrm dz = P A \\Delta z \\\\[6pt] \n",
    "  \\Delta z &= \\frac{E_{roof}}{PA} = \\frac{\\tfrac{1}{3} \\left( 99 \\cdot 110 \\, \\text W \\cdot 1 \\, \\text{hr} \\right)} {100 \\, \\text{kPa} \\cdot \\left(15 \\,\\text m \\cdot 20 \\, \\text m \\right)} \\\\[6pt]\n",
    " \\end{alignat*}\n",
    " $$"
   ]
  },
  {
   "cell_type": "code",
   "execution_count": 4,
   "metadata": {},
   "outputs": [
    {
     "data": {
      "text/plain": [
       "0.4356 m"
      ]
     },
     "execution_count": 4,
     "metadata": {},
     "output_type": "execute_result"
    }
   ],
   "source": [
    "numer = 1/3 * (99 * 110u\"W\" * 1u\"hr\")\n",
    "denom = 100u\"kPa\" * (15u\"m\" * 20u\"m\")\n",
    "numer/denom |> u\"m\""
   ]
  }
 ],
 "metadata": {
  "@webio": {
   "lastCommId": null,
   "lastKernelId": null
  },
  "kernelspec": {
   "display_name": "Julia 1.7.0-DEV",
   "language": "julia",
   "name": "julia-1.7"
  },
  "language_info": {
   "file_extension": ".jl",
   "mimetype": "application/julia",
   "name": "julia",
   "version": "1.7.0"
  }
 },
 "nbformat": 4,
 "nbformat_minor": 2
}
