{
 "cells": [
  {
   "cell_type": "markdown",
   "metadata": {},
   "source": [
    "<header class=\"banner\"><div class=\"banner\">\n",
    "  <div class=\"logos\">\n",
    "    <div><img title=\"Julia logo\" src=\"../figures/julia-logo-color.svg\" alt=\"Julia animated logo\" width=35 /></div>\n",
    "    <div>◌</div>\n",
    "    <div><img title=\"Powered by MathJax\" src=\"https://www.mathjax.org/badge/mj-logo.svg\"   alt=\"Powered by MathJax\" width=65 />\n",
    "    </div>\n",
    "    <div>◌</div>\n",
    "    <div><img title=\"Julia logo\" src=\"https://getbootstrap.com/docs/3.4/assets/brand/bootstrap-solid.svg\" alt=\"Julia animated logo\" width=15 /></div>\n",
    "  </div>  <!-- logos -->\n",
    "<!--   <div class=\"cite_textbook \">me215: Thermodynamics Test Two, 4 October 2019 <span class=\"authors\"> </span></div> -->\n",
    "</div></header>\n",
    "\n",
    "\n",
    "<footer class=\"navbar navbar-default navbar-fixed-bottom mcs-psy-nav\" >\n",
    "  <div class=\"container-fluid text-right h4\">\n",
    "    <em>ψᵟ</em>\n",
    "  </div>\n",
    "</footer>\n",
    "\n",
    "\n",
    "\n",
    "<div class=\"mcs-bs-callout mcs-bs-callout-info\">\n",
    "\n",
    "#### 90 minutes\n",
    "\n",
    "</div>\n",
    "\n",
    "<div class=\"panel panel-danger h1 text-right mcs-Lblk\"><div class=\"panel-heading\"><strong>Final Exam⋮SANGUINE</strong></div></div>\n",
    "\n"
   ]
  },
  {
   "cell_type": "markdown",
   "metadata": {},
   "source": [
    "<div class=\"mcs-bs-callout mcs-bs-callout-tiger \" >\n",
    "\n",
    "#### heat transfer (hēt træns⋅fər), noun\n",
    "  movement of energy driven by a temperature difference\n",
    "</div>"
   ]
  },
  {
   "cell_type": "markdown",
   "metadata": {},
   "source": [
    "<div class=\"text-center tahitiblue\">\n",
    "<div class=\"h4 mcs-Lhvy\"> ME215-002/920/921: Thermodynamics I <br>\n",
    "  <small>Final Examination: 2 May 2019</small>   </div>\n",
    "Closed book. Closed notes. No formula sheet. All test materials needed are in this packet. <br>\n",
    "No Internet or communication allowed. Calculator is allowed. <br>\n",
    "190 points <br> <br>\n",
    "<div style=\"border-style: solid none; padding:0.25em; width:85%;margin:auto;\">\n",
    "Write your final answers on this problem sheet AND make sure your final answers are clearly identified in your work. Make sure you turn in ALL of your work sheets.\n",
    "  <div>\n",
    "  \n",
    "</div>"
   ]
  },
  {
   "cell_type": "code",
   "execution_count": 16,
   "metadata": {},
   "outputs": [
    {
     "name": "stderr",
     "output_type": "stream",
     "text": [
      "WARNING: replacing module mdaUtilities.\n",
      "WARNING: using mdaUtilities.roundme3 in module Main conflicts with an existing identifier.\n",
      "WARNING: using mdaUtilities.LTU in module Main conflicts with an existing identifier.\n"
     ]
    }
   ],
   "source": [
    "using Unitful\n",
    "include(\"./code/mdaUtilities.jl\")\n",
    "using Main.mdaUtilities\n",
    "using LaTeXStrings"
   ]
  },
  {
   "cell_type": "code",
   "execution_count": null,
   "metadata": {},
   "outputs": [],
   "source": []
  },
  {
   "cell_type": "markdown",
   "metadata": {},
   "source": [
    "# 2019⋮spring⋮final exam\n",
    "\n"
   ]
  },
  {
   "cell_type": "markdown",
   "metadata": {},
   "source": [
    "1. __________(5) Helium (P1 = 2 MPa, T1 = 600 K) is throttled to P2 = 1.2 MPa. Assuming ideal gas behavior, which describes the downstream temperature T2?  \n",
    "\n",
    "<div class=\"hbox space-around align-center\">\n",
    "  <div class=\"\">(a) T2 < T1 </div>\n",
    "  <div class=\"mcs-success badge\"> (b) T2 = T1 </div>\n",
    "  <div class=\"\">(c) T2 > T1</div>  \n",
    "</div>"
   ]
  },
  {
   "cell_type": "markdown",
   "metadata": {},
   "source": [
    "<p style = \" background-image:  url(./figures/bacgroundTiles.png); line-height: 1em\" >&nbsp;</p>"
   ]
  },
  {
   "cell_type": "markdown",
   "metadata": {},
   "source": [
    "2. __________(5) A fluid is at its critical point. The temperature is lowered while the pressure is held constant. What is the phase of the fluid after the change?\n",
    "\n",
    "  **LIQUID**"
   ]
  },
  {
   "cell_type": "markdown",
   "metadata": {},
   "source": [
    "<p style = \" background-image:  url(./figures/bacgroundTiles.png); line-height: 1em\" >&nbsp;</p>"
   ]
  },
  {
   "cell_type": "markdown",
   "metadata": {},
   "source": [
    "3. __________(5) A saturated liquid has its volume increased while temperature is held constant. What change in pressure accompanies the volume change?\n",
    "\n",
    "  **NO CHANGE.** Since temperature stays constant, pressure stays constant. Unless the volume change strayed into single-phase territory."
   ]
  },
  {
   "cell_type": "markdown",
   "metadata": {},
   "source": [
    "<p style = \" background-image:  url(./figures/bacgroundTiles.png); line-height: 1em\" >&nbsp;</p>"
   ]
  },
  {
   "cell_type": "markdown",
   "metadata": {},
   "source": [
    "A system consists of a saturated liquid/vapor mixture. Heat is added to the system at constant temperature.  \n",
    "\n",
    "4. ___(5) The quality   \n",
    "\n",
    "  <div class=\"hbox space-around align-start\">\n",
    "    <div class=\"mcs-success badge\"> (a) increases </div>\n",
    "    <div class=\"mcs-clear badge\">(b) decreases</div> \n",
    "    <div class=\"mcs-clear badge\">(c) stays the same</div>   \n",
    "    <div class=\"mcs-clear badge\">(d) not enough information</div>    \n",
    "  </div>\n",
    "  \n",
    "\n",
    "5. ___(5) The temperature \n",
    "\n",
    "  <div class=\"hbox space-around align-baseline \">\n",
    "    <div class=\"mcs-clear badge\">(a) increases </div>\n",
    "    <div class=\"mcs-clear badge\">(b) decreases</div> \n",
    "    <div class=\"mcs-success badge\">(c) stays the same</div> \n",
    "    <div class=\"mcs-clear badge\">(d) not enough information   </div>  \n",
    "  </div>\n",
    "  \n",
    "\n",
    "6. ___(5) The pressure    \n",
    "\n",
    "  <div class=\"hbox space-around align-baseline \">\n",
    "    <div class=\"mcs-clear badge\">(a) increases </div>  \n",
    "    <div class=\"mcs-clear badge\">(b) decreases</div>    \n",
    "    <div class=\"mcs-success badge\"> (c) stays the same</div> \n",
    "    <div class=\"mcs-clear badge\">(d) not enough information</div> \n",
    "  </div>\n",
    "\n"
   ]
  },
  {
   "cell_type": "markdown",
   "metadata": {},
   "source": [
    "<p style = \" background-image:  url(./figures/bacgroundTiles.png); line-height: 1em\" >&nbsp;</p>"
   ]
  },
  {
   "cell_type": "markdown",
   "metadata": {},
   "source": [
    "7. **(10) Provide two pertinent assumptions of the Ideal Gas Equation of State.**  \n",
    "\n",
    "  1. no intermolecular forces   \n",
    "  1. molecules occupy zero volume"
   ]
  },
  {
   "cell_type": "markdown",
   "metadata": {},
   "source": [
    "<p style = \" background-image:  url(./figures/bacgroundTiles.png); line-height: 1em\" >&nbsp;</p>"
   ]
  },
  {
   "cell_type": "markdown",
   "metadata": {},
   "source": [
    "8. **(10) A vessel contains 3 kg of H<sub>2</sub>O at 60 bar, 400 °C. Heat is lost from the vessel, causing the system to lose entropy, where Δs<sub>sys</sub> = −0.5 kJ/kg-K. Does this violate the Increase in Entropy Principle? Explain.**\n",
    "\n",
    "  No, it does not. The fact that the system lost energy is only half of the story. Remember, entropy is generated; the only way to capture the total change in entropy is to analyze the system AND the surroundings together. Have you realized yet that system + surroundings = the entire universe, known and unknown?   \n",
    " \n",
    "  <div class=\"hbox align-center center mcs-mt-em200\">\n",
    "    <div>${\\color{red}{\\large Q ~ \\Longrightarrow}} \\qquad$</div>\n",
    "    <div style=\"padding-bottom:3em;margin-right:-0.45em;\">${T_{sys}}_{\\color{blue}-}$</div>\n",
    "    <div style=\"height:16em; border:1px solid blue; width:2em;\"></div>\n",
    "    <div style=\"padding-top:3em;margin-left:-0.35em;\">${\\color{blue}^-}T_{surr}$</div>\n",
    "    <div>$\\qquad{\\color{red}{\\large\\Longrightarrow~~ Q}}$</div>\n",
    "  </div>\n",
    "\n"
   ]
  },
  {
   "cell_type": "markdown",
   "metadata": {},
   "source": [
    "  We know entropy is an extensive property (a \"total\" value is the sum of its parts). \n",
    "\n",
    "  We know even more: All of the heat exiting the system enters the surroundings. Remember, when we analyzing scenarios, we take the point of view of our region of interest. So, from the system POV, heat is lost, and the surroundings experience a heat gain of the same magnitude. For clarity, I  signed the absolute values of the heat transfer.\n",
    "  \n",
    "  \\begin{gather} \n",
    "    \\Delta S_{total} &=& \\Delta S_{system} &+& \\Delta S_{surroundings} \\\\[5pt]\n",
    "  \\Delta S_{total} &=& \\left.\\frac{-\\lvert Q \\rvert}{T} \\right|_{system} &+& \\left.\\frac{+\\lvert Q \\rvert}{T} \\right|_{surroundings}\n",
    "  \\end{gather} \n",
    "  \n",
    "  Tidying up a bit:\n",
    "\n",
    "  \\begin{gather} \\label{eq:dS}\n",
    "    \\Delta S_{total} = \\frac{\\lvert Q \\rvert}{T_{surroundings}} - \\frac{\\lvert Q \\rvert}{T_{system}}\n",
    "  \\end{gather}\n",
    "\n",
    "  One last piece of the puzzle: the only way heat can leave a system is if\n",
    "\n",
    "  \\begin{gather} \\label{eq:T}\n",
    "  T_{system} > T_{surroundings} \n",
    "  \\end{gather}\n",
    "\n",
    "  Look at eqns (\\ref{eq:dS}) and (\\ref{eq:T}). By inspection you should see that\n",
    "\n",
    "  \\begin{gather} \\label{eq:punchline}\n",
    "  T_{system} > T_{surroundings} \\ \\LatoText{ means }  \\frac{\\lvert Q \\rvert}{T_{surroundings}} > \\frac{\\lvert Q \\rvert}{T_{system}}, \n",
    "  \\end{gather}\n",
    "  \n",
    "  and there is your Increase in Entropy."
   ]
  },
  {
   "cell_type": "markdown",
   "metadata": {},
   "source": [
    "**A heat engine receives heat from a source at 1500 K at a rate of 700 kJ/s and it rejects waste heat to a medium at 320 K. The measured power output of the heat engine is 320 kW, and the environment temperature is 25 °C.**\n",
    "\n",
    "Determine  \n",
    "\n",
    "9. __________ kW (10) the reversible power output,   \n",
    "\n",
    "1. __________ (10) the first-law efficiency of this heat engine,     \n",
    "\n",
    "1. __________ (10) the second-law efficiency of this heat engine.  \n",
    "\n"
   ]
  },
  {
   "cell_type": "markdown",
   "metadata": {},
   "source": []
  },
  {
   "cell_type": "code",
   "execution_count": 1,
   "metadata": {},
   "outputs": [
    {
     "name": "stdout",
     "output_type": "stream",
     "text": [
      "9. __________ kW (10) the reversible power output\n"
     ]
    },
    {
     "ename": "LoadError",
     "evalue": "UndefVarError: @u_str not defined",
     "output_type": "error",
     "traceback": [
      "UndefVarError: @u_str not defined",
      ""
     ]
    }
   ],
   "source": [
    "println(\"9. __________ kW (10) the reversible power output\")\n",
    "\n",
    "TH = 1500u\"K\"\n",
    "QH = 700u\"kW\"\n",
    "TL = 320u\"K\"\n",
    "\n",
    "ηth_rev = 1 - TL/TH\n",
    "Wrev = ηth_rev * QH\n",
    "latexstring(\"W_{rev} =\" * LTU(roundme3(Wrev))) "
   ]
  },
  {
   "cell_type": "code",
   "execution_count": 19,
   "metadata": {},
   "outputs": [
    {
     "name": "stdout",
     "output_type": "stream",
     "text": [
      "10. __________ (10) the first-law efficiency of this heat engine\n"
     ]
    },
    {
     "data": {
      "text/latex": [
       "$η_{th} =0.45714285714285713$"
      ],
      "text/plain": [
       "L\"$η_{th} =0.45714285714285713$\""
      ]
     },
     "execution_count": 19,
     "metadata": {},
     "output_type": "execute_result"
    }
   ],
   "source": [
    "println(\"10. __________ (10) the first-law efficiency of this heat engine\")   \n",
    "Wout = 320u\"kW\"\n",
    "ηth = Wout/QH\n",
    "\n",
    "# latexstring(\"η_{th} =\", roundme(ηth))\n",
    "latexstring(\"η_{th} =\", ηth)"
   ]
  },
  {
   "cell_type": "code",
   "execution_count": 28,
   "metadata": {
    "scrolled": true
   },
   "outputs": [
    {
     "name": "stdout",
     "output_type": "stream",
     "text": [
      "11. __________ (10) the second-law efficiency of this heat engine.\n"
     ]
    },
    {
     "data": {
      "text/latex": [
       "$ η_{II} = 0.5811138014527845$"
      ],
      "text/plain": [
       "L\"$ η_{II} = 0.5811138014527845$\""
      ]
     },
     "execution_count": 28,
     "metadata": {},
     "output_type": "execute_result"
    }
   ],
   "source": [
    "println(\"11. __________ (10) the second-law efficiency of this heat engine.\")\n",
    "ηII = ηth / ηth_rev\n",
    "# println(ηII)\n",
    "# println(Wout/Wrev)\n",
    "# latexstring(\" η_{II} = \", roundme(ηII))\n",
    "latexstring(\" η_{II} = \", ηII)"
   ]
  },
  {
   "cell_type": "code",
   "execution_count": 21,
   "metadata": {},
   "outputs": [
    {
     "data": {
      "text/latex": [
       "$\\it η_{th,rev} =0.7866666666666666$"
      ],
      "text/plain": [
       "L\"$\\it η_{th,rev} =0.7866666666666666$\""
      ]
     },
     "execution_count": 21,
     "metadata": {},
     "output_type": "execute_result"
    }
   ],
   "source": [
    "# latexstring(\"\\\\it η_{th,rev} =\", roundme(ηth_rev))\n",
    "latexstring(\"\\\\it η_{th,rev} =\", ηth_rev)\n"
   ]
  },
  {
   "cell_type": "code",
   "execution_count": 6,
   "metadata": {},
   "outputs": [
    {
     "data": {
      "text/plain": [
       "0.5818181818181818"
      ]
     },
     "execution_count": 6,
     "metadata": {},
     "output_type": "execute_result"
    }
   ],
   "source": [
    "320/550"
   ]
  },
  {
   "cell_type": "markdown",
   "metadata": {},
   "source": [
    "<p style = \" background-image:  url(./figures/bacgroundTiles.png); line-height: 1em\" >&nbsp;</p>\n",
    "\n",
    "---"
   ]
  },
  {
   "cell_type": "markdown",
   "metadata": {},
   "source": [
    "12. __________°C (10) A sealed rigid vessel (volume = 3 m3) contains 100 kg of propane. The tank bursts at 2 MPa. What is the maximum allowable temperature (to avoid bursting) [°C]?\n",
    "\n",
    "We know P = 2 MPa and v = V/m. Find the corresponding temperature.\n",
    "\n",
    "From saturation tables, $v > v_{\\ce{sat,2MPa}}$\n",
    "From superheat tables, T ~ 110 °C\n",
    "\n",
    "![final_propane](./figures/final_propane.png)\n",
    "\n"
   ]
  },
  {
   "cell_type": "markdown",
   "metadata": {},
   "source": [
    "<p style = \" background-image:  url(./figures/bacgroundTiles.png); line-height: 1em\" >&nbsp;</p>\n",
    "\n",
    "---"
   ]
  },
  {
   "cell_type": "markdown",
   "metadata": {},
   "source": [
    "13. __________(10) Walking outdoors at -40 °C, you find a container of propane, also at -40 °C. You determine that the propane inside exists as both liquid and vapor. You decide to open the container. Does air flow in or does propane flow out? Why? Prove it.\n",
    "\n",
    "  It's a saturated mixture at -40 °C. $\\small \\sf P_{sat} \\gt 1$ bar. Propane flows out. "
   ]
  },
  {
   "cell_type": "markdown",
   "metadata": {},
   "source": [
    "<p style = \" background-image:  url(./figures/bacgroundTiles.png); line-height: 1em\" >&nbsp;</p>\n",
    "\n",
    "---"
   ]
  },
  {
   "cell_type": "markdown",
   "metadata": {},
   "source": [
    "**A proposal is made to use a geothermal supply of hot water to operate a steam turbine, as shown below. The high-pressure water at 1.5 MPa, 180 °C is throttled into a flash evaporator chamber, which forms liquid and vapor at a lower pressure of 400 kPa. The liquid is discarded while the saturated vapor feeds the turbine and exits at 10 kPa, 90% quality. The turbine power output is 1.21 MW.**\n",
    "\n",
    "Assume: v1 = 0.0011270 m3/kg; u1 = 761.748 kJ/kg; h1 = 763.439 kJ/kg; s1 = 2.1389 kJ/kg-K. \n",
    "\n",
    "14. __________kg/s (20) Find the required mass flow rate (m· 1) of hot geothermal water.\n",
    "\n",
    "![2019-final-14.png](../figures/2019-final-14.svg)\n",
    "\n",
    "Figure out the mass flow of vapor through the turbine, then figure out the mass flow into the flash drum to generate that vapor. "
   ]
  },
  {
   "cell_type": "code",
   "execution_count": 7,
   "metadata": {},
   "outputs": [
    {
     "data": {
      "text/latex": [
       "$\\dot m_1 =41.371 \\hskip 0.25em  \\text{kg} \\ \\text{s}^{-1}$"
      ],
      "text/plain": [
       "L\"$\\dot m_1 =41.371 \\hskip 0.25em  \\text{kg} \\ \\text{s}^{-1}$\""
      ]
     },
     "execution_count": 7,
     "metadata": {},
     "output_type": "execute_result"
    }
   ],
   "source": [
    "# turbine\n",
    "# ṁ₂h₂ - Wout - ṁ₃h₃ = 0\n",
    "# ṁ₂ = ṁ₃\n",
    "\n",
    "hg_400kPa = 2738.6u\"kJ/kg\"\n",
    "hf_10kPa = 191.83u\"kJ/kg\"\n",
    "hfg_10kPa = 2392.8u\"kJ/kg\"\n",
    "x₃ = 0.9\n",
    "\n",
    "Wout = 1.21u\"MW\"\n",
    "h₂ = hg_400kPa                      # 400 kPa, sat vapor\n",
    "h₃ = (hf_10kPa + x₃*hfg_10kPa)      # 10 kPa, x=90%\n",
    "ṁ₂ = Wout / (h₂ - h₃) |> u\"kg/s\"\n",
    "\n",
    "# flash drum\n",
    "# x₂ = ṁ₂ / ṁ₁ = (h - hf) / hfg\n",
    "# h₂ = h₁\n",
    "\n",
    "h₁ = 763.439u\"kJ/kg\"\n",
    "h_drum = h₁\n",
    "hf_400kPa = 604.74u\"kJ/kg\" \n",
    "hfg_400kPa = 2133.8u\"kJ/kg\"\n",
    "\n",
    "x_drum = (h_drum - hf_400kPa) / hfg_400kPa\n",
    "ṁ₁ = ṁ₂ / x_drum\n",
    "\n",
    "latexstring(\"\\\\dot m_1 =\" * LTU(roundme3(ṁ₁))) "
   ]
  },
  {
   "cell_type": "code",
   "execution_count": 8,
   "metadata": {},
   "outputs": [
    {
     "ename": "UndefVarError",
     "evalue": "UndefVarError: uroundme3 not defined",
     "output_type": "error",
     "traceback": [
      "UndefVarError: uroundme3 not defined",
      "",
      "Stacktrace:",
      " [1] top-level scope at In[8]:1"
     ]
    }
   ],
   "source": [
    "println(\"h₃ = \",uroundme3(h₃))\n",
    "println(\"ṁ₂ = \",uroundme3(ṁ₂))\n",
    "println(\"x_drum = \",roundme3(x_drum))\n",
    "# println(\"h₃ = \",h₃)\n",
    "# println(\"h₃ = \",h₃)\n",
    "\n",
    "latexstring(\"h_1 =\" * LTU(uroundme3(h₃),2)) "
   ]
  },
  {
   "cell_type": "markdown",
   "metadata": {},
   "source": [
    "<p style = \" background-image:  url(./figures/bacgroundTiles.png); line-height: 1em\" >&nbsp;</p>"
   ]
  },
  {
   "cell_type": "markdown",
   "metadata": {},
   "source": [
    "----\n",
    "**A 2000-L tank initially contains water at 100 kPa and a quality of 10%. Heat is transferred to the water, thereby raising its pressure and temperature. At a pressure of 1 MPa, a safety valve opens and saturated vapor at 1 MPa flows out. The process continues, maintaining 1 MPa until the quality in the tank is 90%, then stops.** Determine\n",
    "\n",
    "15. __________kg (10) Mass of water to exit \n",
    "\n",
    "16. __________kJ (10) Total heat transfer\n",
    "\n",
    "![spring19-final-15-tank.png](./figures/spring19-final-15-tank.png)\n",
    "\n",
    "3 states  \n",
    "\n",
    "1. 100 kPa, x=10%\n",
    "2. 1 MPa, $v_2 = v_1$\n",
    "3. 1 MPa, x=90%\n",
    "\n",
    "m1 = m2 so we probably don't need to deal with m2"
   ]
  },
  {
   "cell_type": "markdown",
   "metadata": {},
   "source": [
    "#### Mass\n",
    "\\begin{gather*}\n",
    "  m_1 = \\frac{V_1}{v_1} \\qquad\n",
    "  m_2 = m_1 \\qquad\n",
    "  m_3 = \\frac{V_3}{v_3} \\qquad\n",
    "  V_1 = V_2 = V_3 = V \\\\{}\n",
    "\\end{gather*}\n",
    "\n",
    "\\begin{equation}\n",
    "  m_{exit} = m_1 - m_3 = V \\left(\\frac{1}{v_1}- \\frac{1}{v_3} \\right)\n",
    "\\end{equation}"
   ]
  },
  {
   "cell_type": "markdown",
   "metadata": {},
   "source": [
    "#### Energy\n",
    "\n",
    "\\begin{array}{ccccc}\n",
    "  E_{in} &-& E_{out} &=& \\Delta E_{sys} \\\\\n",
    "  Q_{in} &-& m_{exit}h_{exit} &=& m_3u_3 - m_1u_1 \\\\ {}\n",
    "\\end{array}\n",
    "\n",
    "\\begin{equation}\n",
    "  Q_{in} = m_3u_3 - m_1u_1 + m_{exit}h_{exit}\n",
    "\\end{equation}"
   ]
  },
  {
   "cell_type": "code",
   "execution_count": 15,
   "metadata": {},
   "outputs": [
    {
     "name": "stdout",
     "output_type": "stream",
     "text": [
      "15. __________kg (10) Mass of water to exit\n",
      "0.31747694808619364 kg\n",
      "\n",
      "v1 = 0.17033888 m^3 kg^-1\n",
      "v3 = 0.17507272999999998 m^3 kg^-1\n",
      "m1 = 11.741300635533122 kg\n",
      "m3 = 11.423823687446928 kg\n"
     ]
    },
    {
     "ename": "UndefVarError",
     "evalue": "UndefVarError: uroundme3 not defined",
     "output_type": "error",
     "traceback": [
      "UndefVarError: uroundme3 not defined",
      "",
      "Stacktrace:",
      " [1] top-level scope at In[15]:26"
     ]
    }
   ],
   "source": [
    "println(\"15. __________kg (10) Mass of water to exit\")\n",
    "# m_exit = m1 - m3 = V/v1 - V/v3\n",
    "\n",
    "V = 2000u\"L\"\n",
    "vf_100kPa = 0.0010432u\"m^3/kg\"\n",
    "vg_100kPa = 1.694u\"m^3/kg\"\n",
    "vf_1MPa = 0.0011273u\"m^3/kg\"\n",
    "vg_1MPa = 0.1944u\"m^3/kg\"\n",
    "\n",
    "x1 = 0.1\n",
    "x3 = 0.9\n",
    "\n",
    "v1 = vf_100kPa + x1*(vg_100kPa - vf_100kPa)\n",
    "v3 = vf_1MPa + x3*(vg_1MPa - vf_1MPa)\n",
    "\n",
    "m1 = V/v1 |> u\"kg\" \n",
    "m3 = V/v3 |> u\"kg\" \n",
    "\n",
    "m_exit = m1 - m3 \n",
    "println(m_exit)\n",
    "println()\n",
    "println(\"v1 = \",v1)\n",
    "println(\"v3 = \",v3)\n",
    "println(\"m1 = \",m1)\n",
    "println(\"m3 = \",m3)\n",
    "\n",
    "latexstring(\"m_3 =\" * LTU(uroundme3(m3),0)) "
   ]
  },
  {
   "cell_type": "code",
   "execution_count": 10,
   "metadata": {
    "scrolled": true
   },
   "outputs": [
    {
     "name": "stdout",
     "output_type": "stream",
     "text": [
      "16. __________kJ (10) Total heat transfer\n",
      "Qin = 23425.837962049023 kJ\n",
      "\n",
      "m_exit = 0.31747694808619364 kg\n",
      "h_exit = 2778.1 kJ kg^-1\n",
      "m3 = 11.423823687446928 kg\n",
      "u3 = 2401.408 kJ kg^-1\n",
      "m1 = 11.741300635533122 kg\n",
      "u1 = 416.428 kJ kg^-1\n"
     ]
    }
   ],
   "source": [
    "println(\"16. __________kJ (10) Total heat transfer\")\n",
    "# Qin - m_exit(h_exit) = m3u3 - m1u1\n",
    "hg_1MPa   = 2778.1u\"kJ/kg\"\n",
    "uf_100kPa = 191.82u\"kJ/kg\"\n",
    "ug_100kPa = 2437.9u\"kJ/kg\"\n",
    "uf_1MPA   = 761.68u\"kJ/kg\"\n",
    "ug_1MPA   = 2583.6u\"kJ/kg\"\n",
    "\n",
    "h_exit = hg_1MPa\n",
    "u1 = uf_100kPa + x1*(ug_100kPa - uf_100kPa)\n",
    "u3 = uf_1MPA   + x3*(ug_1MPA   - uf_1MPA)\n",
    "\n",
    "Qin = m_exit*h_exit + m3*u3 - m1*u1\n",
    "\n",
    "println(\"Qin = \",Qin)\n",
    "println()\n",
    "println(\"m_exit = \",m_exit)\n",
    "println(\"h_exit = \",h_exit)\n",
    "println(\"m3 = \",m3)\n",
    "println(\"u3 = \",u3)\n",
    "println(\"m1 = \",m1)\n",
    "println(\"u1 = \",u1)\n",
    "# println(\"m_exit = \",m_exit)\n",
    "# println(\"m_exit = \",m_exit)"
   ]
  },
  {
   "cell_type": "code",
   "execution_count": 11,
   "metadata": {},
   "outputs": [
    {
     "data": {
      "text/plain": [
       "Quantity{Float64,𝐌,Unitful.FreeUnits{(kg,),𝐌,nothing}}"
      ]
     },
     "execution_count": 11,
     "metadata": {},
     "output_type": "execute_result"
    }
   ],
   "source": [
    "typeof(m1)"
   ]
  },
  {
   "cell_type": "code",
   "execution_count": null,
   "metadata": {},
   "outputs": [],
   "source": []
  },
  {
   "cell_type": "markdown",
   "metadata": {},
   "source": [
    "<p style = \" background-image:  url(./figures/bacgroundTiles.png); line-height: 1em\" >&nbsp;</p>"
   ]
  },
  {
   "cell_type": "markdown",
   "metadata": {},
   "source": [
    "---\n",
    "**A piston/cylinder device with a freely floating piston contains air at 300 kPa, 17 °C and volume 0.25 m3. The maximum volume of the enclosed chamber is 1 m3, limited by stops that restrict piston motion. An air line (500 kPa, 600 K) is connected by a valve to the chamber. The valve is opened until the chamber conditions are 400 kPa, 350 K.**\n",
    "\n",
    "Find\n",
    "\n",
    "17. __________kg (10 pts) The air mass that entered the chamber, \n",
    "\n",
    "18. __________kJ (10 pts) Work done by the air, and\n",
    "\n",
    "19. __________kJ (10 pts) Heat transfer (specify in/out of system).\n",
    "\n",
    "![airsupply-pistoncylinder.png](figures/airsupply-pistoncylinder.png)\n",
    "\n",
    "3 states\n",
    "\n",
    "1. 300 kPa, 17 °C, 0.25 m3\n",
    "2. 300 kPa, 1 m3\n",
    "3. 400 kPa, 350 K, 1 m$^\\sf 3$"
   ]
  },
  {
   "cell_type": "code",
   "execution_count": 12,
   "metadata": {},
   "outputs": [
    {
     "name": "stdout",
     "output_type": "stream",
     "text": [
      "17. __________kg (10 pts) The air mass that entered the chamber\n",
      "3.08096325157481 kg\n",
      "\n",
      "18. __________kJ (10 pts) Work done by the air, and\n",
      "225.0 kJ\n",
      "\n",
      "19. __________kJ (10 pts) Heat transfer (specify in/out of system).\n",
      "836.0567103207975 kJ OUT\n",
      "\n",
      "m1 = 0.9011173855580922 kg\n",
      "m3 = 3.9820806371329023 kg\n"
     ]
    }
   ],
   "source": [
    "println(\"17. __________kg (10 pts) The air mass that entered the chamber\")\n",
    "# m_in = m3 - m1\n",
    "# PV = mRT\n",
    "R_air = 0.287u\"kJ/(kg*K)\"\n",
    "\n",
    "P1 = 300u\"kPa\"\n",
    "T1 = 290u\"K\"\n",
    "V1 = 0.25u\"m^3\" \n",
    "m1 = (P1 * V1)/(R_air*T1) |> u\"kg\"\n",
    "\n",
    "P3 = 400u\"kPa\"\n",
    "T3 = 350u\"K\"\n",
    "V3 = 1u\"m^3\" \n",
    "m3 = (P3 * V3)/(R_air*T3) |> u\"kg\"\n",
    "\n",
    "m_in = m3 - m1\n",
    "println(m_in)\n",
    "println()\n",
    "\n",
    "\n",
    "println(\"18. __________kJ (10 pts) Work done by the air, and\")\n",
    "# Wout = ∫ P1 dV = P(V3 - V1)\n",
    "Wout = P1 * (V3 - V1) |> u\"kJ\"\n",
    "println(Wout)\n",
    "println()\n",
    "\n",
    "\n",
    "println(\"19. __________kJ (10 pts) Heat transfer (specify in/out of system).\")\n",
    "# Qin + m_in(h_in) - Wout = m3u3 - m1u1\n",
    "h_600K = 607.02u\"kJ/kg\"\n",
    "u_350K = 250.02u\"kJ/kg\"\n",
    "u_290K = 206.91u\"kJ/kg\"\n",
    "\n",
    "u3 = u_350K\n",
    "u1 = u_290K\n",
    "h_in = h_600K\n",
    "\n",
    "Qin = m3*u3 - m1*u1 + Wout - m_in*h_in\n",
    "print(abs(Qin), ustrip(Qin) < 0 ? \" OUT\" : \" IN\")\n",
    "\n",
    "println()\n",
    "println()\n",
    "println(\"m1 = \",m1)\n",
    "println(\"m3 = \",m3)\n"
   ]
  },
  {
   "cell_type": "code",
   "execution_count": 13,
   "metadata": {},
   "outputs": [
    {
     "data": {
      "text/plain": [
       "3.9820806371329023 kg"
      ]
     },
     "execution_count": 13,
     "metadata": {},
     "output_type": "execute_result"
    }
   ],
   "source": [
    "m3"
   ]
  },
  {
   "cell_type": "code",
   "execution_count": 14,
   "metadata": {},
   "outputs": [
    {
     "data": {
      "text/plain": [
       "0.9011173855580922 kg"
      ]
     },
     "execution_count": 14,
     "metadata": {},
     "output_type": "execute_result"
    }
   ],
   "source": [
    "m1"
   ]
  },
  {
   "cell_type": "markdown",
   "metadata": {},
   "source": [
    "<p style = \" background-image:  url(./figures/bacgroundTiles.png); line-height: 1em\" >&nbsp;</p>\n",
    "\n",
    "---"
   ]
  },
  {
   "cell_type": "markdown",
   "metadata": {},
   "source": [
    "\n",
    "![final_exam⋮SANGUINE.crossword.clues.png](./figures/final_exam⋮SANGUINE.crossword.png)\n",
    "![final_exam⋮SANGUINE.crossword.clues.png](./figures/final_exam⋮SANGUINE.crossword.clues.png)"
   ]
  },
  {
   "cell_type": "markdown",
   "metadata": {},
   "source": [
    "<div class=\"tricks\"></div>"
   ]
  },
  {
   "cell_type": "markdown",
   "metadata": {},
   "source": [
    "# Test pdf\n",
    "\n",
    "![2019.10final_exam](figures/final_exam⋮SANGUINE⋮distancepack.pdf)"
   ]
  },
  {
   "cell_type": "markdown",
   "metadata": {},
   "source": [
    "<footer style=\"background-color: #461d7c; color:rgba(253,208,35,0.35); line-height:2em; padding-left:1em; padding-right:0.5em; bottom:0; float:bottom; text-align:right;\"><i>ψᵟ</i></footer>"
   ]
  }
 ],
 "metadata": {
  "@webio": {
   "lastCommId": null,
   "lastKernelId": null
  },
  "kernel_info": {
   "name": "python3"
  },
  "kernelspec": {
   "display_name": "Julia 1.3.0-DEV",
   "language": "julia",
   "name": "julia-1.3"
  },
  "language_info": {
   "file_extension": ".jl",
   "mimetype": "application/julia",
   "name": "julia",
   "version": "1.3.1"
  },
  "latex_envs": {
   "LaTeX_envs_menu_present": true,
   "autoclose": false,
   "autocomplete": true,
   "bibliofile": "biblio.bib",
   "cite_by": "apalike",
   "current_citInitial": 1,
   "eqLabelWithNumbers": true,
   "eqNumInitial": 1,
   "hotkeys": {
    "equation": "Ctrl-E",
    "itemize": "Ctrl-I"
   },
   "labels_anchors": false,
   "latex_user_defs": false,
   "report_style_numbering": false,
   "user_envs_cfg": false
  },
  "nteract": {
   "version": "0.11.6"
  },
  "varInspector": {
   "cols": {
    "lenName": 16,
    "lenType": 16,
    "lenVar": 40
   },
   "kernels_config": {
    "python": {
     "delete_cmd_postfix": "",
     "delete_cmd_prefix": "del ",
     "library": "var_list.py",
     "varRefreshCmd": "print(var_dic_list())"
    },
    "r": {
     "delete_cmd_postfix": ") ",
     "delete_cmd_prefix": "rm(",
     "library": "var_list.r",
     "varRefreshCmd": "cat(var_dic_list()) "
    }
   },
   "types_to_exclude": [
    "module",
    "function",
    "builtin_function_or_method",
    "instance",
    "_Feature"
   ],
   "window_display": true
  }
 },
 "nbformat": 4,
 "nbformat_minor": 2
}
