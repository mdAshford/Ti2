{
 "cells": [
  {
   "cell_type": "code",
   "execution_count": null,
   "metadata": {},
   "outputs": [],
   "source": []
  },
  {
   "cell_type": "code",
   "execution_count": null,
   "metadata": {},
   "outputs": [],
   "source": []
  },
  {
   "cell_type": "markdown",
   "metadata": {},
   "source": [
    "<section class=\"toc mb-200em\">\n",
    "\n",
    "## Early Essentials \n",
    "  \n",
    "1. [A mercury manometer ( $\\rho_{\\it Hg}$ = 13600 kg/m³) is connected to an air duct to measure the pressure inside. The difference in the manometer levels is 15 mm, and the atmospheric pressure is 100 kPa. (a) Judging from the figure, determine if the pressure in the duct is above or below the atmospheric pressure. (b) Determine the absolute pressure in the duct.](01.01⋮cb8⋮1-67.py.ipynb)\n",
    "   <img class=\"pull-left\" src=\"figures/classic_manometer-lesswhitespace.png\" width=600px />\n",
    "\n",
    "  \n",
    "1. [A hydraulic lift is to be used to lift a 1900-kg weight by putting a weight of 25 kg on a piston with a diameter of 10 cm. Determine the diameter of the piston on which the weight is to be placed.](01.02⋮cb9⋮1-90.jl.ipynb)\n",
    "   <img src=\"figures/cen22672_p01090.png\" />\n",
    "\n",
    "  \n",
    "1. [A cold drink initially at 33 &deg;F gains 30 BTU of heat in a room at 60 &deg;F; over a 25 minute period. Find the average rate of heat transfer during this process [BTU/hr] ](01.03⋮average_rate_of_heat_transfer.ipynb)    \n",
    "\n",
    "  \n",
    "1. [A closed system consisting of 2 lb of a gas undergoes a process during which the relation between pressure and volume is expressed as $PV^n = \\small {\\rm constant}$. The process begins with $P_1 = 25\\, {\\small \\rm lbf/in}^2$, $V_1 = 10$ ft³ and ends with $P_2 = \\small\\pu{100 lbf/in^2}.$ The value of $n = 1.3.$ Determine the final volume, $V_2$, in $\\small{\\rm ft^3}$, and determine the specific volume at states 1 and 2, in ft³/lbm.](01.04⋮ms9⋮1-023.jl.ipynb)    \n",
    "\n",
    "  \n",
    "1. [An inclined manometer is used to measure the pressure of the gas within the reservoir. The manometer fluid is mercury, which has a density of 845 lb/ft³. The manometer fluid rises a distance 7 inches along the manometer tube, which is inclined 30&deg; from the horizontal. The atmospheric pressure is 14.7 lbf/in² and the acceleration of gravity is 32.174 ft/s². Determine the gas pressure, in lbf/in². Express the pressure as a gage or a vacuum pressure, as appropriate, in lbf/in².](01.05⋮ms9⋮1-038.jl.ipynb)    \n",
    "   <img style=\"width: 30%;\" src=\"figures/ms⋮1-038.png\" />\n",
    "\n",
    "  \n",
    "\n",
    "  \n",
    "\n",
    "</section>"
   ]
  },
  {
   "cell_type": "code",
   "execution_count": null,
   "metadata": {},
   "outputs": [],
   "source": []
  }
 ],
 "metadata": {
  "kernelspec": {
   "display_name": "Julia 1.5.2",
   "language": "julia",
   "name": "julia-1.5"
  },
  "language_info": {
   "file_extension": ".jl",
   "mimetype": "application/julia",
   "name": "julia",
   "version": "1.5.2"
  }
 },
 "nbformat": 4,
 "nbformat_minor": 4
}
