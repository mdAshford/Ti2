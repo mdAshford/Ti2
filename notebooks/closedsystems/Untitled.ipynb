{
 "cells": [
  {
   "cell_type": "markdown",
   "metadata": {},
   "source": [
    "<header class=\"banner\"><div class=\"banner\">\n",
    "  <div class=\"logos\">\n",
    "    <div><img title=\"Julia logo\" src=\"../figures/julia-logo-color.svg\" alt=\"Julia animated logo\" width=35 /></div>\n",
    "    <div>◌</div>\n",
    "    <div><img title=\"Powered by MathJax\" src=\"https://www.mathjax.org/badge/mj-logo.svg\"\n",
    "              alt=\"Powered by MathJax\" width=65 />\n",
    "    </div>\n",
    "  </div>  <!-- logos -->\n",
    "  <div class=\"cite_textbook cb8\">4.68 <span class=\"authors\"></span></div>\n",
    "</div></header>\n",
    "\n",
    "\n",
    "\n"
   ]
  },
  {
   "cell_type": "markdown",
   "metadata": {},
   "source": [
    "\n",
    "## Given   \n",
    "A spring-loaded piston-cylinder device contains 1 kg of carbon dioxide. This system is heated from 100 kPa and 25°C to 1000 kPa and 300°C. \n",
    "\n",
    "![figure, cb8, 4-69](../figures/ch04_cen98179_p04068_lg.jpg)\n",
    "\n",
    "## Find \n",
    "1. $Q_{in}$   \n",
    "1. $W_{out}$"
   ]
  },
  {
   "cell_type": "markdown",
   "metadata": {},
   "source": [
    "## Get Organized\n",
    "\n",
    "<div class=\"mcs-bs-callout mcs-bs-callout-info\">\n",
    "  \n",
    "#### Guess what \n",
    "\n",
    "  Julia does plotting, too! Surprised? Following the problem is an expplanation of the Julia coding used in this notebook.\n",
    "  \n",
    "  </div>"
   ]
  },
  {
   "cell_type": "code",
   "execution_count": null,
   "metadata": {},
   "outputs": [],
   "source": [
    "using Unitful, StatsPlots, UnitfulRecipes \n",
    "plotlyjs(); "
   ]
  },
  {
   "cell_type": "code",
   "execution_count": 3,
   "metadata": {},
   "outputs": [
    {
     "data": {
      "text/html": [
       "<script>\n",
       "// Immediately-invoked-function-expression to avoid global variables.\n",
       "(function() {\n",
       "    var warning_div = document.getElementById(\"webio-warning-2060590596069708902\");\n",
       "    var hide = function () {\n",
       "        var script = document.getElementById(\"webio-setup-5883811257795822877\");\n",
       "        var parent = script && script.parentElement;\n",
       "        var grandparent = parent && parent.parentElement;\n",
       "        if (grandparent) {\n",
       "            grandparent.style.display = \"none\";\n",
       "        }\n",
       "        warning_div.style.display = \"none\";\n",
       "    };\n",
       "    if (typeof Jupyter !== \"undefined\") {\n",
       "        console.log(\"WebIO detected Jupyter notebook environment.\");\n",
       "        // Jupyter notebook.\n",
       "        var extensions = (\n",
       "            Jupyter\n",
       "            && Jupyter.notebook.config.data\n",
       "            && Jupyter.notebook.config.data.load_extensions\n",
       "        );\n",
       "        if (extensions && extensions[\"webio-jupyter-notebook\"]) {\n",
       "            // Extension already loaded.\n",
       "            console.log(\"Jupyter WebIO nbextension detected; not loading ad-hoc.\");\n",
       "            hide();\n",
       "            return;\n",
       "        }\n",
       "    } else if (window.location.pathname.includes(\"/lab\")) {\n",
       "        // Guessing JupyterLa\n",
       "        console.log(\"Jupyter Lab detected; make sure the @webio/jupyter-lab-provider labextension is installed.\");\n",
       "        hide();\n",
       "        return;\n",
       "    }\n",
       "})();\n",
       "\n",
       "</script>\n",
       "<p\n",
       "    id=\"webio-warning-2060590596069708902\"\n",
       "    class=\"output_text output_stderr\"\n",
       "    style=\"padding: 1em; font-weight: bold;\"\n",
       ">\n",
       "    Unable to load WebIO. Please make sure WebIO works for your Jupyter client.\n",
       "    For troubleshooting, please see <a href=\"https://juliagizmos.github.io/WebIO.jl/latest/providers/ijulia/\">\n",
       "    the WebIO/IJulia documentation</a>.\n",
       "    <!-- TODO: link to installation docs. -->\n",
       "</p>\n"
      ],
      "text/plain": [
       "HTML{String}(\"<script>\\n// Immediately-invoked-function-expression to avoid global variables.\\n(function() {\\n    var warning_div = document.getElementById(\\\"webio-warning-2060590596069708902\\\");\\n    var hide = function () {\\n        var script = document.getElementById(\\\"webio-setup-5883811257795822877\\\");\\n        var parent = script && script.parentElement;\\n        var grandparent = parent && parent.parentElement;\\n        if (grandparent) {\\n            grandparent.style.display = \\\"none\\\";\\n        }\\n        warning_div.style.display = \\\"none\\\";\\n    };\\n    if (typeof Jupyter !== \\\"undefined\\\") {\\n        console.log(\\\"WebIO detected Jupyter notebook environment.\\\");\\n        // Jupyter notebook.\\n        var extensions = (\\n            Jupyter\\n            && Jupyter.notebook.config.data\\n            && Jupyter.notebook.config.data.load_extensions\\n        );\\n        if (extensions && extensions[\\\"webio-jupyter-notebook\\\"]) {\\n            // Extension already loaded.\\n            console.log(\\\"Jupyter WebIO nbextension detected; not loading ad-hoc.\\\");\\n            hide();\\n            return;\\n        }\\n    } else if (window.location.pathname.includes(\\\"/lab\\\")) {\\n        // Guessing JupyterLa\\n        console.log(\\\"Jupyter Lab detected; make sure the @webio/jupyter-lab-provider labextension is installed.\\\");\\n        hide();\\n        return;\\n    }\\n})();\\n\\n</script>\\n<p\\n    id=\\\"webio-warning-2060590596069708902\\\"\\n    class=\\\"output_text output_stderr\\\"\\n    style=\\\"padding: 1em; font-weight: bold;\\\"\\n>\\n    Unable to load WebIO. Please make sure WebIO works for your Jupyter client.\\n    For troubleshooting, please see <a href=\\\"https://juliagizmos.github.io/WebIO.jl/latest/providers/ijulia/\\\">\\n    the WebIO/IJulia documentation</a>.\\n    <!-- TODO: link to installation docs. -->\\n</p>\\n\")"
      ]
     },
     "metadata": {},
     "output_type": "display_data"
    }
   ],
   "source": [
    "using Plots\n",
    "plotlyjs(); "
   ]
  },
  {
   "cell_type": "code",
   "execution_count": 1,
   "metadata": {},
   "outputs": [
    {
     "name": "stdout",
     "output_type": "stream",
     "text": [
      "\u001b[32m\u001b[1mStatus\u001b[22m\u001b[39m `~/Library/Mobile Documents/com~apple~CloudDocs/iDocuments/0.course/resources.thermodynamics/YOUcanDoThermodynamics/Ti2-broken/Project.toml`\n",
      " \u001b[90m [e084ae63] \u001b[39m\u001b[37mCoolProp v0.0.0 `git@github.com:BENGAL-TIGER/CoolProp-6.3.0.jl.git#master`\u001b[39m\n",
      " \u001b[90m [a93c6f00] \u001b[39m\u001b[37mDataFrames v0.21.8\u001b[39m\n",
      " \u001b[90m [f0f68f2c] \u001b[39m\u001b[37mPlotlyJS v0.14.0\u001b[39m\n",
      " \u001b[90m [f3b207a7] \u001b[39m\u001b[37mStatsPlots v0.14.15\u001b[39m\n",
      " \u001b[90m [b8865327] \u001b[39m\u001b[37mUnicodePlots v1.3.0\u001b[39m\n",
      " \u001b[90m [1986cc42] \u001b[39m\u001b[37mUnitful v1.5.0\u001b[39m\n",
      " \u001b[90m [42071c24] \u001b[39m\u001b[37mUnitfulRecipes v1.0.0\u001b[39m\n"
     ]
    }
   ],
   "source": [
    "import Pkg; Pkg.status()"
   ]
  },
  {
   "cell_type": "code",
   "execution_count": null,
   "metadata": {},
   "outputs": [],
   "source": [
    "# Given\n",
    "T = [25u\"°C\",  300u\"°C\"]\n",
    "P = [100u\"kPa\", 1u\"MPa\"] .|> u\"kPa\"\n",
    "\n",
    "# Plot our states\n",
    "scatter(T,P, label = \"\", xlabel=\"temperature\", ylabel=\"pressure\", series_annotations = text.(1:2, 10, [:bottom,:top]), size=(480,270), xlim=[0,], ylim=[0,], framestyle = :zerolines)# Given\n"
   ]
  },
  {
   "cell_type": "markdown",
   "metadata": {},
   "source": [
    "### These things you should notice right away:\n",
    "\n",
    "1. Closed system ⋮ constant mass  \n",
    "1. Ideal Gas\n",
    "1. No kinetic energy considerations\n",
    "1. The only possible potential energy cosideration would be associatedd with the weight of the piston.\n",
    "1. No inmformation about piston mass, piston area, or spring constant.\n",
    "1. All work is boundary work.\n",
    "\n",
    "\n"
   ]
  },
  {
   "cell_type": "markdown",
   "metadata": {},
   "source": [
    "#### Things seem bleak, but let's examine our situation before succcumbing to intimidation.\n",
    "\n",
    "We seek $Q_{in}$ and $W_{out}$, which appear in our energy equation as follows:\n",
    "\n",
    "\\begin{gather}\n",
    "  E_\\ce{in} &-& E_\\ce{out} &=& \\Delta E_\\ce{sys} \\\\\n",
    "  Q_\\ce{in} &-& W_\\ce{out} &=& U_2 - U_1 \\\\\n",
    "\\end{gather}\n",
    "\n",
    "At first glance, we have too many unknowns to solve this equation. However, once we remember all our work is boundary work, "
   ]
  },
  {
   "cell_type": "markdown",
   "metadata": {},
   "source": [
    "Here is a free-body diagram of our piston,\n",
    "\n",
    "  ![figure, cb8, 4-69, free body diagram](../figures/cb8,4-068fbd.png)\n",
    "  \n",
    "   and the general force balance that mathematically describes it.\n",
    "\n",
    "  \\begin{gather}\n",
    "  \\begin{gathered}\n",
    "  F_\\ce{sys} &-& F_\\ce{piston} &-& F_\\text{spring} &-& F_\\ce{atm} &-& 0 \\\\ \n",
    "  P_\\ce{sys}\\underline{A_\\ce{piston}} &-& W_\\ce{piston} &-& F_\\text{spring} &-& P_\\ce{atm}A_\\ce{piston} &-& 0 \n",
    "  \\end{gathered}\n",
    "  \\end{gather}\n",
    "\n",
    "  "
   ]
  },
  {
   "cell_type": "markdown",
   "metadata": {},
   "source": [
    "  1. State 1 force balance:   \n",
    "  \n",
    "  \\begin{gather}\n",
    "  F_\\ce{sys} &-& F_\\ce{piston} &-& F_\\text{spring,1} &-& F_\\ce{atm} &-& 0 \\\\ \n",
    "  P_1A &-& W_\\ce{piston} &-& F_\\text{spring,1} &-& P_\\ce{atm}A &-& 0 \\\\ {}\n",
    "  \\end{gather}\n",
    "\n",
    "  1. State 2 force balance:   \n",
    "  \n",
    "  \\begin{gather}\n",
    "  F_\\ce{sys} &-& F_\\ce{piston} &-& F_\\text{spring,1} &-& F_\\ce{atm} &-& 0 \\\\ \n",
    "    P_1A &-& W_\\ce{piston} &-& F_\\text{spring,1} &-& P_\\ce{atm}A &-& 0 \\\\ {}\n",
    "  \\end{gather}\n",
    "\n",
    "\n",
    "  \\begin{gather}\n",
    "\\big(P_1 + \\Delta P\\big)A - W_{\\rm piston} - \\big( F_\\text{spring,1} + \\Delta F_\\text{spring} \\big) - P_\\ce{atm}A = 0 \\\\[12pt] \n",
    "  \\Delta PA = \\Delta F_\\text{spring} = k_\\ce{spring} \\Delta z = k_\\ce{spring} \\frac{\\Delta V}{A} \\\\[6pt] \n",
    "  \\end{gather}\n",
    "\n",
    "  \n",
    "  The important thing here is that our pressure changes linearly with volume. \n",
    "    \n",
    "  ![pv diagram](../figures/cb8,4-068pvdiagram.png)"
   ]
  },
  {
   "cell_type": "code",
   "execution_count": null,
   "metadata": {},
   "outputs": [],
   "source": []
  }
 ],
 "metadata": {
  "@webio": {
   "lastCommId": null,
   "lastKernelId": null
  },
  "kernelspec": {
   "display_name": "Julia 1.5.2",
   "language": "julia",
   "name": "julia-1.5"
  },
  "language_info": {
   "file_extension": ".jl",
   "mimetype": "application/julia",
   "name": "julia",
   "version": "1.5.2"
  }
 },
 "nbformat": 4,
 "nbformat_minor": 4
}
