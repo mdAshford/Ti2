{
 "cells": [
  {
   "cell_type": "markdown",
   "metadata": {},
   "source": [
    "<header class=\"banner\"><div class=\"banner\">\n",
    "  <div class=\"logos\">\n",
    "    <div><img title=\"Julia logo\" src=\"../figures/julia-logo-color.svg\" alt=\"Julia animated logo\" width=35 /></div>\n",
    "    <div>◌</div>\n",
    "    <div><img title=\"Powered by MathJax\" src=\"https://www.mathjax.org/badge/mj-logo.svg\"\n",
    "              alt=\"Powered by MathJax\" width=65 />\n",
    "    </div>\n",
    "  </div>  <!-- logos -->\n",
    "  <div class=\"cite_textbook cb8\">4.68 <span class=\"authors\"></span></div>\n",
    "</div></header>\n",
    "\n",
    "\n",
    "\n"
   ]
  },
  {
   "cell_type": "markdown",
   "metadata": {},
   "source": [
    "\n",
    "## Given   \n",
    "A spring-loaded piston-cylinder device contains 1 kg of carbon dioxide. This system is heated from 100 kPa and 25°C to 1000 kPa and 300°C. \n",
    "\n",
    "![figure, cb8, 4-69](../figures/ch04_cen98179_p04068_lg.jpg)\n",
    "\n",
    "## Find \n",
    "1. $Q_{in}$   \n",
    "1. $W_{out}$"
   ]
  },
  {
   "cell_type": "markdown",
   "metadata": {},
   "source": [
    "## Get Organized\n",
    "\n",
    "<div class=\"mcs-bs-callout mcs-bs-callout-info\">\n",
    "  \n",
    "#### Guess what \n",
    "\n",
    "  Julia does plotting, too! Surprised? Following the problem is an expplanation of the Julia coding used in this notebook.\n",
    "  \n",
    "  </div>"
   ]
  },
  {
   "cell_type": "code",
   "execution_count": 5,
   "metadata": {},
   "outputs": [],
   "source": [
    "using Unitful, StatsPlots, UnitfulRecipes \n",
    "plotlyjs(); "
   ]
  },
  {
   "cell_type": "code",
   "execution_count": null,
   "metadata": {},
   "outputs": [],
   "source": []
  },
  {
   "cell_type": "code",
   "execution_count": 4,
   "metadata": {},
   "outputs": [
    {
     "data": {
      "text/html": [
       "    <script type=\"text/javascript\">\n",
       "        requirejs([\"https://cdn.plot.ly/plotly-1.54.2.min.js\"], function(p) {\n",
       "            window.Plotly = p\n",
       "        });\n",
       "    </script>\n"
      ]
     },
     "metadata": {},
     "output_type": "display_data"
    },
    {
     "data": {
      "application/vnd.plotly.v1+json": {
       "data": [
        {
         "colorbar": {
          "title": ""
         },
         "legendgroup": "",
         "marker": {
          "color": "rgba(0, 154, 250, 1.000)",
          "line": {
           "color": "rgba(0, 0, 0, 1.000)",
           "width": 1
          },
          "size": 8,
          "symbol": "circle"
         },
         "mode": "markers",
         "name": "",
         "showlegend": false,
         "type": "scatter",
         "x": [
          25,
          300
         ],
         "xaxis": "x",
         "y": [
          100,
          1000
         ],
         "yaxis": "y",
         "zmax": null,
         "zmin": null
        }
       ],
       "layout": {
        "annotations": [
         {
          "font": {
           "color": "rgba(0, 0, 0, 1.000)",
           "family": "sans-serif",
           "size": 14
          },
          "rotation": 0,
          "showarrow": false,
          "text": "1",
          "x": 25,
          "xanchor": "center",
          "xref": "x",
          "y": 100,
          "yanchor": "bottom",
          "yref": "y"
         },
         {
          "font": {
           "color": "rgba(0, 0, 0, 1.000)",
           "family": "sans-serif",
           "size": 14
          },
          "rotation": 0,
          "showarrow": false,
          "text": "2",
          "x": 300,
          "xanchor": "center",
          "xref": "x",
          "y": 1000,
          "yanchor": "top",
          "yref": "y"
         }
        ],
        "height": 270,
        "legend": {
         "bgcolor": "rgba(255, 255, 255, 1.000)",
         "bordercolor": "rgba(0, 0, 0, 1.000)",
         "borderwidth": 1,
         "font": {
          "color": "rgba(0, 0, 0, 1.000)",
          "family": "sans-serif",
          "size": 11
         },
         "tracegroupgap": 0,
         "traceorder": "normal",
         "x": 1,
         "xanchor": "auto",
         "y": 1,
         "yanchor": "auto"
        },
        "margin": {
         "b": 20,
         "l": 0,
         "r": 0,
         "t": 20
        },
        "paper_bgcolor": "rgba(255, 255, 255, 1.000)",
        "plot_bgcolor": "rgba(255, 255, 255, 1.000)",
        "showlegend": true,
        "width": 480,
        "xaxis": {
         "anchor": "y",
         "domain": [
          0.11410487751531058,
          0.9917979002624673
         ],
         "gridcolor": "rgba(0, 0, 0, 0.100)",
         "gridwidth": 0.5,
         "linecolor": "rgba(0, 0, 0, 1.000)",
         "mirror": false,
         "range": [
          -9,
          309
         ],
         "showgrid": true,
         "showline": false,
         "showticklabels": true,
         "tickangle": 0,
         "tickcolor": "rgba(0, 0, 0, 0.000)",
         "tickfont": {
          "color": "rgba(0, 0, 0, 1.000)",
          "family": "sans-serif",
          "size": 11
         },
         "tickmode": "array",
         "ticks": "inside",
         "ticktext": [
          "0",
          "100",
          "200",
          "300"
         ],
         "tickvals": [
          0,
          100,
          200,
          300
         ],
         "title": "temperature (°C)",
         "titlefont": {
          "color": "rgba(0, 0, 0, 1.000)",
          "family": "sans-serif",
          "size": 15
         },
         "type": "-",
         "visible": true,
         "zeroline": true,
         "zerolinecolor": "rgba(0, 0, 0, 1.000)"
        },
        "yaxis": {
         "anchor": "x",
         "domain": [
          0.11231813615890604,
          0.9854184893554973
         ],
         "gridcolor": "rgba(0, 0, 0, 0.100)",
         "gridwidth": 0.5,
         "linecolor": "rgba(0, 0, 0, 1.000)",
         "mirror": false,
         "range": [
          -30,
          1030
         ],
         "showgrid": true,
         "showline": false,
         "showticklabels": true,
         "tickangle": 0,
         "tickcolor": "rgba(0, 0, 0, 0.000)",
         "tickfont": {
          "color": "rgba(0, 0, 0, 1.000)",
          "family": "sans-serif",
          "size": 11
         },
         "tickmode": "array",
         "ticks": "inside",
         "ticktext": [
          "0",
          "250",
          "500",
          "750",
          "1000"
         ],
         "tickvals": [
          0,
          250,
          500,
          750,
          1000
         ],
         "title": "pressure (kPa)",
         "titlefont": {
          "color": "rgba(0, 0, 0, 1.000)",
          "family": "sans-serif",
          "size": 15
         },
         "type": "-",
         "visible": true,
         "zeroline": true,
         "zerolinecolor": "rgba(0, 0, 0, 1.000)"
        }
       }
      },
      "text/html": [
       "<!DOCTYPE html>\n",
       "<html>\n",
       "    <head>\n",
       "        <title>Plots.jl</title>\n",
       "        <meta http-equiv=\"content-type\" content=\"text/html; charset=UTF-8\">\n",
       "        <script src=\"https://cdn.plot.ly/plotly-1.54.2.min.js\"></script>\n",
       "    </head>\n",
       "    <body>\n",
       "            <div id=\"bfc5e977-21af-43c8-9382-c546202a96db\" style=\"width:480px;height:270px;\"></div>\n",
       "    <script>\n",
       "    PLOT = document.getElementById('bfc5e977-21af-43c8-9382-c546202a96db');\n",
       "    Plotly.plot(PLOT, [\n",
       "    {\n",
       "        \"xaxis\": \"x\",\n",
       "        \"colorbar\": {\n",
       "            \"title\": \"\"\n",
       "        },\n",
       "        \"yaxis\": \"y\",\n",
       "        \"x\": [\n",
       "            25.0,\n",
       "            300.0\n",
       "        ],\n",
       "        \"showlegend\": false,\n",
       "        \"mode\": \"markers\",\n",
       "        \"name\": \"\",\n",
       "        \"zmin\": null,\n",
       "        \"legendgroup\": \"\",\n",
       "        \"marker\": {\n",
       "            \"symbol\": \"circle\",\n",
       "            \"color\": \"rgba(0, 154, 250, 1.000)\",\n",
       "            \"line\": {\n",
       "                \"color\": \"rgba(0, 0, 0, 1.000)\",\n",
       "                \"width\": 1\n",
       "            },\n",
       "            \"size\": 8\n",
       "        },\n",
       "        \"zmax\": null,\n",
       "        \"y\": [\n",
       "            100.0,\n",
       "            1000.0\n",
       "        ],\n",
       "        \"type\": \"scatter\"\n",
       "    }\n",
       "]\n",
       ", {\n",
       "    \"showlegend\": true,\n",
       "    \"xaxis\": {\n",
       "        \"showticklabels\": true,\n",
       "        \"gridwidth\": 0.5,\n",
       "        \"tickvals\": [\n",
       "            0.0,\n",
       "            100.0,\n",
       "            200.0,\n",
       "            300.0\n",
       "        ],\n",
       "        \"visible\": true,\n",
       "        \"ticks\": \"inside\",\n",
       "        \"range\": [\n",
       "            -9.0,\n",
       "            309.0\n",
       "        ],\n",
       "        \"domain\": [\n",
       "            0.11410487751531058,\n",
       "            0.9917979002624673\n",
       "        ],\n",
       "        \"tickmode\": \"array\",\n",
       "        \"linecolor\": \"rgba(0, 0, 0, 1.000)\",\n",
       "        \"showgrid\": true,\n",
       "        \"title\": \"temperature (°C)\",\n",
       "        \"mirror\": false,\n",
       "        \"tickangle\": 0,\n",
       "        \"showline\": false,\n",
       "        \"gridcolor\": \"rgba(0, 0, 0, 0.100)\",\n",
       "        \"titlefont\": {\n",
       "            \"color\": \"rgba(0, 0, 0, 1.000)\",\n",
       "            \"family\": \"sans-serif\",\n",
       "            \"size\": 15\n",
       "        },\n",
       "        \"tickcolor\": \"rgba(0, 0, 0, 0.000)\",\n",
       "        \"ticktext\": [\n",
       "            \"0\",\n",
       "            \"100\",\n",
       "            \"200\",\n",
       "            \"300\"\n",
       "        ],\n",
       "        \"zeroline\": true,\n",
       "        \"type\": \"-\",\n",
       "        \"tickfont\": {\n",
       "            \"color\": \"rgba(0, 0, 0, 1.000)\",\n",
       "            \"family\": \"sans-serif\",\n",
       "            \"size\": 11\n",
       "        },\n",
       "        \"zerolinecolor\": \"rgba(0, 0, 0, 1.000)\",\n",
       "        \"anchor\": \"y\"\n",
       "    },\n",
       "    \"paper_bgcolor\": \"rgba(255, 255, 255, 1.000)\",\n",
       "    \"annotations\": [\n",
       "        {\n",
       "            \"yanchor\": \"bottom\",\n",
       "            \"xanchor\": \"center\",\n",
       "            \"rotation\": -0.0,\n",
       "            \"y\": 100.0,\n",
       "            \"font\": {\n",
       "                \"color\": \"rgba(0, 0, 0, 1.000)\",\n",
       "                \"family\": \"sans-serif\",\n",
       "                \"size\": 14\n",
       "            },\n",
       "            \"yref\": \"y\",\n",
       "            \"showarrow\": false,\n",
       "            \"text\": \"1\",\n",
       "            \"xref\": \"x\",\n",
       "            \"x\": 25.0\n",
       "        },\n",
       "        {\n",
       "            \"yanchor\": \"top\",\n",
       "            \"xanchor\": \"center\",\n",
       "            \"rotation\": -0.0,\n",
       "            \"y\": 1000.0,\n",
       "            \"font\": {\n",
       "                \"color\": \"rgba(0, 0, 0, 1.000)\",\n",
       "                \"family\": \"sans-serif\",\n",
       "                \"size\": 14\n",
       "            },\n",
       "            \"yref\": \"y\",\n",
       "            \"showarrow\": false,\n",
       "            \"text\": \"2\",\n",
       "            \"xref\": \"x\",\n",
       "            \"x\": 300.0\n",
       "        }\n",
       "    ],\n",
       "    \"height\": 270,\n",
       "    \"margin\": {\n",
       "        \"l\": 0,\n",
       "        \"b\": 20,\n",
       "        \"r\": 0,\n",
       "        \"t\": 20\n",
       "    },\n",
       "    \"plot_bgcolor\": \"rgba(255, 255, 255, 1.000)\",\n",
       "    \"yaxis\": {\n",
       "        \"showticklabels\": true,\n",
       "        \"gridwidth\": 0.5,\n",
       "        \"tickvals\": [\n",
       "            0.0,\n",
       "            250.0,\n",
       "            500.0,\n",
       "            750.0,\n",
       "            1000.0\n",
       "        ],\n",
       "        \"visible\": true,\n",
       "        \"ticks\": \"inside\",\n",
       "        \"range\": [\n",
       "            -30.0,\n",
       "            1030.0\n",
       "        ],\n",
       "        \"domain\": [\n",
       "            0.11231813615890604,\n",
       "            0.9854184893554973\n",
       "        ],\n",
       "        \"tickmode\": \"array\",\n",
       "        \"linecolor\": \"rgba(0, 0, 0, 1.000)\",\n",
       "        \"showgrid\": true,\n",
       "        \"title\": \"pressure (kPa)\",\n",
       "        \"mirror\": false,\n",
       "        \"tickangle\": 0,\n",
       "        \"showline\": false,\n",
       "        \"gridcolor\": \"rgba(0, 0, 0, 0.100)\",\n",
       "        \"titlefont\": {\n",
       "            \"color\": \"rgba(0, 0, 0, 1.000)\",\n",
       "            \"family\": \"sans-serif\",\n",
       "            \"size\": 15\n",
       "        },\n",
       "        \"tickcolor\": \"rgba(0, 0, 0, 0.000)\",\n",
       "        \"ticktext\": [\n",
       "            \"0\",\n",
       "            \"250\",\n",
       "            \"500\",\n",
       "            \"750\",\n",
       "            \"1000\"\n",
       "        ],\n",
       "        \"zeroline\": true,\n",
       "        \"type\": \"-\",\n",
       "        \"tickfont\": {\n",
       "            \"color\": \"rgba(0, 0, 0, 1.000)\",\n",
       "            \"family\": \"sans-serif\",\n",
       "            \"size\": 11\n",
       "        },\n",
       "        \"zerolinecolor\": \"rgba(0, 0, 0, 1.000)\",\n",
       "        \"anchor\": \"x\"\n",
       "    },\n",
       "    \"legend\": {\n",
       "        \"yanchor\": \"auto\",\n",
       "        \"xanchor\": \"auto\",\n",
       "        \"bordercolor\": \"rgba(0, 0, 0, 1.000)\",\n",
       "        \"bgcolor\": \"rgba(255, 255, 255, 1.000)\",\n",
       "        \"font\": {\n",
       "            \"color\": \"rgba(0, 0, 0, 1.000)\",\n",
       "            \"family\": \"sans-serif\",\n",
       "            \"size\": 11\n",
       "        },\n",
       "        \"tracegroupgap\": 0,\n",
       "        \"y\": 1.0,\n",
       "        \"borderwidth\": 1,\n",
       "        \"traceorder\": \"normal\",\n",
       "        \"x\": 1.0\n",
       "    },\n",
       "    \"width\": 480\n",
       "}\n",
       ");\n",
       "    </script>\n",
       "\n",
       "    </body>\n",
       "</html>\n"
      ]
     },
     "execution_count": 4,
     "metadata": {},
     "output_type": "execute_result"
    }
   ],
   "source": [
    "# Given\n",
    "T = [25u\"°C\",  300u\"°C\"]\n",
    "P = [100u\"kPa\", 1u\"MPa\"] .|> u\"kPa\"\n",
    "\n",
    "# Plot our states\n",
    "scatter(T,P, label = \"\", xlabel=\"temperature\", ylabel=\"pressure\", series_annotations = text.(1:2, 10, [:bottom,:top]), size=(480,270), xlim=[0,], ylim=[0,], framestyle = :zerolines)# Given\n"
   ]
  },
  {
   "cell_type": "markdown",
   "metadata": {},
   "source": [
    "### These things you should notice right away:\n",
    "\n",
    "1. Closed system ⋮ constant mass  \n",
    "1. Ideal Gas\n",
    "1. No kinetic energy considerations\n",
    "1. The only possible potential energy cosideration would be associatedd with the weight of the piston.\n",
    "1. No inmformation about piston mass, piston area, or spring constant.\n",
    "1. All work is boundary work.\n",
    "\n",
    "\n"
   ]
  },
  {
   "cell_type": "markdown",
   "metadata": {},
   "source": [
    "#### Things seem bleak, but let's examine our situation before succcumbing to intimidation.\n",
    "\n",
    "We seek $Q_{in}$ and $W_{out}$, which appear in our energy equation as follows:\n",
    "\n",
    "\\begin{gather}\n",
    "  E_\\ce{in} &-& E_\\ce{out} &=& \\Delta E_\\ce{sys} \\\\\n",
    "  Q_\\ce{in} &-& W_\\ce{out} &=& U_2 - U_1 \\\\\n",
    "\\end{gather}\n",
    "\n",
    "At first glance, we have too many unknowns to solve this equation. However, once we remember all our work is boundary work, "
   ]
  },
  {
   "cell_type": "markdown",
   "metadata": {},
   "source": [
    "Here is a free-body diagram of our piston,\n",
    "\n",
    "  ![figure, cb8, 4-69, free body diagram](../figures/cb8,4-068fbd.png)\n",
    "  \n",
    "   and the general force balance that mathematically describes it.\n",
    "\n",
    "  \\begin{gather}\n",
    "  \\begin{gathered}\n",
    "  F_\\ce{sys} &-& F_\\ce{piston} &-& F_\\text{spring} &-& F_\\ce{atm} &-& 0 \\\\ \n",
    "  P_\\ce{sys}\\underline{A_\\ce{piston}} &-& W_\\ce{piston} &-& F_\\text{spring} &-& P_\\ce{atm}A_\\ce{piston} &-& 0 \n",
    "  \\end{gathered}\n",
    "  \\end{gather}\n",
    "\n",
    "  "
   ]
  },
  {
   "cell_type": "markdown",
   "metadata": {},
   "source": [
    "  1. State 1 force balance:   \n",
    "  \n",
    "  \\begin{gather}\n",
    "  F_\\ce{sys} &-& F_\\ce{piston} &-& F_\\text{spring,1} &-& F_\\ce{atm} &-& 0 \\\\ \n",
    "  P_1A &-& W_\\ce{piston} &-& F_\\text{spring,1} &-& P_\\ce{atm}A &-& 0 \\\\ {}\n",
    "  \\end{gather}\n",
    "\n",
    "  1. State 2 force balance:   \n",
    "  \n",
    "  \\begin{gather}\n",
    "  F_\\ce{sys} &-& F_\\ce{piston} &-& F_\\text{spring,1} &-& F_\\ce{atm} &-& 0 \\\\ \n",
    "    P_1A &-& W_\\ce{piston} &-& F_\\text{spring,1} &-& P_\\ce{atm}A &-& 0 \\\\ {}\n",
    "  \\end{gather}\n",
    "\n",
    "\n",
    "  \\begin{gather}\n",
    "\\big(P_1 + \\Delta P\\big)A - W_{\\rm piston} - \\big( F_\\text{spring,1} + \\Delta F_\\text{spring} \\big) - P_\\ce{atm}A = 0 \\\\[12pt] \n",
    "  \\Delta PA = \\Delta F_\\text{spring} = k_\\ce{spring} \\Delta z = k_\\ce{spring} \\frac{\\Delta V}{A} \\\\[6pt] \n",
    "  \\end{gather}\n",
    "\n",
    "  \n",
    "  The important thing here is that our pressure changes linearly with volume. \n",
    "    \n",
    "  ![pv diagram](../figures/cb8,4-068pvdiagram.png)"
   ]
  },
  {
   "cell_type": "code",
   "execution_count": null,
   "metadata": {},
   "outputs": [],
   "source": []
  }
 ],
 "metadata": {
  "kernelspec": {
   "display_name": "Julia 1.5.2",
   "language": "julia",
   "name": "julia-1.5"
  },
  "language_info": {
   "file_extension": ".jl",
   "mimetype": "application/julia",
   "name": "julia",
   "version": "1.5.2"
  }
 },
 "nbformat": 4,
 "nbformat_minor": 4
}
