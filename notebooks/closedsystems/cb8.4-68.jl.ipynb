{
 "cells": [
  {
   "cell_type": "markdown",
   "metadata": {},
   "source": [
    "<header class=\"banner\"><div class=\"banner\">\n",
    "  <div class=\"logos\">\n",
    "    <div><img title=\"Julia logo\" src=\"../figures/julia-logo-color.svg\" alt=\"Julia animated logo\" width=35 /></div>\n",
    "    <div>◌</div>\n",
    "    <div><img title=\"Powered by MathJax\" src=\"https://www.mathjax.org/badge/mj-logo.svg\"\n",
    "              alt=\"Powered by MathJax\" width=65 />\n",
    "    </div>\n",
    "  </div>  <!-- logos -->\n",
    "  <div class=\"cite_textbook cb8\">4.68 <span class=\"authors\"></span></div>\n",
    "</div></header>\n",
    "\n",
    "\n"
   ]
  },
  {
   "cell_type": "markdown",
   "metadata": {},
   "source": [
    "\n",
    "## Given   \n",
    "A spring-loaded piston-cylinder device contains 1 kg of carbon dioxide. This system is heated from 100 kPa and 25°C to 1000 kPa and 300°C. \n",
    "\n",
    "![figure, cb8, 4-69](../figures/ch04_cen98179_p04068_lg.jpg)\n",
    "\n",
    "## Find \n",
    "1. $Q_{in}$   \n",
    "1. $W_{out}$"
   ]
  },
  {
   "cell_type": "markdown",
   "metadata": {},
   "source": [
    "## Get Organized\n",
    "\n",
    "\n",
    "\n",
    "### These things you should notice right away:\n",
    "\n",
    "1. Closed system ⋮ constant mass  \n",
    "1. Ideal Gas\n",
    "1. No kinetic energy considerations\n",
    "1. The only possible potential energy cosideration would be associatedd with the weight of the piston.\n",
    "1. No information about piston mass, piston area, or spring constant.\n",
    "1. All work is boundary work.\n",
    "\n"
   ]
  },
  {
   "cell_type": "markdown",
   "metadata": {},
   "source": [
    "We seek $Q_{in}$ and $W_{out}$, which appear in our energy equation as follows:\n",
    "\n",
    "\\begin{gather}\n",
    "  E_\\ce{in} &-& E_\\ce{out} &=& \\Delta E_\\ce{sys} \\\\\n",
    "  Q_\\ce{in} &-& W_\\ce{out} &=& U_2 - U_1 \\\\\n",
    "\\end{gather}\n",
    "\n",
    "What do we know?  \n",
    "\n",
    "1. The interal energy of an ideal gas is a function of temperature alone, so we can get $U_1$ and $U_2$.\n",
    "2. All our work is boundary work, so we can calculate the work without using the energy equation.\n",
    "3. After we calculate work, we can use the energy equation to calculate heat transfer."
   ]
  },
  {
   "cell_type": "markdown",
   "metadata": {},
   "source": [
    "# Attack\n",
    "\n",
    "1. Get $ U_1, U_2$  \n",
    "\n",
    "  We can get thermodynamic properties of $\\ce{CO2}$ from the ideal gas tables in the textbook. You should notice that the values are given on a molar basis. No problem:\n",
    "\n",
    "  \\begin{equation}\n",
    "   u = \\frac{\\bar u}{\\textbf{MW}}\n",
    "  \\end{equation}"
   ]
  },
  {
   "cell_type": "code",
   "execution_count": 1,
   "metadata": {},
   "outputs": [
    {
     "name": "stdout",
     "output_type": "stream",
     "text": [
      "u1 = 156.44171779141104 kJ kg⁻¹\n",
      "u2 = 369.2788002726653 kJ kg⁻¹\n"
     ]
    }
   ],
   "source": [
    "using Unitful\n",
    "MW_CO₂ = 44.01u\"kg/kmol\"  # table\n",
    "\n",
    "ū1 = 6885u\"kJ/kmol\"       # table\n",
    "ū2 = 16251.96u\"kJ/kmol\"   # table\n",
    "\n",
    "u1 = ū1 / MW_CO₂\n",
    "u2 = ū2 / MW_CO₂\n",
    "\n",
    "@show u1 u2;"
   ]
  },
  {
   "cell_type": "markdown",
   "metadata": {},
   "source": [
    "----\n",
    "\n",
    "2. Calculate $W_b$\n",
    "\n",
    "  We have to resolve a spring force. Let's start with a free-body diagram of our piston,\n",
    "\n",
    "  ![figure, cb8, 4-69, free body diagram](../figures/cb8,4-068fbd.png)\n",
    "  \n",
    "   and the general force balance that mathematically describes it.\n",
    "\n",
    "  \\begin{gather}\n",
    "  \\begin{gathered}\n",
    "    F_\\ce{sys} &-& F_\\ce{piston} &-& F_\\text{spring} &-& F_\\ce{atm} &=& 0 \\\\ \n",
    "    P_\\ce{sys}A_\\ce{piston}\n",
    "    &-& m_\\ce{piston}g\n",
    "    &-& F_\\text{spring}\n",
    "    &-& P_\\ce{atm}A_\\ce{piston} &=& 0 \n",
    "  \\end{gathered} \\label{eq:forcebalance} \\\\\n",
    "    P_\\ce{sys}\\underline{A_\\ce{piston}} \n",
    "    = \\underline{m_\\ce{piston}g} \n",
    "    + F_\\text{spring}\n",
    "    + \\underline{P_\\ce{atm}A_\\ce{piston}}  \n",
    "  \\end{gather}\n",
    "\n",
    "  All of the underlined terms are constants. With a quick differentiation, \n",
    "\n",
    "  \\begin{gather}\n",
    "    {\\rm d}P_\\ce{sys}A_\\ce{piston} = \n",
    "    {\\rm d}F_\\text{spring} \\\\\n",
    "  \\end{gather}\n",
    "\n",
    "   we conclude that our system pressure varies linearly with spring force. By Hooke's Law, we know spring force varies linearly with displacement. The constant-area piston means displacecment varies linearly with volume. Mathematically, \n",
    "   \n",
    "  \\begin{gather}\n",
    "    \\Delta P \\propto \\Delta F_\\text{spring} \\propto \\Delta z \\propto \\Delta V\n",
    "  \\end{gather}\n",
    "\n",
    "  Therefore, our system pressure varies linearly with volume. \n",
    "  \n",
    "  <img alt=\"pv diagram\" src=\"../figures/cb8,4-068pvdiagram_filled.png\" width=50%>\n",
    "  \n",
    "  Boundary work $ W_{b,out} = \\int P\\,{\\rm d}V$, the area under the curve of our process on a P-V diagram. Integrate it, either algebraically or graphically. It's a trapezoid; I like that route:\n",
    "  \n",
    "  $$ W_{b,out} = \\int^{V_2}_{V_1} P\\,{\\rm d}V \n",
    "         =\\textstyle \\frac{1}{2}\\big(P_1 + P_2 \\big)\\big( V_2 - V_1 \\big) $$\n",
    "         \n",
    "  Remember, it's an ideal gas:\n",
    "         \n",
    "  $$ PV = mRT \\qquad \n",
    "   \\ce{R_\\ce{CO2}} = \\frac{\\overbar{\\rm R}}{\\textbf{MW}_{\\ce{CO2}}} $$\n",
    "\n",
    "  \\begin{gather}\n",
    "    W_{b,out} = \\displaystyle \\frac{1}{2}\\bigg(P_1 + P_2 \\bigg)m\\ce{R_\\ce{CO2}}\\bigg( \\frac{T_2}{P_2} - \\frac{T_1}{P_1} \\bigg)\n",
    "  \\end{gather}\n",
    "\n",
    "\n",
    "\n",
    "\n",
    "\n"
   ]
  },
  {
   "cell_type": "code",
   "execution_count": 2,
   "metadata": {},
   "outputs": [
    {
     "name": "stdout",
     "output_type": "stream",
     "text": [
      "W_out = -250.2448267561042 kJ\n"
     ]
    }
   ],
   "source": [
    "m = 1u\"kg\"          # given\n",
    "R̄ = u\"R\"            # Unitful built-in constant\n",
    "R_CO₂ = R̄/MW_CO₂    # engineering gas conostant\n",
    "\n",
    "P1 = 100u\"kPa\"         # given\n",
    "P2 = 1u\"MPa\"           # given\n",
    "T1 = 25u\"°C\"  |> u\"K\"  # given  \n",
    "T2 = 300u\"°C\" |> u\"K\"  # given\n",
    "\n",
    "W_out = 0.5*(P1 + P2)*m*R_CO₂*(T2/P2 - T1/P1) |> u\"kJ\"\n",
    "@show W_out;"
   ]
  },
  {
   "cell_type": "markdown",
   "metadata": {},
   "source": [
    "----\n",
    "\n",
    "3. Find $Q_{in}$  \n",
    "\n",
    "  Employ the First Law, as usual:\n",
    "\n",
    "  \\begin{array}{c}\n",
    "    E_{in} &-& E_{out} &=& \\Delta E_{sys} \\\\\n",
    "    Q_{in} &-& W_{out} &=& m \\big( u_2 - u_1 \\big) \\\\{}\n",
    "  \\end{array}\n",
    "\n",
    "  $$ Q_{in} = W_{out} + m \\big( u_2 - u_1 \\big)$$"
   ]
  },
  {
   "cell_type": "code",
   "execution_count": 3,
   "metadata": {},
   "outputs": [
    {
     "name": "stdout",
     "output_type": "stream",
     "text": [
      "Q_in = -37.40774427484993 kJ\n"
     ]
    }
   ],
   "source": [
    "Q_in = W_out + m*(u2 - u1)\n",
    "@show Q_in;"
   ]
  },
  {
   "cell_type": "markdown",
   "metadata": {},
   "source": [
    "<div class=\"mcs-bs-callout mcs-bs-callout-success\">\n",
    "\n",
    "#### Found\n",
    "  \n",
    "1. $ \\pu{Q_{in} = -37.408 kJ} $\n",
    "1. $ \\pu{W_{out} = -250.245 kJ} $\n",
    "\n",
    "</div>"
   ]
  },
  {
   "cell_type": "markdown",
   "metadata": {},
   "source": [
    "<footer class=\"psy\"><div class=\"psy\">ψᵟ</div></footer>"
   ]
  }
 ],
 "metadata": {
  "@webio": {
   "lastCommId": null,
   "lastKernelId": null
  },
  "kernelspec": {
   "display_name": "Julia 1.5.2",
   "language": "julia",
   "name": "julia-1.5"
  },
  "language_info": {
   "file_extension": ".jl",
   "mimetype": "application/julia",
   "name": "julia",
   "version": "1.5.2"
  },
  "latex_envs": {
   "LaTeX_envs_menu_present": true,
   "autoclose": false,
   "autocomplete": false,
   "bibliofile": "biblio.bib",
   "cite_by": "apalike",
   "current_citInitial": 1,
   "eqLabelWithNumbers": true,
   "eqNumInitial": 1,
   "hotkeys": {
    "equation": "Ctrl-E",
    "itemize": "Ctrl-I"
   },
   "labels_anchors": false,
   "latex_user_defs": false,
   "report_style_numbering": false,
   "user_envs_cfg": false
  },
  "varInspector": {
   "cols": {
    "lenName": 16,
    "lenType": 16,
    "lenVar": 40
   },
   "kernels_config": {
    "python": {
     "delete_cmd_postfix": "",
     "delete_cmd_prefix": "del ",
     "library": "var_list.py",
     "varRefreshCmd": "print(var_dic_list())"
    },
    "r": {
     "delete_cmd_postfix": ") ",
     "delete_cmd_prefix": "rm(",
     "library": "var_list.r",
     "varRefreshCmd": "cat(var_dic_list()) "
    }
   },
   "types_to_exclude": [
    "module",
    "function",
    "builtin_function_or_method",
    "instance",
    "_Feature"
   ],
   "window_display": true
  }
 },
 "nbformat": 4,
 "nbformat_minor": 2
}
