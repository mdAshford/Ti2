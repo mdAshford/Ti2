{
 "cells": [
  {
   "cell_type": "markdown",
   "metadata": {},
   "source": [
    "$\\require{cancel}  \\require{bbox} \\require{color} \\require{enclose} \\require{AMSmath} \\require{AMSsymbols} \\require{sinuitx} \\require{mhchem}$\n",
    "<div style=\"display:inline-block; position:absolute; top:0; right:0; color: #230e3e; font:italic 1em serif;\">$\\LaTeX$<span style=\"display:inline-block; vertical-align:bottom\"><a href=\"https://www.mathjax.org\">\n",
    "    <img style=\"height:1.25em\" title=\"Powered by MathJax\"\n",
    "    src=\"https://www.mathjax.org/badge/mj_logo.png\"\n",
    "    border=\"0\" alt=\"Powered by MathJax\" />\n",
    "</a></span> </div>"
   ]
  },
  {
   "cell_type": "markdown",
   "metadata": {},
   "source": [
    "<header style=\"background-color:#e7e2ee; color:#461d7c; line-height:2em; padding-left:1em; padding-right:1em; bottom:0; float:bottom; text-align:right; float:right; font-family:serif; font-size:small;\">Problem 4-09 ⋮ Çengel, Y. A., and Boles, M. A. (2001). <i>Thermodynamics: An Engineering Approach.</i> Boston: McGraw-Hill.</header>  \n",
    "\n"
   ]
  },
  {
   "cell_type": "markdown",
   "metadata": {},
   "source": [
    "## Problem 4-09\n",
    "\n",
    "### Given   \n",
    "1-m³ of saturated liquid water at 200 °C is expanded isothermally in a closed system until its quality is 80 percent. \n",
    "\n",
    "\n",
    "### Find \n",
    "Determine the total work produced by this expansion, in kJ.\n",
    "\n",
    "\n"
   ]
  },
  {
   "cell_type": "markdown",
   "metadata": {},
   "source": [
    "### Get Organized\n",
    "\n",
    "\n",
    "\n",
    "These things you should notice right away:\n",
    "1. Closed system ⋮ constant mass.  \n",
    "1. We can resolve both states ⋮ $(T_1,x_1),\\ (P_2,T_2=T_1),$ all given.\n",
    "1. An isothermal process operating completely under saturation conditions is also an isobaric process. Remember, $T$ and $P$ are **not** independent at saturation.  \n",
    "1. We have an expanding system ⋮ boundary work, and boundary work is the only form of work stated."
   ]
  },
  {
   "cell_type": "markdown",
   "metadata": {},
   "source": [
    "We must calculate isobaric boundary work:\n",
    "\n",
    "\\begin{align*}\n",
    "&& W_\\text{b,out} = \\int^2_1 P\\,{\\rm d}V &= P\\left(V_2 - V_1\\right)= P\\left(mv_2 - V_1\\right) \\\\\n",
    "\\text{where} \\\\\n",
    "&& P &= P_\\text{sat@200°C} \\\\[6pt]\n",
    "&& m &= \\frac{V_1}{v_1} \\\\\n",
    "&& v_1 &= v_\\text{sat.liq@200°C} \\\\\n",
    "&& v_2 &= v_\\text{x=0.8@200°C} \\\\\n",
    "\\end{align*}\n"
   ]
  },
  {
   "cell_type": "markdown",
   "metadata": {},
   "source": [
    "### Attack\n"
   ]
  },
  {
   "cell_type": "code",
   "execution_count": 1,
   "metadata": {},
   "outputs": [],
   "source": [
    "using Unitful"
   ]
  },
  {
   "cell_type": "code",
   "execution_count": 2,
   "metadata": {},
   "outputs": [
    {
     "name": "stdout",
     "output_type": "stream",
     "text": [
      "W_out = 135707.669 kJ\n"
     ]
    }
   ],
   "source": [
    "V1 = 1u\"m^3\"                    # given\n",
    "x2 = 0.8                        # given\n",
    "\n",
    "P = 15.54u\"bar\"                 # table\n",
    "\n",
    "v1 = 0.0011565u\"m^3/kg\"         # given\n",
    "m  = V1/v1                       \n",
    "\n",
    "vg = 0.1274u\"m^3/kg\"            # table\n",
    "vf = v1                         # table\n",
    "v2 = vf + x2 * (vg - vf)\n",
    "\n",
    "W_out = P * (m*v2 - V1) |> u\"kJ\"\n",
    "println(\"W_out = \",round(typeof(W_out),W_out,digits=4))"
   ]
  },
  {
   "cell_type": "markdown",
   "metadata": {},
   "source": [
    "<div class=\"btn-success\">&nbsp;<div class=\"badge\"></div><i class=\"fa fa-bomb\"></i><strong> Boom</strong></div>\n",
    "<div class=\"panel-success\"><div class=\"panel-heading\"><div class=\"badge\"></div> \n",
    "\n",
    "\\begin{equation*}\n",
    "   W_{out} = 24.437\\,\\ce{kJ}\n",
    "\\end{equation*}  \n",
    "\n",
    "\n",
    "</div></div>"
   ]
  },
  {
   "cell_type": "markdown",
   "metadata": {},
   "source": [
    "<footer style=\"background-color: #461d7c; color:rgba(253,208,35,0.35); line-height:2em; padding-left:1em; padding-right:0.5em; bottom:0; float:bottom; text-align:right;\"><i>ψᵟ</i></footer>"
   ]
  }
 ],
 "metadata": {
  "@webio": {
   "lastCommId": null,
   "lastKernelId": null
  },
  "kernelspec": {
   "display_name": "Julia 1.2.0-DEV",
   "language": "julia",
   "name": "julia-1.2"
  },
  "language_info": {
   "file_extension": ".jl",
   "mimetype": "application/julia",
   "name": "julia",
   "version": "1.2.0"
  },
  "varInspector": {
   "cols": {
    "lenName": 16,
    "lenType": 16,
    "lenVar": 40
   },
   "kernels_config": {
    "python": {
     "delete_cmd_postfix": "",
     "delete_cmd_prefix": "del ",
     "library": "var_list.py",
     "varRefreshCmd": "print(var_dic_list())"
    },
    "r": {
     "delete_cmd_postfix": ") ",
     "delete_cmd_prefix": "rm(",
     "library": "var_list.r",
     "varRefreshCmd": "cat(var_dic_list()) "
    }
   },
   "types_to_exclude": [
    "module",
    "function",
    "builtin_function_or_method",
    "instance",
    "_Feature"
   ],
   "window_display": true
  }
 },
 "nbformat": 4,
 "nbformat_minor": 2
}
