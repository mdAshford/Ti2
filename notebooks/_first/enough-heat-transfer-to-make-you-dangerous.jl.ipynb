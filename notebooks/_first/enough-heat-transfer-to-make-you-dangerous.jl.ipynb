{
 "cells": [
  {
   "cell_type": "markdown",
   "metadata": {},
   "source": [
    "<header class=\"banner\"><div class=\"banner\">\n",
    "  <div class=\"logos\">\n",
    "    <div><img title=\"Julia logo\" src=\"../figures/julia-logo-color.svg\" alt=\"Julia animated logo\" width=35 /></div>\n",
    "    <div>◌</div>\n",
    "    <div><img title=\"Powered by MathJax\" src=\"https://www.mathjax.org/badge/mj-logo.svg\"\n",
    "              alt=\"Powered by MathJax\" width=65 />\n",
    "    </div>\n",
    "  </div>  <!-- logos -->\n",
    "<!--   <div class=\"cite_textbook ms9\">2.036<span class=\"authors\"></span></div> -->\n",
    "</div></header>\n",
    "\n",
    "\n"
   ]
  },
  {
   "cell_type": "markdown",
   "metadata": {},
   "source": [
    "# Enough heat transfer to make you dangerous \n",
    "\n",
    "Let's take a moment to discuss heat transfer. We don't usually spend time on the subject in this course; after all, Heat Transfer is a required course that comes a little later in the curriculum. However, it doesn't hurt to know, and the topic comes up in any real-world application of thermodynamics... like your projects. Don't worry. You know a lot more about heat transfer than anyone has ever told you.\n",
    "\n",
    "### Imagine you have something you need to keep warm or cold, but you're struggling to do so. What options do you have (for retarding heat transfer)?\n",
    "\n",
    "1. Get more insulation\n",
    "\n",
    "  <img src=\"../figures/george-goretex-coat_1024.jpg\" alt=\"George\" width=400 />\n",
    "    \n",
    "1. Get better insulation\n",
    "\n",
    "  <img src=\"../figures/canadagoose2729L_61_c.png\" alt=\"canada goose\" width=400 />"
   ]
  },
  {
   "cell_type": "markdown",
   "metadata": {},
   "source": [
    "### And if you needed to increase heat transfer, what are your options?\n",
    "\n",
    "1. Add more area\n",
    "\n",
    "    <img src=\"../figures/nofan50446_0NS_9033_1500x1500_8756f1d4.jpg\" alt=\"nofan SS\" width=400 />\n",
    "    \n",
    "1. Use a better heat conductor\n",
    "\n",
    "    <img src=\"../figures/nofanCR-95c.jpg\" alt=\"nofan CR-95C\" width=400 /> \n",
    "    \n",
    "1. Introduce a flowing fluid \n",
    "\n",
    "    <img src=\"../figures/twip_100916_12.ss_full.png\" alt=\"big\" width=400 />"
   ]
  },
  {
   "cell_type": "markdown",
   "metadata": {},
   "source": [
    "### So let's use what we know to build a few equations.\n",
    "\n",
    "Heat can be transferred in three ways. By definition, they're all driven by temperature difference. Factors that promote heat transfer will go into the numerator, and we'll place impediments to heat flow in the denominator.\n",
    "\n",
    "\n",
    "1. **Conduction: heat transfer through a material or multiple materials in intimate contact**\n",
    "\n",
    "    \\begin{equation*}\n",
    "      \\text{heat transfer} = \\frac{\\left(T_2 - T_1 \\right) \\cdot \\text{good conductor} \\cdot \\text{area}}{\\text{more insulation}\\cdot \\text{good insulator}}\n",
    "    \\end{equation*}\n",
    "\n",
    "    \"Good conductor\" and \"good insulator\" are opposing perspectives of the same characteristic. Good conductors are poor insulators, and vice-versa. The corresponding property is _thermal conductivity_: κ or k. It's units are power, normalized by distance and temperature difference, W/m⋅K. The sister property is _thermal resistivity_: _r_ = 1/_k_. We only need one from that pair to describe a material, and we usually choose _k_. \n",
    "\n",
    "    \\begin{equation*}\n",
    "      \\text{heat transfer} = \\frac{\\left(T_2 - T_1 \\right) \\cdot k \\cdot \\text{area}}{\\text{more insulation}}\n",
    "    \\end{equation*}\n",
    "\n",
    "    \"More insulation\" translates to the thickness of the material in the direction of heat flow, and the area is the cross-sectional area perpendicular to the heat flow.\n",
    "\n",
    "    \\begin{equation*}\n",
    "      \\text{heat transfer} = \\frac{\\left(T_2 - T_1 \\right) \\cdot k \\cdot A}{L}\n",
    "    \\end{equation*}\n",
    "\n",
    "    One important detail: we need to negate our expression to acccount for the fact that heat flows in the direction of decreasing temperature, and voilà... you've developed Fourier's Law of heat conduction.\n",
    "\n",
    "    \\begin{equation*}\n",
    "      \\dot Q = - \\frac{kA}{L} \\Delta T\n",
    "    \\end{equation*}\n",
    "\n",
    "    Last, we know we love to normalize **everything**, and this no different. We use the mathematical prime symbol `'` to represent normalizing by length. We normalize heat flows by area, creating _heat flux_, $q''$:\n",
    "\n",
    "    \\begin{gather*}\n",
    "      \\text{heat flux} = \\frac{\\text{heat flow}}{\\text{area}} \\\\[9pt]\n",
    "      q'' = \\frac{\\dot Q}{A} = - \\frac{k}{L} \\Delta T\n",
    "    \\end{gather*}\n",
    "\n",
    "    Formally, Fourier's Law is stated in its differential form:\n",
    "\n",
    "    \\begin{gather*}\n",
    "      q'' = - k \\frac{{\\rm d}T}{{\\rm d}x} \\\\[12pt] {}\n",
    "    \\end{gather*}"
   ]
  },
  {
   "cell_type": "markdown",
   "metadata": {},
   "source": [
    "<div class=\"btn-danger\">&nbsp;<i class=\"fa fa-exclamation-circle\"></i><strong> Be careful with heat flux.</strong></div>\n",
    "<div class=\"panel-danger\"><div class=\"panel-heading\">\n",
    "  \n",
    "The equations we just developed were for plane walls. Change the geometry, and things get a little more complicated. Consider a cylinder. The surface area of the outer wall is greater than the surface area of the inner wall, but the heat flow is the same. Thus, the heat flux decreases as the radius increases. The phenomenon is beyond the scope of a first Thermodynamics course, but Heat Transfer texts abound.\n",
    "  \n",
    "**In other words, what's presented here isn't the whole story.**\n",
    "  \n",
    "</div></div>\n"
   ]
  },
  {
   "cell_type": "markdown",
   "metadata": {},
   "source": [
    "2. **Convection: heat transfer due to flowing fluid**\n",
    "\n",
    "  \\begin{align*}\n",
    "    && \\dot Q &= hA \\left( T - T_\\infty \\right) \\\\[12pt]\n",
    "    \\style{font-family: LatoWeb}{\\text{where }}  & \\\\\n",
    "    && A &= \\style{font-family: LatoWeb}{\\text{surface area exposed to the flow}} \\\\[6pt]\n",
    "    && T &= \\style{font-family: LatoWeb}{\\text{surface temperature}} \\\\[6pt]\n",
    "    && T_\\infty &= \\style{font-family: LatoWeb}{\\text{temperature of the fluid far from the surface}} \\\\[6pt]\n",
    "    && h &= \\style{font-family: LatoWeb}{\\text{heat transfer coefficient}} \n",
    "  \\end{align*}\n",
    "\n",
    "   The heat transfer coefficient is an empirical function of the fluid (composition, velocity) and surface characteristics (material, roughness, geometry).\n"
   ]
  },
  {
   "cell_type": "markdown",
   "metadata": {},
   "source": [
    "3. **Radiation: heat transfer by electromagnetic waves**\n",
    "\n",
    "    Radiation heat transfer is a horse of another color.  Any object whose temperature is above absolute zero radiates energy at a wavelength that is a function of the object's temperarture. In fact, we often express colors by their corresponding temperatures. The yellowish color of our sun tells us that its surface temperature is about 5800 K. Radiation heat transfer (energy) is **not** the radiation associated with nuclear decay (particles).\n",
    "    \n",
    "    Radiation heat transfer is electromagnetic radiation. Thus, its velocity is essentially the speed of light in the medium through which it's traveling. Think of the last time you were in a Japanese or Greek restaurant and a flash flame was lit across the room: you felt a blast of heat at the same time you saw the flash brighten the room. **That**, my friends, was radiation heat transfer!\n",
    "    \n",
    "  The Stefan-Boltzmann Law states\n",
    "\n",
    "  \\begin{align*}\n",
    "    && \\dot Q &= \\epsilon \\sigma A \\left( T^4_H - T^4_C \\right) \\\\[12pt]\n",
    "    \\style{font-family: LatoWeb}{\\text{where }} \\qquad & \\\\\n",
    "    && A   &= \\style{font-family: LatoWeb}{\\text{surface area exposed to the heat source}} \\\\[6pt]\n",
    "    && T_H &= \\style{font-family: LatoWeb}{\\text{temperature of the hot body}} \\\\[6pt]\n",
    "    && T_C &= \\style{font-family: LatoWeb}{\\text{temperature of the cold body}} \\\\[6pt]\n",
    "    && \\epsilon &\\equiv \\style{font-family: LatoWeb}{\\text{thermal emissivity, aka thermal absorptivity }} \\\\[6pt]\n",
    "    && \\sigma &\\equiv \\style{font-family: LatoWeb}{\\text{Stefan-Boltzmann Constant}} \\\\\n",
    "    &&  &= \\small \\pu{ 5.67 × 10^{−8} W / m^2 K^4} \\\\ \n",
    "    &&  &= \\small \\pu{ 0.1714 × 10^{−8} Btu / hr ft^2 °R^4}\n",
    "  \\end{align*}\n",
    "\n",
    "    Thermal emissivity describes an object's ability to emit or absorb thermal radiation. For two objects radiating heat to each other, $\\epsilon$ is an empirical function of shape, color, line-of-sight, viewing angle between the objects, etc. \n",
    "\n",
    "     $$ \\epsilon = \\epsilon \\left[ 0,1 \\right] =\n",
    "       \\begin{cases} \n",
    "        1 & \\mbox{for a blackbody (perfect emitter/absorber) } \\\\ \n",
    "        0 & \\mbox{for a perfect reflector }  \n",
    "       \\end{cases} $$"
   ]
  },
  {
   "cell_type": "markdown",
   "metadata": {},
   "source": [
    "## Thermal resistance\n",
    "\n",
    "Thermodynamics is littered with physical phenomena that are completely described by a Potential that induces a Flow, and Resistance that opposes said flow. The most well-known example of this relationship is Ohm's Law. In fact, voltage is also known as \"electric potential.\"\n",
    "\n",
    "\\begin{equation*}\n",
    " \\text{flow} = \\frac{\\style{font-family: LatoWeb}{\\text{potential}}}{\\text{resistance}} \\qquad I = \\frac{V}{R}\n",
    "\\end{equation*}\n",
    "\n",
    "Heat transfer follows the same paradigm. By definition, heat transfer is an energy flow driven by a temperature difference, just like current is a flow of electrons driven by a voltage difference.  Expressing heat transfer in this form yields\n",
    "\n",
    "\\begin{equation*}\n",
    " \\dot Q = \\frac{\\Delta T}{R_{thermal}}\n",
    "\\end{equation*}\n",
    "\n"
   ]
  },
  {
   "cell_type": "markdown",
   "metadata": {},
   "source": [
    "## Why do this?\n",
    "\n",
    "The Potential-Flow-Resistance model is not simply a serendipitous conicidence of form. Phenomena that can be expressed this way enjoy similar thermodynamic relationships.\n",
    "\n",
    "With Ohm's Law, a network of resistors can be represented by an equivalent resistance $R_{eq}$ as follows: \n",
    "\n",
    "### Resistors in series:\n",
    "\n",
    "\\begin{equation*}\n",
    " R_{eq} = R_1 + R_2 + \\cdots + R_n\n",
    "\\end{equation*}\n",
    "\n",
    "\n",
    "### Resistors in parallel:\n",
    "\n",
    "\\begin{equation*}\n",
    " \\frac{1}{R_{eq}} = \\frac{1}{R_1} + \\frac{1}{R_2} + \\cdots + \\frac{1}{R_n}\n",
    "\\end{equation*}\n",
    "\n",
    "\n",
    "This form provides us with a simple method for resolving the combined effects of multiple sources and modes of heat transfer. We need only to express our heat transfer equations in Potential-Flow-Resistance form, then we can use the mathematics of electrical circuits to calculate energy flows in thermal circuits."
   ]
  },
  {
   "cell_type": "markdown",
   "metadata": {},
   "source": [
    "<div class=\"mcs-bs-callout mcs-bs-callout-info\">\n",
    "  <h4>Other Systems</h4>\n",
    "    <p>After you take a few more courses, you'll notice many other physical systems (eg: dynamic spring-mass-damper systems) obey the same mathematics in differential form. Be not surprised... they all follow the same thermodynamic principles. </p>\n",
    "</div>"
   ]
  },
  {
   "cell_type": "markdown",
   "metadata": {},
   "source": [
    "## Thermal circuits\n",
    "\n",
    "### Conduction\n",
    "\n",
    "\\begin{gather*}\n",
    "  \\left|\\, \\dot Q_\\textit{conduction}\\, \\right| = \\frac{kA}{L} \\Delta T \\\\[6pt]\n",
    "  \\therefore  \\dot Q_\\textit{conduction} = \\frac{\\Delta T}{R_\\textit{conduction}}\n",
    "  \\style{font-family: LatoWeb}{\\text{ when }}\n",
    "  R_\\textit{conduction} = \\frac{L}{kA}\n",
    "\\end{gather*}\n",
    "\n"
   ]
  },
  {
   "cell_type": "markdown",
   "metadata": {},
   "source": [
    "### Convection\n",
    "\n",
    "\\begin{gather*}\n",
    "  \\dot Q_\\textit{convection} = hA \\left( T - T_\\infty \\right) \\\\[12pt]\n",
    "  \\therefore  \\dot Q_\\textit{convection} = \\frac{\\Delta T}{R_\\textit{convection}}\n",
    "  \\style{font-family: LatoWeb}{\\text{ when }}  R_{convection} = \\frac{1}{hA}\n",
    "\\end{gather*}\n",
    "\n"
   ]
  },
  {
   "cell_type": "markdown",
   "metadata": {},
   "source": [
    "### Radiation\n",
    "\n",
    "\\begin{align*}\n",
    " \\dot Q_\\textit{radiation} &= \\epsilon \\sigma A \\left( T^4_H - T^4_C \\right) \\\\[6pt]\n",
    "  &= \\epsilon \\sigma A \\left( T^2_H + T^2_C \\right)\\left( T^2_H - T^2_C \\right) \\\\[6pt]\n",
    "  &= \\epsilon \\sigma A \\left( T^2_H + T^2_C \\right)\\left( T_H\\vphantom{^2} + T_C \\right)\\left( T_H - T_C\\vphantom{^2} \\right) \\\\ {}\n",
    "\\end{align*}\n",
    "\n",
    "\\begin{equation*}\n",
    "  \\therefore  \\dot Q_\\textit{radiation} = \\frac{\\Delta T}{R_\\textit{radiation}}\n",
    "  \\style{font-family: LatoWeb}{\\text{ when }}  \n",
    " R_\\textit{radiation} = \\frac{1}{\\epsilon \\sigma A \\left( T^2_H + T^2_C \\right)\\left( T_H\\vphantom{^2} + T_C \\right)}\n",
    "\\end{equation*}\n",
    "\n",
    "\n"
   ]
  },
  {
   "cell_type": "markdown",
   "metadata": {},
   "source": [
    "<div class=\"mcs-bs-callout mcs-bs-callout-primary\">\n",
    "<h4>Investigate: R-value, Commercial Insulation</h4>\n",
    "So what about the insulation at the hardware store? Yes, thermal resistance is the \"R-value\" printed on commercial insulation, though not often with physical units. \n",
    "\n",
    "Find the units of the R-value. You can probably guess the units used in the SI world. But about insulation sold in America? \n",
    "</div>"
   ]
  },
  {
   "cell_type": "markdown",
   "metadata": {},
   "source": [
    "<footer style=\"background-color: #461d7c; color:rgba(253,208,35,0.35); line-height:2em; padding-left:1em; padding-right:0.5em; bottom:0; float:bottom; text-align:right;\"><i>ψᵟ</i></footer>"
   ]
  }
 ],
 "metadata": {
  "@webio": {
   "lastCommId": null,
   "lastKernelId": null
  },
  "kernelspec": {
   "display_name": "Julia 1.6.0",
   "language": "julia",
   "name": "julia-1.6"
  },
  "language_info": {
   "file_extension": ".jl",
   "mimetype": "application/julia",
   "name": "julia",
   "version": "1.6.0"
  },
  "toc": {
   "base_numbering": 1,
   "nav_menu": {},
   "number_sections": false,
   "sideBar": false,
   "skip_h1_title": false,
   "title_cell": "Table of Contents",
   "title_sidebar": "Contents",
   "toc_cell": false,
   "toc_position": {},
   "toc_section_display": false,
   "toc_window_display": false
  },
  "varInspector": {
   "cols": {
    "lenName": 16,
    "lenType": 16,
    "lenVar": 40
   },
   "kernels_config": {
    "python": {
     "delete_cmd_postfix": "",
     "delete_cmd_prefix": "del ",
     "library": "var_list.py",
     "varRefreshCmd": "print(var_dic_list())"
    },
    "r": {
     "delete_cmd_postfix": ") ",
     "delete_cmd_prefix": "rm(",
     "library": "var_list.r",
     "varRefreshCmd": "cat(var_dic_list()) "
    }
   },
   "types_to_exclude": [
    "module",
    "function",
    "builtin_function_or_method",
    "instance",
    "_Feature"
   ],
   "window_display": true
  }
 },
 "nbformat": 4,
 "nbformat_minor": 2
}
