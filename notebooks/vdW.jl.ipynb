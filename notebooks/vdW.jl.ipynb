{
 "cells": [
  {
   "cell_type": "markdown",
   "metadata": {},
   "source": [
    "<div class=\"mcs-bs-callout mcs-bs-callout-warning extra\"><div class=\"extra\">\n",
    "  \n",
    "#### Always, Always, ALWAYS:\n",
    "\n",
    "Find the state you can resolve. Relate that state to the states you need via the processes that connect them. Ride that Dog for the rest of your thermodynamic life. It will bring you Home every time.  \n",
    "\n",
    " \n",
    "</div></div>"
   ]
  },
  {
   "cell_type": "markdown",
   "metadata": {},
   "source": [
    "<div class=\"btn-warning\">&nbsp;<div class=\"badge\"></div><i class=\"fa fa-exclamation-circle\"></i><strong> Sidebar: What about signs?</strong> </div>\n",
    "<div class=\"panel-warning\"><div class=\"panel-heading\">\n",
    "Many fall prey to improper signs. One of these options should work for you. <img style=\"height:28em; float:right;\" title=\"water-tower\" src=\"./figures/water-tower.png\" border=\"0\" alt=\"metropolisville township water tower, 100m elevation\">\n",
    "   \n",
    "+ If you are most comfortable \"reasoning\" your way through physical problems, then remember **pressure increases in the same direction in which gravity acts.** Keep the magnitudes of all terms positive, and manipulate the signs between the terms. Considering the simple scenario in the figure,  "
   ]
  },
  {
   "cell_type": "markdown",
   "metadata": {},
   "source": [
    "\\begin{gather}\n",
    "P = \\frac{RT}{v-b} - \\frac{a}{v^2} \\\\\n",
    "P\\left( v-b \\right)v^2 = RTv^2 - a\\left( v-b \\right) \\\\\n",
    "Pv^3 - Pbv^2 = RTv^2 - av + ab \\\\\n",
    "Pv^3 - \\left( Pb + RT\\right)v^2 + av - ab = 0 \\\\\n",
    "v^3 - \\left(  \\frac{RT}{P} + b \\right)v^2 + \\frac{a}{P}v - \\frac{ab}{P} = 0\n",
    "\\end{gather}\n"
   ]
  },
  {
   "cell_type": "markdown",
   "metadata": {},
   "source": [
    "\\begin{gather}\n",
    "v = -\\frac{Pv^3 - \\left( Pb + RT\\right)v^2 - ab}{a}\n",
    "\\end{gather}\n"
   ]
  },
  {
   "cell_type": "code",
   "execution_count": 17,
   "metadata": {},
   "outputs": [
    {
     "data": {
      "text/plain": [
       "0.0305 m^3 kmol^-1"
      ]
     },
     "execution_count": 17,
     "metadata": {},
     "output_type": "execute_result"
    }
   ],
   "source": [
    "using Unitful\n",
    "\n",
    "R = u\"R\"\n",
    "a_H₂O = 5.531u\"bar*(m^3/kmol)^2\"\n",
    "b_H₂O = 0.0305u\"m^3/kmol\""
   ]
  },
  {
   "cell_type": "code",
   "execution_count": 18,
   "metadata": {},
   "outputs": [
    {
     "data": {
      "text/plain": [
       "13463//20 K"
      ]
     },
     "execution_count": 18,
     "metadata": {},
     "output_type": "execute_result"
    }
   ],
   "source": [
    "P = 2u\"MPa\"\n",
    "T = 400u\"°C\" |> u\"K\" "
   ]
  },
  {
   "cell_type": "code",
   "execution_count": 19,
   "metadata": {},
   "outputs": [
    {
     "data": {
      "text/plain": [
       "0.0305 m^3 kmol^-1"
      ]
     },
     "execution_count": 19,
     "metadata": {},
     "output_type": "execute_result"
    }
   ],
   "source": [
    "a = a_H₂O\n",
    "b = b_H₂O"
   ]
  },
  {
   "cell_type": "code",
   "execution_count": 40,
   "metadata": {},
   "outputs": [
    {
     "data": {
      "text/plain": [
       "0.25 m^3 kmol^-1"
      ]
     },
     "execution_count": 40,
     "metadata": {},
     "output_type": "execute_result"
    }
   ],
   "source": [
    "v=0.25u\"m^3/kmol\""
   ]
  },
  {
   "cell_type": "code",
   "execution_count": 45,
   "metadata": {
    "scrolled": true
   },
   "outputs": [
    {
     "data": {
      "text/plain": [
       "-2.365168095838084e10 m^3 kmol^-1"
      ]
     },
     "execution_count": 45,
     "metadata": {},
     "output_type": "execute_result"
    }
   ],
   "source": [
    "v = ans\n",
    "-(P*v^3 - (P*b + R*T)*v^2 - a*b)/a |> u\"m^3/kmol\""
   ]
  },
  {
   "cell_type": "markdown",
   "metadata": {},
   "source": [
    "\\begin{gather}\n",
    "v^3 - \\left(  \\frac{RT}{P} + b \\right)v^2 + \\frac{a}{P}v - \\frac{ab}{P} = 0 \\\\\n",
    "v = \\left(\\left(  \\frac{RT}{P} + b \\right)v^2 - \\frac{a}{P}v + \\frac{ab}{P} \\right)^{1/3}\n",
    "\\end{gather}\n"
   ]
  },
  {
   "cell_type": "code",
   "execution_count": 49,
   "metadata": {},
   "outputs": [
    {
     "data": {
      "text/plain": [
       "1 m^3 kmol^-1"
      ]
     },
     "execution_count": 49,
     "metadata": {},
     "output_type": "execute_result"
    }
   ],
   "source": [
    "v=1u\"m^3/kmol\""
   ]
  },
  {
   "cell_type": "code",
   "execution_count": 73,
   "metadata": {},
   "outputs": [
    {
     "data": {
      "text/plain": [
       "0.0027284656279012143 m^3 mol^-1"
      ]
     },
     "execution_count": 73,
     "metadata": {},
     "output_type": "execute_result"
    }
   ],
   "source": [
    "v = ans\n",
    "( (R*T/P + b)*v^2 - a*v/P + a*b/P )^(1/3)"
   ]
  },
  {
   "cell_type": "code",
   "execution_count": 76,
   "metadata": {},
   "outputs": [
    {
     "data": {
      "text/plain": [
       "0.15149211609298052 m^3 kg^-1"
      ]
     },
     "execution_count": 76,
     "metadata": {},
     "output_type": "execute_result"
    }
   ],
   "source": [
    "v_book = 0.1512u\"m^3/kg\"\n",
    "MW_H₂O = 2*1.0079u\"g/mol\" + 15.994u\"g/mol\"\n",
    "\n",
    "v / MW_H₂O |> u\"m^3/kg\""
   ]
  },
  {
   "cell_type": "code",
   "execution_count": 111,
   "metadata": {},
   "outputs": [
    {
     "data": {
      "text/plain": [
       "find_v (generic function with 1 method)"
      ]
     },
     "execution_count": 111,
     "metadata": {},
     "output_type": "execute_result"
    }
   ],
   "source": [
    "function find_v(v_guess, a, b, stability)\n",
    "  v_new = ((R*T/P + b)*v_guess^2 - a*v_guess/P + a*b/P)^(1/3)\n",
    "  \n",
    "end"
   ]
  },
  {
   "cell_type": "code",
   "execution_count": 117,
   "metadata": {},
   "outputs": [
    {
     "data": {
      "text/plain": [
       "1 m^3 kmol^-1"
      ]
     },
     "execution_count": 117,
     "metadata": {},
     "output_type": "execute_result"
    }
   ],
   "source": [
    "v=1u\"m^3/kmol\""
   ]
  },
  {
   "cell_type": "code",
   "execution_count": 129,
   "metadata": {},
   "outputs": [
    {
     "data": {
      "text/plain": [
       "0.002701709842908857 m^3 mol^-1"
      ]
     },
     "execution_count": 129,
     "metadata": {},
     "output_type": "execute_result"
    }
   ],
   "source": [
    "find_v(ans, a, b)"
   ]
  },
  {
   "cell_type": "code",
   "execution_count": 91,
   "metadata": {},
   "outputs": [],
   "source": [
    "ans"
   ]
  },
  {
   "cell_type": "code",
   "execution_count": 154,
   "metadata": {},
   "outputs": [
    {
     "data": {
      "text/plain": [
       "find_v (generic function with 2 methods)"
      ]
     },
     "execution_count": 154,
     "metadata": {},
     "output_type": "execute_result"
    }
   ],
   "source": [
    "function find_v(v_guess, a, b, convergence)\n",
    "  \n",
    "  v_new = ((R*T/P + b)*v_guess^2 - a*v_guess/P + a*b/P)^(1/3)\n",
    "  \n",
    "  if abs(v_guess / v_new - 1) <= convergence\n",
    "    println(\"convergence, y'all\")\n",
    "  end\n",
    "  \n",
    "  v_new\n",
    "end"
   ]
  },
  {
   "cell_type": "code",
   "execution_count": 155,
   "metadata": {},
   "outputs": [
    {
     "data": {
      "text/plain": [
       "0.0021 m^3 kmol^-1"
      ]
     },
     "execution_count": 155,
     "metadata": {},
     "output_type": "execute_result"
    }
   ],
   "source": [
    "v=0.0021u\"m^3/kmol\""
   ]
  },
  {
   "cell_type": "code",
   "execution_count": 169,
   "metadata": {},
   "outputs": [
    {
     "name": "stdout",
     "output_type": "stream",
     "text": [
      "convergence, y'all\n"
     ]
    },
    {
     "data": {
      "text/plain": [
       "0.0026746290254660438 m^3 mol^-1"
      ]
     },
     "execution_count": 169,
     "metadata": {},
     "output_type": "execute_result"
    }
   ],
   "source": [
    "find_v(ans, a, b, 0.01)"
   ]
  },
  {
   "cell_type": "code",
   "execution_count": 171,
   "metadata": {
    "scrolled": true
   },
   "outputs": [
    {
     "data": {
      "text/plain": [
       "0.0027036593892926872 m^3 mol^-1"
      ]
     },
     "execution_count": 171,
     "metadata": {},
     "output_type": "execute_result"
    }
   ],
   "source": [
    "find_v(ans, a, b)"
   ]
  },
  {
   "cell_type": "code",
   "execution_count": 178,
   "metadata": {},
   "outputs": [
    {
     "data": {
      "text/plain": [
       "find_v (generic function with 2 methods)"
      ]
     },
     "execution_count": 178,
     "metadata": {},
     "output_type": "execute_result"
    }
   ],
   "source": [
    "function find_v(v_guess, a, b, convergence)\n",
    "  \n",
    "  v_new = ((R*T/P + b)*v_guess^2 - a*v_guess/P + a*b/P)^(1/3)\n",
    "  \n",
    "#   abs(v_guess / v_new - 1) <= convergence && return v_new\n",
    "\n",
    "  abs(v_guess / v_new - 1) ≤ convergence && return v_new\n",
    "\n",
    "\n",
    "  find_v(v_new, a, b, convergence)\n",
    "  \n",
    "end"
   ]
  },
  {
   "cell_type": "code",
   "execution_count": 179,
   "metadata": {},
   "outputs": [
    {
     "data": {
      "text/plain": [
       "0.0027291523585199116 m^3 mol^-1"
      ]
     },
     "execution_count": 179,
     "metadata": {},
     "output_type": "execute_result"
    }
   ],
   "source": [
    "find_v(1u\"m^3/mol\", a, b, 0.0001)"
   ]
  },
  {
   "cell_type": "code",
   "execution_count": 178,
   "metadata": {},
   "outputs": [
    {
     "data": {
      "text/plain": [
       "find_v (generic function with 2 methods)"
      ]
     },
     "execution_count": 178,
     "metadata": {},
     "output_type": "execute_result"
    }
   ],
   "source": [
    "function find_v(v_guess, a, b, convergence)\n",
    "  \n",
    "  v_new = ((R*T/P + b)*v_guess^2 - a*v_guess/P + a*b/P)^(1/3)  # estimate new v\n",
    "  \n",
    "  abs(v_guess / v_new - 1) ≤ convergence && return v_new       # return if convergence met\n",
    "\n",
    "  find_v(v_new, a, b, convergence)\n",
    "  \n",
    "end"
   ]
  },
  {
   "cell_type": "code",
   "execution_count": 186,
   "metadata": {},
   "outputs": [
    {
     "data": {
      "text/plain": [
       "find_v (generic function with 3 methods)"
      ]
     },
     "execution_count": 186,
     "metadata": {},
     "output_type": "execute_result"
    }
   ],
   "source": [
    "function find_v(a, b, v_guess=1u\"m^3/mol\", convergence=0.001)\n",
    "  \n",
    "  v_new = ((R*T/P + b)*v_guess^2 - a*v_guess/P + a*b/P)^(1/3)  # estimate new v\n",
    "  \n",
    "  abs(v_guess / v_new - 1) ≤ convergence && return v_new       # return if convergence met\n",
    "\n",
    "  find_v(a, b, v_new)\n",
    "  \n",
    "end"
   ]
  },
  {
   "cell_type": "code",
   "execution_count": 187,
   "metadata": {},
   "outputs": [
    {
     "data": {
      "text/plain": [
       "0.0027330946371655214 m^3 mol^-1"
      ]
     },
     "execution_count": 187,
     "metadata": {},
     "output_type": "execute_result"
    }
   ],
   "source": [
    "find_v(a,b)"
   ]
  },
  {
   "cell_type": "code",
   "execution_count": 210,
   "metadata": {},
   "outputs": [
    {
     "data": {
      "text/plain": [
       "8.31446261815324 J K^-1 mol^-1"
      ]
     },
     "execution_count": 210,
     "metadata": {},
     "output_type": "execute_result"
    }
   ],
   "source": [
    "u\"R\""
   ]
  },
  {
   "cell_type": "markdown",
   "metadata": {},
   "source": [
    "\\begin{gather}\n",
    "P = \\frac{RT}{v-b} - \\frac{a}{v^2} \\\\\n",
    "P\\left( v-b \\right)v^2 = RTv^2 - a\\left( v-b \\right) \\\\\n",
    "Pv^3 - Pbv^2 = RTv^2 - av + ab \\\\\n",
    "Pv^3 - \\left( Pb + RT\\right)v^2 + av - ab = 0 \\\\\n",
    "v^3 - \\left(  \\frac{RT}{P} + b \\right)v^2 + \\frac{a}{P}v - \\frac{ab}{P} = 0 \\\\\n",
    "\\end{gather}\n"
   ]
  },
  {
   "cell_type": "code",
   "execution_count": 195,
   "metadata": {},
   "outputs": [
    {
     "name": "stderr",
     "output_type": "stream",
     "text": [
      "┌ Info: Precompiling PolynomialRoots [3a141323-8675-5d76-9d11-e1df1406c778]\n",
      "└ @ Base loading.jl:1278\n"
     ]
    }
   ],
   "source": [
    "using PolynomialRoots"
   ]
  },
  {
   "cell_type": "code",
   "execution_count": 215,
   "metadata": {},
   "outputs": [
    {
     "data": {
      "text/plain": [
       "4-element Array{Float64,1}:\n",
       "  -0.16648951394029113\n",
       "   5.458672588206267\n",
       " -30.650206153110105\n",
       "   1.0"
      ]
     },
     "execution_count": 215,
     "metadata": {},
     "output_type": "execute_result"
    }
   ],
   "source": [
    "P = 101325u\"Pa\"\n",
    "T = 100u\"°C\" |> u\"K\" \n",
    "\n",
    "polly = [(-a*b/P) |> u\"(m^3/kmol)^3\", a/P |> u\"(m^3/kmol)^2\", -(R*T/P + b) |> u\"(m^3/kmol)\", 1] .|> ustrip"
   ]
  },
  {
   "cell_type": "code",
   "execution_count": 217,
   "metadata": {},
   "outputs": [
    {
     "data": {
      "text/plain": [
       "3-element Array{Float64,1}:\n",
       " 30.47124369200145\n",
       "  0.13991005740307366\n",
       "  0.03905240370557914"
      ]
     },
     "execution_count": 217,
     "metadata": {},
     "output_type": "execute_result"
    }
   ],
   "source": [
    "roots(polly) |> real"
   ]
  },
  {
   "cell_type": "code",
   "execution_count": 220,
   "metadata": {},
   "outputs": [
    {
     "data": {
      "text/plain": [
       "3-element Array{Quantity{Float64,𝐋^3*𝐍^-1,Unitful.FreeUnits{(m^3, kmol^-1),𝐋^3*𝐍^-1,nothing}},1}:\n",
       "   30.47124369200145 m^3 kmol^-1\n",
       " 0.13991005740307366 m^3 kmol^-1\n",
       " 0.03905240370557914 m^3 kmol^-1"
      ]
     },
     "execution_count": 220,
     "metadata": {},
     "output_type": "execute_result"
    }
   ],
   "source": [
    "r = roots(polly)u\"m^3/kmol\" |> real\n"
   ]
  },
  {
   "cell_type": "code",
   "execution_count": 226,
   "metadata": {},
   "outputs": [
    {
     "data": {
      "text/plain": [
       "1.6919257122234257 m^3 kg^-1"
      ]
     },
     "execution_count": 226,
     "metadata": {},
     "output_type": "execute_result"
    }
   ],
   "source": [
    "(r |> maximum) / MW_H₂O |> u\"m^3/kg\""
   ]
  },
  {
   "cell_type": "code",
   "execution_count": 227,
   "metadata": {},
   "outputs": [
    {
     "data": {
      "text/plain": [
       "0.002168397411719128 m^3 kg^-1"
      ]
     },
     "execution_count": 227,
     "metadata": {},
     "output_type": "execute_result"
    }
   ],
   "source": [
    "(r |> minimum) / MW_H₂O |> u\"m^3/kg\""
   ]
  },
  {
   "cell_type": "code",
   "execution_count": null,
   "metadata": {},
   "outputs": [],
   "source": []
  }
 ],
 "metadata": {
  "kernelspec": {
   "display_name": "Julia 1.5.2",
   "language": "julia",
   "name": "julia-1.5"
  },
  "language_info": {
   "file_extension": ".jl",
   "mimetype": "application/julia",
   "name": "julia",
   "version": "1.5.2"
  }
 },
 "nbformat": 4,
 "nbformat_minor": 4
}
