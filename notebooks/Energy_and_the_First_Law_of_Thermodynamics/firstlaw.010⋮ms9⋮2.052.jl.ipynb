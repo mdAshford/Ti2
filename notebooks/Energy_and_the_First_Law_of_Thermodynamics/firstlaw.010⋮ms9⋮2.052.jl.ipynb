{
 "cells": [
  {
   "cell_type": "markdown",
   "metadata": {},
   "source": [
    "<header class=\"banner\"><div class=\"banner\">\n",
    "  <div class=\"logos\">\n",
    "    <div><img title=\"Julia logo\" src=\"../figures/julia-logo-color.svg\" alt=\"Julia animated logo\" width=35 /></div>\n",
    "    <div>◌</div>\n",
    "    <div><img title=\"Powered by MathJax\" src=\"https://www.mathjax.org/badge/mj-logo.svg\"\n",
    "              alt=\"Powered by MathJax\" width=65 />\n",
    "    </div>\n",
    "  </div>  <!-- logos -->\n",
    "  <div class=\"cite_textbook ms9\">2.052<span class=\"authors\"></span></div>\n",
    "</div></header>\n",
    "\n",
    "<footer class=\"navbar navbar-default navbar-fixed-bottom mcs-psy-nav\" >\n",
    "  <div class=\"container-fluid text-right h4\">\n",
    "    <em>ψᵟ</em>\n",
    "  </div>\n",
    "</footer>\n"
   ]
  },
  {
   "cell_type": "markdown",
   "metadata": {},
   "source": [
    "\n",
    "## Given \n",
    "\n",
    "Steam in a piston-cylinder assembly undergoes a polytropic process. Data for the initial and final states are given in the accompanying table. Kinetic and potential energy effects are negligible. For the process, determine the work and heat transfer, each in Btu per lb of steam.\n",
    "\n",
    "| State | ρ [lbf/in2] | v (ft3/lb) | u (Btu/lb) |\n",
    "|:-----:|:-----------:|:----------:|:----------:|\n",
    "|   1   |      100    |    4.394   |   1136.2   |\n",
    "|   2   |      40     |    10.54   |   1110     |\n",
    "\n",
    "\n",
    "\n",
    "## Find\n",
    "\n",
    "For the process, determine the work and heat transfer, each in Btu per lb of steam."
   ]
  },
  {
   "cell_type": "markdown",
   "metadata": {},
   "source": [
    "## Get Organized\n",
    "\n",
    "<div class=\"mcs-bs-callout mcs-bs-callout-info\">\n",
    "\n",
    "<h4> Before you dive in </h4>\n",
    "  \n",
    "Here is a quick primer on [integrating polytropic boundary work.](first.00.20.IntegratingPolytropicBoundaryWork.ipynb)\n",
    "\n",
    "</div>\n",
    "\n",
    "This should be a straightforward solution. You're tasked with calculating heat transfer and work. Boundary work can often be calculated separately from the energy equation. When that is the scenario, \n",
    "\n",
    "1. calculate boundary work directly; then \n",
    "2. calculate heat transfer via the energy equation."
   ]
  },
  {
   "cell_type": "markdown",
   "metadata": {},
   "source": [
    "# Attack\n",
    "\n",
    "Attack like we always do.\n",
    "\n",
    "#### Mass:    \n",
    "Trivial, closed system\n",
    "\n",
    "#### Energy\n",
    "\n",
    "Before attacking work, apply the First Law. It helps keep some focus on the big picture.\n",
    "\n",
    "\\begin{gather}\n",
    "  E_{in} &-& E_{out} &=& E_{sys} \\\\ \n",
    "  Q_{in} &-& W_{b,out} &=& U_2 - U_1 \n",
    "\\end{gather}\n",
    "\n",
    "We are safe to work this problem in specific quantities; every term of our equation is based upon the same mass.\n",
    "\n",
    "\\begin{gather}\\label{eq:energy}\n",
    "  q_{in} &-& w_{b,out} &=& u_2 - u_1 \n",
    "\\end{gather}\n",
    "\n",
    "Now we can go after boundary work. \n",
    "\n",
    "\\begin{equation}\n",
    "  W_{b,out} = \\int P dv\n",
    "\\end{equation}\n",
    "\n",
    "\n",
    "\n",
    "We were told we have a polytropic process.\n",
    "\n",
    "\\begin{equation}\\label{eq:pvton}\n",
    "  Pv^n = {\\rm constant} = {\\bf\\Omega} = P_1v_1^n = P_2v_2^n \n",
    "\\end{equation}\n",
    "\n",
    "\n",
    "Consolidating,\n",
    "\n",
    "\\begin{equation}\\label{eq:consol}\n",
    "  W_{b,out} = {\\bf\\Omega} \\int^{v_2}_{v_1} v^{-n} \\, {\\rm d}v\n",
    "    = \\frac{P_2v_2 - P_1v_1}{1 - n}\n",
    "\\end{equation}\n",
    "\n"
   ]
  },
  {
   "cell_type": "markdown",
   "metadata": {},
   "source": [
    "That looks good, but we were not given the polytropic exponent $n$. However, we shall not be defied. From eqn (\\ref{eq:pvton}):\n",
    "\n",
    "\\begin{align*}\n",
    "  P_1v_1^n  &= P_2v_2^n \\\\[6pt] \n",
    "  \\frac{P_1}{P_2} &= \\left(\\frac{v_2}{v_1}\\right)^n \\\\[6pt] \n",
    " \\ln \\frac{P_1}{P_2} &= \\ln  \\left(\\frac{v_2}{v_1}\\right)^n  \\\\[6pt] \n",
    "\\end{align*}\n",
    "\n",
    "\\begin{gather*}\n",
    "n = {\\ln \\frac{P_1}{P_2} \\over \\ln \\frac{v_2}{v_1}}\n",
    "\\end{gather*}\n",
    "\n",
    "With $n$, we can calculate work, then get heat transfer from eqn (\\ref{eq:energy})\n",
    "\n",
    "\\begin{align}\n",
    "  q_{in} = u_2 - u_1 + w_{b,out}\n",
    "\\end{align}\n",
    "\n"
   ]
  },
  {
   "cell_type": "markdown",
   "metadata": {},
   "source": [
    "\n",
    "| State | ρ (lbf/in²) | v (ft³/lb) | u (Btu/lb) |\n",
    "|:-----:|:-----------:|:----------:|:----------:|\n",
    "|   1   |      100    |    4.934   |   1136.2   |\n",
    "|   2   |      40     |    10.54   |    1110    |\n",
    "\n"
   ]
  },
  {
   "cell_type": "code",
   "execution_count": 1,
   "metadata": {},
   "outputs": [
    {
     "name": "stdout",
     "output_type": "stream",
     "text": [
      "n = 1.2071903872877998\n",
      "wb_out = 64.12709326604106 btu lb⁻¹\n",
      "q_in = 37.92709326604101 btu lb⁻¹\n"
     ]
    }
   ],
   "source": [
    "using Unitful\n",
    "\n",
    "P1 = 100u\"lbf/inch^2\";   v1 = 4.934u\"ft^3/lb\";   u1 = 1136.2u\"btu/lb\"\n",
    "P2 =  40u\"lbf/inch^2\";   v2 = 10.54u\"ft^3/lb\";   u2 =   1110u\"btu/lb\"\n",
    "\n",
    "n = log(P1/P2) / log(v2/v1); @show n\n",
    "\n",
    "wb_out = (P2*v2 - P1*v1)/(1 - n) |> u\"btu/lb\"; @show wb_out;\n",
    "\n",
    "q_in = u2 - u1 + wb_out; @show q_in;"
   ]
  },
  {
   "cell_type": "markdown",
   "metadata": {},
   "source": [
    "<div class=\"mcs-bs-callout mcs-bs-callout-success\">\n",
    "\n",
    "#### _finis_\n",
    "  \n",
    "$$ w_{b,out} = \\pu{69.601 btu/lb}$$\n",
    "\n",
    "$$ q_{in} = \\pu{57.601 btu/lb}$$\n",
    "\n",
    "\n",
    "</div>"
   ]
  }
 ],
 "metadata": {
  "@webio": {
   "lastCommId": null,
   "lastKernelId": null
  },
  "kernelspec": {
   "display_name": "Julia 1.5.2",
   "language": "julia",
   "name": "julia-1.5"
  },
  "language_info": {
   "file_extension": ".jl",
   "mimetype": "application/julia",
   "name": "julia",
   "version": "1.5.2"
  },
  "varInspector": {
   "cols": {
    "lenName": 16,
    "lenType": 16,
    "lenVar": 40
   },
   "kernels_config": {
    "python": {
     "delete_cmd_postfix": "",
     "delete_cmd_prefix": "del ",
     "library": "var_list.py",
     "varRefreshCmd": "print(var_dic_list())"
    },
    "r": {
     "delete_cmd_postfix": ") ",
     "delete_cmd_prefix": "rm(",
     "library": "var_list.r",
     "varRefreshCmd": "cat(var_dic_list()) "
    }
   },
   "types_to_exclude": [
    "module",
    "function",
    "builtin_function_or_method",
    "instance",
    "_Feature"
   ],
   "window_display": true
  }
 },
 "nbformat": 4,
 "nbformat_minor": 2
}
