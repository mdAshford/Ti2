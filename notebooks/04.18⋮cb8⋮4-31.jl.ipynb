{
 "cells": [
  {
   "cell_type": "markdown",
   "metadata": {},
   "source": [
    "<div style=\"display:inline-block; position:absolute; top:0; right:0; color: #230e3e; font:italic 1em serif;\">$\\LaTeX$<span style=\"display:inline-block; vertical-align:bottom\"><a href=\"https://www.mathjax.org\">\n",
    "    <img style=\"height:1.25em\" title=\"Powered by MathJax\"\n",
    "    src=\"https://www.mathjax.org/badge/mj_logo.png\"\n",
    "    border=\"0\" alt=\"Powered by MathJax\" />\n",
    "</a></span> </div>"
   ]
  },
  {
   "cell_type": "markdown",
   "metadata": {},
   "source": [
    "<header style=\"background-color:#e7e2ee; color:#461d7c; line-height:2em; padding-left:1em; padding-right:1em; bottom:0; float:bottom; text-align:right; float:right; font-family:serif; font-size:small;\">Problem 4-31 ⋮ Çengel, Y. A., and Boles, M. A. (2001). <i>Thermodynamics: An Engineering Approach.</i> Boston: McGraw-Hill.</header>  \n",
    "\n"
   ]
  },
  {
   "cell_type": "markdown",
   "metadata": {},
   "source": [
    "\n",
    "### Given   \n",
    "A rigid 10-L vessel initially contains a mixture of liquid water and vapor at 100°C with 12.3 percent quality. The mixture is then heated until its temperature is 150°C. \n",
    "\n",
    "\n",
    "### Find \n",
    "Calculate the heat transfer required for this process. "
   ]
  },
  {
   "cell_type": "markdown",
   "metadata": {},
   "source": [
    "### Get Organized\n",
    "\n",
    "Every good home has a good diagram.\n",
    "\n",
    "![figure, cb8, 4-31](figures/ch04_cen98179_p04031_lg.jpg)"
   ]
  },
  {
   "cell_type": "markdown",
   "metadata": {},
   "source": [
    "#### These things you should notice right away:\n",
    "1. Closed system ⋮ constant mass  \n",
    "1. Rigid vessel ⋮ constant volume, no boundary work  \n",
    "1. Constant mass + constant volume $\\rightarrow$ constant specific volume  \n",
    "1. We can resolve both states ⋮ $(T_1,x_1),\\ (T_2,v_2=v_1)$\n",
    "1. We can assume $\\rm \\Delta KE = \\Delta PE \\approx 0$\n"
   ]
  },
  {
   "cell_type": "markdown",
   "metadata": {},
   "source": [
    "<div style=\"font-size:2000%; font-weight:900; line-height:1em;\">Attack</div>\n",
    "\n",
    "Apply the First Law, with subscripts 1 and 2 representing initial and final states, respectively:\n",
    "\n",
    "\\begin{array}{c}\n",
    "  E_{in} &-& E_{out} &=& E_{sys} \\\\\n",
    "  Q_{in} &&&=& U_2 - U_1 \\\\ {} \n",
    "\\end{array}\n",
    "\n",
    "\\begin{gather*}\n",
    "  Q_{in} = m\\left( u_2 - u_1 \\right) \\\\\n",
    "  m = \\frac{V}{v} \\qquad u_1 = u \\left( T_1, x_1 \\right) \\qquad u_2 = u \\left( T_2, v_2 = v_1 \\right)\n",
    "\\end{gather*}\n",
    "\n",
    "\n"
   ]
  },
  {
   "cell_type": "code",
   "execution_count": 43,
   "metadata": {},
   "outputs": [],
   "source": [
    "using Unitful, DataFrames\n",
    "pretty(val,dig) = round(typeof(val),val,digits=dig);"
   ]
  },
  {
   "cell_type": "code",
   "execution_count": 87,
   "metadata": {},
   "outputs": [
    {
     "name": "stdout",
     "output_type": "stream",
     "text": [
      "2×4 DataFrame\n",
      "│ Row │ T         │ x        │ v                  │ u                │\n",
      "│     │ \u001b[90mQuantity…\u001b[39m │ \u001b[90mFloat64\u001b[39m  │ \u001b[90mQuantity…\u001b[39m          │ \u001b[90mQuantity…\u001b[39m        │\n",
      "├─────┼───────────┼──────────┼────────────────────┼──────────────────┤\n",
      "│ 1   │ 100 °C    │ 0.123    │ 0.206694 m^3 kg^-1 │ 675.71 kJ kg^-1  │\n",
      "│ 2   │ 150 °C    │ 0.524888 │ 0.206694 m^3 kg^-1 │ 1643.57 kJ kg^-1 │\n",
      "\n",
      "\n",
      "Q_in = 46.826 kJ\n"
     ]
    }
   ],
   "source": [
    "V = 10u\"L\"\n",
    "x1 = 0.123\n",
    "\n",
    "vf_100°C = 1.0435e-3u\"m^3/kg\"\n",
    "vg_100°C = 1.673u\"m^3/kg\"\n",
    "uf_100°C = 418.94u\"kJ/kg\"\n",
    "ug_100°C = 2506.5u\"kJ/kg\"\n",
    "\n",
    "vf_150°C = 1.0905e-3u\"m^3/kg\"\n",
    "vg_150°C = 0.3928u\"m^3/kg\"\n",
    "uf_150°C = 631.68u\"kJ/kg\"\n",
    "ug_150°C = 2559.5u\"kJ/kg\"\n",
    "\n",
    "v  = vf_100°C + x1 * (vg_100°C - vf_100°C)\n",
    "u1 = uf_100°C + x1 * (ug_100°C - uf_100°C)\n",
    "\n",
    "m = V / v |> u\"kg\"\n",
    "\n",
    "x2 = (v - vf_150°C)/(vg_150°C - vf_150°C)\n",
    "u2 = uf_150°C + x2 * (ug_150°C - uf_150°C)\n",
    "\n",
    "Q_in = m * (u2 - u1)\n",
    "\n",
    "\n",
    "DataFrame(T=[100u\"°C\",150u\"°C\"], x=[x1,x2], v=[v,v], u=[u1,u2]) |> println\n",
    "println(\"\\n\\n\",\"Q_in = \", pretty(Q_in,3))\n"
   ]
  },
  {
   "cell_type": "markdown",
   "metadata": {},
   "source": [
    "<div class=\"btn-success\">&nbsp;<div class=\"badge\"></div><i class=\"fa fa-bomb\"></i><strong> Boom</strong></div>\n",
    "<div class=\"panel-success\"><div class=\"panel-heading\"><div class=\"badge\"></div> \n",
    "\n",
    "\\begin{equation*}\n",
    "   Q_{in} = 46.826\\,\\text{kJ}\n",
    "\\end{equation*}  \n",
    "\n",
    "\n",
    "</div></div>"
   ]
  },
  {
   "cell_type": "markdown",
   "metadata": {},
   "source": [
    "<footer style=\"background-color: #461d7c; color:rgba(253,208,35,0.35); line-height:2em; padding-left:1em; padding-right:0.5em; bottom:0; float:bottom; text-align:right;\"><i>ψᵟ</i></footer>"
   ]
  }
 ],
 "metadata": {
  "@webio": {
   "lastCommId": null,
   "lastKernelId": null
  },
  "kernelspec": {
   "display_name": "Julia 1.5.0-DEV",
   "language": "julia",
   "name": "julia-1.5"
  },
  "language_info": {
   "file_extension": ".jl",
   "mimetype": "application/julia",
   "name": "julia",
   "version": "1.5.0"
  },
  "varInspector": {
   "cols": {
    "lenName": 16,
    "lenType": 16,
    "lenVar": 40
   },
   "kernels_config": {
    "python": {
     "delete_cmd_postfix": "",
     "delete_cmd_prefix": "del ",
     "library": "var_list.py",
     "varRefreshCmd": "print(var_dic_list())"
    },
    "r": {
     "delete_cmd_postfix": ") ",
     "delete_cmd_prefix": "rm(",
     "library": "var_list.r",
     "varRefreshCmd": "cat(var_dic_list()) "
    }
   },
   "types_to_exclude": [
    "module",
    "function",
    "builtin_function_or_method",
    "instance",
    "_Feature"
   ],
   "window_display": true
  }
 },
 "nbformat": 4,
 "nbformat_minor": 2
}
