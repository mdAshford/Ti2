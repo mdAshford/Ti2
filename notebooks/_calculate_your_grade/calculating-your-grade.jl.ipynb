{
 "cells": [
  {
   "cell_type": "markdown",
   "metadata": {},
   "source": [
    "# Calculating your grade\n",
    "\n",
    "Recall that your Blackboard scores include homework, project scores, bonus, etc, all of which carry different weights. Moreover, our Bb portal contains 3 course sections, and some submissions were section-specific. Thus, simply adding the Bb scores and dividing by the maximum possible points will **NOT** yield your overall course score. For that, just follow the grading as specified in the syllabus.\n",
    "\n",
    "Below is a step-by-step guide for making the calculation, followed by an example calculation. Remember, this notebook is live. Feel free to enter your scores at the top of the cell and execute it. \n",
    "\n",
    "----\n",
    "\n",
    "_In case you're wondering, Blackboard cannot perform some of the required calculations, so we can only use it as a repository of your scores._"
   ]
  },
  {
   "cell_type": "markdown",
   "metadata": {},
   "source": [
    "## Homework\n",
    "\n",
    "Homework scores as listed in Blackboard:\n",
    "\n",
    "1. hmwk.WP: An Introduction to WileyPLUS with Blackboard (100)   \n",
    "1. hmwk.WP: How to Answer Engineering Problems in WileyPLUS (100)   \n",
    "1. hmwk.WP.01: chapter one (100)   \n",
    "1. hmwk.WP.02 (100)   \n",
    "1. hmwk.WP.03 (100)         \n",
    "1. hawk.WP.04 (100)    \n",
    "1. wp.bounty (0)      \n",
    "1. HOMEWORK︙Real Thermo: Phase Change (50)      \n",
    "1. ~3/19/2021 (100)~   \n",
    "1. 3/22/2021 (100)     \n",
    "1. Week of March 22nd (100)      \n",
    "1. Breakout, 29 March (100)      \n",
    "1. Week of March 29th (100)      \n",
    "1. Week of April 5th (100)      \n",
    "1. Breakout, 7 April (100)  \n",
    "\n",
    "\n",
    "### Each of you has 10 homework scores to sum from the 15 listed. \n",
    "\n",
    "1-6. All WileyPlus\n",
    "\n",
    "7. `HOMEWORK︙Real Thermo: Phase Change`\n",
    "\n",
    "**Reject `3/19/2021`**. There was confusion about submission.\n",
    "\n",
    "8. **March 22**    \n",
    "  One submission was for the local sections, the other belonged to the distance section. However, Blackboasrd allowed you to submit to either or both, and you did. No problem: choose the maximum of both submissions.\n",
    "  1. `3/22/2021`     \n",
    "  1. `Week of March 22nd`   \n",
    "  \n",
    "1. **March 29**  \n",
    "  Choose the maximum of both submissions.\n",
    "  1. `Breakout, 29 March`      \n",
    "  1. `Week of March 29th`\n",
    "\n",
    "1. **April 5**   \n",
    "  Choose the maximum of both submissions.  \n",
    "  1. `Week of April 5th`      \n",
    "  1. `Breakout, 7 April` \n",
    "  \n",
    "\n",
    "$$ {\\it hmwks} = \\frac{\\displaystyle\\sum_{10}\\big(\\text{your homeworks}\\big)}{950} $$\n",
    "\n",
    "\n"
   ]
  },
  {
   "cell_type": "markdown",
   "metadata": {},
   "source": [
    "## Seminars\n",
    "\n",
    "1. Propane - Beyond the Grill (100)      \n",
    "1. Towards Intelligent Material and Robotic Systems (100) \n",
    "1. Intelligent Product Agents for Multi-Agent Control of Manufacturing Systems (100)   \n",
    "1. Engineering Aerogel Materials for Sustainable Energy Applications (100)     \n",
    "1. Kickbacks (100)    \n",
    "1. HumanError (100)    \n",
    "1. KillerLakes (100)     \n",
    "\n",
    "Each seminar is worth up to two points toward your final score:\n",
    "\n",
    "$$ {\\it seminars} = {\\Large\\sum_{\\normalsize 5}}{ \\frac{2\\big(\\text{top seminar scores}\\big)}{100}} $$ "
   ]
  },
  {
   "cell_type": "markdown",
   "metadata": {},
   "source": [
    "## Project\n",
    "\n",
    "1. Proposal (100)      \n",
    "1. WIP1 (100)    \n",
    "1. WIP2 (100)    \n",
    "1. FinalProject (100)     \n",
    "\n",
    "Average the Proposal and both WIP reports and keep the Final Report as is.\n",
    "\n",
    "$$ {\\it project} = \\frac{\\sum(\\it Proposal, WIP_n) }{3} $$"
   ]
  },
  {
   "cell_type": "markdown",
   "metadata": {},
   "source": [
    "## Composite\n",
    "\n",
    "For the composite score calculation, each category is weighted as follows: \n",
    "<br>\n",
    "\n",
    "|                Category  |  Weight  |\n",
    "|-------------------------:|:--------:|\n",
    "|                 Homework |    30    | \n",
    "|            Tests/Project |    45    | \n",
    "| Final Exam/Final Project |    25    |\n",
    "<br>\n",
    "\n",
    "$$ {\\it composite} = \\frac{({\\it hmwks},\\ {\\it project},\\ {\\it finalproject}) \\cdot (30,\\ 45,\\ 25)}{100} $$\n",
    "\n",
    "Finally, add the `seminars` score, and you're done.\n",
    "\n",
    "$$ {\\it course~score} = {\\it composite} + {\\it seminars} $$\n"
   ]
  },
  {
   "cell_type": "code",
   "execution_count": 1,
   "metadata": {},
   "outputs": [
    {
     "name": "stdout",
     "output_type": "stream",
     "text": [
      "hmwkscores = [100, 94, 100, 88, 100, 100, 25, 90, 80, 100]\n",
      "hmwkcount = 10\n",
      "hmwks = 97.3157894736842\n",
      "\n",
      "allseminarscores = [100.0, 50.0, 100.0, 50.0, 0.0, 0.0, 0.0]\n",
      "countedseminarscores = [0.0, 50.0, 50.0, 100.0, 100.0]\n",
      "seminars = 6.0\n",
      "\n",
      "projectscores = [80, 70, 75]\n",
      "project = 75.0\n",
      "finalproject = 100\n",
      "\n",
      "composite = 87.94473684210527\n",
      "coursescore = 93.94473684210527\n"
     ]
    }
   ],
   "source": [
    "hmwkscores       = [100, 94, 100, 88, 100, 100, 25, 90, 80, 100]\n",
    "wpbounty         = 5\n",
    "allseminarscores = [100, 50, 100, 50]\n",
    "projectscores    = [80, 70, 75]\n",
    "finalproject     = 100\n",
    "\n",
    "\n",
    "\n",
    "## hmwks\n",
    "hmwkcount = hmwkscores |> length\n",
    "hmwks = (hmwkscores |> sum) / 950 * 100 + wpbounty\n",
    "@show hmwkscores hmwkcount hmwks;\n",
    "println()\n",
    "\n",
    "\n",
    "## seminars\n",
    "allseminarscores = vcat(allseminarscores, zeros(7 - length(allseminarscores)))  # pad array wirh zeroes\n",
    "countedseminarscores = (allseminarscores |> sort)[3:end]                        # sort, take top 5\n",
    "seminars = (countedseminarscores * 2 / 100) |> sum                              # each worth 2 pts\n",
    "@show allseminarscores countedseminarscores seminars;\n",
    "println()\n",
    "\n",
    "\n",
    "# project\n",
    "project = projectscores / 3 |> sum\n",
    "@show projectscores project finalproject;\n",
    "println()\n",
    "\n",
    "\n",
    "# overall\n",
    "composite = ([hmwks, project, finalproject] .* [30, 45, 25] |> sum) / 100\n",
    "coursescore = composite + seminars\n",
    "@show composite coursescore;"
   ]
  },
  {
   "cell_type": "markdown",
   "metadata": {},
   "source": [
    "\n",
    "<footer class=\"navbar navbar-default navbar-fixed-bottom mcs-psy-nav\" >\n",
    "  <div class=\"container-fluid text-right h4\">\n",
    "    <em>ψᵟ</em>\n",
    "  </div>\n",
    "</footer>\n",
    "\n",
    "<footer style=\"background-color: #461d7c; color:rgba(253,208,35,0.35); line-height:2em; padding-left:1em; padding-right:0.5em; bottom:0; float:bottom; text-align:right;\"><i>ψᵟ</i></footer>\n"
   ]
  }
 ],
 "metadata": {
  "kernelspec": {
   "display_name": "Julia 1.6.0",
   "language": "julia",
   "name": "julia-1.6"
  },
  "language_info": {
   "file_extension": ".jl",
   "mimetype": "application/julia",
   "name": "julia",
   "version": "1.6.1"
  },
  "toc": {
   "base_numbering": 1,
   "nav_menu": {},
   "number_sections": false,
   "sideBar": false,
   "skip_h1_title": false,
   "title_cell": "Table of Contents",
   "title_sidebar": "Contents",
   "toc_cell": false,
   "toc_position": {},
   "toc_section_display": true,
   "toc_window_display": false
  }
 },
 "nbformat": 4,
 "nbformat_minor": 4
}
