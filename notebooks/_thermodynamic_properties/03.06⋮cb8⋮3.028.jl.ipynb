{
 "cells": [
  {
   "cell_type": "markdown",
   "metadata": {},
   "source": [
    "<header class=\"banner\"><div class=\"banner\">\n",
    "  <div class=\"logos\">\n",
    "    <div><img title=\"Julia logo\" src=\"../figures/julia-logo-color.svg\" alt=\"Julia animated logo\" width=35 /></div>\n",
    "    <div>◌</div>\n",
    "    <div><img title=\"Powered by MathJax\" src=\"https://www.mathjax.org/badge/mj-logo.svg\"\n",
    "              alt=\"Powered by MathJax\" width=65 />\n",
    "    </div>\n",
    "  </div>  <!-- logos -->\n",
    "  <div class=\"cite_textbook cb8\">3.028 SI <span class=\"authors\"></span></div>\n",
    "</div></header>\n",
    "\n",
    "\n",
    "\n",
    "\n",
    "<footer class=\"navbar navbar-default navbar-fixed-bottom mcs-psy-nav\" >\n",
    "  <div class=\"container-fluid text-right h4\">\n",
    "    <em>ψᵟ</em>\n",
    "  </div>\n",
    "</footer> "
   ]
  },
  {
   "cell_type": "markdown",
   "metadata": {},
   "source": [
    "### Given \n",
    "A 1.8 m<sup>3</sup> rigid tank contains steam at 220 °C. One-third of the volume is in the liquid phase and the rest is in the vapor form. \n",
    "\n",
    "### Find\n",
    "1. the pressure of the steam, \n",
    "1. the quality of the saturated mixture, and \n",
    "1. the density of the mixture."
   ]
  },
  {
   "cell_type": "markdown",
   "metadata": {},
   "source": [
    "### Get Organized\n",
    "\n",
    "1. We are told we have both liquid and vapor phases present. **Two phases can only coexist under saturation condictions.** Immediately, we know that our pressure will be the saturation pressure at our given temperature.   \n",
    "2. We need quality. Quality $x$ is a mass ratio,  \n",
    " \\begin{gather} \n",
    "  \\notag \\\\\n",
    "  x = \\frac{m_\\ce{vapor}}{m_\\ce{total}}, \\\\ {} \\notag\n",
    " \\end{gather}\n",
    " but we are given a volume ratio. However, we know that specific volume relates volume and mass via  \n",
    " \\begin{gather}\n",
    "  \\notag \\\\\n",
    "  v = \\frac{V}{m}.\n",
    " \\end{gather}\n",
    " Thus, \n",
    " \\begin{gather} \n",
    "  \\notag \\\\\n",
    "  x = \\frac{m_\\ce{vapor}}{m_\\ce{total}} = \\frac{m_\\ce{g}}{m_\\ce{f} + m_\\ce{g}} ,\n",
    " \\end{gather} \n",
    " where\n",
    " \\begin{gather} \n",
    "  \\notag \\\\\n",
    "  m_\\ce{g} = \\frac{V_\\ce{g}}{v_\\ce{g}} = \\frac{\\frac{2}{3}V}{v_\\ce{g}}, \n",
    " \\end{gather} \n",
    " and\n",
    " \\begin{gather} \n",
    "  \\notag \\\\\n",
    "  m_\\ce{f} = \\frac{V_\\ce{f}}{v_\\ce{f}} = \\frac{\\frac{1}{3}V}{v_\\ce{f}}. \n",
    " \\\\ \\notag {}\n",
    " \\end{gather}  \n",
    "2. We have multiple paths for calculating density. We can use it's definition \n",
    " \\begin{gather} \n",
    "  \\notag \\\\\n",
    "  \\rho = \\frac{m}{V} = \\frac{m_\\ce{f} + m_\\ce{g}}{V}. \n",
    " \\end{gather}  \n",
    "$$\\sf {OR}$$   \n",
    "We can calculate density from specific volume, with    \n",
    " \\begin{gather} \n",
    "  \\notag \\\\\n",
    "  \\rho = \\frac{1}{v}, \n",
    " \\end{gather}  \n",
    " and \n",
    " \\begin{gather} \n",
    "  \\notag \\\\\n",
    "  v = v_\\ce{f} + x \\left(v_\\ce{g} - v_\\ce{f} \\right)\n",
    " \\end{gather}  "
   ]
  },
  {
   "cell_type": "markdown",
   "metadata": {},
   "source": [
    "### Attack\n",
    "\n",
    "Let's get to work."
   ]
  },
  {
   "cell_type": "markdown",
   "metadata": {},
   "source": [
    "#### 1. Steam pressure.  \n",
    "Get it right off the saturated steam temperature table.  \n",
    "<div class=\"panel-success\"><div class=\"panel-heading\"><div class=\"badge\"></div> \n",
    "\\begin{gather*} P = P_\\rm{sat@220℃} = 23.18\\, \\ce{bar}\n",
    "\\end{gather*}\n",
    "</div></div>"
   ]
  },
  {
   "cell_type": "markdown",
   "metadata": {},
   "source": [
    "#### 2. Quality.\n",
    "We developed an expression for quality in eqn's (3), (4), and (5). We need $v_\\ce{f}$ and $v_\\ce{g},$ both evaluated at 220 °C. Again, we go to the saturated steam temperature table.\n"
   ]
  },
  {
   "cell_type": "code",
   "execution_count": 1,
   "metadata": {},
   "outputs": [
    {
     "data": {
      "text/plain": [
       "1.8 m^3"
      ]
     },
     "execution_count": 1,
     "metadata": {},
     "output_type": "execute_result"
    }
   ],
   "source": [
    "# ⋮⋮⋮⋮⋮ Julia initializations and setups ⋮⋮⋮⋮⋮⋮⋮⋮⋮⋮⋮⋮⋮⋮⋮⋮⋮⋮⋮⋮⋮⋮⋮⋮⋮⋮⋮⋮⋮⋮⋮⋮⋮⋮⋮⋮⋮⋮⋮⋮\n",
    "using Unitful     # units package for Julia\n",
    "\n",
    "V = 1.8u\"m^3\"     # Unitful quatity, units declaration"
   ]
  },
  {
   "cell_type": "code",
   "execution_count": 2,
   "metadata": {},
   "outputs": [
    {
     "data": {
      "text/plain": [
       "0.02687140115163148"
      ]
     },
     "execution_count": 2,
     "metadata": {},
     "output_type": "execute_result"
    }
   ],
   "source": [
    "vf_220°C = 0.00119u\"m^3/kg\"  # Julia allows unicode symbols in variable names.\n",
    "vg_220°C = 0.08619u\"m^3/kg\"  # Python does also, but its support is limited.\n",
    "\n",
    "mg = 2/3 * V / vg_220°C      # eqn (4)\n",
    "mf = 1/3 * V / vf_220°C      # eqn (5)\n",
    "\n",
    "x = mg / (mf + mg)           # eqn (3)\n",
    "@show x;"
   ]
  },
  {
   "cell_type": "markdown",
   "metadata": {},
   "source": [
    "<div class=\"panel-success\"><div class=\"panel-heading\"><div class=\"badge\"></div> \n",
    "\\begin{gather*} \n",
    "    x = 0.0269\n",
    "\\end{gather*}\n",
    "</div></div>"
   ]
  },
  {
   "cell_type": "markdown",
   "metadata": {},
   "source": [
    "#### 3. Density.\n"
   ]
  },
  {
   "cell_type": "code",
   "execution_count": 3,
   "metadata": {},
   "outputs": [
    {
     "name": "stdout",
     "output_type": "stream",
     "text": [
      "ρ_eqn(6) = 287.84689418173576 kg m^-3\n"
     ]
    }
   ],
   "source": [
    "# Density via eqn (6)\n",
    "\n",
    "ρ = (mf + mg) / V \n",
    "\n",
    "println(\"ρ_eqn(6) = \",ρ)"
   ]
  },
  {
   "cell_type": "code",
   "execution_count": 4,
   "metadata": {},
   "outputs": [
    {
     "name": "stdout",
     "output_type": "stream",
     "text": [
      "ρ_eqn(7) = 287.84689418173576 kg m^-3\n"
     ]
    }
   ],
   "source": [
    "# Density via eqns (7), (8)\n",
    "\n",
    "v = vf_220°C + x*(vg_220°C - vf_220°C)\n",
    "\n",
    "println(\"ρ_eqn(7) = \",1/v)"
   ]
  },
  {
   "cell_type": "markdown",
   "metadata": {},
   "source": [
    "<div class=\"panel-success\"><div class=\"panel-heading\"><div class=\"badge\"></div> \n",
    "\\begin{gather*} \n",
    "    \\rho_\\rm{eqn(6)} = \\rho_\\rm{eqn(7)} = 287.85\\, kg/m^3\n",
    "\\end{gather*}\n",
    "</div></div>"
   ]
  },
  {
   "cell_type": "markdown",
   "metadata": {},
   "source": [
    "<footer style=\"background-color: #461d7c; color:rgba(253,208,35,0.35); line-height:2em; padding-left:1em; padding-right:0.5em; bottom:0; float:bottom; text-align:right;\"><i>ψᵟ</i></footer>"
   ]
  }
 ],
 "metadata": {
  "@webio": {
   "lastCommId": null,
   "lastKernelId": null
  },
  "kernelspec": {
   "display_name": "Julia 1.7.0-DEV",
   "language": "julia",
   "name": "julia-1.7"
  },
  "language_info": {
   "file_extension": ".jl",
   "mimetype": "application/julia",
   "name": "julia",
   "version": "1.7.0"
  },
  "varInspector": {
   "cols": {
    "lenName": 16,
    "lenType": 16,
    "lenVar": 40
   },
   "kernels_config": {
    "python": {
     "delete_cmd_postfix": "",
     "delete_cmd_prefix": "del ",
     "library": "var_list.py",
     "varRefreshCmd": "print(var_dic_list())"
    },
    "r": {
     "delete_cmd_postfix": ") ",
     "delete_cmd_prefix": "rm(",
     "library": "var_list.r",
     "varRefreshCmd": "cat(var_dic_list()) "
    }
   },
   "types_to_exclude": [
    "module",
    "function",
    "builtin_function_or_method",
    "instance",
    "_Feature"
   ],
   "window_display": true
  }
 },
 "nbformat": 4,
 "nbformat_minor": 2
}
