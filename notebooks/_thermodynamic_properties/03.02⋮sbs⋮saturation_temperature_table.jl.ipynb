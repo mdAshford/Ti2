{
 "cells": [
  {
   "cell_type": "markdown",
   "metadata": {
    "extensions": {
     "jupyter_dashboards": {
      "version": 1,
      "views": {
       "grid_default": {
        "col": 0,
        "height": 4,
        "hidden": true,
        "row": 0,
        "width": null
       },
       "report_default": {
        "hidden": true
       }
      }
     }
    }
   },
   "source": [
    "<header class=\"banner\"><div class=\"banner\">\n",
    "  <div class=\"logos\">\n",
    "    <div><img title=\"Julia logo\" src=\"../figures/julia-logo-color.svg\" alt=\"Julia animated logo\" width=35 /></div>\n",
    "    <div>◌</div>\n",
    "    <div><img title=\"Powered by MathJax\" src=\"https://www.mathjax.org/badge/mj-logo.svg\"\n",
    "              alt=\"Powered by MathJax\" width=65 />\n",
    "    </div>\n",
    "  </div>  <!-- logos -->\n",
    "<!--   <div class=\"cite_textbook cb8\">1-67 <span class=\"authors\"></span></div> -->\n",
    "</div></header>\n",
    "\n",
    "\n",
    "<footer class=\"navbar navbar-default navbar-fixed-bottom mcs-psy-nav\" >\n",
    "  <div class=\"container-fluid text-right h4\">\n",
    "    <em>ψᵟ</em>\n",
    "  </div>\n",
    "</footer> "
   ]
  },
  {
   "cell_type": "markdown",
   "metadata": {
    "extensions": {
     "jupyter_dashboards": {
      "version": 1,
      "views": {
       "grid_default": {
        "hidden": true
       },
       "report_default": {
        "hidden": false
       }
      }
     }
    }
   },
   "source": [
    "### Given  \n",
    "$\\quad\\ce{H2O} \\left\\{ \\begin{align*} \\text{T}=220\\ ^\\circ\\text{C}  \\\\\n",
    "    \\text{saturated vapor}\n",
    "    \\end{align*} \n",
    "    \\right.$\n",
    "\n",
    "### Find \n",
    "Properties: internal energy, specific volume, enthalpy, and entropy.  \n",
    "\n",
    "# Attack \n",
    "1. We are given temperature and quality (saturated vapor $\\rightarrow x = 1$), **two independent properties**, so they fix our state.\n",
    "2. We head to the Saturation Temperture Table and locate the row corresponding to \n",
    "$\\enclose{}[mathbackground=#f1f1f0, mathcolor=#16344a]{\\text{T}= 220\\ ^\\circ \\text{C}}$.\n",
    "\n",
    "   <img src=\"../figures/0302_sat_temp_table.png\" width=80% /> \n",
    "    \n",
    "\n",
    "3. From the intersection of $\\enclose{}[mathbackground=#f1f1f0, mathcolor=#16344a]{\\text{T}= 220\\ ^\\circ \\text{C}}$ and <span style=\"color:#f1f1f0; background-color:#1a698a; font-family: sans-serif; font-weight:bold; font-size: 1.2em; height: 1.5em; display: inline;\">&nbsp;Saturated Vapor&nbsp;</span>, we get the properties we are seeking:\n",
    "\n",
    "    1. $\\enclose{}[mathbackground=#f1f1f0, mathcolor=#16344a]{ \\text{P} = \\text P_{sat} = \\text{2318 kPa}\\vphantom{v_g}}$,\n",
    "    1. $\\enclose{}[mathbackground=#f1f1f0, mathcolor=#16344a]{ v = v_g = 0.08619\\ \\text m^3 \\text{/kg}}$,\n",
    "    1. $\\enclose{}[mathbackground=#f1f1f0, mathcolor=#16344a]{ u = u_g = 2602.4 \\text{ kJ/kg}}$,\n",
    "    1. $\\enclose{}[mathbackground=#f1f1f0, mathcolor=#16344a]{ h = h_g = 2802.1 \\text{ kJ/kg}}$, and\n",
    "    1. $\\enclose{}[mathbackground=#f1f1f0, mathcolor=#16344a]{ s = s_g = 6.2861 \\text{ kJ/kg}\\cdot \\text K}$."
   ]
  },
  {
   "cell_type": "markdown",
   "metadata": {},
   "source": [
    "<footer style=\"background-color: #461d7c; color:rgba(253,208,35,0.35); line-height:2em; padding-left:1em; padding-right:0.5em; bottom:0; float:bottom; text-align:right;\"><i>ψᵟ</i></footer>"
   ]
  }
 ],
 "metadata": {
  "@webio": {
   "lastCommId": null,
   "lastKernelId": null
  },
  "extensions": {
   "jupyter_dashboards": {
    "activeView": "report_default",
    "version": 1,
    "views": {
     "grid_default": {
      "cellMargin": 10,
      "defaultCellHeight": 20,
      "maxColumns": 12,
      "name": "grid",
      "type": "grid"
     },
     "report_default": {
      "name": "report",
      "type": "report"
     }
    }
   }
  },
  "kernelspec": {
   "display_name": "Julia 1.7.0-DEV",
   "language": "julia",
   "name": "julia-1.7"
  },
  "language_info": {
   "file_extension": ".jl",
   "mimetype": "application/julia",
   "name": "julia",
   "version": "1.7.0"
  },
  "varInspector": {
   "cols": {
    "lenName": 16,
    "lenType": 16,
    "lenVar": 40
   },
   "kernels_config": {
    "python": {
     "delete_cmd_postfix": "",
     "delete_cmd_prefix": "del ",
     "library": "var_list.py",
     "varRefreshCmd": "print(var_dic_list())"
    },
    "r": {
     "delete_cmd_postfix": ") ",
     "delete_cmd_prefix": "rm(",
     "library": "var_list.r",
     "varRefreshCmd": "cat(var_dic_list()) "
    }
   },
   "types_to_exclude": [
    "module",
    "function",
    "builtin_function_or_method",
    "instance",
    "_Feature"
   ],
   "window_display": true
  }
 },
 "nbformat": 4,
 "nbformat_minor": 2
}
