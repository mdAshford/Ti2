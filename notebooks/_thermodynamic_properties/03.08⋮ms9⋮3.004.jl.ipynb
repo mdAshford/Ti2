{
 "cells": [
  {
   "cell_type": "markdown",
   "metadata": {},
   "source": [
    "<header class=\"banner\"><div class=\"banner\">\n",
    "  <div class=\"logos\">\n",
    "    <div><img title=\"Julia logo\" src=\"../figures/julia-logo-color.svg\" alt=\"Julia animated logo\" width=35 /></div>\n",
    "    <div>◌</div>\n",
    "    <div><img title=\"Powered by MathJax\" src=\"https://www.mathjax.org/badge/mj-logo.svg\"\n",
    "              alt=\"Powered by MathJax\" width=65 />\n",
    "    </div>\n",
    "  </div>  <!-- logos -->\n",
    "  <div class=\"cite_textbook ms9\">3.004 <span class=\"authors\"></span></div>\n",
    "</div></header>\n",
    "\n",
    "\n",
    "<footer class=\"navbar navbar-default navbar-fixed-bottom mcs-psy-nav\" >\n",
    "  <div class=\"container-fluid text-right h4\">\n",
    "    <em>ψᵟ</em>\n",
    "  </div>\n",
    "</footer>"
   ]
  },
  {
   "cell_type": "markdown",
   "metadata": {},
   "source": [
    "\n",
    "### Given   \n",
    "A closed, rigid tank contains 1.25 kg of water, initially a two phase liquid–vapor mixture at $T_1$ = 60 °C. Heat transfer occurs until the tank contains only saturated vapor at $T_2$ = 120 °C.  \n",
    "\n",
    "\n",
    "### Find  \n",
    " 1. $P_1$ [kPa]  \n",
    " 1. $Q$ [kJ]    \n",
    "\n"
   ]
  },
  {
   "cell_type": "markdown",
   "metadata": {},
   "source": [
    "### Get Organized\n",
    "Hide the children! Beautiful diagram lurketh:\n",
    "\n",
    "![R-134a Saturation Pressure Table](../figures/ms9,3-004.png)\n",
    "\n",
    "These things you should notice right away:\n",
    "1. Our system is in a **rigid container** ⋮ expect **constant volume** (isochoric/isometric) process.  \n",
    "1. Our mass is constant. Constant mass and constant volume $\\ce{->}$ **constant specific volume** process.   \n",
    "1. We can resolve State 2 with $T_2$ (given) and $v_2 = v_{g@T_2}$ (saturated vapor, given).    \n",
    "1. We can resolve State 1 with $T_1$ (given) and $v_1 = v_2$ (constant specific volume, remember?).\n",
    "\n",
    "Always, always, **always**: Find the state you can resolve. Relate that state to the states you need via the processes that connect them. Ride that train for the rest of your thermodynamic life. It will bring you Home every time."
   ]
  },
  {
   "cell_type": "markdown",
   "metadata": {},
   "source": [
    "#### Find $\\normalsize \\boldsymbol{P_1}$\n",
    "When we resolve State 1, we will have $P_1$. No problem.\n",
    "\n",
    "#### Find $\\normalsize \\boldsymbol{Q}$\n",
    "We must solve the Energy Equation to calculate $Q$. We may as well get in the habit now of addressing the mass balance, then address the energy balance. \n",
    "\n",
    "**Mass**:  \n",
    "Trivial. Closed System.\n",
    "\n",
    "**Energy:**  \n",
    "1. We have an isometric process, so no boundary work.\n",
    "1. We have no other forms of work present.\n",
    "1. We are told nothing about system velocity or elevation, so we assume $\\Delta \\ce{KE} = \\Delta \\ce{PE} = 0$.  \n",
    "1. We'll assume the heat flows into the system.\n",
    "\n",
    "So our energy equation is as follows:  \n",
    "\n",
    "\\begin{array}{ccccc}\n",
    "  E_{in} &-& E_{out} &=& \\Delta E_{sys} \\\\\n",
    "  Q_{in} &&&=& U_{2} - U_{1} \\\\{}\n",
    "\\end{array}\n",
    "\n",
    "$$ Q_{in} = m\\left(u_2 - u_1  \\right) $$\n",
    "\n",
    "\n",
    "We'll need $u_1$ and $u_2.$\n",
    " "
   ]
  },
  {
   "cell_type": "markdown",
   "metadata": {},
   "source": [
    "### Attack\n",
    "\n",
    "#### Resolve State 2 to get $\\normalsize \\boldsymbol{v_2, u_2}$\n",
    "    \n",
    "$\\quad$ State 2 ⋮ $\\left. \\left\\{ \\begin{array}{} \n",
    "                     T_2 = \\ce{120°C} \\\\\n",
    "                     v_2 = v_{g@T_2}\n",
    "                    \\end{array} \\quad \\right| \\quad \n",
    "                    \\begin{array}{l} \n",
    "                     v_2 = 0.8919\\,\\ce{m^3/kg} \\\\ \n",
    "                     u_2 = 2529.3\\,\\ce{kJ/kg}\n",
    "                    \\end{array} \\quad \\right.$ \n",
    "                    \n",
    "                    \n",
    "#### Resolve State 1 to get $\\normalsize \\boldsymbol{u_1}$\n",
    "    \n",
    "$\\quad$ State 1 ⋮ $ \\left\\{ \\begin{array}{} \n",
    "                     T_1 = \\ce{60°C} \\\\\n",
    "                     v_1 = v_2 = 0.8919 \\,\\ce{m^3/kg}\n",
    "                    \\end{array} \\quad \\right| \\quad v_{f@60\\ce{°C}} = 0.0010172\\,\\ce{m^3/kg} < v_1 < v_{g@60\\ce{°C}} = 7.671\\,\\ce{m^3/kg} \\ \\vdots$ saturated mix."
   ]
  },
  {
   "cell_type": "markdown",
   "metadata": {},
   "source": [
    "\n",
    "\n",
    "<div class=\"panel-success\"><div class=\"panel-heading\"><div class=\"badge\"></div> \n",
    "\n",
    "It's saturated. **Immediately**, we know\n",
    "\n",
    "\\begin{gather*} \\normalsize\n",
    "     P_1 = P_\\text{sat@60°C} = 0.1994\\,\\ce{bar} \\\\{}\n",
    "\\end{gather*}\n",
    "\n",
    "</div></div>"
   ]
  },
  {
   "cell_type": "markdown",
   "metadata": {},
   "source": [
    " Using quality to get $u_1:$\n",
    " \n",
    "\\begin{align*}\n",
    " x &= \\frac{v_1 - v_\\text{f@60°C}}{v_\\text{g@60°C} - v_\\text{f@60°C}} &&= \\frac{u_1 - u_\\text{f@60°C}}{u_\\text{g@60°C} - u_\\text{f@60°C}} \\\\[9pt]\n",
    "   &= \\frac{\\big(0.8919 - 0.0010172\\big)\\ce{m^3/kg}}{\\big(7.671 - 0.0010172\\big)\\ce{m^3/kg}} &&= \\frac{u_1 - 251.11\\,\\ce{kJ/kg}}{\\big(2456.6 - 251.11\\big)\\ce{kJ/kg}}\n",
    "\\end{align*}  \n",
    "\n",
    "                    "
   ]
  },
  {
   "cell_type": "code",
   "execution_count": 1,
   "metadata": {},
   "outputs": [],
   "source": [
    "# ⋮⋮⋮⋮⋮ Julia initializations ⋮⋮⋮⋮⋮⋮⋮⋮⋮⋮⋮⋮⋮⋮⋮⋮⋮⋮⋮⋮⋮⋮⋮⋮⋮⋮⋮⋮⋮⋮⋮⋮⋮⋮⋮⋮⋮⋮⋮⋮\n",
    "\n",
    "using Unitful     "
   ]
  },
  {
   "cell_type": "code",
   "execution_count": 2,
   "metadata": {},
   "outputs": [
    {
     "name": "stdout",
     "output_type": "stream",
     "text": [
      "u₁ = 507.2817748013724 kJ kg⁻¹\n",
      "Q_in = 2527.5227814982845 kJ\n"
     ]
    }
   ],
   "source": [
    "v₁ = 0.8919u\"m^3/kg\"\n",
    "u₂ = 2529.3u\"kJ/kg\"\n",
    "m = 1.25u\"kg\"\n",
    "\n",
    "vf_60°C = 0.0010172u\"m^3/kg\"\n",
    "vg_60°C = 7.671u\"m^3/kg\"\n",
    "\n",
    "uf_60°C = 251.11u\"kJ/kg\"\n",
    "ug_60°C = 2456.6u\"kJ/kg\"\n",
    "\n",
    "x₁ = (v₁ - vf_60°C)/(vg_60°C - vf_60°C)\n",
    "\n",
    "u₁ = uf_60°C + x₁*(ug_60°C - uf_60°C)\n",
    "@show u₁\n",
    "\n",
    "Q_in = m * (u₂ - u₁)\n",
    "@show Q_in;"
   ]
  },
  {
   "cell_type": "markdown",
   "metadata": {},
   "source": [
    "<div class=\"btn-success\">&nbsp;<div class=\"badge\"></div><i class=\"fa fa-spin fa-fw fa-cog\"></i><strong> Finis</strong></div>\n",
    "<div class=\"panel-success\"><div class=\"panel-heading\"><div class=\"badge\"></div> \n",
    "\\begin{gather*} \\normalsize\n",
    "    P_1 = 19.94\\,\\ce{kPa}, \\quad Q = 2527.52\\,\\ce{kJ}, \\textbf{IN}\n",
    "\\end{gather*}\n",
    "</div></div>"
   ]
  },
  {
   "cell_type": "markdown",
   "metadata": {},
   "source": [
    "<footer style=\"background-color: #461d7c; color:rgba(253,208,35,0.35); line-height:2em; padding-left:1em; padding-right:0.5em; bottom:0; float:bottom; text-align:right;\"><i>ψᵟ</i></footer>"
   ]
  }
 ],
 "metadata": {
  "@webio": {
   "lastCommId": null,
   "lastKernelId": null
  },
  "kernelspec": {
   "display_name": "Julia 1.7.0-DEV",
   "language": "julia",
   "name": "julia-1.7"
  },
  "language_info": {
   "file_extension": ".jl",
   "mimetype": "application/julia",
   "name": "julia",
   "version": "1.7.0"
  },
  "varInspector": {
   "cols": {
    "lenName": 16,
    "lenType": 16,
    "lenVar": 40
   },
   "kernels_config": {
    "python": {
     "delete_cmd_postfix": "",
     "delete_cmd_prefix": "del ",
     "library": "var_list.py",
     "varRefreshCmd": "print(var_dic_list())"
    },
    "r": {
     "delete_cmd_postfix": ") ",
     "delete_cmd_prefix": "rm(",
     "library": "var_list.r",
     "varRefreshCmd": "cat(var_dic_list()) "
    }
   },
   "types_to_exclude": [
    "module",
    "function",
    "builtin_function_or_method",
    "instance",
    "_Feature"
   ],
   "window_display": true
  }
 },
 "nbformat": 4,
 "nbformat_minor": 2
}
