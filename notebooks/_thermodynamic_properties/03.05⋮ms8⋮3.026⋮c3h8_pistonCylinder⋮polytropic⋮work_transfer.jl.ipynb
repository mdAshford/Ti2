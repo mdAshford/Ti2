{
 "cells": [
  {
   "cell_type": "markdown",
   "metadata": {},
   "source": [
    "<header class=\"banner\"><div class=\"banner\">\n",
    "  <div class=\"logos\">\n",
    "    <div><img title=\"Julia logo\" src=\"../figures/julia-logo-color.svg\" alt=\"Julia animated logo\" width=35 /></div>\n",
    "    <div>◌</div>\n",
    "    <div><img title=\"Powered by MathJax\" src=\"https://www.mathjax.org/badge/mj-logo.svg\"\n",
    "              alt=\"Powered by MathJax\" width=65 />\n",
    "    </div>\n",
    "  </div>  <!-- logos -->\n",
    "  <div class=\"cite_textbook ms9\">3.026 <span class=\"authors\"></span></div>\n",
    "</div></header>\n",
    "\n",
    "\n",
    "\n",
    "<footer class=\"navbar navbar-default navbar-fixed-bottom mcs-psy-nav\" >\n",
    "  <div class=\"container-fluid text-right h4\">\n",
    "    <em>ψᵟ</em>\n",
    "  </div>\n",
    "</footer> "
   ]
  },
  {
   "cell_type": "markdown",
   "metadata": {},
   "source": [
    "A piston–cylinder assembly contains 0.3 lb of propane. The propane expands from an initial state where P₁ = 60 lbf/in² and T₁ = 90°F to a final state where P₂ = 10 lbf/in². During the process, the pressure and specific volume are related by Pv² = constant. Determine the energy transfer by work, in Btu.\n",
    "\n",
    "----"
   ]
  },
  {
   "cell_type": "markdown",
   "metadata": {},
   "source": [
    "### Given  \n",
    "0.3 lbm propane (aka C₃H₈, R290), Pv² = constant\n",
    "1. P₁ = 60 psia, T₁ = 90 °F   \n",
    "2. P₂ = 10 psia   "
   ]
  },
  {
   "cell_type": "markdown",
   "metadata": {},
   "source": [
    "### Find\n",
    "1. Energy transfer by work \\[Btu\\]  "
   ]
  },
  {
   "cell_type": "markdown",
   "metadata": {},
   "source": [
    "### Get Organized  \n",
    "\n",
    "Draw yourself a nice figure to help keep track of the details.  \n",
    "\n",
    "<!--   ![./figures/ms3.026⋮pistonCylinder.png](./figures/ms3.026⋮pistonCylinder.png) -->\n",
    "\n",
    "  <img src=\"../figures/ms3.026⋮pistonCylinder.png\" alt=\"piston-cylinder device.png\" width=80% />\n"
   ]
  },
  {
   "cell_type": "markdown",
   "metadata": {},
   "source": [
    "Often, it's not easy to know where to begin. The best place to start is anywhere you can define a state. Relate the states to each other via the processes that connect them.  \n",
    "\n",
    "$$\n",
    "\\left.\n",
    "\\begin{alignat*}{1}\n",
    "P_1 &= \\pu{60 psia} \\\\\n",
    "T_1 &= \\pu{90 °F}\n",
    "\\end{alignat*}\n",
    "\\right\\}\n",
    "\\xrightarrow{Pv^2 \\ = \\ \\mathbf{\\Omega}}\n",
    "\\bigg\\{\n",
    "P_2 = \\pu{10 psia}\n",
    "\\bigg.\n",
    "$$"
   ]
  },
  {
   "cell_type": "markdown",
   "metadata": {},
   "source": [
    "1. Right away, notice that we *may* have enough information to define State ⓵. **Remember, temperature and pressure are NOT independent under saturation conditions.** We'll check that later.  \n",
    "\n",
    "\n",
    "2. **We have moving boundary work.** Our system is inside a piston-cylinder assembly; we are told that it expands; and we're given a pressure/volume relationship that indicates a drop in pressure is accompanied by an increase in volume.  \n",
    "\n",
    "\n",
    "3. No other work interactions are indicated.  "
   ]
  },
  {
   "cell_type": "markdown",
   "metadata": {},
   "source": [
    "#### Plan your attack\n",
    "\n",
    "1. We can do a little math ahead of time to simplify things if we can. More importantly, it will help define which properties we need.\n",
    "\n",
    " All of the work is boundary work,  \n",
    "\\begin{equation} w_{b,out} = \\int^2_1 P \\, \\mathrm dv \\end{equation}\n",
    "\n",
    " and we are given a relationship between pressure and volume\n",
    "\\begin{equation} ~\\\\ Pv^2 = \\small \\textsf{constant} = \\normalsize \\Omega \\end{equation}  \n",
    "\n",
    " Combining equations,\n",
    "\n",
    " \\begin{equation*} \n",
    " w_{b,out} = \\int^2_1 P \\, \\mathrm dv \n",
    "    = \\int^2_1 \\frac{\\Omega}{v^2} \\, dv\\\n",
    "    = - \\frac{\\Omega}{v} \\Bigg|_{v_1}^{v_2} \\\\[12pt] ~ \n",
    "  \\end{equation*}\n",
    "\n",
    " \\begin{equation} \n",
    "  w_{b,out} = \\frac{\\Omega}{v_1} - \\frac{\\Omega}{v_2} \\\\[12pt] ~\n",
    " \\end{equation}  \n",
    "  $$\\Omega = P_1 v^2_1 = P_2 v^2_2 $$.   \n",
    "\n",
    "\n"
   ]
  },
  {
   "cell_type": "markdown",
   "metadata": {},
   "source": [
    "2. #### FYI: Flexibiliy via substitution\n",
    " Here we show options for replacing the constant $\\mathbf\\Omega$. Read this as 2 colunms.\n",
    " \n",
    " \\begin{alignat*}{1} \n",
    " w_{b,out} \n",
    "   &= \\frac{\\Omega}{v_1} - \\frac{\\Omega}{v_2}  \\hspace{6em}\n",
    "&w_{b,out}   \n",
    "   &= \\frac{\\Omega}{v_1} - \\frac{\\Omega}{v_2} \n",
    " \\\\[2ex] \n",
    "   &= \\frac{P_1 v_1^2}{v_1} - \\frac{P_2 v_2^2}{v_2} \n",
    "  &&= \\frac{P_1 v_1^2}{v_1} - \\frac{P_1 v_1^2}{v_2} \n",
    " \\\\[2ex]\n",
    "   &= P_1 v_1 - P_2 v_2 \n",
    "  &&= P_1 v_1 \\left[ 1 - \\frac{v_1}{v_2} \\right] \n",
    " \\\\[2ex]\n",
    "   & \n",
    "  &&= P_1 v_1 \\left[ 1 - \\left( {\\frac{P_2}{P_1}} \\right)^{1/2} \\right] \n",
    " \\\\[2ex]\n",
    " \\end{alignat*}\n"
   ]
  },
  {
   "cell_type": "markdown",
   "metadata": {},
   "source": [
    "## Attack \n",
    "\n",
    "1. Let's define State ⓵. \n",
    "\n",
    " We start with the Saturation Tables, as usual. Entering the Saturation Temperature Table at 90 °F:  \n",
    " \n",
    " $$\\small \\enclose{}[mathbackground=#f1f1f0, mathcolor=#16344a]{P_{\\text{sat}} = \\pu{165.2 psia}} <  P_1 = \\pu{60 psia} \\Rightarrow \\textsf{superheated vapor}$$\n",
    "\n",
    " We know we have a superheated vapor because $P_1$ is lower than the saturation pressure corresponding to our temperature. One way to resolve the logic is to remember that  higher pressure favors condensation. Inversely, a fluid at a pressure below saturation pressure will be liquid (or solid).  \n",
    " \n",
    "<!--    ![./figures/ms3.026⋮c3h8superheated.png](./figures/ms3.026⋮sat_temp_table.png)$$~\\\\[12pt]~$$ -->\n",
    "\n",
    " <img src=\"../figures/ms3.026⋮sat_temp_table.png\" alt=\"Propane Saturation Temperature Table\" width=80% />\n",
    "\n",
    "\n",
    " What if we had chosen the Saturation Pressure Table?\n",
    "<!--    ![./figures/ms3.026⋮c3h8superheated.png](./figures/ms3.026⋮sat_press_table.png) -->\n",
    "\n",
    " <img src=\"../figures/ms3.026⋮sat_press_table.png\" alt=\"Propane Saturation Pressure Table\" width=80% />\n",
    "\n",
    "  \n",
    "  At 60 psia, $\\enclose{}[mathbackground=#f1f1f0, mathcolor=#16344a]{T_{\\text{sat}} = \\pu{24.1 °F}}$. Because $T_1 > T_{\\textsf{sat}},$ we have superheated vapor. Higher temperatures promote vaporization. A fluid at a temperature higher than its saturation temperature will be a vapor.  \n",
    "  \n",
    "  "
   ]
  },
  {
   "cell_type": "markdown",
   "metadata": {},
   "source": [
    "2. On to the superheated vapor table.  \n",
    "\n",
    "<!--  ![./figures/ms3.026⋮c3h8superheated.png](./figures/ms3.026⋮c3h8superheated.png) -->\n",
    " \n",
    " <img src=\"../figures/ms3.026⋮c3h8superheated.png\" alt=\"Propane Superheated Vapor Table\" width=80% />\n",
    "\n",
    "\n",
    " $ v\\left(\\pu{60 psia},\\pu{90 °F}\\right)\\longrightarrow \\small\\enclose{}[mathbackground=#f1f1f0, mathcolor=#16344a]{v = \\pu{2.087 ft^3/lbm} }$. \n",
    "\n"
   ]
  },
  {
   "cell_type": "markdown",
   "metadata": {},
   "source": [
    "Time to solve. We'll evaluate both substitution options."
   ]
  },
  {
   "cell_type": "code",
   "execution_count": 1,
   "metadata": {},
   "outputs": [],
   "source": [
    "# ⋮⋮⋮⋮⋮ Julia initializations and setups ⋮⋮⋮⋮⋮⋮⋮⋮⋮⋮⋮⋮⋮⋮⋮⋮⋮⋮⋮⋮⋮⋮⋮⋮⋮⋮⋮⋮⋮⋮⋮⋮⋮⋮⋮⋮⋮⋮⋮⋮\n",
    "using Unitful      # units package for Julia\n",
    "\n",
    "P₁ =  60u\"psi\"     # Unitful quatity, units declaration\n",
    "P₂ =  10u\"psi\"     # Unitful quatity, units declaration\n",
    "m  = 0.3u\"lb\";     # lbm is \"lb\" in Unitful "
   ]
  },
  {
   "cell_type": "code",
   "execution_count": 2,
   "metadata": {},
   "outputs": [],
   "source": [
    "v₁ = 2.087u\"ft^3/lb\";            # P₁ = 60 psia, T₁ = 90 °F "
   ]
  },
  {
   "cell_type": "markdown",
   "metadata": {},
   "source": [
    "$ \\textsf{Using: } w_{b,out} = P_1 v_1 - P_2 v_2 \\quad and \\quad P_1 v^2_1 = P_2 v^2_2$"
   ]
  },
  {
   "cell_type": "code",
   "execution_count": 3,
   "metadata": {},
   "outputs": [
    {
     "name": "stdout",
     "output_type": "stream",
     "text": [
      "W_out = 4.113591748853909 btu\n"
     ]
    }
   ],
   "source": [
    "v₂ = v₁ * sqrt(P₁/P₂)            # from P₁v₁^2 = P₂v₂^2\n",
    "wb_out = P₁*v₁ - P₂*v₂           \n",
    "W_out = m * wb_out |> u\"btu\"     # W_out = (m)(w_b,out)\n",
    "@show W_out;"
   ]
  },
  {
   "cell_type": "markdown",
   "metadata": {},
   "source": [
    "$ \\displaystyle\\textsf{Using: } w_{b,out} = P_1 v_1 \\left[ 1 - \\left( {\\frac{P_2}{P_1}} \\right)^{1/2} \\right] $"
   ]
  },
  {
   "cell_type": "code",
   "execution_count": 4,
   "metadata": {},
   "outputs": [
    {
     "name": "stdout",
     "output_type": "stream",
     "text": [
      "WW_out = 4.113591748853909 btu\n"
     ]
    }
   ],
   "source": [
    "wb_out = P₁*v₁ * (1 -  sqrt(P₂/P₁))\n",
    "WW_out = m * wb_out |> u\"btu\"     # used WW to ensure result was independent of the previous one\n",
    "\n",
    "@show WW_out;"
   ]
  },
  {
   "cell_type": "markdown",
   "metadata": {},
   "source": [
    "$$\\color{red} W_{out} = 4.11\\ BTU$$"
   ]
  },
  {
   "cell_type": "markdown",
   "metadata": {},
   "source": [
    "<footer style=\"background-color: #461d7c; color:rgba(253,208,35,0.35); line-height:2em; padding-left:1em; padding-right:0.5em; bottom:0; float:bottom; text-align:right;\"><i>ψᵟ</i></footer>"
   ]
  }
 ],
 "metadata": {
  "@webio": {
   "lastCommId": null,
   "lastKernelId": null
  },
  "kernelspec": {
   "display_name": "Julia 1.7.0-DEV",
   "language": "julia",
   "name": "julia-1.7"
  },
  "language_info": {
   "file_extension": ".jl",
   "mimetype": "application/julia",
   "name": "julia",
   "version": "1.7.0"
  },
  "varInspector": {
   "cols": {
    "lenName": 16,
    "lenType": 16,
    "lenVar": 40
   },
   "kernels_config": {
    "python": {
     "delete_cmd_postfix": "",
     "delete_cmd_prefix": "del ",
     "library": "var_list.py",
     "varRefreshCmd": "print(var_dic_list())"
    },
    "r": {
     "delete_cmd_postfix": ") ",
     "delete_cmd_prefix": "rm(",
     "library": "var_list.r",
     "varRefreshCmd": "cat(var_dic_list()) "
    }
   },
   "types_to_exclude": [
    "module",
    "function",
    "builtin_function_or_method",
    "instance",
    "_Feature"
   ],
   "window_display": true
  }
 },
 "nbformat": 4,
 "nbformat_minor": 2
}
