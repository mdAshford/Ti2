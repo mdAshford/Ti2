{
 "cells": [
  {
   "cell_type": "code",
   "execution_count": 4,
   "metadata": {},
   "outputs": [
    {
     "name": "stdout",
     "output_type": "stream",
     "text": [
      "\u001b[32m\u001b[1mStatus\u001b[22m\u001b[39m `~/Library/Mobile Documents/com~apple~CloudDocs/iDocuments/0.course/resources.thermodynamics/YOUcanDoThermodynamics/Ti2-broken/notebooks/Project.toml`\n",
      " \u001b[90m [e084ae63] \u001b[39m\u001b[37mCoolProp v0.0.0 `https://github.com/CoolProp/CoolProp.jl.git#master`\u001b[39m\n",
      " \u001b[90m [3a141323] \u001b[39m\u001b[37mPolynomialRoots v1.0.0\u001b[39m\n",
      " \u001b[90m [27ebfcd6] \u001b[39m\u001b[37mPrimes v0.5.0\u001b[39m\n",
      " \u001b[90m [1986cc42] \u001b[39m\u001b[37mUnitful v1.5.0\u001b[39m\n"
     ]
    }
   ],
   "source": [
    "import Pkg\n",
    "Pkg.status()"
   ]
  },
  {
   "cell_type": "code",
   "execution_count": 6,
   "metadata": {},
   "outputs": [
    {
     "data": {
      "text/plain": [
       "\"/Users/psydat/Library/Mobile Documents/com~apple~CloudDocs/iDocuments/0.course/resources.thermodynamics/YOUcanDoThermodynamics/Ti2-broken/notebooks/_.play\""
      ]
     },
     "execution_count": 6,
     "metadata": {},
     "output_type": "execute_result"
    }
   ],
   "source": [
    "pwd()"
   ]
  },
  {
   "cell_type": "code",
   "execution_count": 7,
   "metadata": {},
   "outputs": [
    {
     "name": "stderr",
     "output_type": "stream",
     "text": [
      "\u001b[32m\u001b[1m Activating\u001b[22m\u001b[39m new environment at `~/Library/Mobile Documents/com~apple~CloudDocs/iDocuments/0.course/resources.thermodynamics/YOUcanDoThermodynamics/Ti2-broken/notebooks/_.play/Project.toml`\n"
     ]
    }
   ],
   "source": [
    "Pkg.activate(\".\")"
   ]
  },
  {
   "cell_type": "code",
   "execution_count": 11,
   "metadata": {},
   "outputs": [
    {
     "name": "stderr",
     "output_type": "stream",
     "text": [
      "\u001b[32m\u001b[1m  Resolving\u001b[22m\u001b[39m package versions...\n",
      "\u001b[32m\u001b[1mUpdating\u001b[22m\u001b[39m `~/Library/Mobile Documents/com~apple~CloudDocs/iDocuments/0.course/resources.thermodynamics/YOUcanDoThermodynamics/Ti2-broken/notebooks/_.play/Project.toml`\n",
      " \u001b[90m [b964fa9f] \u001b[39m\u001b[92m+ LaTeXStrings v1.2.0\u001b[39m\n",
      "\u001b[32m\u001b[1mUpdating\u001b[22m\u001b[39m `~/Library/Mobile Documents/com~apple~CloudDocs/iDocuments/0.course/resources.thermodynamics/YOUcanDoThermodynamics/Ti2-broken/notebooks/_.play/Manifest.toml`\n",
      " \u001b[90m [b964fa9f] \u001b[39m\u001b[92m+ LaTeXStrings v1.2.0\u001b[39m\n"
     ]
    }
   ],
   "source": [
    "Pkg.add(\"LaTeXStrings\")"
   ]
  },
  {
   "cell_type": "code",
   "execution_count": null,
   "metadata": {},
   "outputs": [],
   "source": []
  }
 ],
 "metadata": {
  "kernelspec": {
   "display_name": "Julia 1.5.2",
   "language": "julia",
   "name": "julia-1.5"
  },
  "language_info": {
   "file_extension": ".jl",
   "mimetype": "application/julia",
   "name": "julia",
   "version": "1.5.2"
  }
 },
 "nbformat": 4,
 "nbformat_minor": 4
}
