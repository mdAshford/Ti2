{
 "cells": [
  {
   "cell_type": "code",
   "execution_count": 1,
   "metadata": {},
   "outputs": [
    {
     "name": "stdout",
     "output_type": "stream",
     "text": [
      "\u001b[32m\u001b[1mStatus\u001b[22m\u001b[39m `~/Library/Mobile Documents/com~apple~CloudDocs/iDocuments/0.course/resources.thermodynamics/YOUcanDoThermodynamics/Ti2-broken/notebooks/_.play/Project.toml`\n",
      " \u001b[90m [b964fa9f] \u001b[39m\u001b[37mLaTeXStrings v1.2.0\u001b[39m\n"
     ]
    }
   ],
   "source": [
    "import Pkg\n",
    "Pkg.status()"
   ]
  },
  {
   "cell_type": "code",
   "execution_count": 2,
   "metadata": {},
   "outputs": [
    {
     "ename": "ArgumentError",
     "evalue": "ArgumentError: Package Primes not found in current path:\n- Run `import Pkg; Pkg.add(\"Primes\")` to install the Primes package.\n",
     "output_type": "error",
     "traceback": [
      "ArgumentError: Package Primes not found in current path:\n- Run `import Pkg; Pkg.add(\"Primes\")` to install the Primes package.\n",
      "",
      "Stacktrace:",
      " [1] require(::Module, ::Symbol) at ./loading.jl:893",
      " [2] top-level scope at In[2]:1"
     ]
    }
   ],
   "source": [
    "using Primes"
   ]
  },
  {
   "cell_type": "code",
   "execution_count": null,
   "metadata": {},
   "outputs": [],
   "source": []
  }
 ],
 "metadata": {
  "kernelspec": {
   "display_name": "Julia 1.5.2",
   "language": "julia",
   "name": "julia-1.5"
  },
  "language_info": {
   "file_extension": ".jl",
   "mimetype": "application/julia",
   "name": "julia",
   "version": "1.5.2"
  }
 },
 "nbformat": 4,
 "nbformat_minor": 4
}
