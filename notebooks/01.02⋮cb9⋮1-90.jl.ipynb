{
 "cells": [
  {
   "cell_type": "markdown",
   "metadata": {},
   "source": [
    "<header class=\"banner\">\n",
    " <div class=\"banner\">\n",
    "  <div class=\"logos\">\n",
    "    <div><img title=\"Juli logo\" src=\"figures/julia-logo-color.svg\" alt=\"Julia animated logo\" width=35 /></div>\n",
    "<!--     <div>$\\small\\LaTeX$</div> -->\n",
    "    <div><img title=\"Powered by MathJax\" src=\"https://www.mathjax.org/badge/mj-logo.svg\" alt=\"Powered by MathJax\" width=65/></div>\n",
    "  </div>\n",
    "  <div class=\"cite_textbook cb9\">\n",
    "    1-90\n",
    "  </div>\n",
    " </div>\n",
    "</header>\n",
    "\n",
    "\n",
    "\n",
    "\n",
    "\n",
    "\n",
    "\n",
    "\n",
    "\n",
    "\n"
   ]
  },
  {
   "cell_type": "markdown",
   "metadata": {},
   "source": [
    "A hydraulic lift is to be used to lift a 1900-kg weight by putting a weight of 25 kg on a piston with a diameter of 10 cm. Determine the diameter of the piston on which the weight is to be placed.\n",
    "\n",
    "<img src=\"figures/cen22672_p01090.png\" width=\"350px\" />"
   ]
  },
  {
   "cell_type": "markdown",
   "metadata": {},
   "source": [
    "### Given\n",
    "\n",
    "Hydraulic lift as illustrated above, with $m_1 = 25\\,\\ce{kg}$, $m_2 = 2500\\,\\ce{kg}$, and $D_1 = 10\\,\\ce{cm}$."
   ]
  },
  {
   "cell_type": "code",
   "execution_count": 5,
   "metadata": {},
   "outputs": [
    {
     "data": {
      "application/javascript": [
       "\n",
       "MathJax.Hub.Config({ TeX: { extensions: [ \"mhchem.js\" ]  } });\n"
      ]
     },
     "metadata": {},
     "output_type": "display_data"
    }
   ],
   "source": [
    "javascript\"\"\"\n",
    "\n",
    "MathJax.Hub.Config({ TeX: { extensions: [ \"mhchem.js\" ]  } });\n",
    "\"\"\""
   ]
  },
  {
   "cell_type": "code",
   "execution_count": 7,
   "metadata": {},
   "outputs": [
    {
     "data": {
      "application/javascript": [
       "MathJax.Hub.Config({\n",
       "  TeX: { \n",
       "    extensions: [ \"mhchem.js\" ],\n",
       "    equationNumbers: { autoNumber: \"AMS\" } \n",
       "  }\n",
       "});\n"
      ]
     },
     "metadata": {},
     "output_type": "display_data"
    }
   ],
   "source": [
    "javascript\"\"\"\n",
    "MathJax.Hub.Config({\n",
    "  TeX: { \n",
    "    extensions: [ \"mhchem.js\" ],\n",
    "    equationNumbers: { autoNumber: \"AMS\" } \n",
    "  }\n",
    "});\n",
    "\"\"\""
   ]
  },
  {
   "cell_type": "code",
   "execution_count": 6,
   "metadata": {},
   "outputs": [
    {
     "data": {
      "application/javascript": [
       "MathJax.Hub.Queue(\n",
       "  [\"resetEquationNumbers\", MathJax.InputJax.TeX],\n",
       "  [\"PreProcess\", MathJax.Hub],\n",
       "  [\"Reprocess\", MathJax.Hub]\n",
       ");\n"
      ]
     },
     "metadata": {},
     "output_type": "display_data"
    }
   ],
   "source": [
    "javascript\"\"\"\n",
    "MathJax.Hub.Queue(\n",
    "  [\"resetEquationNumbers\", MathJax.InputJax.TeX],\n",
    "  [\"PreProcess\", MathJax.Hub],\n",
    "  [\"Reprocess\", MathJax.Hub]\n",
    ");\n",
    "\"\"\""
   ]
  },
  {
   "cell_type": "markdown",
   "metadata": {},
   "source": [
    "MathJax.Hub.Queue(\n",
    "  [\"resetEquationNumbers\", MathJax.InputJax.TeX],\n",
    "  [\"PreProcess\", MathJax.Hub],\n",
    "  [\"Reprocess\", MathJax.Hub]\n",
    ");\n",
    "MathJax.Hub.Configured()"
   ]
  },
  {
   "cell_type": "code",
   "execution_count": 2,
   "metadata": {},
   "outputs": [
    {
     "data": {
      "text/plain": [
       "@javascript_str (macro with 1 method)"
      ]
     },
     "execution_count": 2,
     "metadata": {},
     "output_type": "execute_result"
    }
   ],
   "source": [
    "macro javascript_str(s) display(\"text/javascript\", s); end"
   ]
  },
  {
   "cell_type": "markdown",
   "metadata": {},
   "source": [
    "$\\cancel{c^2}$"
   ]
  },
  {
   "cell_type": "markdown",
   "metadata": {},
   "source": [
    "## Find\n",
    "\n",
    "Calculate $D_2$"
   ]
  },
  {
   "cell_type": "markdown",
   "metadata": {},
   "source": [
    "## Assumptions\n",
    "\n",
    "The physical principles we employ is Pascal's Law (aka Pascal's Principle): the effect of pressure is felt everywhere equally. If we assume the hydraulic pistons are at the same elevation, the pressure in the adjacent fluid is the same. In our case, \n",
    "\n",
    "\\begin{equation} P_{1} = P_{2}. \\end{equation}\n",
    "\n",
    "## Get Organized  \n",
    "\n",
    "A little algebra before we dive into calculations can often make our lives much easier... *experience and personal preference direct whether you should start with algebraic manipulation or numerical calculation.* \n",
    "\n",
    "\n",
    "\\begin{align}\n",
    "               P_{1} & = P_{2} \\notag \\\\[6pt]\n",
    " \\frac{F_{1}}{A_{1}} & = \\frac{F_{2}}{A_{2}}  \\\\[6pt]   \n",
    " \\frac{m_{1}g}{\\frac{\\pi}{4}D_{1}^2} & = \\frac{m_{2}g}{\\frac{\\pi}{4}D_{2}^2}   \\\\[6pt]  \n",
    "\\end{align}\n",
    "\n",
    "<p style=\"padding-left:35%;\">\n",
    "    yada, yada, algebra... \n",
    "<p>\n",
    "\n",
    "\\begin{equation}\n",
    " D_{2} = D_{1} \\sqrt{\\frac{m_2}{m_1}}   \\vphantom{\\sqrt{\\frac{m^2}{m_1}}}\n",
    "\\end{equation}"
   ]
  },
  {
   "cell_type": "markdown",
   "metadata": {},
   "source": [
    "## Attack\n",
    "\n",
    "Nothing left but the calculation."
   ]
  },
  {
   "cell_type": "code",
   "execution_count": 1,
   "metadata": {
    "scrolled": false
   },
   "outputs": [],
   "source": [
    "# a little Python housekeeping\n",
    "from pint import UnitRegistry      # import the pint units package for Python\n",
    "ureg = UnitRegistry()              # make a shortcut to the pint unit registry class constructor\n",
    "import math                        # Python math library. Note the lowercase 'm' \n",
    "\n",
    "# not required\n",
    "from IPython.display import Math   # IPython library for extra-pretty LaTeX output. Note the UPPERCASE 'M'\n",
    "\n",
    "# use pint class constructor to assign quantities\n",
    "m_1 = ureg('25kg')       \n",
    "m_2 = ureg('2500kg')      \n",
    "D_1 = ureg('10cm')\n",
    "\n",
    "D_2 = D_1 * math.sqrt(m_2 / m_1)          \n",
    "D_2                                    # raw output"
   ]
  },
  {
   "cell_type": "code",
   "execution_count": 4,
   "metadata": {},
   "outputs": [
    {
     "data": {
      "text/latex": [
       "$\\displaystyle D_2 = 100.0\\ \\mathrm{centimeter}$"
      ],
      "text/plain": [
       "<IPython.core.display.Math object>"
      ]
     },
     "execution_count": 4,
     "metadata": {},
     "output_type": "execute_result"
    }
   ],
   "source": [
    "# optional\n",
    "Math(r'D_2 = {:L}'.format(D_2))       # pretty rendering with LaTeX"
   ]
  },
  {
   "cell_type": "code",
   "execution_count": 5,
   "metadata": {},
   "outputs": [
    {
     "data": {
      "text/latex": [
       "$\\displaystyle D_2 = 100.0\\ \\mathrm{cm}$"
      ],
      "text/plain": [
       "<IPython.core.display.Math object>"
      ]
     },
     "execution_count": 5,
     "metadata": {},
     "output_type": "execute_result"
    }
   ],
   "source": [
    "# optional\n",
    "Math(r'D_2 = {:~L}'.format(D_2))       # pretty rendering with LaTeX"
   ]
  },
  {
   "cell_type": "markdown",
   "metadata": {},
   "source": [
    "<div class=\"btn-success\">&nbsp;<div class=\"badge\"></div><i class=\"fa fa-question-circle\"></i><strong> Check your understanding</strong></div>\n",
    "<div class=\"panel-success\"><div class=\"panel-heading\">\n",
    "    \n",
    "1. What if the driving piston (25kg) were 3 m above the driven piston?   \n",
    "2. Why didn't we account for atmospheric pressure?  \n",
    "</div></div>"
   ]
  },
  {
   "cell_type": "markdown",
   "metadata": {},
   "source": [
    "<footer style=\"background-color: #461d7c; color:rgba(253,208,35,0.35); line-height:2em; padding-left:1em; padding-right:0.5em; bottom:0; float:bottom; text-align:right;\"><i>ψᵟ</i></footer>"
   ]
  }
 ],
 "metadata": {
  "kernel_info": {
   "name": "python3"
  },
  "kernelspec": {
   "display_name": "Julia 1.5.0",
   "language": "julia",
   "name": "julia-1.5"
  },
  "language_info": {
   "file_extension": ".jl",
   "mimetype": "application/julia",
   "name": "julia",
   "version": "1.5.0"
  },
  "nteract": {
   "version": "0.11.6"
  },
  "varInspector": {
   "cols": {
    "lenName": 16,
    "lenType": 16,
    "lenVar": 40
   },
   "kernels_config": {
    "python": {
     "delete_cmd_postfix": "",
     "delete_cmd_prefix": "del ",
     "library": "var_list.py",
     "varRefreshCmd": "print(var_dic_list())"
    },
    "r": {
     "delete_cmd_postfix": ") ",
     "delete_cmd_prefix": "rm(",
     "library": "var_list.r",
     "varRefreshCmd": "cat(var_dic_list()) "
    }
   },
   "types_to_exclude": [
    "module",
    "function",
    "builtin_function_or_method",
    "instance",
    "_Feature"
   ],
   "window_display": false
  }
 },
 "nbformat": 4,
 "nbformat_minor": 2
}
