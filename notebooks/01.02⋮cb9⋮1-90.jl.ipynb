{
 "cells": [
  {
   "cell_type": "markdown",
   "metadata": {},
   "source": [
    "<header class=\"banner\"><div class=\"banner\">\n",
    "  <div class=\"logos\">\n",
    "    <div><img title=\"Julia logo\" src=\"figures/julia-logo-color.svg\" alt=\"Julia animated logo\" width=35 /></div>\n",
    "    <div>◌</div>\n",
    "    <div><img title=\"Powered by MathJax\" src=\"https://www.mathjax.org/badge/mj-logo.svg\"\n",
    "              alt=\"Powered by MathJax\" width=65 />\n",
    "    </div>\n",
    "  </div>  <!-- logos -->\n",
    "  <div class=\"cite_textbook cb9\">1-90 <span class=\"authors\"></span></div>\n",
    "</div></header>"
   ]
  },
  {
   "cell_type": "markdown",
   "metadata": {},
   "source": [
    "A hydraulic lift is to be used to lift a 1900-kg weight by putting a weight of 25 kg on a piston with a diameter of 10 cm. Determine the diameter of the piston on which the weight is to be placed.\n",
    "\n",
    "<img src=\"figures/cen22672_p01090.png\" width=\"300px\" />"
   ]
  },
  {
   "cell_type": "markdown",
   "metadata": {},
   "source": [
    "### Given\n",
    "\n",
    "Hydraulic lift as illustrated above, with $m_1$= 25 kg, $m_2$= 2500 kg, and $D_1$= 10 cm."
   ]
  },
  {
   "cell_type": "markdown",
   "metadata": {},
   "source": [
    "### Find\n",
    "\n",
    "Calculate $D_2$"
   ]
  },
  {
   "cell_type": "markdown",
   "metadata": {},
   "source": [
    "### Assumptions\n",
    "\n",
    "1. The physical principle we employ is Pascal's Law (aka Pascal's Principle): the effect of pressure is felt everywhere equally. If we assume the hydraulic pistons are at the same elevation, the pressure in the adjacent fluid is the same. In our case, \n",
    "\n",
    "\\begin{equation} P_{1} = P_{2}. \\end{equation}\n",
    "\n",
    "2. Pistons/cylinders have circular cross-section.\n",
    "\n",
    "### Get Organized  \n",
    "\n",
    "A little algebra before we dive into calculations can often make our lives much easier... *experience and personal preference direct whether you should start with algebraic manipulation or numerical calculation.* \n",
    "\n",
    "\n",
    "\\begin{align}\n",
    "               P_{1} & = P_{2} \\notag \\\\[6pt]\n",
    " \\frac{F_{1}}{A_{1}} & = \\frac{F_{2}}{A_{2}}  \\\\[6pt]   \n",
    " \\frac{m_{1}g}{\\frac{\\pi}{4}D_{1}^2} & = \\frac{m_{2}g}{\\frac{\\pi}{4}D_{2}^2}   \\\\[6pt]  \n",
    "\\end{align}\n",
    "\n",
    "<p style=\"padding-left:35%;\">\n",
    "    yada, yada, algebra... \n",
    "<p>\n",
    "\n",
    "\\begin{equation}\n",
    " D_{2} = D_{1} \\sqrt{\\frac{m_2}{m_1}}   \\vphantom{\\sqrt{\\frac{m^2}{m_1}}}\n",
    "\\end{equation}"
   ]
  },
  {
   "cell_type": "markdown",
   "metadata": {},
   "source": [
    "## Attack\n",
    "\n",
    "Nothing left but the calculation."
   ]
  },
  {
   "cell_type": "code",
   "execution_count": 1,
   "metadata": {
    "scrolled": false
   },
   "outputs": [
    {
     "name": "stdout",
     "output_type": "stream",
     "text": [
      "D2_cm = 87.17797887081348\n"
     ]
    }
   ],
   "source": [
    "# Don't skimp on comments, and give your variables descriptive names\n",
    "# Make it nice and easy to read\n",
    "\n",
    "m1_kg = 25\n",
    "m2_kg = 1900\n",
    "D1_cm = 10\n",
    "\n",
    "# from eqn 4\n",
    "D2_cm = D1_cm * sqrt(m2_kg / m1_kg)\n",
    "\n",
    "@show D2_cm;"
   ]
  },
  {
   "cell_type": "markdown",
   "metadata": {},
   "source": [
    "<div class=\"btn-info\">&nbsp;<div class=\"badge\"></div><i class=\"fa fa-question-circle\"></i><strong> \n",
    "  How's your understanding?\n",
    "</strong></div><div class=\"panel-info\"><div class=\"panel-heading\">\n",
    "    \n",
    "1. What if the driving piston (25kg) were 3 m above the driven piston?   \n",
    "2. Why didn't we account for atmospheric pressure?  \n",
    "</div></div>"
   ]
  },
  {
   "cell_type": "markdown",
   "metadata": {},
   "source": [
    "<div style=\"height:2em;\"><div style=\"border: 2px solid #461dff; height:0.5em; width:100%; position:absolute; right:0; bottom:10%;\"></div></div>"
   ]
  },
  {
   "cell_type": "code",
   "execution_count": 2,
   "metadata": {},
   "outputs": [
    {
     "name": "stdout",
     "output_type": "stream",
     "text": [
      "D2_cm_tricks = 87.17797887081348\n",
      "pi == π = true\n"
     ]
    },
    {
     "data": {
      "text/plain": [
       "π = 3.1415926535897..."
      ]
     },
     "execution_count": 2,
     "metadata": {},
     "output_type": "execute_result"
    }
   ],
   "source": [
    "#=══ Julia tricks ═══════════════════════════════════════════════════════════80════5═══=#\n",
    "\n",
    "liberal use of unicode characters for function (and constant) names\n",
    "# redo the calculation from earlier\n",
    "\n",
    "D2_cm_tricks = D1_cm * √(m2_kg / m1_kg)\n",
    "\n",
    "@show D2_cm_tricks\n",
    "\n",
    "# pi \n",
    "@show (pi == π)\n",
    "π"
   ]
  },
  {
   "cell_type": "markdown",
   "metadata": {},
   "source": [
    "<footer class=\"psy\"><div class=\"psy\">ψᵟ</div></footer>"
   ]
  }
 ],
 "metadata": {
  "@webio": {
   "lastCommId": null,
   "lastKernelId": null
  },
  "kernel_info": {
   "name": "python3"
  },
  "kernelspec": {
   "display_name": "Julia 1.5.0",
   "language": "julia",
   "name": "julia-1.5"
  },
  "language_info": {
   "file_extension": ".jl",
   "mimetype": "application/julia",
   "name": "julia",
   "version": "1.5.0"
  },
  "nteract": {
   "version": "0.11.6"
  },
  "varInspector": {
   "cols": {
    "lenName": 16,
    "lenType": 16,
    "lenVar": 40
   },
   "kernels_config": {
    "python": {
     "delete_cmd_postfix": "",
     "delete_cmd_prefix": "del ",
     "library": "var_list.py",
     "varRefreshCmd": "print(var_dic_list())"
    },
    "r": {
     "delete_cmd_postfix": ") ",
     "delete_cmd_prefix": "rm(",
     "library": "var_list.r",
     "varRefreshCmd": "cat(var_dic_list()) "
    }
   },
   "types_to_exclude": [
    "module",
    "function",
    "builtin_function_or_method",
    "instance",
    "_Feature"
   ],
   "window_display": false
  }
 },
 "nbformat": 4,
 "nbformat_minor": 2
}
