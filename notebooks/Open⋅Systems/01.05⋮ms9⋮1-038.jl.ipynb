{
 "cells": [
  {
   "cell_type": "markdown",
   "metadata": {},
   "source": [
    "<header class=\"banner\"><div class=\"banner\">\n",
    "  <div class=\"logos\">\n",
    "    <div><img title=\"Julia logo\" src=\"figures/julia-logo-color.svg\" alt=\"Julia animated logo\" width=35 /></div>\n",
    "    <div>◌</div>\n",
    "    <div><img title=\"Powered by MathJax\" src=\"https://www.mathjax.org/badge/mj-logo.svg\"\n",
    "              alt=\"Powered by MathJax\" width=65 />\n",
    "    </div>\n",
    "  </div>  <!-- logos -->\n",
    "  <div class=\"cite_textbook ms9\">1.038 <span class=\"authors\"></span></div>\n",
    "</div></header>"
   ]
  },
  {
   "cell_type": "markdown",
   "metadata": {},
   "source": [
    "$\\require{mhchem}\\require{cancel}$"
   ]
  },
  {
   "cell_type": "markdown",
   "metadata": {},
   "source": [
    "### Given   \n",
    "\n",
    "An inclined manometer is used to measure the pressure of the gas within the reservoir. The manometer fluid is mercury, which has a density of 845 lb/ft³. The manometer fluid rises a distance\n",
    "7 inches along the manometer tube, which is inclined 30º from the horizontal. The atmospheric pressure is 14.7 lbf/in² and the acceleration of gravity is 32.174 ft/s². Determine the gas pressure, in lbf/in². Express the pressure as a gage or a vacuum pressure, as appropriate, in lbf/in².\n",
    "\n",
    "<img src=\"./figures/ms⋮1-038.png\" width=400/>"
   ]
  },
  {
   "cell_type": "markdown",
   "metadata": {},
   "source": [
    "### Find  \n",
    "\n",
    "$P_{gas}$ (psig)"
   ]
  },
  {
   "cell_type": "markdown",
   "metadata": {},
   "source": [
    "### Assumptions  \n",
    "\n",
    "Elevation increases in the ⇧ direction.\n",
    "\n"
   ]
  },
  {
   "cell_type": "markdown",
   "metadata": {},
   "source": [
    "### Get Organized\n",
    "\n",
    "One oft-overlooked, yet extremely important, aspect of problem-solving is understanding the operation of the system you're investigating. In lecture, I sing the praises of a good diagram. This problem would have been much clearer with a storyboard instead of a single image. The sequence of images immediately below\n",
    "\n",
    "<figure>\n",
    "  <img src=\"figures/ms1.038beforeafter.svg\" alt=\"A sequence of two images of Hg manometers, before and after connection to the gas reservoir.\" />\n",
    "  <figcaption>The manometer, before and after connection to the gas reservoir</figcaption>\n",
    "</figure>\n",
    "\n",
    "This is one of the few scenarios where working in gage pressure makes sense. \n",
    "We are tasked with determining the pressure difference across the gauge (our manometer). \n",
    "As always with hydrostatic pressure scenarios, we start with either a pressure we know or the pressure we seek, then traverse the manometer from that one to the other. \n",
    "We'll solve this one from both perspectives.  \n",
    "\n",
    "Remember, hydrostatic pressure is a function of **vertical** depth/elevation, so we must resolve the vertical component of the manometer length."
   ]
  },
  {
   "cell_type": "markdown",
   "metadata": {},
   "source": [
    "#### Solving with gage pressure   \n",
    "\n",
    "Our two endpoints are the pressure we seek $(P_{gas})$ and the mercury/atmosphere interface, where we know $P_{gage} = 0.$  \n",
    "\n",
    "Starting at $P_{gas},$\n",
    "\n",
    "\n",
    "\\begin{array}{lcc}\n",
    "  P_{gas,gage} &+& \\Delta P_\\ce{Hg} &=& P_{atm,gage} \\\\\n",
    "  P_{gas,gage} &+& (\\rho_\\ce{Hg})(-g)(L\\sin\\theta) &=& 0\n",
    "\\end{array}  \n",
    "\n",
    "$$$$\n",
    "\n",
    "\\begin{equation}\n",
    "\\begin{split}\n",
    "P_{gas,gage} &= \\phantom{-}  \\rho_\\ce{Hg}gL\\sin\\theta  \\\\\n",
    "P_{gas,vacuum} &= - \\rho_\\ce{Hg}gL\\sin\\theta \n",
    "\\end{split} \\label{eq:gage}\n",
    "\\end{equation}"
   ]
  },
  {
   "cell_type": "markdown",
   "metadata": {},
   "source": [
    "#### Solving with absolute pressure   \n",
    "\n",
    "This time, our two endpoints are the pressure we seek $(P_{gas})$ and the atmosphere, where we were given $P_{atm} = 14.7\\,\\ce{psia}.$  \n",
    "\n",
    "Starting at $P_{gas},$\n",
    "\n",
    "$$\n",
    "\\begin{array}{lcc}\n",
    "  P_{gas,abs} &+& \\Delta P_\\ce{Hg} &= P_{atm} \\\\\n",
    "  P_{gas,abs} &+& (\\rho_\\ce{Hg})(-g)(L\\sin\\theta) &= P_{atm} \\\\\n",
    "\\end{array}  \\\\[18pt]\n",
    "$$   \n",
    "\n",
    "$$\n",
    "\\begin{array}{ccc}\n",
    "  P_{gas,abs} &=& P_{atm} - \\rho_\\ce{Hg}gL\\sin\\theta \\\\\n",
    "  P_{gas,gage} + \\cancel{P_{atm}} &=& \\cancel{P_{atm}} - \\rho_\\ce{Hg}gL\\sin\\theta \n",
    "\\end{array}  \\\\[18pt]\n",
    "$$  \n",
    "\n",
    "\\begin{equation}\n",
    "\\begin{split}\n",
    "P_{gas,gage} &= \\phantom{-}\\rho_\\ce{Hg}gL\\sin\\theta     \\\\\n",
    "P_{gas,vacuum} &=  -\\rho_\\ce{Hg}gL\\sin\\theta  \n",
    "\\end{split} \\label{eq:abs}\n",
    "\\end{equation}\n",
    "\n",
    "That's the same result we obtained in Eqn. \\ref{eq:gage}."
   ]
  },
  {
   "cell_type": "markdown",
   "metadata": {},
   "source": [
    "## Attack   \n",
    "\n",
    "We're organized and calm and ready to find everything we're supposed to find. Let's resolve the units. Note: where I've written a term immediately preceding bracketed units, interpret that construct as the value of the term multiplied by its units. For example,\n",
    "\n",
    "$$\\rm g = 32.174 \\frac{ft}{s^2} = g \\Bigg[\\frac{ft}{s^2}\\Bigg]$$\n",
    "\n",
    "\\begin{gather}  \\notag \\\\ \n",
    "P_{gas,gage} = \n",
    "\\rho_\\ce{Hg}gL\\sin\\theta  =\n",
    "\\left\\lgroup \\rho_\\ce{Hg} \\rm \\Bigg[\\frac{lbm}{ft^3}\\Bigg] \\cdot g \\Bigg[\\frac{ft}{s^2}\\Bigg] \\cdot \\Delta L_{\\rm manometer}\\Bigg[ft\\Bigg] \\cdot \\sin\\theta_{\\rm manometer}  \n",
    "\\right\\rgroup\\left\\lgroup\n",
    "\\rm \\frac{ft}{12\\,in}\n",
    "\\right\\rgroup^2 \\\\\n",
    "{} \\notag\n",
    "\\end{gather}\n",
    "\n",
    "Here's my method for making sure I resolve lbm and slugs properly (it helps if you remember that slugs > lbm): \n",
    "\n",
    "\\begin{array}{cc}\n",
    "F &=& m&\\cdot&a \\\\\n",
    "\\rm 1\\,\\big[lbf\\big] &=& \\rm 1\\,\\big[sl \\big]  &\\cdot&  1 \\,\\rm \\displaystyle \\big[ft/s^2 \\big] \\\\\n",
    "\\rm 1\\,\\big[lbf\\big] &=& \\rm 1\\,\\big[lbm\\big] &\\cdot&  32.174 \\,\\rm \\displaystyle \\big[ft/s^2 \\big] \\\\\n",
    "\\end{array} \n",
    "\n",
    "For the record, the pound-mass is __legally__ defined as __1 lbm = 0.45359237 kg__.\n",
    "\n",
    "Back to it:\n",
    "\\begin{gather}  \\notag \\\\ \n",
    "P_{gas,gage}\\text{ [psi]} = \\rho_\\ce{Hg}gL\\sin\\theta  =\n",
    "\\left\\lgroup \\rho_\\ce{Hg} \\rm \\Bigg[\\frac{lbm}{ft^3}\\Bigg] \\cdot g \\Bigg[\\frac{ft}{s^2}\\Bigg] \\cdot \\Delta L_{\\rm manometer}\\,\\Bigg[ft\\Bigg]\\cdot \\sin\\theta_{\\rm manometer} \n",
    "\\right\\rgroup\n",
    "\\Bigg\\lgroup\n",
    "\\rm \\frac{ft}{12\\,in}\n",
    "\\Bigg\\rgroup^2 \n",
    "\\left\\lgroup\n",
    "\\rm\\frac{lbf}{lbm \\cdot  32.174\\, ft/s^2}\n",
    "\\right\\rgroup \\ \n",
    "\\end{gather}\n",
    "\n"
   ]
  },
  {
   "cell_type": "code",
   "execution_count": 1,
   "metadata": {},
   "outputs": [
    {
     "name": "stdout",
     "output_type": "stream",
     "text": [
      "P_gas_gage = 1.7115 psig\n"
     ]
    }
   ],
   "source": [
    "# given\n",
    "\n",
    "g = 32.174  # ft/s^2\n",
    "ρ_Hg = 845  # lbm/ft^3\n",
    "θ_manometer = 30  # degrees\n",
    "ΔL_manometer = 7//12  # ft  By the way, Julia has a Rational datatype that computes fractions exactly \n",
    "\n",
    "P_gas_gage = ρ_Hg * ΔL_manometer * sind(θ_manometer) * (1/12)^2    # psi\n",
    "\n",
    "println(\"P_gas_gage = \",round(P_gas_gage, digits=4),\" psig\")"
   ]
  },
  {
   "cell_type": "markdown",
   "metadata": {},
   "source": [
    "<div class=\"tricks info\"><div class=\"tricks\"></div><span class=\"tricks\">\n",
    "Julia tricks\n",
    "</span></div>"
   ]
  },
  {
   "cell_type": "markdown",
   "metadata": {},
   "source": [
    "<div class=\"btn-info\">&nbsp;<div class=\"badge\"></div><i class=\"fa fa-code\"></i><strong> CS Julia</strong></div>\n",
    "<div class=\"panel-info\"><div class=\"panel-heading\"><div class=\"crystal\">\n",
    "\n",
    "1. Julia allows unicode characters in variable names, eg: `𝛀𝚿𝚽 = 1911`, or `Δ𝑓ℎ̅°_Al₂O₃ᶜᴿ = -1675.700kJ/mol`.\n",
    "1. Julia has a built-in constant `π`, also known as `pi`. Julia, like all computer languages, performs calculations and stores values at various levels of precision. Higher precision means slower computation and more memory consumption. Life is a series of compromises.\n",
    "</div></div></div>"
   ]
  },
  {
   "cell_type": "code",
   "execution_count": 2,
   "metadata": {},
   "outputs": [
    {
     "name": "stdout",
     "output_type": "stream",
     "text": [
      "π = 3.1415926535897...\n",
      "\n",
      "acos(-1.0) = 3.141592653589793\n",
      "\n",
      "π - acos(-1.0) = 0.0\n",
      "\n",
      "π == acos(-1)? false\n"
     ]
    }
   ],
   "source": [
    "# fun with calculation precision\n",
    "\n",
    "# julia built-in constant\n",
    "println(π) \n",
    "println()\n",
    "\n",
    "# popular simple trigonometric method to obtain a value for π in\n",
    "# programming languages lacking a built-in π constant\n",
    "println(\"acos(-1.0) = \", acos(-1.0))\n",
    "println()\n",
    "\n",
    "# compare\n",
    "println(\"π - acos(-1.0) = \", π - acos(-1.0))\n",
    "println()\n",
    "\n",
    "# compare another way\n",
    "println(\"π == acos(-1)? \", π == acos(-1))\n"
   ]
  },
  {
   "cell_type": "markdown",
   "metadata": {},
   "source": [
    "<div class=\"panel-info\"><div class=\"panel-heading\">   \n",
    "    \n",
    "3. These differences don't matter much to us now, but it is a huge factor in equality comparisons, and it could become a factor in an application with repetitive calculations. All numeric calculations inherently have these slight quirky errors.\n",
    "</div></div>\n",
    "<div class=\"btn-info\">&nbsp;<div class=\"badge\"></div></i><strong></strong></div>\n",
    "\n"
   ]
  },
  {
   "cell_type": "markdown",
   "metadata": {},
   "source": [
    "<footer class=\"psy\"><div class=\"psy\">ψᵟ</div></footer>"
   ]
  }
 ],
 "metadata": {
  "@webio": {
   "lastCommId": null,
   "lastKernelId": null
  },
  "kernelspec": {
   "display_name": "Julia 1.0.2",
   "language": "julia",
   "name": "julia-1.0"
  },
  "language_info": {
   "file_extension": ".jl",
   "mimetype": "application/julia",
   "name": "julia",
   "version": "1.0.2"
  },
  "varInspector": {
   "cols": {
    "lenName": 16,
    "lenType": 16,
    "lenVar": 40
   },
   "kernels_config": {
    "python": {
     "delete_cmd_postfix": "",
     "delete_cmd_prefix": "del ",
     "library": "var_list.py",
     "varRefreshCmd": "print(var_dic_list())"
    },
    "r": {
     "delete_cmd_postfix": ") ",
     "delete_cmd_prefix": "rm(",
     "library": "var_list.r",
     "varRefreshCmd": "cat(var_dic_list()) "
    }
   },
   "types_to_exclude": [
    "module",
    "function",
    "builtin_function_or_method",
    "instance",
    "_Feature"
   ],
   "window_display": true
  }
 },
 "nbformat": 4,
 "nbformat_minor": 2
}
