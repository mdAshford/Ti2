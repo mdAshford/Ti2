{
 "cells": [
  {
   "cell_type": "markdown",
   "metadata": {},
   "source": [
    "<section class=\"toc\">\n",
    "\n",
    "## Undergraduate review\n",
    "  \n",
    "1. [A rigid tank is divided into two equal parts by a partition. One part of the tank contains 1.5 kg of compressed liquid water at 300 kPa and 60 °C while the other part is evacuated. The partition is now removed, and the water expands to fill other the entire tank. Determine the entropy change of the water during this process, if the final pressure in the tank is 15 kPa.](605.rigid-tank-divided-into-two-equal-partitions.jl.ipynb)\n",
    "\n",
    " \n",
    "\n",
    "</section>"
   ]
  },
  {
   "cell_type": "markdown",
   "metadata": {},
   "source": [
    "<footer class=\"psy\"><div class=\"psy\">ψᵟ</div></footer>"
   ]
  }
 ],
 "metadata": {
  "@webio": {
   "lastCommId": null,
   "lastKernelId": null
  },
  "kernel_info": {
   "name": "python3"
  },
  "kernelspec": {
   "display_name": "Python 3",
   "language": "python",
   "name": "python3"
  },
  "language_info": {
   "codemirror_mode": {
    "name": "ipython",
    "version": 3
   },
   "file_extension": ".py",
   "mimetype": "text/x-python",
   "name": "python",
   "nbconvert_exporter": "python",
   "pygments_lexer": "ipython3",
   "version": "3.8.2"
  },
  "nteract": {
   "version": "0.25.0"
  }
 },
 "nbformat": 4,
 "nbformat_minor": 1
}
