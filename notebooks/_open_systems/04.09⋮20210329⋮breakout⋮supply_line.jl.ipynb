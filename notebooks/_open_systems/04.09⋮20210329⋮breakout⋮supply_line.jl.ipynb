{
 "cells": [
  {
   "cell_type": "markdown",
   "metadata": {},
   "source": [
    "<header class=\"banner\"><div class=\"banner\">\n",
    "  <div class=\"logos\">\n",
    "    <div><img title=\"Julia logo\" src=\"../figures/julia-logo-color.svg\" alt=\"Julia animated logo\" width=35 /></div>\n",
    "    <div>◌</div>\n",
    "    <div><img title=\"Powered by MathJax\" src=\"https://www.mathjax.org/badge/mj-logo.svg\"\n",
    "              alt=\"Powered by MathJax\" width=65 />\n",
    "    </div>\n",
    "  </div>  <!-- logos -->\n",
    "  <div class=\"cite_textbook\">me215 breakout session, 29 march 2021 <span class=\"authors\"></span></div>\n",
    "</div></header>\n",
    "\n",
    "<footer class=\"navbar navbar-default navbar-fixed-bottom mcs-psy-nav\" >\n",
    "  <div class=\"container-fluid text-right h4\">\n",
    "    <em>ψᵟ</em>\n",
    "  </div>\n",
    "</footer>\n",
    "\n"
   ]
  },
  {
   "cell_type": "markdown",
   "metadata": {},
   "source": [
    "### Given \n",
    "\n",
    "A 2 m³ rigid insulated tank, initially evacuated, is connected through a valve to a supply line that carries saturated vapor water at 1 MPa. Now the valve is opened, and steam is allowed to flow slowly into the tank until the pressure in the tank rises to 1 MPa. \n",
    "\n",
    "<img src=\"../figures/20210329⋮breakout⋮supply_line.pdf\" alt=\"supply line\" width=\"50%\" />\n"
   ]
  },
  {
   "cell_type": "markdown",
   "metadata": {},
   "source": [
    "### Find\n",
    "<ol>\n",
    "  \n",
    "1. the mass of the steam that has entered, and\n",
    "1. the final temperature of the steam in the tank.\n"
   ]
  },
  {
   "cell_type": "markdown",
   "metadata": {},
   "source": [
    "### Get Organized\n",
    "\n",
    "First, we observe that this is NOT a steady state process. Energy and/or mass of the system are changing in time. Remember, we must account for our system spatially and temporally. It's not difficult if you stay organized. We are given enough information to resolve two of the three states we need (_initial, final, supply_). Let's go through all the information we need to find in order to answer the questions.  \n",
    "<ol type=\"A\" >\n",
    "    \n",
    "1. **Mass entered   $m_{in}$**   \n",
    "   Not so bad. Apply continuity (aka conservation of mass)   \n",
    "  \n",
    "  \\begin{gather}\n",
    "    m_{in} &-& m_{out} &=& \\Delta m_{sys}   \\\\[6pt]\n",
    "    m_{in} && &=& m_{\\it final}   \\label{eq:continuity} \\\\\n",
    "  \\end{gather}  \n",
    "\n",
    "  All we need is $m_{\\it final}.$ No problem: We were given $V,$ and we know $V = m_{\\it final}v_{\\it final}.$ So, we resolve the final state to get $v_1$, then we can calculate $m_{in}=m_{\\it final}$. \n",
    "  \n",
    "  Now, about that final state...\n",
    "  <br><br>\n",
    "  \n",
    "1. **Final temperature $T_{\\it final}$**   \n",
    "   Apply the energy equation, considering what flows we have crossing the boundary and the energy theu advect with them. Of course, we also consider what forms of energy (internal, flow, kinetic, potential) are important to the system itself (internal, kinetic, potential).   \n",
    "\n",
    "   \\begin{gather}\n",
    "    E_{in} &-& E_{out} &=& \\Delta E_{sys}                                             \\\\[6pt]\n",
    "    E_{mass,in} && &=& U_{final}                                               \\notag \\\\[6pt]\n",
    "    m_{in}\\big(u_{in} + P_{in}v_{in}\\big) &&  &=& m_{\\it final}u_{\\it final}   \\notag \\\\[6pt]\n",
    "    m_{in}h_{in} &&  &=& m_{\\it final}u_{\\it final}  \\label{eq:firstlaw}              \\\\[6pt]\n",
    "   \\end{gather} \n",
    "  \n",
    "   From eqn \\ref{eq:continuity}, \n",
    "  \n",
    "   \\begin{gather*}\n",
    "    m_{in} = m_{\\it final}.  \n",
    "   \\end{gather*} \n",
    "   \n",
    "   Thus, eqn \\ref{eq:firstlaw} becomes\n",
    "   \n",
    "   \\begin{align}\n",
    "    m_{in}h_{in} &= m_{\\it in}u_{\\it final}  \\notag \\\\[6pt]\n",
    "    h_{in} &= u_{\\it final}  \\label{eq:energydone}  \\\\[6pt]\n",
    "   \\end{align} \n",
    "\n",
    "   We're home free. We need only resolve state 2 to get $T_{\\it final}$ and $v_{\\it final}$, which we subsequently use to calculate the mass that entered our system."
   ]
  },
  {
   "cell_type": "markdown",
   "metadata": {},
   "source": [
    "### Attack\n",
    "Dive into the property table, and take eqn \\ref{eq:energydone}\n",
    "\n",
    "\\begin{equation}\n",
    "  u_{\\it final} = h_{in} = h_{g@1 \\rm MPa} \n",
    "\\end{equation}\n",
    "\n",
    "Interpolate $T_{\\it final}, v_{\\it final}:$\n",
    "\n",
    "\\begin{equation}\n",
    "   \\frac{u_{\\it final} - u_\\text{low}}{u_\\text{high} - u_\\text{low}} \n",
    " = u_\\text{fraction}\n",
    " = \\frac{T_{\\it final} - T_\\text{low}}{T_\\text{high} - T_\\text{low}} \n",
    " = \\frac{v_{\\it final} - v_\\text{low}}{v_\\text{high} - v_\\text{low}} \n",
    "\\end{equation}\n",
    "\n",
    "\n"
   ]
  },
  {
   "cell_type": "code",
   "execution_count": 1,
   "metadata": {
    "scrolled": true
   },
   "outputs": [
    {
     "name": "stdout",
     "output_type": "stream",
     "text": [
      "m_in = 8.064516129032258 kg\n",
      "T_final = 290.8649468892262 °C\n"
     ]
    }
   ],
   "source": [
    "using Unitful  # Julia units package\n",
    "\n",
    "# given\n",
    "V = 2u\"m^3\"\n",
    "\n",
    "# tables\n",
    "hg_1MPa = 2778.1u\"kJ/kg\"\n",
    "\n",
    "T_low  = 280u\"°C\" |> u\"K\"  # Unitful does not like relative temperature calculations\n",
    "T_high = 320u\"°C\" |> u\"K\"\n",
    "\n",
    "u_final = hg_1MPa\n",
    "u_1MPa_280°C = 2760.2u\"kJ/kg\";  u_low  = u_1MPa_280°C\n",
    "u_1MPa_320°C = 2826.1u\"kJ/kg\";  u_high = u_1MPa_320°C\n",
    "\n",
    "v_1MPa_280°C = 0.2480u\"m^3/kg\"; v_low  = v_1MPa_280°C\n",
    "v_1MPa_320°C = 0.2678u\"m^3/kg\"; v_high = v_1MPa_280°C\n",
    "\n",
    "\n",
    "# ATTACK\n",
    "u_fraction = (u_final - u_low) / (u_high - u_low)\n",
    "\n",
    "T_final = T_low + u_fraction * (T_high - T_low) |> u\"°C\"\n",
    "\n",
    "v_final = v_low + u_fraction * (v_high - v_low)\n",
    "\n",
    "m_in = V / v_final \n",
    "\n",
    "@show m_in T_final;"
   ]
  },
  {
   "cell_type": "markdown",
   "metadata": {},
   "source": [
    "<div class=\"mcs-bs-callout mcs-bs-callout-success\">\n",
    "\n",
    "#### Found\n",
    "\n",
    "\\begin{align*}\n",
    "m_{in} &= \\pu{8.065 kg}  \\\\[6pt]\n",
    "T_{\\it final} &= 290.865\\,\\rm °C\n",
    "\\end{align*}\n",
    "    \n",
    "</div>"
   ]
  },
  {
   "cell_type": "markdown",
   "metadata": {},
   "source": [
    "<div class=\"mcs-bs-callout mcs-bs-callout-tiger extra\">\n",
    "\n",
    "#### So why did the temperature increase?\n",
    "\n",
    "</div>"
   ]
  },
  {
   "cell_type": "markdown",
   "metadata": {},
   "source": [
    "<footer style=\"background-color: #461d7c; color:rgba(253,208,35,0.35); line-height:2em; padding-left:1em; padding-right:0.5em; bottom:0; float:bottom; text-align:right;\"><i>ψᵟ</i></footer>"
   ]
  }
 ],
 "metadata": {
  "@webio": {
   "lastCommId": null,
   "lastKernelId": null
  },
  "kernelspec": {
   "display_name": "Julia 1.7.0-DEV",
   "language": "julia",
   "name": "julia-1.7"
  },
  "language_info": {
   "file_extension": ".jl",
   "mimetype": "application/julia",
   "name": "julia",
   "version": "1.7.0"
  }
 },
 "nbformat": 4,
 "nbformat_minor": 2
}
