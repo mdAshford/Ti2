{
 "cells": [
  {
   "cell_type": "markdown",
   "metadata": {},
   "source": [
    "<header class=\"banner\"><div class=\"banner\">\n",
    "  <div class=\"logos\">\n",
    "    <div><img title=\"Julia logo\" src=\"../figures/julia-logo-color.svg\" alt=\"Julia animated logo\" width=35 /></div>\n",
    "    <div>◌</div>\n",
    "    <div><img title=\"Powered by MathJax\" src=\"https://www.mathjax.org/badge/mj-logo.svg\"\n",
    "              alt=\"Powered by MathJax\" width=65 />\n",
    "    </div>\n",
    "  </div>  <!-- logos -->\n",
    "<!--   <div class=\"cite_textbook cb8\">1-67 <span class=\"authors\"></span></div> -->\n",
    "</div></header>\n",
    "\n",
    "<footer class=\"navbar navbar-default navbar-fixed-bottom mcs-psy-nav\" >\n",
    "  <div class=\"container-fluid text-right h4\">\n",
    "    <em>ψᵟ</em>\n",
    "  </div>\n",
    "</footer>"
   ]
  },
  {
   "cell_type": "markdown",
   "metadata": {},
   "source": [
    "## Given\n",
    "Steam flows through a turbine at 6000 kg/s, with entry and exit conditions as shown:\n",
    "\n",
    "   ![test-two,six.png](../figures/steamTurbine.png)"
   ]
  },
  {
   "cell_type": "markdown",
   "metadata": {},
   "source": [
    "## Find\n",
    "\n",
    "$\\dot W_{\\sf turbine,out}$ [MW]"
   ]
  },
  {
   "cell_type": "markdown",
   "metadata": {},
   "source": [
    "## Get Organized   \n",
    "\n",
    "#### Mass conservation  \n",
    "Trivial. We have one input and one output, so  \n",
    "\n",
    "\\begin{equation}\n",
    "\\dot m_{in} = \\dot m_{out} = \\dot m.\n",
    "\\end{equation}\n",
    "\n",
    "#### Energy conservation  \n",
    "We always start with the basic energy equation, in rate form for this exercise:  \n",
    "\n",
    "\\begin{equation}\n",
    "   \\dot E_{in} - \\dot E_{out} = \\frac {\\rm d}{\\rm dt}E_{sys} \\\\\n",
    "\\end{equation}\n",
    "\n",
    "Turbines are steady-state devices, so the energy equation reduces to  \n",
    "\n",
    "\\begin{equation}\n",
    "\\dot E_{in} - \\dot E_{out} = \\color{red}\\cancelto{ \\text{0: steady state}}{\\color{black}\\frac {\\rm d}{\\rm dt}E_{sys}} \\color{black} = 0 \\label{eq:SSSF} \n",
    "\\end{equation}\n",
    "\n"
   ]
  },
  {
   "cell_type": "markdown",
   "metadata": {},
   "source": [
    "Now, identify the energy flows (all in rate form):   \n",
    "- **energy advected in by steam** at ⓵: \n",
    " \n",
    "   $$\\dot E_{\\ce{H2O},in} = \\dot{m}e_{\\ce{H2O},in} = \\dot m \\left( e_{internal,1} + e_{flow,1} + e_{potential,1} + e_{kinetic,1} \\right) \\notag$$  \n",
    "   \n",
    "  We have no kinetic or potential energy considerations, so  \n",
    "  \n",
    "\\begin{gather}\n",
    "e_{\\ce{H2O},in} = e_{internal,1} + e_{flow,1} = u_1 + P_1 v_1 = h_1 \\notag \\\\[6pt] \n",
    "e_{\\ce{H2O},in} = h_1 \\label{eq:e_in}\n",
    "\\end{gather}\n",
    "\n",
    "- **turbine power:** \n",
    "\n",
    "  $$\\dot W_{turbine, out}$$  \n",
    "\n",
    "\n",
    "- **energy advected out by steam** at ⓶:  \n",
    " \n",
    "   $$\\dot E_{out,\\ce{H2O}} = \\dot{m}e_{out,\\ce{H2O}} = \\dot m \\left( e_{2,internal} + e_{2,flow} + e_{2,potential} + e_{2,kinetic} \\right) \\notag$$\n",
    " \n",
    "  We have no kinetic or potential energy considerations, so  \n",
    "\n",
    "\\begin{gather}\n",
    "  \\dot e_{out,\\ce{H2O}} = e_{2,internal} + e_{2,flow} =  u_2 + P_2 v_2 = h_2 \\notag \\\\[6pt]\n",
    "  \\dot e_{out,\\ce{H2O}} = h_2 \\label{eq:e_out}\n",
    "\\end{gather}\n",
    "\n",
    "\n",
    "\n"
   ]
  },
  {
   "cell_type": "markdown",
   "metadata": {},
   "source": [
    "**Apply some algebra**\n",
    "\n",
    "From eqn \\ref{eq:SSSF}:\n",
    "\n",
    "\\begin{gather*}\n",
    "\\dot E_{in} &-& \\dot E_{out} &=& 0 \\\\[6pt]\n",
    "\\dot E_{in,\\ce{H2O}} &-& \\dot E_{out,\\ce{H2O}} - \\dot W_{turbine,out} &=& 0  \n",
    "\\end{gather*}\n",
    "\n",
    "\n",
    "Bring in eqns \\ref{eq:e_in} and \\ref{eq:e_out}:\n",
    "\n",
    "\\begin{gather}\n",
    " \\dot W_{turbine,out} = \\dot E_{in,\\ce{H2O}} - \\dot E_{out,\\ce{H2O}} = \\dot m \\big( h_1 - h_2 \\big) \\notag \\\\[6pt]\n",
    " \\dot W_{turbine,out} = \\dot m \\big( h_1 - h_2 \\big) \\\\[6pt]\n",
    "\\end{gather}\n",
    "\n",
    "And we have the final expression."
   ]
  },
  {
   "cell_type": "markdown",
   "metadata": {},
   "source": [
    "### Attack \n",
    "\n",
    "We need only exercise Julia and Unitful.jl, a package for calculation with physical units."
   ]
  },
  {
   "cell_type": "code",
   "execution_count": 1,
   "metadata": {},
   "outputs": [
    {
     "name": "stdout",
     "output_type": "stream",
     "text": [
      "Ẇ_turbine_out = 3564.5999999999995 MW\n"
     ]
    }
   ],
   "source": [
    "using Unitful        # Unitful units package\n",
    "\n",
    "ṁ  = 6000u\"kg/s\"     # given\n",
    "h1 = 3247.6u\"kJ/kg\"  # 2 MPa, 400°C\n",
    "h2 = 2653.5u\"kJ/kg\"  # 60 kPa, sat vap\n",
    "\n",
    "Ẇ_turbine_out = ṁ * (h1 - h2) |> u\"MW\"  # all in the desired units \n",
    "\n",
    "@show Ẇ_turbine_out;"
   ]
  },
  {
   "cell_type": "markdown",
   "metadata": {},
   "source": [
    "<div class=\"mcs-bs-callout mcs-bs-callout-success\">\n",
    "\n",
    "#### Found  \n",
    "\n",
    "$\\dot W_{\\sf turbine,out} = \\pu{3564.60MW}$ \n",
    "\n",
    "</div>"
   ]
  },
  {
   "cell_type": "markdown",
   "metadata": {},
   "source": [
    "<footer class=\"psy\"><div class=\"psy\">ψᵟ</div></footer>"
   ]
  }
 ],
 "metadata": {
  "@webio": {
   "lastCommId": null,
   "lastKernelId": null
  },
  "kernelspec": {
   "display_name": "Julia 1.0.2",
   "language": "julia",
   "name": "julia-1.0"
  },
  "language_info": {
   "file_extension": ".jl",
   "mimetype": "application/julia",
   "name": "julia",
   "version": "1.0.2"
  },
  "latex_envs": {
   "LaTeX_envs_menu_present": true,
   "autoclose": false,
   "autocomplete": true,
   "bibliofile": "biblio.bib",
   "cite_by": "apalike",
   "current_citInitial": 1,
   "eqLabelWithNumbers": true,
   "eqNumInitial": 1,
   "hotkeys": {
    "equation": "Ctrl-E",
    "itemize": "Ctrl-I"
   },
   "labels_anchors": false,
   "latex_user_defs": false,
   "report_style_numbering": false,
   "user_envs_cfg": false
  },
  "varInspector": {
   "cols": {
    "lenName": 16,
    "lenType": 16,
    "lenVar": 40
   },
   "kernels_config": {
    "python": {
     "delete_cmd_postfix": "",
     "delete_cmd_prefix": "del ",
     "library": "var_list.py",
     "varRefreshCmd": "print(var_dic_list())"
    },
    "r": {
     "delete_cmd_postfix": ") ",
     "delete_cmd_prefix": "rm(",
     "library": "var_list.r",
     "varRefreshCmd": "cat(var_dic_list()) "
    }
   },
   "types_to_exclude": [
    "module",
    "function",
    "builtin_function_or_method",
    "instance",
    "_Feature"
   ],
   "window_display": true
  }
 },
 "nbformat": 4,
 "nbformat_minor": 2
}
