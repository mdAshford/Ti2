{
 "cells": [
  {
   "cell_type": "markdown",
   "metadata": {},
   "source": [
    "<header class=\"banner\"><div class=\"banner\">\n",
    "  <div class=\"logos\">\n",
    "    <div><img title=\"Julia logo\" src=\"../figures/julia-logo-color.svg\" alt=\"Julia animated logo\" width=35 /></div>\n",
    "    <div>◌</div>\n",
    "    <div><img title=\"Powered by MathJax\" src=\"https://www.mathjax.org/badge/mj-logo.svg\"\n",
    "              alt=\"Powered by MathJax\" width=65 />\n",
    "    </div>\n",
    "  </div>  <!-- logos -->\n",
    "  <div class=\"cite_textbook cb8\">5.062 <span class=\"authors\"></span></div>\n",
    "</div></header>\n",
    "\n",
    "<footer class=\"navbar navbar-default navbar-fixed-bottom mcs-psy-nav\" >\n",
    "  <div class=\"container-fluid text-right h4\">\n",
    "    <em>ψᵟ</em>\n",
    "  </div>\n",
    "</footer>\n",
    "\n",
    "\n"
   ]
  },
  {
   "cell_type": "markdown",
   "metadata": {},
   "source": [
    "**5.62.** Refrigerant-134a is throttled from the saturated liquid state at 700 kPa to a pressure of 160 kPa. Determine the temperature drop during this process and the final specific volume of the refrigerant. \n",
    "\n",
    "![Cengelboles7ed4-126](../figures/ch05_cen98179_p05062_lg.jpg)\n"
   ]
  },
  {
   "cell_type": "markdown",
   "metadata": {},
   "source": [
    "### Given\n",
    "<ol> \n",
    "$ \\text{R-134a}\\left|\\small \\begin{array}{l|l} P_1 = 700\\, \\ce{kPa} & P_2 = 160\\,\\ce{kPa} \\\\[-3pt]\n",
    "    x_1:\\text{sat liquid} \\end{array} \\right. \\\\[12pt]$     \n",
    " "
   ]
  },
  {
   "cell_type": "markdown",
   "metadata": {},
   "source": [
    "### Find\n",
    "<ol type=\"A\">  \n",
    "    \n",
    "  1. $T_2$     \n",
    "  2. $v_2$ \n"
   ]
  },
  {
   "cell_type": "markdown",
   "metadata": {},
   "source": [
    "### Get Organized   "
   ]
  },
  {
   "cell_type": "markdown",
   "metadata": {},
   "source": [
    "The most important thing to know about throttling processes is that they are **isenthalpic.** Beyond that, they are steady state devices.   "
   ]
  },
  {
   "cell_type": "markdown",
   "metadata": {},
   "source": [
    "### Attack "
   ]
  },
  {
   "cell_type": "markdown",
   "metadata": {},
   "source": [
    " Today, we'll use Julia, with _Unitful.jl_, a package for calculation with physical units."
   ]
  },
  {
   "cell_type": "code",
   "execution_count": 1,
   "metadata": {},
   "outputs": [],
   "source": [
    "using Unitful;       # Unitful units package"
   ]
  },
  {
   "cell_type": "markdown",
   "metadata": {},
   "source": [
    "Resolve state 1. Use $P_2$ and $h_2 = h_1$ to resolve state 2. Get to work.   \n",
    "\n",
    "  $\\quad \\text{R-134a} \\left| \\begin{array}{ll} \n",
    "         \\scriptsize \\begin{array}{l}{\\textit{700 kPa}}\\\\[-12pt] {\\textit{sat liquid}}\\end{array} & \\small h_1 = 86.78\\, \\ce{kJ/kg} & \\small T_1 = T_{sat@700kPa} = 26.72\\, \\ce{°C}   \\\\ \\hline\n",
    "         \\scriptsize \\begin{array}{l}{\\textit{160 kPa}}\\\\[-12pt] {h_2 = h_1}\\end{array} & \\small h_{f@160kPa} = 29.78\\, \\ce{kJ/kg} & \\small h_{g@160kPa} = 237.97\\ \\ce{kJ/kg} \\\\ & \\small v_{f@160kPa} = 0.7435\\ \\ce{cm^3/g} & \\small v_{g@160kPa} = 0.1229\\ \\ce{m^3/kg} \n",
    "         \\end{array}\\right. \\\\[12pt]$    \n",
    "\n",
    "Based on $h_{2@160kPa},$ we have saturation conditions, so \n",
    "\n",
    "$$T_2 = T_{sat@160kPa} = -15.62\\, \\ce{°C},$$   \n",
    "\n",
    "and  \n",
    "\n",
    "$$\\ \\displaystyle \\frac{v_2 - v_f}{v_g - v_f} = x_2 = \\frac{h_2 - h_f}{h_g - h_f}.\\\\[12pt]$$   \n",
    "\n",
    "\n",
    "Solve for $v_2,$ put your feet up, and enjoy a beverage."
   ]
  },
  {
   "cell_type": "code",
   "execution_count": 2,
   "metadata": {},
   "outputs": [
    {
     "data": {
      "text/plain": [
       "0.03418852857966281 m^3 kg^-1"
      ]
     },
     "execution_count": 2,
     "metadata": {},
     "output_type": "execute_result"
    }
   ],
   "source": [
    "h₁ = 86.78u\"kJ/kg\"\n",
    "h₂ = h₁\n",
    "h𝑓 = 29.78u\"kJ/kg\"\n",
    "h𝑔 = 237.97u\"kJ/kg\"\n",
    "\n",
    "v𝑓 = 0.7435e-3u\"m^3/kg\"\n",
    "v𝑔 = 0.1229u\"m^3/kg\"\n",
    "\n",
    "x₂ = (h₂ - h𝑓)/(h𝑔 - h𝑓)\n",
    "\n",
    "v₂ = v𝑓 + x₂ * (v𝑔 - v𝑓)"
   ]
  },
  {
   "cell_type": "markdown",
   "metadata": {},
   "source": [
    "<p style = \"width:100vw; background-image:  url(./figures/bacgroundTiles.png); line-height: 0.35em\" >&nbsp;</p>"
   ]
  },
  {
   "cell_type": "code",
   "execution_count": 3,
   "metadata": {},
   "outputs": [
    {
     "data": {
      "text/plain": [
       "-42.339999999999996 K"
      ]
     },
     "execution_count": 3,
     "metadata": {},
     "output_type": "execute_result"
    }
   ],
   "source": [
    "T₁ = 26.72u\"°C\"\n",
    "T₂ = -15.62u\"°C\"\n",
    "\n",
    "ΔT = T₂ - T₁"
   ]
  },
  {
   "cell_type": "markdown",
   "metadata": {},
   "source": [
    "<div class=\"panel-success\"><div class=\"panel-heading\"><div class=\"badge\">A</div>\n",
    "$\\ \\normalsize \\Delta T = - 42.34\\, \\ce{°C}\\qquad$ <div class=\"badge\">B</div> $\\ \\normalsize v_2 = 0.0342\\, \\ce{m^3/kg}$\n",
    "</div></div>"
   ]
  },
  {
   "cell_type": "markdown",
   "metadata": {},
   "source": [
    "<footer style=\"background-color: #461d7c; color:rgba(253,208,35,0.35); line-height:2em; padding-left:1em; padding-right:0.5em; bottom:0; float:bottom; text-align:right;\"><i>ψᵟ</i></footer>"
   ]
  }
 ],
 "metadata": {
  "kernelspec": {
   "display_name": "Julia 1.7.0-DEV",
   "language": "julia",
   "name": "julia-1.7"
  },
  "language_info": {
   "file_extension": ".jl",
   "mimetype": "application/julia",
   "name": "julia",
   "version": "1.7.0"
  },
  "varInspector": {
   "cols": {
    "lenName": 16,
    "lenType": 16,
    "lenVar": 40
   },
   "kernels_config": {
    "python": {
     "delete_cmd_postfix": "",
     "delete_cmd_prefix": "del ",
     "library": "var_list.py",
     "varRefreshCmd": "print(var_dic_list())"
    },
    "r": {
     "delete_cmd_postfix": ") ",
     "delete_cmd_prefix": "rm(",
     "library": "var_list.r",
     "varRefreshCmd": "cat(var_dic_list()) "
    }
   },
   "types_to_exclude": [
    "module",
    "function",
    "builtin_function_or_method",
    "instance",
    "_Feature"
   ],
   "window_display": true
  }
 },
 "nbformat": 4,
 "nbformat_minor": 2
}
