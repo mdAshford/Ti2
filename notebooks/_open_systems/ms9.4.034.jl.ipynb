{
 "cells": [
  {
   "cell_type": "markdown",
   "metadata": {},
   "source": [
    "<header class=\"banner\"><div class=\"banner\">\n",
    "  <div class=\"logos\">\n",
    "    <div><img title=\"Julia logo\" src=\"../figures/julia-logo-color.svg\" alt=\"Julia animated logo\" width=35 /></div>\n",
    "    <div>◌</div>\n",
    "    <div><img title=\"Powered by MathJax\" src=\"https://www.mathjax.org/badge/mj-logo.svg\"\n",
    "              alt=\"Powered by MathJax\" width=65 />\n",
    "    </div>\n",
    "  </div>  <!-- logos -->\n",
    "  <div class=\"cite_textbook ms9\">4.034 <span class=\"authors\"></span></div>\n",
    "</div></header>\n",
    "\n",
    "<footer class=\"navbar navbar-default navbar-fixed-bottom mcs-psy-nav\" >\n",
    "  <div class=\"container-fluid text-right h4\">\n",
    "    <em>ψᵟ</em>\n",
    "  </div>\n",
    "</footer>\n",
    "\n",
    "\n",
    "\n"
   ]
  },
  {
   "cell_type": "markdown",
   "metadata": {},
   "source": [
    "<div class=\"mcs-bs-callout mcs-bs-callout-info\">\n",
    "\n",
    "#### work time: 20 minutes\n",
    "\n",
    "</div>"
   ]
  },
  {
   "cell_type": "markdown",
   "metadata": {},
   "source": [
    "## Given\n",
    "Steam enters the first-stage turbine shown in the figure at 40 bar and 500 °C with a mass flow rate of 40,000 kg/hr. Steam exits the first-stage turbine at 20 bar and 400 °C. The steam is then reheated at constant pressure to 500 °C before entering the second-stage turbine. Steam leaves the second stage as saturated vapor at 0.6 bar. Assume steady state operation and ignore stray heat transfer and kinetic and potential energy effects. \n",
    "\n",
    "<img style=\"width: 60%;\" src=\"../figures/EAT_14908854309950_8181991609077116.png\"  />\n",
    "\n",
    "\n",
    "\n",
    "## Find\n",
    "1. Volumetric flow rate of the steam at the inlet to the first-stage turbine, in m³/min,   \n",
    "1. Rate of heat transfer to the steam flowing through the reheater, in kW, and   \n",
    "1. Total power produced by the two stages of the turbine, in kW.   "
   ]
  },
  {
   "cell_type": "markdown",
   "metadata": {},
   "source": [
    "### Get Organized   "
   ]
  },
  {
   "cell_type": "markdown",
   "metadata": {},
   "source": [
    "List your assumptions:   \n",
    "1. Steady state operation  \n",
    "2. No heat losses from any components  \n",
    "3. No kinetic and potential energy effects."
   ]
  },
  {
   "cell_type": "markdown",
   "metadata": {},
   "source": [
    "Let's determine what information we need to find in order to answer the questions.  \n",
    "\n",
    "1. **Volumetric flow rate of the steam at the inlet to the first-stage turbine**\n",
    "\n",
    "  We need $\\dot V_1.$ We are given $\\dot m.$ We know \n",
    "  \n",
    "  \\begin{equation}\\dot V_1 = \\dot m v_1 \\label{eq:volflow} \\end{equation}\n",
    "  \n",
    "  <u>We'll resolve ⓵ to get $v_1.$</u>\n",
    "  \n",
    "  ----\n",
    "\n",
    "1. **The rate of heat transfer to the steam flowing through the reheater**\n",
    "\n",
    "  We apply the energy equation to the reheater. _Remember, the steam is flowing, so it carries internal energy and flow energy in/out of the system._  \n",
    "\n",
    "  \\begin{array}{ccccl}\n",
    "   \\dot E_{in} &-& \\dot E_{out} &=& \\color{red}\\cancelto{\\text{0: steady state}}{\\color{black}\\frac {\\rm d}{\\rm dt}E_{sys}}  \\\\[6pt] \n",
    "   \\dot Q_\\mathit{reheater,in} + \\dot m \\left( u_2 + P_2v_2 \\right) &-& \\dot m \\left( u_3 + P_3v_3 \\right) &=& 0  \\\\[6pt]{}\n",
    "  \\end{array}\n",
    "\n",
    "  \\begin{gather} \\label{eq:qreheater}\n",
    "   \\dot Q_\\mathit{reheater,in} = \\dot m \\left( h_3 - h_2 \\right)  \\\\[6pt]{}\\notag\n",
    "  \\end{gather}\n",
    "\n",
    "  <u>We'll resolve ⓶ and ⓷ to get $ h_2, h_3.$</u>\n",
    "  \n",
    "  ----\n",
    "\n",
    "1. **The total power produced by the two stages of the turbine**\n",
    "\n",
    "  We apply the energy equation to each turbine and sum the results.  \n",
    "\n",
    "  $$\\dot W_{total,out} = \\dot W_\\textit{first stage, out} + \\dot W_\\textit{second stage, out}$$  \n",
    "  \n",
    "  We'll start with first stage turbine. _Again, the steam is flowing, so it carries internal energy and flow energy in/out of the system._   \n",
    "\n",
    "  \\begin{array}{ccccl}\n",
    "   \\dot E_{in} &-& \\dot E_{out} &=& \\color{red}\\cancelto{\\rlap{\\text{0: steady state}}}{\\color{black}\\frac {\\rm d}{\\rm dt}E_{sys}} \\\\ \n",
    "   \\dot m \\left( u_1 + P_1v_1 \\right) - \\dot W_\\textit{first stage, out} &-& \\dot m \\left( u_2 + P_2v_2 \\right) &=& 0 \n",
    " \\end{array}\n",
    "\n",
    "  \\begin{equation*}\n",
    "   \\dot W_\\textit{first stage, out} = \\dot m \\left( h_1 - h_2 \\right)   \n",
    "  \\end{equation*}\n",
    "\n",
    "  Likewise, \n",
    "  \n",
    "  \\begin{equation*}\n",
    "   \\dot W_\\textit{second stage, out} = \\dot m \\left( h_3 - h_4 \\right)  \\\\[15pt]\n",
    "  \\end{equation*}\n",
    "\n",
    "  Finally, \n",
    "  \n",
    "  \\begin{equation}\n",
    "   \\dot W_{total,out} \\label{eq:totalpower}\n",
    "       = \\dot W_\\textit{first stage, out} + \\dot W_\\textit{second stage, out} \n",
    "       = \\dot m \\left( h_1 - h_2 + h_3 - h_4 \\right)\n",
    "  \\end{equation}  \n",
    "\n",
    "\n",
    "#### Overall, the properties we need are $$\\bf v_1,\\ h_1,\\ h_2,\\ h_3,\\ h_4.$$\n",
    "\n"
   ]
  },
  {
   "cell_type": "markdown",
   "metadata": {},
   "source": [
    "### Attack "
   ]
  },
  {
   "cell_type": "markdown",
   "metadata": {},
   "source": [
    " Today, we'll use Julia, with _Unitful.jl_, a package for calculation with physical units."
   ]
  },
  {
   "cell_type": "markdown",
   "metadata": {},
   "source": [
    "### Volumetric flow rate of the steam at the inlet to the first-stage turbine** \n",
    "\n",
    "  From \\ref{eq:volflow}, $\\dot V_1 = \\dot m v_1$   \n",
    "\n",
    "  $\\left.\n",
    "  \\begin{aligned}\n",
    "  P_1 &= \\pu{40 bar} \\\\\n",
    "  T_1 &= \\pu{500°C} \n",
    "  \\end{aligned}\n",
    "  \\right\\}   \\rightarrow\n",
    "  \\left.\\begin{aligned}\n",
    "  v_1 &= \\pu{0.08643 m^3/kg} \\\\\n",
    "  h_1 &= \\pu{3445.3 kJ/kg}\n",
    "  \\end{aligned}\n",
    "  \\right.$  \n",
    "\n",
    "_We get $h_1$ while we're in the table, knowing we need it later._"
   ]
  },
  {
   "cell_type": "code",
   "execution_count": 1,
   "metadata": {
    "scrolled": true
   },
   "outputs": [
    {
     "name": "stdout",
     "output_type": "stream",
     "text": [
      "V̇₁ = 57.620000000000005 m^3 minute^-1\n"
     ]
    }
   ],
   "source": [
    "using Unitful \n",
    "\n",
    "ṁ = 40000u\"kg/hr\"      # given\n",
    "h₁ = 3445.3u\"kJ/kg\"    # table \n",
    "v₁ = 0.08643u\"m^3/kg\"  # table\n",
    "\n",
    "V̇₁ = ṁ * v₁ |> u\"m^3/minute\"; @show V̇₁;"
   ]
  },
  {
   "cell_type": "markdown",
   "metadata": {},
   "source": [
    "----\n",
    "\n",
    "### The rate of heat transfer to the steam flowing through the reheater**   \n",
    "\n",
    "  From eqn \\ref{eq:qreheater}, $\\dot Q_\\mathit{reheater,in} = \\dot m \\left( h_3 - h_2 \\right) $\n",
    "\n",
    "  $\\quad \\left.\n",
    "  \\begin{alignat*}{1}\n",
    "  P_3 &= 20\\ \\textsf{bar} \\\\\n",
    "  T_3 &= 500\\ \\textsf{℃} \n",
    "  \\end{alignat*}\n",
    "  \\right\\}\n",
    "  \\rightarrow\n",
    "   h_3 = 3467.6\\, \\mathrm{kJ/kg}\n",
    "  $\n",
    "  $\\quad \\left.\n",
    "  \\begin{alignat*}{1}\n",
    "  P_2 &= 20\\ \\textsf{bar} \\\\\n",
    "  T_2 &= 400\\ \\textsf{℃} \n",
    "  \\end{alignat*}\n",
    "  \\right\\}\n",
    "  \\rightarrow\n",
    "   h_2 = 3247.6\\, \\mathrm{kJ/kg}\n",
    "  $ "
   ]
  },
  {
   "cell_type": "code",
   "execution_count": 2,
   "metadata": {
    "scrolled": true
   },
   "outputs": [
    {
     "name": "stdout",
     "output_type": "stream",
     "text": [
      "Q̇_reheater_in = 2444.4444444444443 kW\n"
     ]
    }
   ],
   "source": [
    "h₃ = 3467.6u\"kJ/kg\"  # table \n",
    "h₂ = 3247.6u\"kJ/kg\"  # table \n",
    "\n",
    "Q̇_reheater_in = ṁ * (h₃ - h₂) |> u\"kW\"; @show Q̇_reheater_in;"
   ]
  },
  {
   "cell_type": "markdown",
   "metadata": {},
   "source": [
    "----\n",
    "\n",
    "### **The total power produced by the two stages of the turbine**\n",
    "\n",
    "  From eqn \\ref{eq:totalpower}, $\\dot W_{total,out} = \\dot m \\left( h_1 - h_2 \\right) + \\dot m \\left( h_3 - h_4 \\right) $\n",
    "\n",
    "  $\\left.\n",
    "  \\begin{array}{l}\n",
    "  P_4 = 0.6\\ \\textsf{bar} \\\\\n",
    "  \\text{saturated vapor}\n",
    "  \\end{array}\n",
    "  \\right\\}\n",
    "  \\rightarrow\n",
    "   h_4 = 2653.5\\, \\mathrm{kJ/kg}\n",
    "  $"
   ]
  },
  {
   "cell_type": "code",
   "execution_count": 3,
   "metadata": {
    "scrolled": true
   },
   "outputs": [
    {
     "name": "stdout",
     "output_type": "stream",
     "text": [
      "Ẇ_total_out = 11242.222222222224 kW\n"
     ]
    }
   ],
   "source": [
    "h₄ = 2653.5u\"kJ/kg\"  # table \n",
    "\n",
    "Ẇ_total_out = ṁ * (h₁ - h₂ + h₃ - h₄) |> u\"kW\"; @show Ẇ_total_out;"
   ]
  },
  {
   "cell_type": "markdown",
   "metadata": {},
   "source": [
    "<div class=\"mcs-bs-callout mcs-bs-callout-success extra\">\n",
    "\n",
    "#### Finis. Now summarize.\n",
    "\n",
    "1. Volumetric flow rate of the steam at the inlet to the first-stage turbine, in m³/min,   \n",
    "  \n",
    "  $$ \\dot V_1 = \\pu{57.62 m^3/min}$$ <br>\n",
    "  \n",
    "1. Rate of heat transfer to the steam flowing through the reheater, in kW, and   \n",
    "  \n",
    "  $$\\dot Q_\\mathit{reheater,in} = \\pu{2444.44 kW}$$ <br>\n",
    "  \n",
    "1. Total power produced by the two stages of the turbine, in kW.  \n",
    "  \n",
    "  $$ \\dot W_{total,out} = \\pu{11242.22 kW} $$\n",
    "\n",
    "\n",
    "  \n",
    "</div>\n",
    "\n",
    "\n",
    "\n",
    "\n"
   ]
  },
  {
   "cell_type": "markdown",
   "metadata": {},
   "source": [
    "<div class=\"tricks\"><div class=\"tricks\"></div></div>"
   ]
  },
  {
   "cell_type": "markdown",
   "metadata": {},
   "source": [
    "<div class=\"mcs-bs-callout mcs-bs-callout-info \">\n",
    "\n",
    "\n",
    "\n",
    "#### Here's another approach to calculating the total power output.\n",
    " \n",
    "The First Law is the First Law, which is the First Law of Thermodynamics. It's always valid. You can apply the First Law to the entire system:\n",
    "\n",
    "  <img style=\"width: 60%;\" src=\"../figures/ms9.4.034-bigsystem.png\"  />\n",
    "\n",
    "\\begin{array}{c}\n",
    " \\dot E_{in} &-& \\dot E_{out} &=& \\color{red}\\cancelto{\\rlap{\\text{0: steady state}}}{\\color{black}\\frac {\\rm d}{\\rm dt}E_{sys}}  \\\\[6pt] \n",
    " \\dot m \\left( u_1 + P_1v_1 \\right) + \\dot Q_\\pu{reheater,in}  &-& \\dot m \\left( u_4 + P_4v_4 \\right) - \\dot Q_\\pu{total,out} &=& 0  \\\\[6pt]{}\n",
    "\\end{array}\n",
    "\n",
    "\n",
    "\\begin{gather*} \n",
    " \\bbox[5px,border:1px solid #18a2b8]{ \\dot Q_\\pu{total,out} = \\dot m \\left( h_1 - h_4 \\right) + \\dot Q_\\pu{reheater,in}  = 0 }\n",
    "\\end{gather*}\n",
    "\n",
    "\n",
    "Now, recalling eqn \\ref{eq:qreheater},\n",
    "\n",
    "  \\begin{gather*} \n",
    "   \\dot Q_\\mathit{reheater,in} = \\dot m \\left( h_3 - h_2 \\right),  \\\\[6pt]{}\\notag\n",
    "  \\end{gather*}\n",
    "  \n",
    "and\n",
    "  \n",
    "\\begin{align*} \n",
    "  \\dot Q_\\pu{total,out} \n",
    "  &= \\dot m \\left( h_1 - h_4 \\right) + \\dot m \\left( h_3 - h_2 \\right) \\\\[6pt] \n",
    "  &= \\dot m \\left( h_1 - h_2 + h_3 - h_4 \\right), \\\\{}\n",
    "\\end{align*} \n",
    "\n",
    "which is exactly what we got in eqn \\ref{eq:totalpower}... but it better be, right?? After all, the system must obey the First Law, however you define that system. Full stop. \n",
    "\n",
    "Simple examination shows us that **in this case**, we have to resolve all the same states and perform all the same calculations, no matter which approach we chose. However, there are many cases where wrapping your system arond everything is the best approach.\n",
    "\n",
    "</div>"
   ]
  },
  {
   "cell_type": "markdown",
   "metadata": {},
   "source": [
    "<footer class=\"psy\"><div class=\"psy\">ψᵟ</div></footer>"
   ]
  }
 ],
 "metadata": {
  "@webio": {
   "lastCommId": null,
   "lastKernelId": null
  },
  "kernelspec": {
   "display_name": "Julia 1.0.2",
   "language": "julia",
   "name": "julia-1.0"
  },
  "language_info": {
   "file_extension": ".jl",
   "mimetype": "application/julia",
   "name": "julia",
   "version": "1.0.2"
  },
  "varInspector": {
   "cols": {
    "lenName": 16,
    "lenType": 16,
    "lenVar": 40
   },
   "kernels_config": {
    "python": {
     "delete_cmd_postfix": "",
     "delete_cmd_prefix": "del ",
     "library": "var_list.py",
     "varRefreshCmd": "print(var_dic_list())"
    },
    "r": {
     "delete_cmd_postfix": ") ",
     "delete_cmd_prefix": "rm(",
     "library": "var_list.r",
     "varRefreshCmd": "cat(var_dic_list()) "
    }
   },
   "types_to_exclude": [
    "module",
    "function",
    "builtin_function_or_method",
    "instance",
    "_Feature"
   ],
   "window_display": true
  }
 },
 "nbformat": 4,
 "nbformat_minor": 2
}
