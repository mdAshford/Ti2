{
  "cells": [
    {
      "cell_type": "markdown",
      "source": [
        "<header class=\"banner\"><div class=\"banner\">\n",
        "  <div class=\"logos\">\n",
        "    <div><img title=\"Julia logo\" src=\"../figures/julia-logo-color.svg\" alt=\"Julia animated logo\" width=35 /></div>\n",
        "    <div>◌</div>\n",
        "    <div><img title=\"Powered by MathJax\" src=\"https://www.mathjax.org/badge/mj-logo.svg\"\n",
        "              alt=\"Powered by MathJax\" width=65 />\n",
        "    </div>\n",
        "  </div>  <!-- logos -->\n",
        "  <div class=\"cite_textbook ms9\">4.067 <span class=\"authors\"></span></div>\n",
        "</div></header>\n",
        "\n",
        "<footer class=\"navbar navbar-default navbar-fixed-bottom mcs-psy-nav\" >\n",
        "  <div class=\"container-fluid text-right h4\">\n",
        "    <em>ψᵟ</em>\n",
        "  </div>\n",
        "</footer>\n",
        "\n",
        "\n",
        "\n",
        "\n"
      ],
      "metadata": {}
    },
    {
      "cell_type": "markdown",
      "source": [
        "### problem 4.067\n",
        "Figure P4.67 provides steady-state data for a throttling valve in series with a heat exchanger. Saturated liquid Refrigerant 134a enters the valve at a pressure of 9 bar and is throttled to a pressure of 2 bar. The refrigerant then enters the heat exchanger, exiting at a temperature of 10°C with no significant decrease in pressure. In a separate stream, liquid water at 1 bar enters the heat exchanger at a temperature of 25°C with a mass flow rate of 2 kg/s and exits at 1 bar as liquid at a temperature of 15°C. Stray heat transfer and kinetic and potential energy effects can be ignored. \n",
        "\n"
      ],
      "metadata": {}
    },
    {
      "cell_type": "markdown",
      "source": [
        "### Given\n",
        "\n",
        "![4.067 diagram](../figures/EAT_14995565987270_24363356200136077.png)"
      ],
      "metadata": {}
    },
    {
      "cell_type": "markdown",
      "source": [
        "### Find\n",
        "  $\\quad$(a) the temperature, in °C, of the refrigerant at the exit of the valve, and   \n",
        "  $\\quad$(b) the mass flow rate of the refrigerant, in kg/s.   \n",
        "\n",
        "\n"
      ],
      "metadata": {}
    },
    {
      "cell_type": "markdown",
      "source": [
        "### Get Organized   "
      ],
      "metadata": {}
    },
    {
      "cell_type": "markdown",
      "source": [
        "List your assumptions:   \n",
        "1. Steady state operation  \n",
        "2. No heat losses from any components  \n",
        "3. No kinetic and potential energy effects."
      ],
      "metadata": {}
    },
    {
      "cell_type": "markdown",
      "source": [
        "Let's determine what information we need to find in order to answer the questions.  \n",
        "\n",
        "#### (a) volumetric flow rate of the steam at the inlet to the first-stage turbine, \n",
        "\n",
        "$\\quad$ We need $\\dot V_1.$ We are given $\\dot m.$ We know $\\dot V_1 = \\dot m v_1$   \n",
        "$\\quad$ We'll resolve State ⓵ to get $v_1.$\n",
        "\n",
        "\n",
        "#### (b) the rate of heat transfer to the steam flowing through the reheater   \n",
        "$\\quad$ We apply the energy equation to the reheater. _Remember, the steam is flowing, so it carries internal energy and flow energy in/out of the system._  \n",
        "\n",
        "\\begin{equation*}\n",
        " \\dot E_{in} - \\dot E_{out} = \\color{red}\\cancelto{\\text{0: steady state}}{\\frac {\\rm d}{\\rm dt}E_{sys}} \\\\[6pt] \n",
        " \\dot Q_\\mathit{reheater,in} + \\dot m \\left( u_2 + P_2v_2 \\right) - \\dot m \\left( u_3 + P_3v_3 \\right) = 0 \\\\[12pt]\n",
        " \\dot Q_\\mathit{reheater,in} = \\dot m \\left( h_3 - h_2 \\right)   \n",
        "\\end{equation*}\n",
        "\n",
        "$\\quad$ We'll resolve States ⓶ and ⓷ to get $h_3, h_2.$  \n",
        "\n",
        "\n",
        "#### (c) the total power produced by the two stages of the turbine   \n",
        "$\\quad$ We apply the energy equation to each turbine and sum the results.  \n",
        "\n",
        "$$\\dot W_{total,out} = \\dot W_\\textit{first stage, out} + \\dot W_\\textit{second stage, out}$$  \n",
        "\n",
        "$\\quad$ We'll start with first stage turbine. _Again, the steam is flowing, so it carries internal energy and flow energy in/out of the system._   \n",
        "\n",
        "\\begin{equation*}\n",
        " \\dot E_{in} - \\dot E_{out} = \\color{red}\\cancelto{\\text{0: steady state}}{\\frac {\\rm d}{\\rm dt}E_{sys}} \\\\[6pt] \n",
        " \\dot m \\left( u_1 + P_1v_1 \\right) - \\dot W_\\textit{first stage, out} - \\dot m \\left( u_2 + P_2v_2 \\right) = 0 \\\\[12pt]\n",
        " \\dot W_\\textit{first stage, out} = \\dot m \\left( h_1 - h_2 \\right)   \n",
        "\\end{equation*}\n",
        "\n",
        "$\\quad$ Likewise, \n",
        "\\begin{equation*}\n",
        " \\dot W_\\textit{second stage, out} = \\dot m \\left( h_3 - h_4 \\right)  \\\\[15pt]\n",
        "\\end{equation*}\n",
        "\n",
        "$\\quad$ Finally, \n",
        "\\begin{align*}\n",
        " \\dot W_{total,out} \n",
        "     &= \\dot m \\left( h_1 - h_2 \\right) + \\dot m \\left( h_3 - h_4 \\right) \\\\ \\\\\n",
        "\\end{align*}  \n",
        "\n",
        "$\\quad$ Overall, the properties we need are $v_1,\\ h_1,\\ h_2,\\ h_3,\\ h_4.$"
      ],
      "metadata": {}
    },
    {
      "cell_type": "markdown",
      "source": [
        "### Attack "
      ],
      "metadata": {}
    },
    {
      "cell_type": "markdown",
      "source": [
        " Today, we'll use Julia, with _Unitful.jl_, a package for calculation with physical units."
      ],
      "metadata": {}
    },
    {
      "cell_type": "code",
      "source": [
        "using Unitful       # Unitful units package\n",
        "const kJ = u\"kJ\"    # make shortcuts to Unitful units constructor\n",
        "const kg = u\"kg\"\n",
        "const m = u\"m\"\n",
        "const kW = u\"kW\"\n",
        "const minute = u\"minute\"\n",
        "const hr = u\"hr\";"
      ],
      "outputs": [],
      "execution_count": 1,
      "metadata": {}
    },
    {
      "cell_type": "markdown",
      "source": [
        "#### (a) volumetric flow rate of the steam at the inlet to the first-stage turbine, \n",
        "\n",
        "$\\quad \\dot V_1 = \\dot m v_1$   \n",
        "\n",
        "$\\quad \\left.\n",
        "\\begin{alignat*}{1}\n",
        "P_1 &= 40\\ \\textsf{bar} \\\\\n",
        "T_1 &= 500\\ \\textsf{℃} \n",
        "\\end{alignat*}\n",
        "\\right\\}\n",
        "\\rightarrow\n",
        "v_1 = 0.08643\\, \\mathrm{m^3/kg}, \\quad h_1 = 3445.3\\, \\mathrm{kJ/kg}\n",
        "$  \n",
        "\n",
        "$\\quad$ _We get $h_1$ while we're in the table, knowing we need it later._"
      ],
      "metadata": {}
    },
    {
      "cell_type": "code",
      "source": [
        "ṁ = 40000kg/hr              # given\n",
        "h₁ = 3445.3kJ/kg            # table \n",
        "v₁ = 0.08643m^3/kg          # table\n",
        "\n",
        "V̇₁ = ṁ * v₁ |> m^3/minute"
      ],
      "outputs": [
        {
          "output_type": "execute_result",
          "execution_count": 2,
          "data": {
            "text/plain": "57.620000000000005 m^3 minute^-1"
          },
          "metadata": {}
        }
      ],
      "execution_count": 2,
      "metadata": {
        "scrolled": true
      }
    },
    {
      "cell_type": "markdown",
      "source": [
        "$\\color{red} \\dot V_1 = 57.62\\ \\rm m^3/min$\n",
        "\n",
        "<p style = \" background-image:  url(./figures/bacgroundTiles.png); line-height: 0.35em\" >&nbsp;</p>"
      ],
      "metadata": {}
    },
    {
      "cell_type": "markdown",
      "source": [
        "#### (b) the rate of heat transfer to the steam flowing through the reheater   \n",
        "$\\quad \\dot Q_\\mathit{reheater,in} = \\dot m \\left( h_3 - h_2 \\right) $\n",
        "\n",
        "$\\quad \\left.\n",
        "\\begin{alignat*}{1}\n",
        "P_3 &= 20\\ \\textsf{bar} \\\\\n",
        "T_3 &= 500\\ \\textsf{℃} \n",
        "\\end{alignat*}\n",
        "\\right\\}\n",
        "\\rightarrow\n",
        " h_3 = 3467.6\\, \\mathrm{kJ/kg}\n",
        "$\n",
        "$\\quad \\left.\n",
        "\\begin{alignat*}{1}\n",
        "P_2 &= 20\\ \\textsf{bar} \\\\\n",
        "T_2 &= 400\\ \\textsf{℃} \n",
        "\\end{alignat*}\n",
        "\\right\\}\n",
        "\\rightarrow\n",
        " h_2 = 3247.6\\, \\mathrm{kJ/kg}\n",
        "$ "
      ],
      "metadata": {}
    },
    {
      "cell_type": "code",
      "source": [
        "h₃ = 3467.6kJ/kg            # table \n",
        "h₂ = 3247.6kJ/kg            # table \n",
        "\n",
        "Q̇_reheater_in = ṁ * (h₃ - h₂) |> kW"
      ],
      "outputs": [
        {
          "output_type": "execute_result",
          "execution_count": 3,
          "data": {
            "text/plain": "2444.4444444444443 kW"
          },
          "metadata": {}
        }
      ],
      "execution_count": 3,
      "metadata": {
        "scrolled": true
      }
    },
    {
      "cell_type": "markdown",
      "source": [
        "$\\color{red} \\dot Q_\\mathit{reheater,in} = 2444.44\\, \\rm kW$\n",
        "\n",
        "<p style = \" background-image:  url(./figures/bacgroundTiles.png); line-height: 0.35em\" >&nbsp;</p>"
      ],
      "metadata": {}
    },
    {
      "cell_type": "markdown",
      "source": [
        "#### (c) the total power produced by the two stages of the turbine   \n",
        "$\\quad \\dot W_{total,out} = \\dot m \\left( h_1 - h_2 \\right) + \\dot m \\left( h_3 - h_4 \\right) $\n",
        "\n",
        "$\\quad \\left.\n",
        "\\begin{array}{l}\n",
        "P_4 = 0.6\\ \\textsf{bar} \\\\\n",
        "\\text{saturated vapor}\n",
        "\\end{array}\n",
        "\\right\\}\n",
        "\\rightarrow\n",
        " h_4 = 2653.5\\, \\mathrm{kJ/kg}\n",
        "$"
      ],
      "metadata": {}
    },
    {
      "cell_type": "code",
      "source": [
        "h₄ = 2653.5kJ/kg            # table \n",
        "\n",
        "Ẇ_total_out = ṁ * (h₁ - h₂ + h₃ - h₄) |> kW"
      ],
      "outputs": [
        {
          "output_type": "execute_result",
          "execution_count": 4,
          "data": {
            "text/plain": "11242.222222222224 kW"
          },
          "metadata": {}
        }
      ],
      "execution_count": 4,
      "metadata": {
        "scrolled": true
      }
    },
    {
      "cell_type": "markdown",
      "source": [
        "$\\color{red} \\dot W_{total,out} = 11242.22\\ \\rm kW$"
      ],
      "metadata": {}
    },
    {
      "cell_type": "markdown",
      "source": [
        "<footer style=\"background-color: #461d7c; color:rgba(253,208,35,0.35); line-height:2em; padding-left:1em; padding-right:0.5em; bottom:0; float:bottom; text-align:right;\"><i>ψᵟ</i></footer>"
      ],
      "metadata": {}
    }
  ],
  "metadata": {
    "kernelspec": {
      "display_name": "Julia 1.0.2",
      "language": "julia",
      "name": "julia-1.0"
    },
    "language_info": {
      "file_extension": ".jl",
      "mimetype": "application/julia",
      "name": "julia",
      "version": "1.0.2"
    },
    "toc": {
      "toc_position": {},
      "skip_h1_title": false,
      "number_sections": true,
      "title_cell": "Table of Contents",
      "toc_window_display": false,
      "base_numbering": 1,
      "toc_section_display": true,
      "title_sidebar": "Contents",
      "toc_cell": false,
      "nav_menu": {},
      "sideBar": true
    },
    "varInspector": {
      "cols": {
        "lenName": 16,
        "lenType": 16,
        "lenVar": 40
      },
      "kernels_config": {
        "python": {
          "delete_cmd_postfix": "",
          "delete_cmd_prefix": "del ",
          "library": "var_list.py",
          "varRefreshCmd": "print(var_dic_list())"
        },
        "r": {
          "delete_cmd_postfix": ") ",
          "delete_cmd_prefix": "rm(",
          "library": "var_list.r",
          "varRefreshCmd": "cat(var_dic_list()) "
        }
      },
      "types_to_exclude": [
        "module",
        "function",
        "builtin_function_or_method",
        "instance",
        "_Feature"
      ],
      "window_display": true
    },
    "nteract": {
      "version": "0.28.0"
    }
  },
  "nbformat": 4,
  "nbformat_minor": 2
}