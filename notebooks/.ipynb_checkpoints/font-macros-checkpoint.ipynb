{
 "cells": [
  {
   "cell_type": "markdown",
   "metadata": {},
   "source": [
    "# $\\ce{K2Cr2O7}$\n",
    "\n",
    "\\begin{equation}\n",
    "x^2  43s\n",
    "\\end{equation}"
   ]
  },
  {
   "cell_type": "raw",
   "metadata": {},
   "source": [
    "\\def\\bold#1{{\\bf #1}}\n",
    "\\def\\bold#1{{\\bf #1}}\n",
    "\n",
    "\n",
    "\\def\\Lato#1{{\\style{font-family: LatoWeb}{#1}}}\n",
    "\\def\\LatoText#1{ \\style{font-family: LatoWeb}{\\text{#1}} }\n",
    "\n",
    "\n",
    "bold: [\"{\\\\bf #1}\",1]\n",
    "LatoText: [\"{ \\\\style{font-family: LatoWeb}\\\\text{#1} }\",1]"
   ]
  },
  {
   "cell_type": "markdown",
   "metadata": {},
   "source": [
    "\\def\\RR{{\\bf R}}$\n",
    "\n",
    "$\\RR$\n",
    "\n",
    "$\\Expecto$"
   ]
  },
  {
   "cell_type": "raw",
   "metadata": {},
   "source": [
    "%%javascript"
   ]
  },
  {
   "cell_type": "markdown",
   "metadata": {},
   "source": [
    "macro javascript_str(s) display(\"text/javascript\", s); end"
   ]
  },
  {
   "cell_type": "markdown",
   "metadata": {},
   "source": [
    "javascript\"\"\"\n",
    "\n",
    "MathJax.Hub.Config({\n",
    "  TeX: {\n",
    "    Macros: {\n",
    "      RR: '{\\\\bf R}',\n",
    "      bold: ['{\\\\bf #1}',1],\n",
    "      LatoText: ['\\\\style{font-family: LatoWeb}{\\\\text{#1} }',1]\n",
    "    }\n",
    "  }\n",
    "});\n",
    "\n",
    "\"\"\""
   ]
  },
  {
   "cell_type": "markdown",
   "metadata": {},
   "source": [
    "javascript\"\"\"\n",
    "\n",
    "MathJax.Hub.Register.StartupHook(\"TeX Jax Ready\", function () {\n",
    "  MathJax.InputJax.TeX.Definitions.Add({\n",
    "    macros: {\n",
    "      Expecto: [\"Macro\", \"\\\\mathop{\\\\mathbb{E}}\"],\n",
    "      RR: [\"Macro\", \"{\\\\bf R}\"],\n",
    "      bold: [\"Macro\",\"{\\\\bf #1}\", 1]\n",
    "    }\n",
    "  });\n",
    "});\n",
    "\n",
    "\"\"\""
   ]
  },
  {
   "cell_type": "markdown",
   "metadata": {},
   "source": [
    "### bold\n",
    "\\def\\LatoText#1{ \\style{font-family: LatoWeb}{\\text{#1}} }\n",
    "\n",
    "\\def\\LatoText#1{ \\style{font-family: LatoWeb}{\\text{#1}} }$\n",
    "\n",
    "$\\bold{peter}$\n",
    "\n",
    "\\LatoText{peter}$\n",
    "\n",
    "$\\LatoText{peter}$ was here\n",
    "\n",
    "$\\LatoTextit{peter was here}$\n",
    "\n",
    "$\\RR$"
   ]
  },
  {
   "cell_type": "markdown",
   "metadata": {},
   "source": [
    "$\\RR$\n",
    "\n",
    "$\\bold{pete}$\n",
    "\n",
    "$\\style{font-family: LatoWeb; }{\\mathsf{tt^{01235}}}$\n",
    "\n",
    "$\\style{font-family: LatoWeb; font-style: italic;}{\\mathsf{tt^{01235}}}$"
   ]
  },
  {
   "cell_type": "markdown",
   "metadata": {},
   "source": [
    "$\\LatoMath{x^3}$\n",
    "$\\LatoMathit{x}^\\LatoMath{3}$\n",
    "$x^3$"
   ]
  },
  {
   "cell_type": "code",
   "execution_count": 13,
   "metadata": {},
   "outputs": [],
   "source": [
    "mw_K  = 39.0983\n",
    "mw_Cr = 51.9961\n",
    "mw_O  = 15.9994\n",
    "\n",
    "ν_K  = 2\n",
    "ν_Cr = 2\n",
    "ν_O  = 7;"
   ]
  },
  {
   "cell_type": "markdown",
   "metadata": {},
   "source": [
    "## mole fraction"
   ]
  },
  {
   "cell_type": "code",
   "execution_count": 30,
   "metadata": {
    "scrolled": true
   },
   "outputs": [
    {
     "data": {
      "text/plain": [
       "1×3 Array{Float64,2}:\n",
       " 0.181818  0.181818  0.636364"
      ]
     },
     "execution_count": 30,
     "metadata": {},
     "output_type": "execute_result"
    }
   ],
   "source": [
    "# by mole fraction\n",
    "\n",
    "total_atoms = sum([ν_K ν_Cr ν_O])\n",
    "\n",
    "mol_fracs = [ν_K ν_Cr ν_O]/total_atoms "
   ]
  },
  {
   "cell_type": "markdown",
   "metadata": {},
   "source": [
    "## mass fraction"
   ]
  },
  {
   "cell_type": "code",
   "execution_count": 31,
   "metadata": {},
   "outputs": [
    {
     "data": {
      "text/plain": [
       "294.18460000000005"
      ]
     },
     "execution_count": 31,
     "metadata": {},
     "output_type": "execute_result"
    }
   ],
   "source": [
    "# by mass fraction\n",
    "mass_K  = ν_K  * mw_K\n",
    "mass_Cr = ν_Cr * mw_Cr\n",
    "mass_O  = ν_O  * mw_O\n",
    "\n",
    "total_mass = mass_K +  mass_Cr + mass_O"
   ]
  },
  {
   "cell_type": "code",
   "execution_count": 32,
   "metadata": {},
   "outputs": [
    {
     "data": {
      "text/plain": [
       "0.2658079314824773"
      ]
     },
     "execution_count": 32,
     "metadata": {},
     "output_type": "execute_result"
    }
   ],
   "source": [
    "mass_frac_K = mass_K / total_mass"
   ]
  },
  {
   "cell_type": "code",
   "execution_count": 33,
   "metadata": {},
   "outputs": [
    {
     "data": {
      "text/plain": [
       "0.3534930108510098"
      ]
     },
     "execution_count": 33,
     "metadata": {},
     "output_type": "execute_result"
    }
   ],
   "source": [
    "mass_frac_Cr = mass_Cr / total_mass"
   ]
  },
  {
   "cell_type": "code",
   "execution_count": 34,
   "metadata": {},
   "outputs": [
    {
     "data": {
      "text/plain": [
       "0.38069905766651274"
      ]
     },
     "execution_count": 34,
     "metadata": {},
     "output_type": "execute_result"
    }
   ],
   "source": [
    "mass_frac_K = mass_O / total_mass"
   ]
  },
  {
   "cell_type": "code",
   "execution_count": null,
   "metadata": {},
   "outputs": [],
   "source": []
  }
 ],
 "metadata": {
  "kernelspec": {
   "display_name": "Julia 1.5.1",
   "language": "julia",
   "name": "julia-1.5"
  },
  "language_info": {
   "file_extension": ".jl",
   "mimetype": "application/julia",
   "name": "julia",
   "version": "1.5.2"
  }
 },
 "nbformat": 4,
 "nbformat_minor": 4
}
