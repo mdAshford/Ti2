{
 "cells": [
  {
   "cell_type": "markdown",
   "metadata": {},
   "source": [
    "<header class=\"banner\"><div class=\"banner\">\n",
    "  <div class=\"logos\">\n",
    "    <div><img title=\"Julia logo\" src=\"figures/julia-logo-color.svg\" alt=\"Julia animated logo\" width=35 /></div>\n",
    "    <div>◌</div>\n",
    "    <div><img title=\"Powered by MathJax\" src=\"https://www.mathjax.org/badge/mj-logo.svg\"\n",
    "              alt=\"Powered by MathJax\" width=65 />\n",
    "    </div>\n",
    "  </div>  <!-- logos -->\n",
    "  <div class=\"cite_textbook ms9\">3.099 <span class=\"authors\"></span></div>\n",
    "</div></header>\n",
    "\n"
   ]
  },
  {
   "cell_type": "markdown",
   "metadata": {},
   "source": [
    "### Given   \n",
    "Steam, initially at 700 psia, 550°F undergoes a polytropic process in a piston–cylinder assembly to a final pressure of 300 psia. Kinetic and potential energy effects are negligible. \n",
    "\n",
    "### Find \n",
    "Determine the heat transfer, in Btu/lbm of steam, for a polytropic exponent of 1.6,  \n",
    "$\\quad$(a) using data from the steam tables.  \n",
    "$\\quad$(b) assuming ideal gas behavior.\n",
    "\n"
   ]
  },
  {
   "cell_type": "markdown",
   "metadata": {},
   "source": [
    "### Get Organized\n",
    "\n",
    "![R-134a Saturation Pressure Table](./figures/ms9,3-099.png)\n",
    "\n",
    "These things you should notice right away:\n",
    "1. Closed system ⋮ constant mass.  \n",
    "1. Polytropic process, so $Pv^n = \\textit{constant} = P_1^\\vphantom{n}v_1^{n} = P_2^\\vphantom{n}v_2^{n}$.  \n",
    "1. We can resolve State 1 with $T_1, P_1$ (both given, and State 1 is _superheated vapor_).    \n",
    "1. We can resolve State 2 with $P_2$ (given) and $v_2$ (obtained from the polytropic relationship, once we resolve State 1). \n",
    "\n",
    "\n",
    "Always, always, **ALWAYS**: Find the state you can resolve. Relate that state to the states you need via the processes that connect them. Ride that Dog for the rest of your thermodynamic life. It will bring you Home every time."
   ]
  },
  {
   "cell_type": "markdown",
   "metadata": {},
   "source": [
    "#### Find 𝑸  \n",
    "We must solve the Energy Equation to calculate 𝑸. We may as well get in the habit now of addressing the mass balance, then address the energy balance. \n",
    "\n",
    "**Mass**:  \n",
    "Trivial. Closed System.\n",
    "\n",
    "**Energy:**  \n",
    "1. We have a polytropic process with a change in pressure; thus we have a change in volume: **Boundary work.**\n",
    "1. We have no other forms of work present.\n",
    "1. We are told to assume $\\Delta \\ce{KE} \\cong \\Delta \\ce{PE} \\cong 0$.  \n",
    "1. We'll assume the heat flows into the system.\n",
    "1. We'll assume the boundary work flows out of the system (even though we know this is a compression process). "
   ]
  },
  {
   "cell_type": "markdown",
   "metadata": {},
   "source": [
    "So let's build our energy equation as we always do:  \n",
    "\n",
    "\\begin{array}{ccccc}\n",
    "  E_{in} &-& E_{out} &=& \\Delta E_{sys} \\\\\n",
    "  Q_{in} &-& W_{b,out}&=& U_{2} - U_{1} \\\\{}\n",
    "\\end{array}\n",
    "We are asked to find specific heat transfer. Our mass is constant, so dividing it out of the entire equation is legal:\n",
    "\n",
    "\\begin{align*}\n",
    "  q_{in} &= u_{2} - u_{1} + w_{b,out} \\\\[6pt]\n",
    "         &= u_{2} - u_{1} + \\int^2_1 P\\,{\\rm d}v  \\\\[6pt]\n",
    "         &= u_{2} - u_{1} + \\frac{P_2v_2 - P_1v_1}{1-n}  \\\\\n",
    "\\end{align*}"
   ]
  },
  {
   "cell_type": "markdown",
   "metadata": {},
   "source": [
    "Thus far, we haven't done anything specific to using the steam tables or the ideal gas relations."
   ]
  },
  {
   "cell_type": "markdown",
   "metadata": {},
   "source": [
    "<div class=\"btn-info\">&nbsp;<div class=\"badge\"></div><i class=\"fa fa-exclamation-circle\"></i><strong> Sidebar: Integrating Polytropic Boundary Work</strong></div>\n",
    "<div class=\"panel-info\"><div class=\"panel-heading\">   \n",
    "  \n",
    "\n",
    "\\begin{align*} \\\\\n",
    "  w_{b,out} &= \\int^2_1 P\\,{\\rm d}v \\quad & \\\\[-12pt]\n",
    "     &&& \\small \\begin{array}{c} Pv^n = \\textit{constant} = \\mathbf{M} \\\\[-6pt] \\therefore P=\\mathbf{M}v^{-n} \\end{array}\\\\\n",
    " w_{b,out} &= \\int^2_1 \\mathbf{M}v^{-n}\\,{\\rm d}v \\quad & \\\\[6pt]\n",
    "     &=  \\mathbf{M} \\bigg[ \\frac{v^{-n+1}}{1-n} \\bigg]^2_1 \\\\[6pt]\n",
    "     &=  \\frac{\\mathbf{M}v_2^{1-n} - \\mathbf{M}v_1^{1-n}}{1-n} \\\\ &&& \\small \\textit{remember: }\\mathbf{M} = P_1^\\vphantom{n}v_1^n = P_2^\\vphantom{n}v_2^n \\\\[6pt]\n",
    "   \\therefore w_{b,out} &=  \\frac{P_2v_2 - P_1v_1}{1-n} \\\\{}\n",
    "\\end{align*}\n",
    "\n",
    "\n",
    "</div></div>"
   ]
  },
  {
   "cell_type": "markdown",
   "metadata": {},
   "source": [
    "### Attack\n",
    "**Note:** I did not use your property tables, so you'll notice slight variations in property values."
   ]
  },
  {
   "cell_type": "markdown",
   "metadata": {},
   "source": [
    "#### Solve with Steam Tables\n",
    "\n",
    "$\\quad\\begin{align*}\n",
    "  q_{in} &= {\\color{blue}u_{2}} - u_{1} + \\frac{P_2{\\color{blue}v_2} - P_1v_1}{1-n} & n=1.4 && \\color{blue}\\scriptsize\\textit{unknowns} \\\\{} \n",
    "\\end{align*}$  \n",
    "\n",
    "\n",
    "$\\quad$ State 1 ⋮ $\\left\\{ \\begin{split} \n",
    "                     T_1 &= \\pu{550 °F} \\\\\n",
    "                     P_1 &= \\pu{700 psia}\n",
    "                    \\end{split}  \\right| \n",
    "                    \\begin{split}\n",
    "                     v_1 &= 0.728\\,\\ce{ft^3/lbm} \\\\ \n",
    "                     u_1 &= 1149.45\\,\\ce{Btu/lbm}\n",
    "                    \\end{split} $ \n",
    "\n",
    "\n",
    "$\\quad$ By the polytropic relationship, $\\displaystyle {\\color{blue}v_2} = v_1\\left(\\frac{P_1}{P_2}\\right)^{1/n} = 0.2932\\,\\ce{ft^3/lbm}$\n",
    "\n",
    "\n",
    "$\\quad$ State 2 ⋮\n",
    "$\\left\\{\\begin{split}\n",
    "P_2 &= \\pu{3000 psia} \\\\\n",
    "v_2 &= \\pu{0.2932 ft^3/lbm}\n",
    "\\end{split} \\right|$  ${\\color{blue}u_2} = \\pu{1387.44 Btu/lbm} $ \n",
    "\n",
    "\n",
    "Now we have everything we need to complete the calculation."
   ]
  },
  {
   "cell_type": "code",
   "execution_count": 1,
   "metadata": {},
   "outputs": [],
   "source": [
    "# ⋮⋮⋮⋮⋮ Julia initializations and setups ⋮⋮⋮⋮⋮⋮⋮⋮⋮⋮⋮⋮⋮⋮⋮⋮⋮⋮⋮⋮⋮⋮⋮⋮⋮⋮⋮⋮⋮⋮⋮⋮⋮⋮⋮⋮⋮⋮⋮⋮\n",
    "using Unitful \n",
    "\n",
    "lbm   = u\"lb\"              # better readability\n",
    "lbmol = u\"lb*mol\"          # better readability\n",
    "\n",
    ";"
   ]
  },
  {
   "cell_type": "code",
   "execution_count": 2,
   "metadata": {},
   "outputs": [
    {
     "data": {
      "text/plain": [
       "123.90587462108097 btu lb^-1"
      ]
     },
     "execution_count": 2,
     "metadata": {},
     "output_type": "execute_result"
    }
   ],
   "source": [
    "#                                                      ft⋅lbf  \n",
    "R̄ = 1545  # Universal gas constant in ugly units,  -----------\n",
    "#                                                    lb⋅mol⋅Ra       #\n",
    "n  = 1.6                 # given\n",
    "\n",
    "T1 = 550                 # °F,      given\n",
    "P1 = 700                 # psi,     given\n",
    "u1 = 1149.45             # btu/lb,  table ⋮ T1, P1\n",
    "v1 = 0.728               # ft^3/lb, table ⋮ T1, P1\n",
    "\n",
    "P2 = 3000                # psi, given\n",
    "v2 = v1 * (P1/P2)^(1/n) \n",
    "u2 = 1387.44             # btu/lb, table ⋮ P2, v2\n",
    "\n",
    "q_in_tables = u2 - u1 + (P2*v2 - P1*v1)/(1 - n) |> u\"btu/lb\""
   ]
  },
  {
   "cell_type": "markdown",
   "metadata": {},
   "source": [
    "<div class=\"panel-success\"><div class=\"panel-heading\">\n",
    "\n",
    "Using steam tables, $$q_{in} = 123.91\\,\\ce{Btu/lbm}$$\n",
    "</div></div> "
   ]
  },
  {
   "cell_type": "markdown",
   "metadata": {},
   "source": [
    "#### Solve with the Ideal Gas relation\n",
    "\n",
    "Again, our expression for heat transfer is  \n",
    "\n",
    "\\begin{align*}  \n",
    "  q_{in} &= u({\\color{blue}T_2}) - u(T_1) + \\frac{P_2{\\color{blue}v_2} - P_1v_1}{1-n},\n",
    "\\end{align*}  \n",
    "\n",
    "with internal energy expressed to emphasize its functional dependence on temperature. We can use the Ideal Gas relation $Pv = RT$ to eliminate the unknown ${\\color{blue}v_2}$ and the need to calculate $v_1$:  \n",
    "\n",
    "\\begin{gather*}  \n",
    "  q_{in} = u({\\color{blue}T_2}) - u(T_1) + \\frac{R{\\color{blue}T_2} - RT_1}{1-n}.  \\\\\n",
    "\\end{gather*}  "
   ]
  },
  {
   "cell_type": "markdown",
   "metadata": {},
   "source": [
    "Now, we're only missing $T_2$. To get it, we recall that we have a polytropic process connecting out states, and we are treating our fluid as an ideal gas. In other words, combine the two relationships in a way that yields $T_2 = f\\!\\left(T_1,P_1,P_2\\right).$\n",
    "\n",
    "\\begin{align*}\n",
    "  P_2^\\vphantom{n}v_2^n &= P_1^\\vphantom{n}v_1^n  \\\\[6pt]\n",
    " Pv&=RT\n",
    "\\end{align*}\n",
    "\n",
    "Combining both equations,\n",
    "\n",
    "\\begin{gather*}\n",
    " P_2\\left(\\frac{RT_2}{P_2}\\right)^n = P_1\\left(\\frac{RT_1}{P_1}\\right)^n  \\\\[6pt]\n",
    " T_2^n = T_1^n\\frac{P_1^{1-n}}{P_2^{1-n}}  \\\\[6pt]\n",
    " T_2 = T_1\\left(\\frac{P_1}{P_2}\\right)^{(1-n)/n}   \n",
    "      = T_1\\left(\\frac{P_2}{P_1}\\right)^{(n-1)/n} \\\\{}\n",
    "\\end{gather*}"
   ]
  },
  {
   "cell_type": "markdown",
   "metadata": {},
   "source": [
    "Last, ideal gas tables often list molar specific properties (_because they're most commonly used in reacting systems_); Table A-23E is no excpetion. However, it's an easy conversion:\n",
    "\n",
    "$$m = \\frac{N}{\\rm MW} $$\n",
    "\n",
    "Our heat transfer expression then becomes\n",
    "\n",
    "$$  q_{in} = \\frac{\\bar u_2 - \\bar u_1}{\\rm MW} + \\frac{R\\left( T_2 - T_1 \\right)}{1-n}, \\ {\\small\\text{where}} \\ R = \\frac{\\overline R}{\\rm MW}  $$"
   ]
  },
  {
   "cell_type": "code",
   "execution_count": 3,
   "metadata": {},
   "outputs": [
    {
     "data": {
      "text/plain": [
       "1009.67 Ra"
      ]
     },
     "execution_count": 3,
     "metadata": {},
     "output_type": "execute_result"
    }
   ],
   "source": [
    "MW_water = 18.02lbm/lbmol\n",
    "R_water  = R̄/MW_water \n",
    "\n",
    "T1 = T1 |> u\"Ra\" |> float    # ABSOLUTE TEMPERATURES!!!"
   ]
  },
  {
   "cell_type": "code",
   "execution_count": 4,
   "metadata": {},
   "outputs": [
    {
     "data": {
      "text/plain": [
       "1742.5616740319797 Ra"
      ]
     },
     "execution_count": 4,
     "metadata": {},
     "output_type": "execute_result"
    }
   ],
   "source": [
    "T2 = T1 * (P2/P1)^((n-1)/n)  # ABSOLUTE TEMPERATURES!!!"
   ]
  },
  {
   "cell_type": "code",
   "execution_count": 5,
   "metadata": {},
   "outputs": [
    {
     "data": {
      "text/plain": [
       "156.98863920854856 btu lb^-1"
      ]
     },
     "execution_count": 5,
     "metadata": {},
     "output_type": "execute_result"
    }
   ],
   "source": [
    "ū1 = 6158.9u\"btu\"/lbmol     # table \n",
    "ū2 = 11413u\"btu\"/lbmol      # table \n",
    "\n",
    "q_in_idealgas = (ū2 - ū1)/MW_water + R_water*(T2 - T1)/(1 - n) |> u\"btu\"/lbm"
   ]
  },
  {
   "cell_type": "code",
   "execution_count": 6,
   "metadata": {},
   "outputs": [
    {
     "data": {
      "text/plain": [
       "1.2669991611668023"
      ]
     },
     "execution_count": 6,
     "metadata": {},
     "output_type": "execute_result"
    }
   ],
   "source": [
    "q_in_idealgas / q_in_tables"
   ]
  },
  {
   "cell_type": "markdown",
   "metadata": {},
   "source": [
    "<div class=\"btn-success\">&nbsp;<div class=\"badge\"></div><i class=\"fa fa-spin fa-fw fa-cog\"></i><strong> Finis</strong></div>\n",
    "<div class=\"panel-success\"><div class=\"panel-heading\"><div class=\"badge\"></div> \n",
    "Wrapping up, let's compare our heat transfer calculations [Btu/lbm]:\n",
    "\n",
    "\\begin{array}{c}\n",
    "   \\textsf{Steam Tables} & \\textsf{Ideal Gas} \\\\[-6pt]\n",
    "  \\small \\sf 123.90 & \\small\\sf 156.99  \n",
    "\\end{array}  \n",
    "\n",
    "In assuming ideal gas behavior, our heat transfer calculation is 26.7% high. \n",
    "\n",
    "## Yikes! \n",
    "\n",
    "**Use tables if you have them. There are lots of conditions where it IS safe to use the ideal gas relations with steam, but avoid it if you can.**\n",
    "\n",
    "</div></div>"
   ]
  },
  {
   "cell_type": "markdown",
   "metadata": {},
   "source": [
    "<footer style=\"background-color: #461d7c; color:rgba(253,208,35,0.35); line-height:2em; padding-left:1em; padding-right:0.5em; bottom:0; float:bottom; text-align:right;\"><i>ψᵟ</i></footer>"
   ]
  }
 ],
 "metadata": {
  "@webio": {
   "lastCommId": null,
   "lastKernelId": null
  },
  "kernelspec": {
   "display_name": "Julia 1.2.0-DEV",
   "language": "julia",
   "name": "julia-1.2"
  },
  "language_info": {
   "file_extension": ".jl",
   "mimetype": "application/julia",
   "name": "julia",
   "version": "1.2.0"
  },
  "varInspector": {
   "cols": {
    "lenName": 16,
    "lenType": 16,
    "lenVar": 40
   },
   "kernels_config": {
    "python": {
     "delete_cmd_postfix": "",
     "delete_cmd_prefix": "del ",
     "library": "var_list.py",
     "varRefreshCmd": "print(var_dic_list())"
    },
    "r": {
     "delete_cmd_postfix": ") ",
     "delete_cmd_prefix": "rm(",
     "library": "var_list.r",
     "varRefreshCmd": "cat(var_dic_list()) "
    }
   },
   "types_to_exclude": [
    "module",
    "function",
    "builtin_function_or_method",
    "instance",
    "_Feature"
   ],
   "window_display": true
  }
 },
 "nbformat": 4,
 "nbformat_minor": 2
}
