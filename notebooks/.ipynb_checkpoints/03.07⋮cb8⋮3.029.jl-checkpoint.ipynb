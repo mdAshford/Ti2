{
 "cells": [
  {
   "cell_type": "markdown",
   "metadata": {},
   "source": [
    "<header class=\"banner\"><div class=\"banner\">\n",
    "  <div class=\"logos\">\n",
    "    <div><img title=\"Julia logo\" src=\"figures/julia-logo-color.svg\" alt=\"Julia animated logo\" width=35 /></div>\n",
    "    <div>◌</div>\n",
    "    <div><img title=\"Powered by MathJax\" src=\"https://www.mathjax.org/badge/mj-logo.svg\"\n",
    "              alt=\"Powered by MathJax\" width=65 />\n",
    "    </div>\n",
    "  </div>  <!-- logos -->\n",
    "  <div class=\"cite_textbook cb8\">3.029<span class=\"authors\"></span></div>\n",
    "</div></header>\n",
    "\n",
    "\n"
   ]
  },
  {
   "cell_type": "markdown",
   "metadata": {},
   "source": [
    "\n",
    "### Given \n",
    "A piston–cylinder device contains 0.85&nbsp;kg of R-134a at −10&nbsp;°C. The piston, which is free to move, has a mass of 12&nbsp;kg and a diameter of 25&nbsp;cm. The local atmospheric pressure is 88&nbsp;kPa. Now, heat is transferred to R-134a until the temperature is 15&nbsp;°C. \n",
    "\n",
    "### Find\n",
    "1. the final pressure,  \n",
    "1. the change in the volume of the cylinder, and  \n",
    "1. the change in the enthalpy of the R-134a."
   ]
  },
  {
   "cell_type": "markdown",
   "metadata": {},
   "source": [
    "### Get Organized\n",
    "\n",
    "A good diagram goes a long way. Draw it and USE IT. \n",
    "\n",
    "![cb8,3-29](figures/cb8,3-29.png)"
   ]
  },
  {
   "cell_type": "markdown",
   "metadata": {},
   "source": [
    "Our system is inside a piston-cylinder device. It's volume can change; the system is screaming to you **moving boundary work**. We aren't asked to find work, but let it scream regardless. \n",
    "\n",
    "The piston is free to move: now the system is screaming **constant pressure (isobaric) process**."
   ]
  },
  {
   "cell_type": "markdown",
   "metadata": {},
   "source": [
    "Now let's look at what we were asked to find:  \n",
    "\n",
    "1. Final Pressure.  \n",
    " We have an isobaric process, so \\begin{gather} \\notag \\\\ P_{\\rm 2} = P_{\\rm 1}. \\end{gather}  \n",
    " We are not given initial pressure $P_{\\rm1},$ but we can calculate it: \n",
    " \\begin{gather}  \\notag \\\\\n",
    "  P_{\\rm 1} = \\frac{F_{\\rm sys}}{A_{\\rm sys}}. \\\\ \\notag{}\n",
    " \\end{gather} \n",
    " Of course, the weight of the piston acts on our system. Working with absolute pressure is far more robust than working with gage pressure; that requires us to account for the force applied by atmospheric pressure.  \n",
    "  \\begin{gather}\n",
    "   \\begin{aligned} \\notag \\\\\n",
    "  P_{\\rm 1} &= \\frac{F_\\text{atm} + F_\\text{piston} }{A} \\\\[9pt]\n",
    "            &= \\frac{P_\\text{atm}A + m_\\text{piston}g }{A} \\\\[9pt] \n",
    "            &= P_\\text{atm} + \\frac{m_\\text{piston}g }{A}  \n",
    " \\end{aligned}\n",
    " \\end{gather}\n",
    "\n",
    "1. Volume change.  \n",
    "\n",
    " We seek  \n",
    " \\begin{gather}  \n",
    "   \\Delta{V} = V_2 - V_1.\\\\ \\notag{}\n",
    " \\end{gather} \n",
    " We know that specific volume relates volume and mass via  \n",
    " \\begin{gather} \\notag \\\\\n",
    "  V = mv. \\\\ \\notag{}\n",
    " \\end{gather}\n",
    "  Thus, \n",
    "  \\begin{equation}\n",
    "  \\begin{gathered}  \\notag \\\\\n",
    "   \\Delta{V} = V_2 - V_1 = mv_2 - mv_1 \\\\[9pt]\n",
    "   \\Delta{V} = m \\left(v_2 - v_1 \\right) \\\\ \\notag{}\n",
    " \\end{gathered} \n",
    " \\end{equation}  \n",
    " \n",
    " $$ {} $$\n",
    "  $$\\bf \\text {We need }v_1, v_2 $$\n",
    " $$ {} $$\n",
    " \n",
    "1. Enthalpy change.  \n",
    "\n",
    " We seek  \n",
    " \\begin{gather}  \n",
    "   \\Delta{H} = H_2 - H_1.\\\\ \\notag{}\n",
    " \\end{gather} \n",
    " We know that specific enthalpy relates enthalpy and mass via  \n",
    " \\begin{gather} \\notag \\\\\n",
    "  H = mh. \\\\ \\notag{}\n",
    " \\end{gather}\n",
    "  Thus, \n",
    "  \\begin{equation}\n",
    "  \\begin{gathered}  \\notag \\\\\n",
    "   \\Delta{H} = H_2 - H_1 = mh_2 - mh_1 \\\\[9pt]\n",
    "   \\Delta{H} = m \\left(h_2 - h_1 \\right) \\\\ \\notag{}\n",
    " \\end{gathered} \n",
    " \\end{equation} \n",
    "  $$\\bf \\text {We need }h_1, h_2 $$"
   ]
  },
  {
   "cell_type": "markdown",
   "metadata": {},
   "source": [
    "### Attack\n",
    "\n",
    "Let's get to work. "
   ]
  },
  {
   "cell_type": "code",
   "execution_count": 1,
   "metadata": {},
   "outputs": [
    {
     "name": "stdout",
     "output_type": "stream",
     "text": [
      "A = 490.8738521234052 cm^2\n"
     ]
    }
   ],
   "source": [
    "# ⋮⋮⋮⋮⋮ Julia initializations and setups ⋮⋮⋮⋮⋮⋮⋮⋮⋮⋮⋮⋮⋮⋮⋮⋮⋮⋮⋮⋮⋮⋮⋮⋮⋮⋮⋮⋮⋮⋮⋮⋮⋮⋮⋮⋮⋮⋮⋮⋮\n",
    "using Unitful     \n",
    "no_units = u\"m\"/u\"m\"\n",
    "\n",
    "g        =  1u\"gn\"    # Unitful quantity, sea level Earth gravity\n",
    "P_atm    = 88u\"kPa\"   # given  \n",
    "D_piston = 25u\"cm\"    # given \n",
    "m_piston = 12u\"kg\"    # given \n",
    "m_sys    = 0.85u\"kg\"  # given\n",
    "\n",
    "A = π/4 * D_piston^2\n",
    "@show A;"
   ]
  },
  {
   "cell_type": "markdown",
   "metadata": {},
   "source": [
    "#### 1. Final pressure P₂ \n"
   ]
  },
  {
   "cell_type": "code",
   "execution_count": 2,
   "metadata": {},
   "outputs": [
    {
     "name": "stdout",
     "output_type": "stream",
     "text": [
      "P₂ = 90.3973531996244 kPa\n"
     ]
    },
    {
     "data": {
      "text/plain": [
       "90.3973531996244 kPa"
      ]
     },
     "execution_count": 2,
     "metadata": {},
     "output_type": "execute_result"
    }
   ],
   "source": [
    "P₁ = P_atm + m_piston*g/A     # eqn(3)\n",
    "P₂ = P₁ |> u\"kPa\"             # eqn(1) \n",
    "@show P₂"
   ]
  },
  {
   "cell_type": "markdown",
   "metadata": {},
   "source": [
    "<div class=\"alert alert-success\" role=\"alert\" style=\"border: 1px solid #c3e6cb;\">\n",
    "\n",
    "$$ P_2 = \\pu{90.40 kPa = 0.9040 bar} $$\n",
    "\n",
    "</div>"
   ]
  },
  {
   "cell_type": "markdown",
   "metadata": {},
   "source": [
    "#### Properties\n",
    "\n",
    "We need $v_1, v_2, h_1,h_2.$  \n",
    "$\\begin{gather*} \\notag \\\\\n",
    " \\quad v_1: \\left\\{ \n",
    " \\begin{split} \n",
    "  T_1 &= \\ce{-10°C} \\\\\n",
    "  P_1 &= 0.904\\, \\ce{bar}\n",
    "\\end{split} \\right| P_\\text{sat@-10°C} = 2.0122\\, \\ce{bar}.\\quad P_1 < P_\\ce{sat}. \\\\ \\notag{}\n",
    " \\end{gather*} \\quad \\therefore$ State 1 is superheated vapor.  \n",
    " $P_1$ is not a breakpoint in the R-134a Superheated Vapor table, so we must interpolate. We know we need $h_1$, so we'll get it while we're getting $v$. The process is the same; only the table columns are different.  \n",
    " \n",
    " \\begin{align*}\n",
    " \\quad  v_\\text{-10°C, 0.6 bar} &= 0.34992\\,\\ce{m^3/kg}  & h_\\text{-10°C, 0.6 bar} &= 245.96\\,\\ce{kJ/kg} \\\\\n",
    " \\quad  v_\\text{-10°C, 1.0 bar} &= 0.20686\\,\\ce{m^3/kg}  & h_\\text{-10°C, 1.0 bar} &= 244.70\\,\\ce{kJ/kg} \\\\\n",
    " \\end{align*}\n",
    " \n",
    " $$\\begin{array}{ccc}\n",
    "   P_1  &-& 0.6\\,  \\ce{bar} \\\\\n",
    "  \\hline\n",
    "  1.0\\,\\ce{bar} &-& 0.6\\,\\ce{bar}\n",
    " \\end{array}\n",
    " = \n",
    " \\begin{array}{ccc}\n",
    "  v_1  &-& v_\\text{-10°C, 0.6 bar} \\\\\n",
    "  \\hline\n",
    "  v_\\text{-10°C, 1.0 bar} &-& v_\\text{-10°C, 0.6 bar}\n",
    " \\end{array}\n",
    " = \n",
    " \\begin{array}{ccc}\n",
    "  h_1  &-& h_\\text{-10°C, 0.6 bar} \\\\\n",
    "  \\hline\n",
    "  h_\\text{-10°C, 1.0 bar} &-& h_\\text{-10°C, 0.6 bar}\n",
    " \\end{array}$$ \n"
   ]
  },
  {
   "cell_type": "code",
   "execution_count": 3,
   "metadata": {},
   "outputs": [
    {
     "name": "stdout",
     "output_type": "stream",
     "text": [
      "interpolation_factor = 0.75993382999061\n"
     ]
    }
   ],
   "source": [
    "v_⁻10°C_60kPa  = 0.34992u\"m^3/kg\"          # Julia won't allow a \n",
    "v_⁻10°C_100kPa = 0.20686u\"m^3/kg\"          # decimal point in a variable name, hence kPa\n",
    "\n",
    "h_⁻10°C_60kPa  = 245.96u\"kJ/kg\"\n",
    "h_⁻10°C_100kPa = 244.70u\"kJ/kg\"\n",
    "\n",
    "# interpolation_factor makes it neater when interpolating multiple properties at once\n",
    "interpolation_factor = (P₁ - 0.6u\"bar\") / (1.0 - 0.6)u\"bar\" |> no_units  \n",
    "@show interpolation_factor; "
   ]
  },
  {
   "cell_type": "code",
   "execution_count": 4,
   "metadata": {
    "scrolled": true
   },
   "outputs": [
    {
     "name": "stdout",
     "output_type": "stream",
     "text": [
      "v₁ = 0.24120386628154333 m^3 kg^-1\n",
      "h₁ = 245.00248337421183 kJ kg^-1\n"
     ]
    }
   ],
   "source": [
    "v₁ = v_⁻10°C_60kPa + interpolation_factor * (v_⁻10°C_100kPa - v_⁻10°C_60kPa) \n",
    "h₁ = h_⁻10°C_60kPa + interpolation_factor * (h_⁻10°C_100kPa - h_⁻10°C_60kPa) \n",
    "\n",
    "@show v₁ h₁;"
   ]
  },
  {
   "cell_type": "markdown",
   "metadata": {},
   "source": [
    "<p style = \"background-image:  url(./figures/bacgroundTiles.png); line-height: 0.35em\" >&nbsp;</p>"
   ]
  },
  {
   "cell_type": "markdown",
   "metadata": {},
   "source": [
    "We've got State 1. Now we resolve State 2."
   ]
  },
  {
   "cell_type": "markdown",
   "metadata": {},
   "source": [
    "$\\begin{gather*} \\notag \\\\\n",
    " \\quad v_2: \\left\\{ \n",
    " \\begin{split} \n",
    "  T_2 &= \\ce{15°C} \\\\\n",
    "  P_2 &= 0.904\\, \\ce{bar}\n",
    "\\end{split} \\right| P_\\text{sat@15°C} = \\ ? \\\\ \\notag{}\n",
    " \\end{gather*} $   \n",
    " Neither $P_2$ nor $T_2$ are breakpoints in the R-134a Saturation or Superheated Vapor tables, so we must interpolate a bit more. First, we need to determine our phase at State 2, so we head to the Saturation Tables to get $P_\\ce{sat}$ and compare it to $P_2$. From the Saturation Temperature Table: \n",
    " \n",
    " | $T$ [°C] | $P_\\ce{sat}$ [bar] |\n",
    " |:--------:|:------------------:|\n",
    " |    12    |       4.4294       |\n",
    " |    16    |       5.0416       |\n",
    " \n",
    " We could interpolate to find $P_\\ce{sat}$, but we don't need the actual value of the saturation pressure. To wit: we know $P_\\text{sat@15°C}$ > 4.4294 bar, which means $P_2 = 0.904\\,\\ce{bar}\\lt P_\\text{sat@15°C}. \\quad \\therefore$ State 2 is superheated vapor.  \n",
    " \n",
    " "
   ]
  },
  {
   "cell_type": "markdown",
   "metadata": {},
   "source": [
    "We have to perform 2-dimensional interpolation to resolve State 2. It doesn't matter whether you do temperature or pressure first. Here's a little table compiled from the Superheated Vapor table for the pressures and temperatures that bracket our state $\\big( P_2 = 0.904\\,\\ce{bar}, T_2 = 15 \\ce{°C} \\big)$.\n",
    " \n",
    " \n",
    " | $P$ [bar] | $T$ [°C] | $v$ [m³/kg] | $h$ [kJ/kg] |\n",
    " |:---------:|:--------:|:-----------:|:-----------:|\n",
    " |    0.6    |    10    |   0.37861   |    262.41   |\n",
    " |    0.6    |    20    |   0.39279   |    270.89   |\n",
    " |    1.0    |    10    |   0.22473   |    261.43   |\n",
    " |    1.0    |    20    |   0.23349   |    270.02   |\n",
    " \n",
    " \n"
   ]
  },
  {
   "cell_type": "markdown",
   "metadata": {},
   "source": [
    " _Temperature_  \n",
    "\n",
    "$T_2$ is halfway between breakpoints, so the interpolation reduces to the average of the breakpoint values:\n",
    " \n",
    " \\begin{align*}\n",
    "  v_\\text{15°C, 0.6 bar} &= \\textstyle \\frac12 \\big( v_\\text{10°C, 0.6 bar} + v_\\text{20°C, 0.6 bar} \\big) & \n",
    "  h_\\text{15°C, 0.6 bar} &= \\textstyle \\frac12 \\big( h_\\text{10°C, 0.6 bar} + h_\\text{20°C, 0.6 bar} \\big) \\\\[6pt]\n",
    "  v_\\text{15°C, 1.0 bar} &= \\textstyle \\frac12 \\big( v_\\text{10°C, 1.0 bar} + v_\\text{20°C, 1.0 bar} \\big) & \n",
    "  h_\\text{15°C, 1.0 bar} &= \\textstyle \\frac12 \\big( h_\\text{10°C, 1.0 bar} + h_\\text{20°C, 1.0 bar} \\big) \\\\{}\n",
    " \\end{align*}\n",
    " \n",
    "Resulting in the additions rendered in bold red:\n",
    "\n",
    " | $\\bf P$ [bar] | $\\bf T$ [°C] | $\\bf v$ [m³/kg] | $\\bf h$ [kJ/kg]  |\n",
    " |:-------------:|:------------:|:---------------:|:----------------:|\n",
    " |      0.6      |     10       |    0.37861      |      262.41      |\n",
    " | $${\\color{red} 0.6}$$ | $${\\color{red} 15}$$  | $${\\color{red}0.38570}$$ | ${\\color{red}266.650}$ |\n",
    " |      0.6      |     20       |   0.39279       |       270.89      |\n",
    " |      1.0      |     10       |   0.22473       |       261.43      |\n",
    " | $$\\color{red}1.0$$ | $${\\color{red}15}$$ | $${\\color{red}0.22911}$$ | $${\\color{red}265.725}$$ |\n",
    " |      1.0      |     20       |   0.23349       |       270.02      |\n",
    "\n",
    " "
   ]
  },
  {
   "cell_type": "markdown",
   "metadata": {},
   "source": [
    " _Pressure_ \n",
    " \n",
    " Now, we interpolate over pressure and wrap up.\n",
    "\n",
    " $$\\begin{array}{ccc}\n",
    "   P_2  &-& 0.6\\,  \\ce{bar} \\\\\n",
    "  \\hline\n",
    "  1.0\\,\\ce{bar} &-& 0.6\\,\\ce{bar}\n",
    " \\end{array}\n",
    " = \n",
    " \\begin{array}{ccc}\n",
    "  v_2  &-& v_\\text{15°C, 0.6 bar} \\\\\n",
    "  \\hline\n",
    "  v_\\text{15°C, 1.0 bar} &-& v_\\text{15°C, 0.6 bar}\n",
    " \\end{array}\n",
    " = \n",
    " \\begin{array}{ccc}\n",
    "  h_2  &-& h_\\text{15°C, 0.6 bar} \\\\\n",
    "  \\hline\n",
    "  h_\\text{15°C, 1.0 bar} &-& h_\\text{15°C, 0.6 bar}\n",
    " \\end{array}$$ "
   ]
  },
  {
   "cell_type": "code",
   "execution_count": 5,
   "metadata": {},
   "outputs": [
    {
     "name": "stdout",
     "output_type": "stream",
     "text": [
      "interpolation_factor = 0.75993382999061\n"
     ]
    }
   ],
   "source": [
    "# Julia won't allow a decimal point in a variable name, hence kPa\n",
    "v_15°C_60kPa  = 0.38570u\"m^3/kg\" \n",
    "v_15°C_100kPa = 0.22911u\"m^3/kg\" \n",
    "\n",
    "h_15°C_60kPa  = 266.650u\"kJ/kg\"\n",
    "h_15°C_100kPa = 265.725u\"kJ/kg\"\n",
    "\n",
    "# interpolation_factor makes it neater when interpolating multiple properties at once\n",
    "interpolation_factor = (P₁ - 0.6u\"bar\") / (1.0 - 0.6)u\"bar\" |> no_units  \n",
    "@show interpolation_factor;"
   ]
  },
  {
   "cell_type": "code",
   "execution_count": 6,
   "metadata": {},
   "outputs": [
    {
     "name": "stdout",
     "output_type": "stream",
     "text": [
      "v₂ = 0.2667019615617704 m^3 kg^-1\n",
      "h₂ = 265.9470612072587 kJ kg^-1\n"
     ]
    }
   ],
   "source": [
    "v₂ = v_15°C_60kPa + interpolation_factor * (v_15°C_100kPa - v_15°C_60kPa) \n",
    "h₂ = h_15°C_60kPa + interpolation_factor * (h_15°C_100kPa - h_15°C_60kPa) \n",
    "@show v₂ h₂;"
   ]
  },
  {
   "cell_type": "markdown",
   "metadata": {},
   "source": [
    "#### 2. Change in the volume of the R-134a    \n",
    "\n",
    " $\\Delta V = V_2 - V_1 = m\\left( v_2 - v_1 \\right)$"
   ]
  },
  {
   "cell_type": "code",
   "execution_count": 7,
   "metadata": {},
   "outputs": [
    {
     "name": "stdout",
     "output_type": "stream",
     "text": [
      "ΔV = 0.021673380988193002 m^3\n"
     ]
    }
   ],
   "source": [
    "ΔV = m_sys * (v₂ - v₁)\n",
    "@show ΔV;"
   ]
  },
  {
   "cell_type": "markdown",
   "metadata": {},
   "source": [
    "<div class=\"alert alert-success\" role=\"alert\" style=\"border: 1px solid #c3e6cb;\">\n",
    "\n",
    "$$ \\pu{\\Delta V = 0.0217 m^3} $$\n",
    "  \n",
    "</div>"
   ]
  },
  {
   "cell_type": "markdown",
   "metadata": {},
   "source": [
    "#### 3. Change in the enthalpy of the R-134a\n",
    "\n",
    "$$\\Delta H = H_2 - H_1 = m\\left( h_2 -h_1 \\right)$$"
   ]
  },
  {
   "cell_type": "code",
   "execution_count": 8,
   "metadata": {},
   "outputs": [
    {
     "name": "stdout",
     "output_type": "stream",
     "text": [
      "ΔH = 17.80289115808982 kJ\n"
     ]
    }
   ],
   "source": [
    "ΔH = m_sys * (h₂ - h₁)\n",
    "@show ΔH;"
   ]
  },
  {
   "cell_type": "markdown",
   "metadata": {},
   "source": [
    "<div class=\"alert alert-success\" role=\"alert\" style=\"border: 1px solid #c3e6cb;\">\n",
    "  \n",
    "$$\\pu{\\Delta H = 17.803 kJ}$$\n",
    "\n",
    "</div>"
   ]
  },
  {
   "cell_type": "markdown",
   "metadata": {},
   "source": [
    "<footer style=\"background-color: #461d7c; color:rgba(253,208,35,0.35); line-height:2em; padding-left:1em; padding-right:0.5em; bottom:0; float:bottom; text-align:right;\"><i>ψᵟ</i></footer>"
   ]
  }
 ],
 "metadata": {
  "@webio": {
   "lastCommId": null,
   "lastKernelId": null
  },
  "kernelspec": {
   "display_name": "Julia 1.5.1",
   "language": "julia",
   "name": "julia-1.5"
  },
  "language_info": {
   "file_extension": ".jl",
   "mimetype": "application/julia",
   "name": "julia",
   "version": "1.5.1"
  },
  "varInspector": {
   "cols": {
    "lenName": 16,
    "lenType": 16,
    "lenVar": 40
   },
   "kernels_config": {
    "python": {
     "delete_cmd_postfix": "",
     "delete_cmd_prefix": "del ",
     "library": "var_list.py",
     "varRefreshCmd": "print(var_dic_list())"
    },
    "r": {
     "delete_cmd_postfix": ") ",
     "delete_cmd_prefix": "rm(",
     "library": "var_list.r",
     "varRefreshCmd": "cat(var_dic_list()) "
    }
   },
   "types_to_exclude": [
    "module",
    "function",
    "builtin_function_or_method",
    "instance",
    "_Feature"
   ],
   "window_display": true
  }
 },
 "nbformat": 4,
 "nbformat_minor": 2
}
