{
 "cells": [
  {
   "cell_type": "markdown",
   "metadata": {
    "slideshow": {
     "slide_type": "-"
    }
   },
   "source": [
    "<h1 class=\"border border-success\"> me215: Thermodynamics I </h1>\n",
    "Test Two, 11 March 2020 <br>\n",
    "Closed book. Closed notes. No formula sheet. All test materials needed are in this packet.  <br>\n",
    "No Internet or communication allowed. Calculator is allowed.  <br>\n",
    "<i>12 Tasks — 100 points</i></div>\n",
    "\n",
    "<div class=\"instructions\">\n",
    "<div>Write your final answers on this problem sheet <strong>AND</strong> make sure \n",
    "    your final answers are <strong>clearly identified</strong> in your work. Make sure you turn in <strong>ALL</strong> of your work sheets.</div>\n",
    "</div>"
   ]
  },
  {
   "cell_type": "markdown",
   "metadata": {
    "jupyter": {
     "source_hidden": true
    },
    "slideshow": {
     "slide_type": "-"
    }
   },
   "source": [
    "<div style=\"margin-top:-0.68em; padding-botton:6em; margin-bottom:-0.5em; background-color:#fcf8e3; border-bottom:1px solid #461D7C;\">\n",
    "    <p style=\"text-align:left; background-color:#461D7C; color:#fcf8e3; padding-right:1em;\">&nbsp;&nbsp;a few notes</p>\n",
    "  <div style=\"background-color:#fcf8e3; color:#461d7c; padding:0.6em 1em 0 1em; margin-bottom:0;\">\n",
    "\n",
    "\n",
    "Marked tables are in the Lagniappe at the end.\n",
    "$$ $$      \n",
    "</div></div>"
   ]
  },
  {
   "cell_type": "markdown",
   "metadata": {
    "slideshow": {
     "slide_type": "-"
    }
   },
   "source": [
    "<tr class = \"problem-head\">\n",
    "<th>\n",
    "<div class=\"badge\">\n",
    "1\n",
    "</div>\n",
    "</th>\n",
    "<th>\n",
    "(10) Describe open, closed, and isolated systems, respectively. Be sure to highlight the differences between the three systems.\t    </th>\n",
    "</tr>"
   ]
  },
  {
   "cell_type": "markdown",
   "metadata": {},
   "source": [
    "<div class=\"indentme\">\n",
    "    \n",
    "1. <span class=\"Sc\">Open systems</span> allow both mass and energy to cross their boundaries.  \n",
    "\n",
    "1. <span class=\"Sc\">Closed systems</span> allow energy to cross their boundaries, but not mass.  \n",
    "\n",
    "1. <span class=\"Sc\">Isolated systems</span> allow neither mass nor energy to cross their boundaries. \n",
    "    \n",
    "</div>"
   ]
  },
  {
   "cell_type": "markdown",
   "metadata": {},
   "source": [
    "<tr class = \"problem-row\"><td><div class=\"badge lining\">\n",
    "2\n",
    "</div></td><td><div>\n",
    "1575.01 kg \n",
    "</div><div>\n",
    "(10)\n",
    "</div></td><td>\n",
    "    \n",
    "Find the **final mass** of the contents of the tank.\n",
    "\n",
    "</td></tr>\n",
    "\n",
    "<tr class = \"problem-row\"><td><div class=\"badge lining\">\n",
    "3\n",
    "</div></td><td><div s>\n",
    "174.00 °C\n",
    "</div><div>\n",
    "(10)\n",
    "</div></td><td>\n",
    "    \n",
    "Find the **final temperature** of the contents of the tank.\n",
    "\n",
    "</td></tr>\n",
    "\n",
    "<tr class = \"problem-row\"><td><div class=\"badge lining\">\n",
    "4\n",
    "</div></td><td><div>\n",
    "2.4707$\\cdot$10⁶ kJ\n",
    "\n",
    "</div><div>\n",
    "(10)\n",
    "</div></td><td>\n",
    "    \n",
    "Find the **heat transfer**, with direction.\n",
    "    \n",
    "</td></tr>\n",
    "\n",
    "<tr class = \"problem-row\"><td><div class=\"badge lining\">\n",
    "5\n",
    "</div></td><td><div>\n",
    "0 kJ\n",
    "</div><div>\n",
    "(10)\n",
    "</div></td><td>\n",
    "    \n",
    "Find the **work**, with direction.\n",
    "    \n",
    "</td></tr>"
   ]
  },
  {
   "cell_type": "markdown",
   "metadata": {},
   "source": [
    "<tr class = \"problem-row\"><td><div class=\"badge lining\">   \n",
    "6\n",
    "</div></td><td><div>\n",
    "151.9 °C\n",
    "</div><div>\n",
    "(10)\n",
    "</div></td><td>\n",
    "    \n",
    "Find the **final temperature**.    \n",
    "    \n",
    "</td></tr>\n",
    "\n",
    "<tr class = \"problem-row\"><td><div class=\"badge lining\">   \n",
    "7\n",
    "</div></td><td><div>\n",
    "1202.6 kJ<sub>OUT</sub>\n",
    "</div><div>\n",
    "(10)\n",
    "</div></td><td>\n",
    "    \n",
    "Determine the **heat transfer**, with direction.\n",
    "    \n",
    "</td></tr>\n",
    "\n",
    "<tr class = \"problem-row\"><td><div class=\"badge lining\">   \n",
    "8\n",
    "</div></td><td><div>\n",
    "    115.9 kJ<sub>IN</sub>\n",
    "</div><div>\n",
    "(10)\n",
    "</div></td><td>\n",
    "    \n",
    "Determine the **work**, with direction.\n",
    "    \n",
    "</td></tr>"
   ]
  },
  {
   "cell_type": "markdown",
   "metadata": {},
   "source": [
    "<tr class = \"problem-row\"><td><div class=\"badge lining\">   \n",
    "9\n",
    "</div></td><td><div>\n",
    "    1200 kJ<sub>IN</sub>\n",
    "</div><div>\n",
    "(10)\n",
    "</div></td><td>\n",
    "    \n",
    "Determine the net work (and direction) of the cycle depicted above.\n",
    "    \n",
    "</td></tr>\n"
   ]
  },
  {
   "cell_type": "markdown",
   "metadata": {},
   "source": [
    "<tr class = \"problem-head\">\n",
    "    <th>\n",
    "        <div class=\"badge\">\n",
    "2 – 5\n",
    "        </div>\n",
    "    </th>\n",
    "    <th>\n",
    "        A 350 m<sup>3</sup> rigid tank is filled with a saturated liquid-vapor mixture of water at 200 kPa, where 25% of the mass is vapor. The water is heated until it becomes a saturated vapor. Hint: pay close attention to which properties remain constant. \n",
    "    </th>\n",
    "</tr>"
   ]
  },
  {
   "cell_type": "code",
   "execution_count": 1,
   "metadata": {
    "scrolled": true
   },
   "outputs": [
    {
     "name": "stderr",
     "output_type": "stream",
     "text": [
      "┌ Info: Precompiling DataFrames [a93c6f00-e57d-5684-b7b6-d8193f3e46c0]\n",
      "└ @ Base loading.jl:1278\n",
      "┌ Info: Precompiling Plots [91a5bcdd-55d7-5caf-9e0b-520d859cae80]\n",
      "└ @ Base loading.jl:1278\n",
      "┌ Info: Precompiling Latexify [23fbe1c1-3f47-55db-b15f-69d7ec21a316]\n",
      "└ @ Base loading.jl:1278\n"
     ]
    },
    {
     "ename": "ErrorException",
     "evalue": "could not open file /Users/psydat/Library/Mobile Documents/com~apple~CloudDocs/iDocuments/0.course/resources.thermodynamics/YOUcanDoThermodynamics/Ti2-broken/notebooks/src/marcucius.jl",
     "output_type": "error",
     "traceback": [
      "could not open file /Users/psydat/Library/Mobile Documents/com~apple~CloudDocs/iDocuments/0.course/resources.thermodynamics/YOUcanDoThermodynamics/Ti2-broken/notebooks/src/marcucius.jl",
      "",
      "Stacktrace:",
      " [1] include(::String) at ./client.jl:457",
      " [2] top-level scope at In[1]:2"
     ]
    }
   ],
   "source": [
    "using Unitful, DataFrames, Plots, Latexify        # load the packages we need\n",
    "include(\"src/marcucius.jl\");            # a script of our favorite functions \n",
    "plotlyjs();                             # really good plotting back-end"
   ]
  },
  {
   "cell_type": "markdown",
   "metadata": {},
   "source": [
    "<div class=\"indentme\">\n",
    "    \n",
    "Notice these right away   \n",
    "1. constant mass + constant volume ⟶ constant specific volume  \n",
    "1. constant volume ⟶ no boundary work\n",
    "1. ① ⋮ $P_1$ = 200 kPa, $x_1$ = 25%\n",
    "1. ② ⋮ $v_2$ = $v_1$, sat vapor\n",
    "    \n",
    "</div>\n"
   ]
  },
  {
   "cell_type": "markdown",
   "metadata": {},
   "source": [
    "<tr class = \"problem-row\"><td><div class=\"badge lining\">\n",
    "2\n",
    "</div></td><td><div>\n",
    "1575.01 kg \n",
    "</div><div>\n",
    "(10)\n",
    "</div></td><td>\n",
    "    \n",
    "Find the **final mass** of the contents of the tank.\n",
    "\n",
    "</td></tr>"
   ]
  },
  {
   "cell_type": "markdown",
   "metadata": {},
   "source": [
    "<tr class = \"problem-row\"><td><div class=\"badge lining\">\n",
    "3\n",
    "</div></td><td><div s>\n",
    "174.00 °C\n",
    "</div><div>\n",
    "(10)\n",
    "</div></td><td>\n",
    "    \n",
    "Find the **final temperature** of the contents of the tank.\n",
    "\n",
    "</td></tr>"
   ]
  },
  {
   "cell_type": "markdown",
   "metadata": {},
   "source": [
    "<tr class = \"problem-row\"><td><div class=\"badge lining\">\n",
    "4\n",
    "</div></td><td><div>\n",
    "2.4707$\\cdot$10⁶ kJ\n",
    "\n",
    "</div><div>\n",
    "(10)\n",
    "</div></td><td>\n",
    "    \n",
    "Find the **heat transfer**, with direction.\n",
    "    \n",
    "</td></tr>"
   ]
  },
  {
   "cell_type": "markdown",
   "metadata": {},
   "source": [
    "<tr class = \"problem-row\"><td><div class=\"badge lining\">\n",
    "5\n",
    "</div></td><td><div>\n",
    "0 kJ\n",
    "</div><div>\n",
    "(10)\n",
    "</div></td><td>\n",
    "    \n",
    "Find the **work**, with direction.\n",
    "    \n",
    "</td></tr>"
   ]
  },
  {
   "cell_type": "markdown",
   "metadata": {},
   "source": [
    "#### Let's do (5) first. \n",
    "\n",
    "\n",
    "\n",
    "<div class=\"indentme\">\n",
    "\n",
    "    \n",
    "We have no volume change, so no boundary work. We have no other forms of work mentioned.\n",
    "\n",
    "\\begin{equation}\n",
    "  W = 0\n",
    "\\end{equation}\n",
    "$$ $$    \n",
    "    \n",
    "<div class=\"Lora blue italic centerme\">Sometimes the answer is actually simple. Don't overthink things, and learn to trust your lying eyes.</div>\n",
    "\n",
    "    \n",
    "</div>"
   ]
  },
  {
   "cell_type": "code",
   "execution_count": 2,
   "metadata": {},
   "outputs": [
    {
     "ename": "UndefVarError",
     "evalue": "UndefVarError: roundme not defined",
     "output_type": "error",
     "traceback": [
      "UndefVarError: roundme not defined",
      "",
      "Stacktrace:",
      " [1] top-level scope at In[2]:8"
     ]
    }
   ],
   "source": [
    "V  = 350u\"m^3\";             # given  \n",
    "x1 = 0.25;                  # given    \n",
    "\n",
    "vf = 1.0605e-3u\"m^3/kg\";    # @200kPa   \n",
    "vg = 0.8857u\"m^3/kg\";       # @200kPa\n",
    "\n",
    "v  = vf + x1 * (vg - vf)\n",
    "m  = V / v |> roundme       # round to 4 digits\n",
    "\n",
    "# @sopretty(v, render, left, fraction) |> display\n",
    "(@dropdead frac=true disp=true m) |> latexstring"
   ]
  },
  {
   "cell_type": "code",
   "execution_count": 3,
   "metadata": {},
   "outputs": [
    {
     "data": {
      "text/plain": [
       "0.222220375 m^3 kg^-1"
      ]
     },
     "execution_count": 3,
     "metadata": {},
     "output_type": "execute_result"
    }
   ],
   "source": [
    "v"
   ]
  },
  {
   "cell_type": "markdown",
   "metadata": {},
   "source": [
    "#### mass\n",
    "\n",
    "\n",
    "\n",
    "<div class=\"indentme\">\n",
    "    \n",
    "Don't fall for the okey-doke! This is a closed system, so $\\Delta m = 0,$ and \"**final**\" mass is meaningless. \n",
    "\n",
    "\\begin{equation} \n",
    " \\displaystyle m = \\frac{V}{v}, \n",
    "\\end{equation}\n",
    "\n",
    "<div style=\"width:75%; margin: 0 auto;\">\n",
    "    where\n",
    "</div>\n",
    "    \n",
    "\\begin{equation}\n",
    "    v = {v_f}_{\\rm200kPa} + x_1 \\left( {v_g}_{\\rm200kPa} - {v_f}_{\\rm200kPa} \\right)\n",
    "\\end{equation}\n",
    "\n",
    "</div>"
   ]
  },
  {
   "cell_type": "markdown",
   "metadata": {},
   "source": [
    "#### work and heat transfer\n",
    "\n",
    "\n",
    "<!-- <div class=\"indentme\">\n",
    " -->\n",
    "Apply the energy equation: \n",
    "\n",
    "\\begin{array}{c} \n",
    " E_{in} &-& E_{out} &=& \\Delta E_{sys} \\\\\n",
    " Q_{in} &-& W_{out} &=& U_2 - U_1 \\\\ \n",
    "\\end{array}\n",
    "    \n",
    "The whole process is isochoric, so $W_b = 0.$ Moreover, no other forms of work are mentioned. What remains is\n",
    "    \n",
    "\\begin{equation}\n",
    " Q_{in} = m\\left(u_2 - u_1\\right) \n",
    "\\end{equation}\n",
    "    \n",
    "We already have $m$, and we can get $u_1$relatively easily. We resolve ② by finding where $v_g = v_2 = v_1$. This one requires interpolation. On a test, pick the most appropriate values, **and do it consistently**: ${\\it eg},$ pairing $T_2$ = 170.4 °C with $u_2$ = 2580.5 kJ/kg is a bad idea. Actually, it's the work of those who are evil and seething with sin.\n",
    "\n",
    "<div style=\" width:10em;  margin:auto;\">\n",
    "    \n",
    "|${v_g}_{\\rm[m^3/kg]}$|  $T_{[\\rm °C]}$  |${u_g}_{[\\rm kJ/kg]}$|\n",
    "|:-------------------:|:----------------:|:-------------------:|\n",
    "|        0.2404       |      170.4       |        2576.8       |\n",
    "| <mark>0.2222</mark> |<mark>$T_2$</mark>|  <mark>$u_2$</mark> |\n",
    "|        0.2150       |      175.4       |        2580.5       |\n",
    "    \n",
    "    \n",
    "</div>"
   ]
  },
  {
   "cell_type": "markdown",
   "metadata": {},
   "source": [
    "<div class=\"indentme\">\n",
    "\n",
    "Well, since we're here:\n",
    "    \n",
    "\\begin{gather}\n",
    "  \\frac{v - v_{\\rm below}}{v_{\\rm above} - v_{\\rm below}} =\n",
    "    \\frac{T - T_{\\rm below}}{T_{\\rm above} - T_{\\rm below}} =\n",
    "    \\frac{u - u_{\\rm below}}{u_{\\rm above} - u_{\\rm below}} \\\\[9pt]{}\\notag\n",
    "\\end{gather}\n",
    "\n",
    "$$\\color{blue}{\\textit{Don't forget, interpolate by position, not value}}$$\n",
    "\n",
    "</div>"
   ]
  },
  {
   "cell_type": "code",
   "execution_count": 4,
   "metadata": {},
   "outputs": [
    {
     "data": {
      "text/html": [
       "<table class=\"data-frame\"><thead><tr><th></th><th>vg</th><th>T</th><th>ug</th></tr><tr><th></th><th>Quantity…</th><th>Quantity…</th><th>Quantity…</th></tr></thead><tbody><p>2 rows × 3 columns</p><tr><th>1</th><td>0.2404 m^3 kg^-1</td><td>170.4 °C</td><td>2576.8 kJ kg^-1</td></tr><tr><th>2</th><td>0.215 m^3 kg^-1</td><td>175.4 °C</td><td>2580.5 kJ kg^-1</td></tr></tbody></table>"
      ],
      "text/latex": [
       "\\begin{tabular}{r|ccc}\n",
       "\t& vg & T & ug\\\\\n",
       "\t\\hline\n",
       "\t& Quantity… & Quantity… & Quantity…\\\\\n",
       "\t\\hline\n",
       "\t1 & 0.2404 m\\^3 kg\\^-1 & 170.4 °C & 2576.8 kJ kg\\^-1 \\\\\n",
       "\t2 & 0.215 m\\^3 kg\\^-1 & 175.4 °C & 2580.5 kJ kg\\^-1 \\\\\n",
       "\\end{tabular}\n"
      ],
      "text/plain": [
       "2×3 DataFrame\n",
       "│ Row │ vg               │ T         │ ug              │\n",
       "│     │ \u001b[90mQuantity…\u001b[39m        │ \u001b[90mQuantity…\u001b[39m │ \u001b[90mQuantity…\u001b[39m       │\n",
       "├─────┼──────────────────┼───────────┼─────────────────┤\n",
       "│ 1   │ 0.2404 m^3 kg^-1 │ 170.4 °C  │ 2576.8 kJ kg^-1 │\n",
       "│ 2   │ 0.215 m^3 kg^-1  │ 175.4 °C  │ 2580.5 kJ kg^-1 │"
      ]
     },
     "execution_count": 4,
     "metadata": {},
     "output_type": "execute_result"
    }
   ],
   "source": [
    "\"\"\"We make a little dataframe, just to see things better\"\"\"\n",
    "\n",
    "steam = DataFrame(vg = [0.2404, 0.2150]u\"m^3/kg\", \n",
    "                   T = [170.4 ,  175.4]u\"°C\", \n",
    "                  ug = [2576.8, 2580.5]u\"kJ/kg\")"
   ]
  },
  {
   "cell_type": "code",
   "execution_count": 5,
   "metadata": {
    "scrolled": true
   },
   "outputs": [
    {
     "ename": "UndefVarError",
     "evalue": "UndefVarError: roundme not defined",
     "output_type": "error",
     "traceback": [
      "UndefVarError: roundme not defined",
      "",
      "Stacktrace:",
      " [1] (::var\"#1#2\")(::Quantity{Float64,𝚯,Unitful.FreeUnits{(K,),𝚯,Unitful.Affine{-5463//20}}}) at ./In[5]:4",
      " [2] |>(::Quantity{Float64,𝚯,Unitful.FreeUnits{(K,),𝚯,Unitful.Affine{-5463//20}}}, ::var\"#1#2\") at ./operators.jl:834",
      " [3] top-level scope at In[5]:3"
     ]
    }
   ],
   "source": [
    "interpfrac = (    v       - steam.vg[2]) /      # interpfrac = left side of the \n",
    "             (steam.vg[1] - steam.vg[2])        #              interpolation eqn\n",
    "\n",
    "T_2  = ( steam.T[2]  + (steam.T[1]  - steam.T[2] ) * interpfrac ) |> u\"°C\" |> (T -> roundme(T, 3))\n",
    "ug_2 = ( steam.ug[2] + (steam.ug[1] - steam.ug[2]) * interpfrac ) |> (u -> roundme(u, 3))\n",
    "\n",
    "uf1 = 504.49u\"kJ/kg\"\n",
    "ug1 = 2529.5u\"kJ/kg\"\n",
    "u_1 = uf1 + x1 * (ug1 - uf1) |> roundme \n",
    "\n",
    "Q_in = m * (ug_2 - u_1) |> u\"kJ\" |> roundme\n",
    "\n",
    "@dropdead(m, T_2, Q_in) |> latexstring"
   ]
  },
  {
   "cell_type": "code",
   "execution_count": 6,
   "metadata": {},
   "outputs": [
    {
     "ename": "LoadError",
     "evalue": "UndefVarError: @sopretty not defined",
     "output_type": "error",
     "traceback": [
      "UndefVarError: @sopretty not defined",
      ""
     ]
    }
   ],
   "source": [
    "@sopretty u_1 render left\n",
    "(ug_2 - u_1)\n",
    "u_1\n",
    "ug_2"
   ]
  },
  {
   "cell_type": "markdown",
   "metadata": {},
   "source": [
    "<tr class = \"problem-head\"><th><div class=\"badge\">\n",
    "    \n",
    "6 – 8\n",
    "    \n",
    "</div></th><th>\n",
    "A piston-cylinder device contains 0.6 kg of steam at 200 °C and 0.5 MPa. The steam is cooled at constant pressure until 90% of the mass condenses.\n",
    "</th></tr>"
   ]
  },
  {
   "cell_type": "markdown",
   "metadata": {},
   "source": [
    "<tr class = \"problem-row\"><td><div class=\"badge lining\">   \n",
    "6\n",
    "</div></td><td><div>\n",
    "151.9 °C\n",
    "</div><div>\n",
    "(10)\n",
    "</div></td><td>\n",
    "    \n",
    "Find the **final temperature**.    \n",
    "    \n",
    "</td></tr>\n",
    "\n",
    "<tr class = \"problem-row\"><td><div class=\"badge lining\">   \n",
    "7\n",
    "</div></td><td><div>\n",
    "1202.6 kJ<sub>IN</sub>\n",
    "</div><div>\n",
    "(10)\n",
    "</div></td><td>\n",
    "    \n",
    "Determine the **heat transfer**, with direction.\n",
    "    \n",
    "</td></tr>\n",
    "\n",
    "<tr class = \"problem-row\"><td><div class=\"badge lining\">   \n",
    "8\n",
    "</div></td><td><div>\n",
    "    115.9 kJ<sub>IN</sub>\n",
    "</div><div>\n",
    "(10)\n",
    "</div></td><td>\n",
    "    \n",
    "Determine the **work**, with direction.\n",
    "    \n",
    "</td></tr>"
   ]
  },
  {
   "cell_type": "markdown",
   "metadata": {},
   "source": [
    "<div class=\"indentme\">\n",
    "    \n",
    "Notice these right away   \n",
    "1. piston-cylinder device at constant pressure ⟶ expect boundary work\n",
    "1. no non-boundary work mentioned\n",
    "1. ① ⋮ $P_1$ = 5 bar, $T_1$ = 200 °C\n",
    "1. ② ⋮ $P_2$ = $P_1$, $x_2$ = 10% (\"90% of mass condenses\" to liquid) \n",
    "    \n",
    "</div>\n"
   ]
  },
  {
   "cell_type": "markdown",
   "metadata": {},
   "source": [
    "<div class=\"indentme\">\n",
    "    \n",
    "#### Attack \n",
    "1. set up energy equation\n",
    "1. pull out $W_b$ and resolve\n",
    "1. resolve the rest\n",
    "    \n",
    "</div>\n"
   ]
  },
  {
   "cell_type": "markdown",
   "metadata": {},
   "source": [
    "<div class=\"indentme\">\n",
    "\n",
    "Start the enery equation like we do every single time. \n",
    "    \n",
    "\\begin{array}{c} \n",
    " E_{in} &-& E_{out} &=& \\Delta E_{sys} \\\\\n",
    " Q_{in} &-& W_{b,out} &=& U_2 - U_1 \\\\  \n",
    "\\end{array}\n",
    "\n",
    "\\begin{equation} \n",
    " Q_{in} = U_2 - U_1 + W_{b,out} \\label{Qin}\n",
    "\\end{equation}\n",
    "\n",
    "Expressing boundary work for an isobaric process is straightforward:\n",
    "    \n",
    "\\begin{gather} \n",
    " W_{b,out} = \\int^2_1 P\\,{\\rm d}V = P \\left( V_2 - V_1 \\right) = mP \\left( v_2 - v_1 \\right) \\label{boundary} \\\\{} \\notag\n",
    "\\end{gather}\n",
    "\n",
    "You have options for calculating the heat transfer.   \n",
    "1. You can use the boundary work you just calculated in (\\ref{boundary}). From (\\ref{Qin}):\n",
    "\n",
    "    \\begin{align} \n",
    " Q_{in} &= U_2 - U_1 + W_{b,out} \\notag \\\\[9pt]  \n",
    "   Q_{in} &= m \\left( u_2 - u_1 \\right) + W_{b,out} \\\\[9pt] \n",
    "    & \\phantom{=\\left( U_2 + PV_2 \\right) - \\left( U_1 + PV_1 \\right)} \\notag {}\n",
    "\\end{align}\n",
    "\n",
    "1. Or apply a little algebra and solve for heat transfer using enthalpy. Expanding (\\ref{Qin}):\n",
    "    \n",
    "    \\begin{align} \n",
    " Q_{in} &= U_2 - U_1 + W_{b,out} \\notag \\\\[6pt]\n",
    " &= U_2 - U_1 + P \\left( V_2 - V_1 \\right) \\notag \\\\[6pt]\n",
    "    &= \\left( U_2 + PV_2 \\right) - \\left( U_1 + PV_1 \\right) \\notag \\\\[6pt]\n",
    "   &= H_2 - H_1 \\notag \\\\[9pt]\n",
    "   Q_{in} &= m \\left( h_2 - h_1 \\right) \n",
    "\\end{align}\n",
    "\n",
    "\n",
    "\n",
    "    \n",
    "</div>"
   ]
  },
  {
   "cell_type": "markdown",
   "metadata": {},
   "source": [
    "<div class=\"indentme\">\n",
    "\n",
    "Resolve the states, do the math, and pat yourself on the back.\n",
    "    \n",
    "①$\\begin{array}{c|c}\n",
    " \\left\\{\\begin{aligned}\n",
    "   P_1 &= \\text{5 bar} \\\\\n",
    "   T_1 &= \\text{200 °C}\n",
    " \\end{aligned}\\right. & \\begin{aligned}\n",
    "   v_1 &= 0.4249~{\\rm m^3/kg} \\\\\n",
    "   u_1 &= 2642.9~\\text{kJ/kg} \\\\\n",
    "   h_1 &= 2855.4~\\text{kJ/kg}  \n",
    " \\end{aligned}\n",
    " \\end{array}$  \n",
    "    \n",
    "②$\\begin{array}{c|c}\n",
    " \\left\\{\\begin{aligned}\n",
    "   P_2 &= \\text{5 bar} \\\\\n",
    "   x_2 &= \\rlap{10\\%}{\\hphantom{\\text{200 °C}}}\n",
    " \\end{aligned}\\right. \n",
    " & \\begin{aligned}\n",
    " {T_2} & = {151.9~{\\rm °C}} \\\\\n",
    "   {v_{f_2}} &= 0.0010926~{\\rm m^3/kg} & v_{g_2} &= 0.3749~{\\rm m^3/kg} \\\\\n",
    "   u_{f_2} &= 639.68~\\text{kJ/kg} & u_{g_2} &= 2561.2~{\\rm kJ/kg} \\\\\n",
    "   h_{f_2} &= 640.23~\\text{kJ/kg} & u_{g_2} &= 2748.7~{\\rm kJ/kg} \n",
    " \\end{aligned}\n",
    " \\end{array}$\n",
    "    \n",
    "</div>"
   ]
  },
  {
   "cell_type": "code",
   "execution_count": 7,
   "metadata": {},
   "outputs": [
    {
     "ename": "UndefVarError",
     "evalue": "UndefVarError: roundme not defined",
     "output_type": "error",
     "traceback": [
      "UndefVarError: roundme not defined",
      "",
      "Stacktrace:",
      " [1] top-level scope at In[7]:17"
     ]
    }
   ],
   "source": [
    "# given\n",
    "x2 = 0.1\n",
    "P  = 5u\"bar\"\n",
    "m  = 0.6u\"kg\"\n",
    "\n",
    "# tables\n",
    "v1 = 0.4249u\"m^3/kg\";   vf2 = 0.0010926u\"m^3/kg\";   vg2 = 0.3749u\"m^3/kg\"\n",
    "u1 = 2642.9u\"kJ/kg\";    uf2 = 639.68u\"kJ/kg\";       ug2 = 2561.2u\"kJ/kg\"\n",
    "h1 = 2855.4u\"kJ/kg\";    hf2 = 640.23u\"kJ/kg\";       hg2 = 2748.7u\"kJ/kg\"\n",
    "\n",
    "# attack\n",
    "v2 = vf2 + x2*(vg2 - vf2)\n",
    "u2 = uf2 + x2*(ug2 - uf2)\n",
    "h2 = hf2 + x2*(hg2 - hf2)\n",
    "\n",
    "W_b_out =  P * m * (v2 - v1) \n",
    "W_b_in  = -W_b_out |> u\"kJ\" |> roundme\n",
    "\n",
    "Q_out_byU = -(m * (u2 - u1) + W_b_out) |> u\"kJ\" |> roundme\n",
    "Q_out_byH = -(m * (h2 - h1)) |> u\"kJ\" |> roundme\n",
    "\n",
    "@dropdead(frac=true, disp=true, W_b_in, Q_out_byU, Q_out_byH) |> latexstring"
   ]
  },
  {
   "cell_type": "code",
   "execution_count": 8,
   "metadata": {},
   "outputs": [
    {
     "data": {
      "text/plain": [
       "-1.202568798e6 kg m^2 s^-2"
      ]
     },
     "execution_count": 8,
     "metadata": {},
     "output_type": "execute_result"
    }
   ],
   "source": [
    "(u2 - u1)*m + W_b_out\n",
    "# u1\n",
    "# u2"
   ]
  },
  {
   "cell_type": "code",
   "execution_count": 9,
   "metadata": {},
   "outputs": [
    {
     "ename": "UndefVarError",
     "evalue": "UndefVarError: Q_out_by not defined",
     "output_type": "error",
     "traceback": [
      "UndefVarError: Q_out_by not defined",
      "",
      "Stacktrace:",
      " [1] top-level scope at In[9]:2"
     ]
    }
   ],
   "source": [
    "W_b_out\n",
    "Q_out_by"
   ]
  },
  {
   "cell_type": "code",
   "execution_count": 10,
   "metadata": {},
   "outputs": [
    {
     "data": {
      "text/plain": [
       "-1202.5938 kJ"
      ]
     },
     "execution_count": 10,
     "metadata": {},
     "output_type": "execute_result"
    }
   ],
   "source": [
    "(h2 - h1)*m"
   ]
  },
  {
   "cell_type": "markdown",
   "metadata": {},
   "source": [
    "<tr class = \"problem-head\">\n",
    "<th>\n",
    "<div class=\"badge\">\n",
    "9\n",
    "</div>\n",
    "</th>\n",
    "<th>\n",
    "(10) Determine the net work (and direction) of the cycle </th>\n",
    "</tr>\n",
    "\n"
   ]
  },
  {
   "cell_type": "markdown",
   "metadata": {},
   "source": [
    "![2020.10.test2.9](figures/2020.10.test2.09.better.png)"
   ]
  },
  {
   "cell_type": "markdown",
   "metadata": {},
   "source": [
    "<tr class = \"problem-row\"><td><div class=\"badge lining\">   \n",
    "9\n",
    "</div></td><td><div>\n",
    "    1200 kJ<sub>IN</sub>\n",
    "</div><div>\n",
    "(10)\n",
    "</div></td><td>\n",
    "    \n",
    "Determine the net work (and direction) of the cycle depicted above.\n",
    "    \n",
    "</td></tr>"
   ]
  },
  {
   "cell_type": "markdown",
   "metadata": {},
   "source": [
    "<div class=\"indentme\">\n",
    "    \n",
    "Easy money: \n",
    "    \n",
    "\\begin{equation}\n",
    "  W_b = \\int^2_1 P\\,{\\rm d}V\n",
    "\\end{equation}\n",
    "    \n",
    "As always, the magnitude work is the area bounded by a cycle on a P-v diagram. Processes moving in the direction of decreasing volume indicate work into the system. In our case, negative work has a higher magnitude than positive work.\n",
    "    \n",
    "Alternatively, anticlockwise cycles have negative net work. _Shamefully, I think I just wanted to write \"anticlockwise\"... twice_\n",
    "    \n",
    "I'm going to calculate area with a tall rectangle immediately left of a trapezoid.\n",
    "\n",
    "</div>"
   ]
  },
  {
   "cell_type": "code",
   "execution_count": 11,
   "metadata": {},
   "outputs": [
    {
     "ename": "LoadError",
     "evalue": "UndefVarError: @dropdead not defined",
     "output_type": "error",
     "traceback": [
      "UndefVarError: @dropdead not defined",
      ""
     ]
    }
   ],
   "source": [
    "W_b_in =   (400 - 100)u\"kPa\" * (3 - 1)u\"m^3\" +        # tall rectangle\n",
    "       0.5*(300 + 100)u\"kPa\" * (6 - 3)u\"m^3\"          # trapezoid\n",
    "\n",
    "W_b_in = W_b_in |> u\"kJ\"\n",
    "\n",
    "@dropdead(W_b_in) |> latexstring"
   ]
  },
  {
   "cell_type": "markdown",
   "metadata": {},
   "source": [
    "<tr class = \"problem-head\">\n",
    "<th>\n",
    "<div class=\"badge\">\n",
    "10\n",
    "</div>\n",
    "</th>\n",
    "<th>\n",
    "Consider the piston-cylinder device at right. Initially, the piston traps a volume VA of gas at pressure PA. Heat is added, causing the gas to expand. The piston’s motion is resisted (but not stopped) by a spring pulling it down. At volume VB, the piston makes contact with a spring that resists (but does not stop) its upward motion. Piston motion is stopped at volume VC, but heating continues indefinitely.<br><br>\n",
    "Both springs obey Hooke’s Law: spring force increases linearly with a change in length, or . The volume receiving heat transfer is the only volume/cavity where pressure builds.\n",
    "\n",
    "</th>\n",
    "</tr>\n",
    "\n"
   ]
  },
  {
   "cell_type": "markdown",
   "metadata": {},
   "source": [
    "![2020.10.test2.10.png](figures/2020.10.test2.10.png)"
   ]
  },
  {
   "cell_type": "markdown",
   "metadata": {},
   "source": [
    "<tr class = \"problem-row\"><td><div class=\"badge lining\">   \n",
    "10\n",
    "</div></td><td><div>\n",
    "    \n",
    " </div><div>\n",
    "(10)\n",
    "</div></td><td>\n",
    "    \n",
    "On the graph above, sketch the pressure as a function of volume for the entire process. Label all pressures and corresponding volumes.\n",
    "    \n",
    "</td></tr>"
   ]
  },
  {
   "cell_type": "markdown",
   "metadata": {},
   "source": [
    "<div class=\"indentme\">\n",
    "\n",
    "#### Keys\n",
    "1. <span class=\"Sc\">Straight lines between states:</span> for springs, force is linear with displacement. Our piston/cylinder device have constant cross-sectional area, so pressure will also be linear with displacement. \n",
    "1. <span class=\"Sc\">Inflection at B:</span> process $\\sf\\vec{AB}$ has one spring acting, but $\\sf\\vec{BC}$ has two. Slope $\\sf\\vec{BC}$ should be noticably greater than slope $\\sf\\vec{AB}$.\n",
    "1. <span class=\"Sc\">Cap it with an arrow:</span> beyond $\\sf C,$ the heating continues indefinitely. Terminating the process with an arrow is a nice touch.\n",
    "    \n",
    "</div>     "
   ]
  },
  {
   "cell_type": "markdown",
   "metadata": {},
   "source": [
    "<div class=\"banner Lora\">\n",
    "Lagniappe\n",
    "</div>"
   ]
  },
  {
   "cell_type": "markdown",
   "metadata": {},
   "source": [
    "<tr class = \"problem-head\">\n",
    "<th>\n",
    "<div class=\"badge\">\n",
    "2 – 5\n",
    "</div>\n",
    "</th>\n",
    "<th>\n",
    "\n",
    "![2020.10.test2.3-4.b.png](figures/2020.10.test2.03-4.b.png)\n",
    "\n",
    "\n",
    "![2020.10.test2.3-4.png](figures/2020.10.test2.03-4.png)\n",
    "\n",
    "\n",
    "</th>\n",
    "</tr>"
   ]
  },
  {
   "cell_type": "markdown",
   "metadata": {},
   "source": [
    "<tr class = \"problem-head\">\n",
    "<th>\n",
    "<div class=\"badge\">\n",
    "6 – 8\n",
    "</div>\n",
    "</th>\n",
    "<th>\n",
    "\n",
    "![2020.10.test2.06-8.a.png](figures/2020.10.test2.06-8.a.png)\n",
    "\n",
    "\n",
    "![2020.10.test2.06-8.a.png](figures/2020.10.test2.06-8.b.png)\n",
    "\n",
    "\n",
    "</th>\n",
    "</tr>"
   ]
  },
  {
   "cell_type": "markdown",
   "metadata": {},
   "source": [
    "<footer style=\"background-color: #461d7c; color:rgba(253,208,35,0.35); line-height:2em; padding-left:1em; padding-right:0.5em; bottom:0; float:bottom; text-align:right;\"><i>ψᵟ</i></footer>"
   ]
  }
 ],
 "metadata": {
  "@webio": {
   "lastCommId": null,
   "lastKernelId": null
  },
  "kernelspec": {
   "display_name": "Julia 1.5.2",
   "language": "julia",
   "name": "julia-1.5"
  },
  "language_info": {
   "file_extension": ".jl",
   "mimetype": "application/julia",
   "name": "julia",
   "version": "1.5.2"
  },
  "nteract": {
   "version": "nteract-on-jupyter@2.1.3"
  },
  "varInspector": {
   "cols": {
    "lenName": 16,
    "lenType": 16,
    "lenVar": 40
   },
   "kernels_config": {
    "python": {
     "delete_cmd_postfix": "",
     "delete_cmd_prefix": "del ",
     "library": "var_list.py",
     "varRefreshCmd": "print(var_dic_list())"
    },
    "r": {
     "delete_cmd_postfix": ") ",
     "delete_cmd_prefix": "rm(",
     "library": "var_list.r",
     "varRefreshCmd": "cat(var_dic_list()) "
    }
   },
   "types_to_exclude": [
    "module",
    "function",
    "builtin_function_or_method",
    "instance",
    "_Feature"
   ],
   "window_display": true
  }
 },
 "nbformat": 4,
 "nbformat_minor": 4
}
