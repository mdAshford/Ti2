{
 "cells": [
  {
   "cell_type": "markdown",
   "metadata": {},
   "source": [
    "<header class=\"banner\"><div class=\"banner\">\n",
    "  <div class=\"logos\">\n",
    "    <div><img title=\"Julia logo\" src=\"figures/julia-logo-color.svg\" alt=\"Julia animated logo\" width=35 /></div>\n",
    "    <div>◌</div>\n",
    "    <div><img title=\"Powered by MathJax\" src=\"https://www.mathjax.org/badge/mj-logo.svg\"\n",
    "              alt=\"Powered by MathJax\" width=65 />\n",
    "    </div>\n",
    "  </div>  <!-- logos -->\n",
    "  <div class=\"cite_textbook cb7\">4.9 <span class=\"authors\"></span></div>\n",
    "</div></header>\n",
    "\n",
    "\n",
    "\n"
   ]
  },
  {
   "cell_type": "markdown",
   "metadata": {},
   "source": [
    "\n",
    "<div class=\"mcs-bs-callout mcs-bs-callout-info\">\n",
    "\n",
    "#### work time: 7 minutes\n",
    "\n",
    "\n",
    "</div></div>"
   ]
  },
  {
   "cell_type": "markdown",
   "metadata": {},
   "source": [
    "\n",
    "### Given   \n",
    "1-m³ of saturated liquid water at 200 °C is expanded isothermally in a closed system until its quality is 80 percent. \n",
    "\n",
    "\n",
    "### Find \n",
    "Determine the total work produced by this expansion, in kJ.\n",
    "\n",
    "\n"
   ]
  },
  {
   "cell_type": "markdown",
   "metadata": {},
   "source": [
    "### Get Organized\n",
    "\n",
    "\n",
    "\n",
    "These things you should notice right away:\n",
    "1. Closed system ⋮ constant mass.  \n",
    "1. We can resolve both states ⋮ $(T_1,x_1),\\ (P_2,T_2=T_1),$ all given.\n",
    "1. An isothermal process operating completely under saturation conditions is also an isobaric process. Remember, $T$ and $P$ are **not** independent at saturation.  \n",
    "1. We have an expanding system ⋮ boundary work, and boundary work is the only form of work stated."
   ]
  },
  {
   "cell_type": "markdown",
   "metadata": {},
   "source": [
    "We must calculate isobaric boundary work:\n",
    "\n",
    "\\begin{align*}\n",
    "&& W_\\text{b,out} = \\int^2_1 P\\,{\\rm d}V &= P\\left(V_2 - V_1\\right)= P\\left(mv_2 - V_1\\right) \\\\\n",
    "\\text{where} \\\\\n",
    "&& P &= P_\\text{sat@200°C} \\\\[6pt]\n",
    "&& m &= \\frac{V_1}{v_1} \\\\\n",
    "&& v_1 &= v_\\text{sat.liq@200°C} \\\\\n",
    "&& v_2 &= v_\\text{x=0.8@200°C} \\\\\n",
    "\\end{align*}\n"
   ]
  },
  {
   "cell_type": "markdown",
   "metadata": {},
   "source": [
    "### Attack\n",
    "\n",
    "Remember, an isothermal process occurring at saturation conditions is also an isobaric process."
   ]
  },
  {
   "cell_type": "code",
   "execution_count": 8,
   "metadata": {},
   "outputs": [],
   "source": [
    "using Unitful"
   ]
  },
  {
   "cell_type": "code",
   "execution_count": 10,
   "metadata": {},
   "outputs": [
    {
     "name": "stdout",
     "output_type": "stream",
     "text": [
      "m = 864.6779074794639 kg\n",
      "V1 = 1 m³\n",
      "V2 = 88.32797233030698 m³\n",
      "W_out = 135707.66900129704 kJ\n"
     ]
    }
   ],
   "source": [
    "V1 = 1u\"m^3\"                    # given\n",
    "x2 = 0.8                        # given\n",
    "\n",
    "Psat_200°C = 15.54u\"bar\"        # table, Psat@200°C\n",
    "vf_200°C = 0.0011565u\"m^3/kg\"   # table, vf@200°C\n",
    "\n",
    "v1 = vf_200°C\n",
    "m  = V1/v1                   \n",
    "\n",
    "vg_200°C = 0.1274u\"m^3/kg\"      # table, vg@200°C\n",
    "v2 = vf_200°C + x2*(vg_200°C - vf_200°C)\n",
    "V2 = m*v2\n",
    "\n",
    "W_out = Psat_200°C * (V2 - V1) |> u\"kJ\"; @show m V1 V2 W_out;"
   ]
  },
  {
   "cell_type": "markdown",
   "metadata": {},
   "source": [
    "\n",
    "<div class=\"mcs-bs-callout mcs-bs-callout-success\">\n",
    "\n",
    "#### Finis. \n",
    "  \n",
    "  $W_{out} = \\pu{135707.67 kJ}$\n",
    "\n",
    "\n",
    "</div></div>"
   ]
  },
  {
   "cell_type": "markdown",
   "metadata": {},
   "source": [
    "<footer style=\"background-color: #461d7c; color:rgba(253,208,35,0.35); line-height:2em; padding-left:1em; padding-right:0.5em; bottom:0; float:bottom; text-align:right;\"><i>ψᵟ</i></footer>"
   ]
  }
 ],
 "metadata": {
  "@webio": {
   "lastCommId": null,
   "lastKernelId": null
  },
  "kernelspec": {
   "display_name": "Julia 1.5.2",
   "language": "julia",
   "name": "julia-1.5"
  },
  "language_info": {
   "file_extension": ".jl",
   "mimetype": "application/julia",
   "name": "julia",
   "version": "1.5.2"
  },
  "varInspector": {
   "cols": {
    "lenName": 16,
    "lenType": 16,
    "lenVar": 40
   },
   "kernels_config": {
    "python": {
     "delete_cmd_postfix": "",
     "delete_cmd_prefix": "del ",
     "library": "var_list.py",
     "varRefreshCmd": "print(var_dic_list())"
    },
    "r": {
     "delete_cmd_postfix": ") ",
     "delete_cmd_prefix": "rm(",
     "library": "var_list.r",
     "varRefreshCmd": "cat(var_dic_list()) "
    }
   },
   "types_to_exclude": [
    "module",
    "function",
    "builtin_function_or_method",
    "instance",
    "_Feature"
   ],
   "window_display": true
  }
 },
 "nbformat": 4,
 "nbformat_minor": 2
}
