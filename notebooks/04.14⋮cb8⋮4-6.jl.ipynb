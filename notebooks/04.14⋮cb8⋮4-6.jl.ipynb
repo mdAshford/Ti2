{
 "cells": [
  {
   "cell_type": "markdown",
   "metadata": {},
   "source": [
    "$\\require{cancel}  \\require{bbox} \\require{color} \\require{enclose} \\require{AMSmath} \\require{AMSsymbols} \\require{sinuitx} \\require{mhchem}$\n",
    "<div style=\"display:inline-block; position:absolute; top:0; right:0; color: #230e3e; font:italic 1em serif;\">$\\LaTeX$<span style=\"display:inline-block; vertical-align:bottom\"><a href=\"https://www.mathjax.org\">\n",
    "    <img style=\"height:1.25em\" title=\"Powered by MathJax\"\n",
    "    src=\"https://www.mathjax.org/badge/mj_logo.png\"\n",
    "    border=\"0\" alt=\"Powered by MathJax\" />\n",
    "</a></span> </div>"
   ]
  },
  {
   "cell_type": "markdown",
   "metadata": {},
   "source": [
    "<header style=\"background-color:#e7e2ee; color:#461d7c; line-height:2em; padding-left:1em; padding-right:1em; bottom:0; float:bottom; text-align:right; float:right; font-family:serif; font-size:small;\">Problem 4-6 ⋮ Çengel, Y. A., and Boles, M. A. (2001). <i>Thermodynamics: An Engineering Approach.</i> Boston: McGraw-Hill.</header>  \n",
    "\n"
   ]
  },
  {
   "cell_type": "markdown",
   "metadata": {},
   "source": [
    "## Problem 4-6\n",
    "\n",
    "### Given   \n",
    "A piston—cylinder device with a set of stops initially contains 0.6 kg of steam at 1.0 MPa and 400°C. The location of the stops corresponds to 40 percent of the initial volume. Now the steam is cooled.  \n",
    "\n",
    "\n",
    "### Find \n",
    "Determine  \n",
    "$\\quad$ (a) $W$ for the final state of 1.0 MPa and 250 °C   \n",
    "$\\quad$ (b) $W, T_{final}$ for the final state of 500 kPa.  "
   ]
  },
  {
   "cell_type": "markdown",
   "metadata": {},
   "source": [
    "### Get Organized\n",
    "\n",
    "![figure, cb8, 4-6](./figures/ch04_cen98179_p04006_lg.jpg)\n",
    "\n",
    "These things you should notice right away:\n",
    "1. Closed system ⋮ constant mass.  \n",
    "1. Isobaric process until the piston reaches the stops, isometric process after.   \n",
    "1. We can resolve State 1 with $T_1, P_1$ (both given, and State 1 is _superheated vapor_).   \n",
    "1. (a) Final state: 1.0 MPa and 250 °C: We can resolve State 2 with $P_2, T_2$ (given).\n",
    "    ![pv diagram](./figures/cb8,4-006a.png)\n",
    "1. (b) Final state: 500 kPa: \n",
    "    1. The piston will hit the stops\n",
    "    2. We can resolve State 2 with $P_2$ (given) and $v_2$ (calculated).  \n",
    " \n",
    " ![pv diagram](./figures/cb8,4-006b.png)\n",
    "\n",
    "\n",
    "Always, always, **always**: Find the state you can resolve. Relate that state to the states you need via the processes that connect them. Ride that Dog for the rest of your thermodynamic life. It will bring you Home every time."
   ]
  },
  {
   "cell_type": "markdown",
   "metadata": {},
   "source": [
    "#### (a) Find $W$ for the final state of 1.0 MPa and 250 °C \n",
    "All of our work is isobaric boundary work. \n",
    "\n",
    "\\begin{gather}\n",
    "   W_{b,out} = \\int^2_1 P\\,{\\rm d}V = mP \\left( v_2 - v_1 \\right) \\\\\n",
    " \\begin{aligned}\n",
    "   v_1 &= v\\big(\\text{1 MPa, 400 °C}\\big) \\\\\n",
    "   v_2 &= v\\big(\\text{1 MPa, 250 °C}\\big) \\\\   \n",
    "   m &= 0.6\\,\\ce{kg} \\\\\n",
    "   P &= \\ce{1MPa} \\\\{}\n",
    " \\end{aligned}\n",
    "\\end{gather}  \n",
    "\n",
    "\n",
    "<div class=\"btn-info\">&nbsp;<div class=\"badge\"></div><i class=\"fa fa-exclamation-circle\"></i><strong> Info: Symbolic Solution</strong></div>\n",
    "<div class=\"panel-info\"><div class=\"panel-heading\">   \n",
    "\n",
    "Were you solving this symbolically, you'd be done at this point. \n",
    "\n",
    "</div></div>\n"
   ]
  },
  {
   "cell_type": "code",
   "execution_count": 1,
   "metadata": {},
   "outputs": [],
   "source": [
    "using Unitful"
   ]
  },
  {
   "cell_type": "code",
   "execution_count": 2,
   "metadata": {},
   "outputs": [
    {
     "data": {
      "text/plain": [
       "0.073584 m^3"
      ]
     },
     "execution_count": 2,
     "metadata": {},
     "output_type": "execute_result"
    }
   ],
   "source": [
    "m  = 0.6u\"kg\"           # given\n",
    "P  = 1u\"MPa\"            # given\n",
    "v1 = 0.3066u\"m^3/kg\"    # table\n",
    "v2 = 0.2327u\"m^3/kg\"    # table\n",
    "\n",
    "W_out = m * P * (v2 - v1) |> u\"kJ\"\n",
    "\n",
    "0.4*v1*m"
   ]
  },
  {
   "cell_type": "markdown",
   "metadata": {},
   "source": [
    "Incidentally, we can calculate the minimum volume:   \n",
    "\n",
    "\\begin{gather*}\n",
    "  v_{min} = 0.4v_1 = 0.12264\\,\\ce{\\frac{m^3}{kg}} \\qquad \\qquad\n",
    "  V_{min} = mv_{min} = 0.07358\\,\\ce{m^3} \\\\{}\n",
    "\\end{gather*}\n",
    "\n",
    "\n",
    "<div class=\"btn-success\">&nbsp;<div class=\"badge\"></div><i class=\"fa fa-bomb\"></i><strong> You're the bomb</strong></div>\n",
    "<div class=\"panel-success\"><div class=\"panel-heading\">   \n",
    "\n",
    "$$(a)\\ W_{in} = 44.34\\,\\ce{kJ}$$\n",
    "\n",
    "</div>\n"
   ]
  },
  {
   "cell_type": "markdown",
   "metadata": {},
   "source": [
    "#### (b) $W, T_{final}$ for the final state of 500 kPa.    \n",
    "All of our work is _still_ isobaric boundary work, but now we know that the piston hits the stops. Remember there is no boundary work with no volume change. \n",
    "\n",
    "\\begin{gather*}\n",
    "   W_{b,out} = \\int^{min}_1 P\\,{\\rm d}V = mP \\big( v_{min} - v_1 \\big) = mP \\big( 0.4 v_{1} - v_1 \\big) \\\\ \n",
    "   W_{b,out} = - 0.6mPv_1  \\\\[12pt]\n",
    " \\begin{aligned}\n",
    "   v_1 &= v\\big(\\text{1 MPa, 400 °C}\\big) \\\\\n",
    "   v_2 = v_{min} &= 0.4 v_1 \\\\\n",
    "   m &= 0.6\\,\\ce{kg} \n",
    " \\end{aligned} \\\\[6pt]\n",
    "   T_2 = T\\big(\\ce{500kPa},v=0.4v_1\\big) \\\\{}\n",
    "\\end{gather*}  \n",
    "\n",
    "\n",
    "<div class=\"btn-info\">&nbsp;<div class=\"badge\"></div><i class=\"fa fa-exclamation-circle\"></i><strong> Info: Symbolic Solution</strong></div>\n",
    "<div class=\"panel-info\"><div class=\"panel-heading\">   \n",
    "\n",
    "Were you solving this symbolically, you'd be done at this point. \n",
    "\n",
    "</div></div>\n"
   ]
  },
  {
   "cell_type": "code",
   "execution_count": 3,
   "metadata": {},
   "outputs": [
    {
     "data": {
      "text/plain": [
       "-110.37599999999999 kJ"
      ]
     },
     "execution_count": 3,
     "metadata": {},
     "output_type": "execute_result"
    }
   ],
   "source": [
    "m  = 0.6u\"kg\"           # given\n",
    "P  = 1u\"MPa\"            # given\n",
    "v1 = 0.3066u\"m^3/kg\"    # table\n",
    "v2 = 0.4*v1       \n",
    "\n",
    "W_out = m * P * (v2 - v1) |> u\"kJ\"\n"
   ]
  },
  {
   "cell_type": "markdown",
   "metadata": {},
   "source": [
    "<div class=\"btn-success\">&nbsp;<div class=\"badge\"></div><i class=\"fa fa-spin fa-fw fa-cog\"></i><strong> Finis</strong></div>\n",
    "<div class=\"panel-success\"><div class=\"panel-heading\"><div class=\"badge\"></div> \n",
    "\n",
    "\\begin{align*}\n",
    "   (a) \\ &\\ W_{in} = 44.34\\,\\ce{kJ} \\\\[12pt]\n",
    "   \\begin{aligned}(b)\\\\{} \\end{aligned} &\\ \\begin{aligned}\n",
    "            W_{in} &= 110.376 \\,\\ce{kJ}\\\\\n",
    "               T_2 &= 151.8\\,\\ce{°C}\n",
    "          \\end{aligned}\n",
    "\\end{align*}  \n",
    "\n",
    "\n",
    "</div></div>"
   ]
  },
  {
   "cell_type": "markdown",
   "metadata": {},
   "source": [
    "<footer style=\"background-color: #461d7c; color:rgba(253,208,35,0.35); line-height:2em; padding-left:1em; padding-right:0.5em; bottom:0; float:bottom; text-align:right;\"><i>ψᵟ</i></footer>"
   ]
  }
 ],
 "metadata": {
  "@webio": {
   "lastCommId": null,
   "lastKernelId": null
  },
  "kernelspec": {
   "display_name": "Julia 1.2.0-DEV",
   "language": "julia",
   "name": "julia-1.2"
  },
  "language_info": {
   "file_extension": ".jl",
   "mimetype": "application/julia",
   "name": "julia",
   "version": "1.2.0"
  },
  "varInspector": {
   "cols": {
    "lenName": 16,
    "lenType": 16,
    "lenVar": 40
   },
   "kernels_config": {
    "python": {
     "delete_cmd_postfix": "",
     "delete_cmd_prefix": "del ",
     "library": "var_list.py",
     "varRefreshCmd": "print(var_dic_list())"
    },
    "r": {
     "delete_cmd_postfix": ") ",
     "delete_cmd_prefix": "rm(",
     "library": "var_list.r",
     "varRefreshCmd": "cat(var_dic_list()) "
    }
   },
   "types_to_exclude": [
    "module",
    "function",
    "builtin_function_or_method",
    "instance",
    "_Feature"
   ],
   "window_display": true
  }
 },
 "nbformat": 4,
 "nbformat_minor": 2
}
