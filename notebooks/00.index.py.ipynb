{
 "cells": [
  {
   "cell_type": "markdown",
   "metadata": {
    "nteract": {
     "transient": {
      "deleting": false
     }
    }
   },
   "source": [
    "    \n",
    "<p style=\"color: #461d7c; font-size: 250%; line-height:2em; margin-left:1em; font-weight:900; margin-top:-0.5em;\">\n",
    "youCAN do thermodynamics</p>\n",
    "\n",
    "<div style=\"margin-top:-0.68em; padding-botton:0; margin-bottom:-0.5em; background-color:#fcf8e3; \">\n",
    "    <p style=\"text-align:right; background-color:#461D7C; color:#fcf8e3; padding-right:1em;\">a production of the BENGAL-TIGER Laboratory at the University of Alabama</p>\n",
    "  <div style=\"background-color:#fcf8e3; color:#461d7c; padding:0.6em 1em 0 1em; margin-bottom:0;\">A repository of guided solutions to thermodynamics problems, presented in Jupyter Notebooks. Notebooks combine rich media with live code execution. More information about Jupyter Notebooks and the programming languages used herein can be found at  \n",
    "\n",
    "+ [Project Jupyter (official)](https://jupyter.org)\n",
    "+ [Dataquest.io Jupyter Notebook for Beginners: A Tutorial](https://www.dataquest.io/blog/jupyter-notebook-tutorial#thenotebookinterface)\n",
    "+ [Python.org (official)](https://www.python.org) <span style=\"display:inline-block; vertical-align:text-bottom\"><a href=\"https://www.python.org\"><img style=\"height:1em;\" src=\"./figures/flatPYTHONlogo.png\" alt=\"python\"></a></span> \n",
    "+ [The Julia Programming Language (official)](https://www.julialang.org) <span style=\"display:inline-block; vertical-align:bottom\"><a href=\"https://www.julialang.org\"><img style=\"height:1.25em\" src=\"./figures/juliaLOGO-three-balls.png\" alt=\"julia\" ></a></span> \n",
    "+ [Introducing Julia](https://en.wikibooks.org/wiki/Introducing_Julia)\n",
    "+ [MATLAB–Python–Julia cheatsheet](https://cheatsheets.quantecon.org)\n",
    "+ [The Markdown Guide: Everything you need to learn Markdown](https://www.markdownguide.org)\n",
    "\n",
    "$$$$**Quickstart:**\n",
    "Double-click cells to edit. Execute cells with ⇧⏎. The Help menu is pretty good.\n",
    "  </div>\n",
    "  <p style = \"background-image: url(./figures/cream-tiles.png); background-color:blue; line-height: 2px; padding:0; margin-top:4px;\" >&nbsp;</p>\n",
    "</div>\n"
   ]
  },
  {
   "cell_type": "markdown",
   "metadata": {},
   "source": [
    "<section class=\"toc\">\n",
    "\n",
    "## Early Essentials \n",
    "  \n",
    "1. [A mercury manometer ( $\\rho_{\\it Hg}$ = 13600 kg/m³) is connected to an air duct to measure the pressure inside. The difference in the manometer levels is 15 mm, and the atmospheric pressure is 100 kPa. (a) Judging from the figure, determine if the pressure in the duct is above or below the atmospheric pressure. (b) Determine the absolute pressure in the duct.](01.01⋮cb8⋮1-67.py.ipynb)\n",
    "   <img src=\"figures/classic_manometer-lesswhitespace.png\" width=600px />\n",
    "\n",
    "1. [A hydraulic lift is to be used to lift a 1900-kg weight by putting a weight of 25 kg on a piston with a diameter of 10 cm. Determine the diameter of the piston on which the weight is to be placed.](01.02⋮cb9⋮1-90.jl.ipynb)     \n",
    "   <img src=\"figures/cen22672_p01090.png\" />\n",
    "\n",
    "1. [A cold drink initially at 33 &deg;F gains 30 BTU of heat in a room at 60 &deg;F; over a 25 minute period. Find the average rate of heat transfer during this process [BTU/hr] ](01.03⋮average_rate_of_heat_transfer.ipynb)    \n",
    "\n",
    "1. [A closed system consisting of 2 lb of a gas undergoes a process during which the relation between pressure and volume is expressed as $PV^n = \\small {\\rm constant}$. The process begins with $P_1 = 25\\, {\\small \\rm lbf/in}^2$, $V_1 = 10$ ft³ and ends with $P_2 = 100\\, \\small {\\rm lbf/in^2}$ The value of $n = 1.3.$ Determine the final volume, $V_2$, in $\\small{\\rm ft^3}$, and determine the specific volume at states 1 and 2, in ft³/lbm.](01.04⋮ms9⋮1-023.jl.ipynb)    \n",
    "\n",
    "1. [An inclined manometer is used to measure the pressure of the gas within the reservoir. The manometer fluid is mercury, which has a density of 845 lb/ft³. The manometer fluid rises a distance\n",
    "7 inches along the manometer tube, which is inclined 30&deg; from the horizontal. The atmospheric pressure is 14.7 lbf/in² and the acceleration of gravity is 32.174 ft/s². Determine the gas pressure, in lbf/in². Express the pressure as a gage or a vacuum pressure, as appropriate, in lbf/in².](01.05⋮ms9⋮1-038.jl.ipynb)    \n",
    "  <img src=\"./figures/ms⋮1-038.png\" />\n",
    "\n",
    "  \n",
    "\n",
    "</section>"
   ]
  },
  {
   "cell_type": "markdown",
   "metadata": {},
   "source": [
    "<section class=\"toc\">\n",
    "\n",
    "## Thermodynamic Properties \n",
    "  \n",
    "1. [Given $\\ce{H2O}$ (P = $\\pu{400 kPa},$ u = $\\pu{1450 kJ/kg})$, find (1) specific volume, enthalpy, and entropy; and (2) describe the phase.](03.01⋮sbs⋮saturation_pressure_table.ipynb)      \n",
    "  <img src=\"figures/0301.png\" width=600px />  \n",
    "\n",
    "1. Given saturated vapor water at T=220 °C, find specific internal energy, specific volume, specific enthalpy, pressure, and specific entropy.    \n",
    "   <img src=\"figures/0301.png\" width=600px />  \n",
    "\n",
    "1. [Given $\\ce{H2O}, (P = \\pu{400 kPa}, u = \\pu{1450 kJ/kg})$, find (1) specific volume, enthalpy, and entropy; and (2) describe the phase.](03.01⋮sbs⋮saturation_pressure_table.ipynb)     \n",
    "   <img src=\"figures/0303_superheat_table.png\" width=600px />\n",
    "\n",
    "\n",
    "\n",
    "</section>"
   ]
  },
  {
   "cell_type": "markdown",
   "metadata": {},
   "source": [
    "<footer class=\"psy\"><div class=\"psy\">ψᵟ</div></footer>"
   ]
  },
  {
   "cell_type": "markdown",
   "metadata": {},
   "source": [
    "<header class=\"index\">\n",
    "<div class=\"index\">\n",
    "  <div><img title=\"Julia logo\" src=\"figures/julia-logo-color.svg\" alt=\"Julia animated logo\" width=35 /></div>\n",
    "  <div><img title=\"Powered by Python\" src=\"https://www.python.org/static/community_logos/python-logo-inkscape.svg\" alt=\"Powered by Python\" width=85 /></div>\n",
    "  <div><img title=\"R Logo\" src=\"https://www.r-project.org/logo/Rlogo.svg\" alt=\"R Logo\" width=25 /></div>\n",
    "  <div>${\\normalsize\\LaTeX}$</div>\n",
    "  <div><img title=\"Powered by MathJax\" src=\"https://www.mathjax.org/badge/mj-logo.svg\" alt=\"Powered by MathJax\" width=65 /></div>\n",
    "</div>\n",
    "</header>"
   ]
  }
 ],
 "metadata": {
  "@webio": {
   "lastCommId": null,
   "lastKernelId": null
  },
  "kernel_info": {
   "name": "python3"
  },
  "kernelspec": {
   "display_name": "Python 3",
   "language": "python",
   "name": "python3"
  },
  "language_info": {
   "codemirror_mode": {
    "name": "ipython",
    "version": 3
   },
   "file_extension": ".py",
   "mimetype": "text/x-python",
   "name": "python",
   "nbconvert_exporter": "python",
   "pygments_lexer": "ipython3",
   "version": "3.8.2"
  },
  "nteract": {
   "version": "0.25.0"
  }
 },
 "nbformat": 4,
 "nbformat_minor": 1
}
