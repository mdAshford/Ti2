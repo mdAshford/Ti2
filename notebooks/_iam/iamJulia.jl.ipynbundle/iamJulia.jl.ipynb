{
 "cells": [
  {
   "cell_type": "markdown",
   "metadata": {},
   "source": [
    "<header class=\"banner\"><div class=\"banner\">\n",
    "  <div class=\"logos\">\n",
    "    <div><img title=\"Julia logo\" src=\"figures/julia-dots.svg\" alt=\"Julia animated logo\" width=13 /></div>\n",
    "    <div>◌</div>\n",
    "    <div><img title=\"Powered by MathJax\" src=\"https://www.mathjax.org/badge/mj-logo.svg\"\n",
    "              alt=\"Powered by MathJax\" width=65 />\n",
    "    </div>\n",
    "  </div>  <!-- logos -->\n",
    "<!--   <div class=\"cite_textbook cb9\">1-90 <span class=\"authors\"></span></div> -->\n",
    "</div>\n",
    "</header>\n",
    "\n",
    "<footer class=\"navbar navbar-default navbar-fixed-bottom mcs-psy-nav\" >\n",
    "  <div class=\"container-fluid text-right h4\">\n",
    "    <em>ψᵟ</em>\n",
    "  </div>\n",
    "</footer>"
   ]
  },
  {
   "cell_type": "markdown",
   "metadata": {},
   "source": [
    "# Work\n",
    "\n",
    "This short guide will walk you through a \"starter\" Julia installation, getting you going with minimal pain. In it, we will\n",
    "\n",
    "- install Julia\n",
    "- install the calculation packages I use in the youCANdoThermodynanics portal, then\n",
    "- play.  \n",
    "\n",
    "Should you grow fond of Julia – I hope most of you do – you'll eventually want a more capable coding platform as your proficiency grows. Ther's MUCH more to julia than what you see here.\n",
    "\n"
   ]
  },
  {
   "cell_type": "markdown",
   "metadata": {
    "nteract": {
     "transient": {
      "deleting": false
     }
    }
   },
   "source": [
    "<div class=\"figure\">\n",
    "<img src=\"figures/julialang.org.png\" title=\"tge title is julialang.org\" style=\"width:60vw\" />\n",
    "    <div id=\"p-bezanson_julia_2015\" style=\"line-height:0\"></div>\n",
    "<div class=\"caption\"><a href=\"https://julialang.org\" title=\"julia homepage\">julialang.org</a></div>\n",
    "</div>\n",
    "\n",
    "\n",
    "Julia[<sup id=\"ftn:bezanson_julia_2015\"></sup>][r-bezanson_julia_2015] is a high-level, high-performance, dynamic programming language. While it is a general-purpose language and can be used to write any application, many of its features are well suited for numerical analysis and computational science.[<sup id=\"ftn\"></sup>][r-wikipedia_contributors_julia_2021]\n",
    "\n",
    "\n",
    "\n",
    "\n",
    "<!--------------------------------------------------------------------------------------->\n",
    "\n",
    "[r-bezanson_julia_2015]: #bezanson_julia_2015  \"Bezanson, J., Edelman, A., Karpinski, S., & Shah, V. B. (2015). Julia: A Fresh Approach to Numerical Computing. ArXiv:1411.1607 [Cs].\"\n",
    "\n",
    "\n",
    "[r-wikipedia_contributors_julia_2021]: #wikipedia_contributors_julia_2021  \"Wikipedia Contributors. (2021). Julia (programming language). In Wikipedia.\"\n",
    "\n"
   ]
  },
  {
   "cell_type": "markdown",
   "metadata": {
    "nteract": {
     "transient": {
      "deleting": false
     }
    }
   },
   "source": [
    "## Installing Julia\n",
    "\n",
    "1. [Download](https://julialang.org/downloads) the appropriate installer for your operating system (64-bit versions are much preferred). Get version 1.6, the current stable version. Alternatively, you can choose the nightly version. I've been using it for several weeks without issue. Run the installer; the process is painless.\n",
    "  \n",
    "  <div class=\"figure\">\n",
    "    <img src=\"figures/current-stable-release.png\" title=\"screenshot of julia downloads page at julialang.org/downloads\" alt=\"screenshot of julia downloads page at julialang.org/downloads\" style=\"width:60vw; border:0 solid blue;\" />\n",
    "    <div class=\"caption\">\n",
    "      <a src=\"https://julialang.org/downloads\" alt=\"julia downloads page\">julialang.org/downloads</a>\n",
    "    </div>\n",
    "  </div>\n",
    "\n",
    "1. Start Julia. You'll be greeted by the Julia REPL (read-evaluate-print loop). The REPL is interactive, and it will be the hub for most of our work. \n",
    "  \n",
    "  <div class=\"figure\">\n",
    "    <img src=\"figures/julia16c.png\" title=\"screenshot of the Julia REPL\" alt=\"screenshot of the Julia REPL\" style=\"width:60vw; border:0 solid blue;\" />\n",
    "    <div class=\"caption\">\n",
    "      <a src=\"https://docs.julialang.org/en/v1/stdlib/REPL/#The-Julia-REPL\" alt=\"the Julia REPL\">the Julia REPL</a>\n",
    "    </div>\n",
    "  </div>\n",
    "  \n"
   ]
  },
  {
   "cell_type": "markdown",
   "metadata": {},
   "source": [
    "## Julia's package manager\n",
    "\n",
    "\n",
    "<div class=\"figure\">\n",
    "<img src=\"figures/pkg16sample.png\" title=\"screenshot of the Julia REPL\" alt=\"screenshot of the Julia package manager\" style=\"width:60vw; border:0 solid blue;\" />\n",
    "<div class=\"caption\">\n",
    "  <a src=\"https://docs.julialang.org/en/v1/stdlib/REPL/#The-Julia-REPL\" alt=\"Pkg.jl: the Julia package manager\">Pkg.jl: the Julia package manager</a>\n",
    "</div>\n",
    "</div>\n",
    "  \n",
    "\n",
    "At the `julia>` prompt, type `]` to enter Pkg, Julia's package manager. The prompt will immediately change to `pkg>`. The syntax is easy: In the example above, from left to right: \n",
    " - `wecan` is the current environment,\n",
    " - yes, we are indeed in the package manager, and\n",
    " - the packages DifferentialEquations, DataFrames, and Makie are about to be installed into environment `wecan`. An environment is simply a collection of packages you want to make available at once. Environments cut down on clutter, allow you to install multiple versions of the same packages without conflict, and greatly reduce the chances of unnecessary incompatibilities from having a whole gang of packages all active at once.  \n",
    "\n",
    "<br>     \n",
    "<pre class=\"mcs-syntax-highlight dark\"><code class=\"julia\">\n",
    "<span id=\"ppm\">(wecan) pkg> </span><span id=\"pkg\">add DifferentialEquations DataFrames Gadfly</span>\n",
    "</code></pre>\n",
    "<br>"
   ]
  },
  {
   "cell_type": "markdown",
   "metadata": {
    "nteract": {
     "transient": {
      "deleting": false
     }
    }
   },
   "source": [
    "## Packages for this primer\n",
    "\n",
    "Julia has thousands of packages. She also runs C and FORTRAN natively, and has tightly integrated packages that let you execute Python and R code. You can also run Julia code in those two (Ever wonder where the name JuPYteR came from?). Packages aren't always easy to find, though these are the best (only) places to search: [Julia Observer](https://juliaobserver.com/packages) is my go-to, and [Julia Packages](https://julialang.org/packages lists a few other sites. \n",
    "\n",
    "\n",
    "\n",
    "### IJulia\n",
    "\n",
    "[IJulia](https://github.com/JuliaLang/IJulia.jl/blob/master/docs/src/manual/running.md): This is the connector between Julia and Jupyter (the notebook itself).\n",
    "\n",
    ":   _from the authors_    \n",
    "\n",
    "> IJulia is a Julia-language backend combined with the Jupyter interactive environment (also used by IPython). This combination allows you to interact with the Julia language using Jupyter/IPython's powerful graphical notebook, which combines code, formatted text, math, and multimedia in a single document. It also works with JupyterLab, a Jupyter-based integrated development environment for notebooks and code.\n",
    "\n",
    " \n",
    "### Unitful\n",
    "\n",
    "[Unitful.jl](https://github.com/yakir12/UnitfulAngles.jl): Every day, all day package.   \n",
    "\n",
    ":   _from the authors:_ \n",
    "\n",
    "> Unitful is a Julia package for physical units. We want to support not only SI units but also any other unit system. We also want to minimize or in some cases eliminate the run-time penalty of units. There should be facilities for dimensional analysis. All of this should integrate easily with the usual mathematical operations and collections that are found in Julia base.\n",
    "\n",
    "\n",
    "### CoolProp\n",
    "\n",
    "[CoolProp.jl](http://www.coolprop.org/index.html): It CAN do thermodynamics.    \n",
    "\n",
    ":   _from the authors:_    <div id=\"p-coolprop\" style=\"line-height:0\"></div>\n",
    "\n",
    "> CoolProp[<sup id=\"ftn\"></sup>][r-bell_pure_2014] is a C++ library that implements:     \n",
    "> - Pure and pseudo-pure fluid equations of state and transport properties for 122 components     \n",
    "> - Mixture properties using high-accuracy Helmholtz energy formulations   \n",
    "> - Correlations of properties of incompressible fluids and brines   \n",
    "> - Computationally efficient tabular interpolation    \n",
    "> - Highest accuracy psychrometric routines     \n",
    "> - User-friendly interface around the full capabilities of NIST REFPROP[<sup id=\"ftn\"></sup>][r-lemmon_nist_2018]   \n",
    "> - Fast IAPWS-IF97 (Industrial Formulation) for Water/Steam   \n",
    "> - Cubic equations of state (SRK, PR)  \n",
    "\n",
    "\n",
    "\n",
    "\n",
    "\n",
    "\n",
    "\n",
    "<!--------------------------------------------------------------------->\n",
    "\n",
    "[r-bell_pure_2014]: #bell_pure_2014 \"Bell, I. H., Wronski, J., Quoilin, S., & Lemort, V. (2014). Pure and Pseudo-pure Fluid Thermophysical Property Evaluation and the Open-Source Thermophysical Property Library CoolProp. Industrial & Engineering Chemistry Research, 53(6), 2498–2508. doi.org/10.1021/ie4033999\"\n",
    "\n",
    "[r-lemmon_nist_2018]: #lemmon_nist_2018 \"Lemmon, E., Bell, I., Huber, Marcia, McLinden, Mark, Harvey, A., & Hardin, G. (2018). NIST Reference Fluid Thermodynamic and Transport Properties Database (REFPROP) Version 10—SRD 23 [Data set]. National Institute of Standards and Technology. doi.org/10.18434/T4/1502528\""
   ]
  },
  {
   "cell_type": "markdown",
   "metadata": {},
   "source": [
    "Our install command is below. Notice that Unitful and IJulia are installed by name, yet CoolProp.jl has a GitHub address. Julia has a package registry to ease package installation. The CoolProp.jl interface to CoolProp is still under development, and is not yet on the Registry. \n",
    "\n",
    "<br>     \n",
    "<pre class=\"mcs-syntax-highlight dark\"><code class=\"julia\">\n",
    "<span id=\"ppm\">(@v1.6) pkg> </span><span id=\"pkg\">add Unitful IJulia https://github.com/BENGAL-TIGER/CoolProp.jl</span>\n",
    "</code></pre>\n",
    "<br>\n",
    "\n",
    "\n",
    "<div class=\"mcs-bs-callout mcs-bs-callout-danger black\">\n",
    "<h4>Trouble? </h4>\n",
    "\n",
    "CoolProp 6.4.1 **does not** work on Linux, but I forked the package and monkeypatched a workaround. If you're having installation trouble on Mac or Windows (_bless your heart_), this patched version works there, too. It disables the automatic version picking and locks CoolProp to v6.3.0.\n",
    "\n",
    "<pre class=\"mcs-syntax-highlight dark\"><code class=\"julia\">\n",
    "<span id=\"ppm\">(@v1.6) pkg> </span><span id=\"pkg\">add Unitful IJulia https://github.com/BENGAL-TIGER/CoolProp-6.3.0.jl.git</span>\n",
    "</code></pre>\n",
    "</div>"
   ]
  },
  {
   "cell_type": "markdown",
   "metadata": {},
   "source": [
    "## Starting Jupyter\n",
    "\n",
    "After Julia installs the packages, hitting `<backspace>` or `<delete>` returns you to the Julia REPL. At the `julia>` prompt. \n",
    "\n",
    "Then... \n",
    "\n",
    "\n",
    "<pre class=\"mcs-syntax-highlight dark\"><code class=\"julia\">\n",
    "<span id=\"jpm\">julia> </span><span id=\"jl\">using IJulia</span>\n",
    "<span id=\"jpm\">julia> </span><span id=\"jl\">notebook()</span>\n",
    "<span id=\"jpm\">julia> </span><span id=\"jl\">notebook(dir=\"<span id=\"qt\">\"path/to/folder\"</span>)</span>\n",
    "</code></pre>\n",
    "</div>\n",
    "\n",
    "...and IJulia asks if you want it to install Conda. IJulia's internal Jupyter server needs it. If you already have Conda installed on your system (maybe from a Python installation), choose 'No' and IJulia will use your system Conda. Otherwise, choose 'Yes' and IJulia handles everything internally. This only happens on first use. \n",
    "\n",
    "Once done, with initializations, IJulia spins up the Jupyter file browser in your default web browser. It opens in your hone directory. From there, you can navigate to your notebooks. Alternatively, you can startup in a specific directory with the `dir=\"path/to/folder` startup option.\n",
    "\n",
    "For more, see [IJulia project page](https://github.com/JuliaLang/IJulia.jl)."
   ]
  },
  {
   "cell_type": "markdown",
   "metadata": {},
   "source": [
    "<!-------------------\n",
    "\n",
    "\n",
    "simon_juliaplotsmakiejl_2021\n",
    "Simon, Wang, A., Anshul Singhvi, M, M., Borregaard, M. K., Schauer, M., Ponet, L., Shedko, A., Rackauckas, C., Kilpatrick, L., Rivest, M., Holy, T., Christensen, Z. P., Freemin7, Barton, D., Legat, B., Mattes, C., Stocker, C., Schnetter, E., … Shindin, A. (2021). JuliaPlots/Makie.jl: V0.12.0 (v0.12.0) [Computer software]. Zenodo. doi.org/10.5281/ZENODO.4450294\n",
    "\n",
    "\n",
    "<!------------------->"
   ]
  },
  {
   "cell_type": "markdown",
   "metadata": {
    "nteract": {
     "transient": {
      "deleting": false
     }
    }
   },
   "source": [
    "<section class=\"mcs-references\">\n",
    "<!-- <section class=\"mcs-toc mb-050em  \"> -->\n",
    "\n",
    "\n",
    "## References <span id=\"bezanson_julia_2015\" style=\"padding-top:1em;\"></span>\n",
    "\n",
    "1. Bezanson, J., Edelman, A., Karpinski, S., & Shah, V. B. (2015). Julia: A Fresh Approach to Numerical Computing. *ArXiv:1411.1607 [Cs]. arxiv.org/abs/1411.1607*  <a class=\"msc-lb\" href=\"#p-bezanson_julia_2015\" alt=\"link back to source in document\" >↩︎</a>\n",
    "\n",
    "  <div id=\"wikipedia_contributors_julia_2021\" style=\"padding-bottom:0.5em;\"></div>\n",
    "\n",
    "1. Wikipedia Contributors. (2021). Julia (programming language). In Wikipedia. *https\\://en.wikipedia.org/w/index.php?title=Julia_(programming_language)&oldid=1015812950*  <a href=\"#p-bezanson_julia_2015\" alt=\"link back to source in document\" class=\"msc-lb\">↩︎</a>\n",
    "\n",
    "  <div id=\"bell_pure_2014\" style=\"padding-bottom:0.5em;\"></div>\n",
    "\n",
    "1. Bell, I. H., Wronski, J., Quoilin, S., & Lemort, V. (2014). Pure and Pseudo-pure Fluid Thermophysical Property Evaluation and the Open-Source Thermophysical Property Library CoolProp. *Industrial & Engineering Chemistry Research, 53(6), 2498–2508. doi.org/10.1021/ie4033999*   <a href=\"#p-coolprop\" alt=\"link back to source in document\" class=\"msc-lb\">↩︎</a>\n",
    "\n",
    "  <div id=\"lemmon_nist_2018\" style=\"padding-bottom:0.5em;\"></div>\n",
    "\n",
    "1. Lemmon, E., Bell, I., Huber, Marcia, McLinden, Mark, Harvey, A., & Hardin, G. (2018). NIST Reference Fluid Thermodynamic and Transport Properties Database (REFPROP) Version 10—SRD 23 [Data set]. National Institute of Standards and Technology. doi.org/10.18434/T4/1502528    [↩︎](#p-coolprop)\n",
    "\n",
    "\n",
    "\n",
    "\n",
    "### Useful Links\n",
    "\n",
    "1. [Project Jupyter (official)](https://jupyter.org)\n",
    "1. [Dataquest.io Jupyter Notebook for Beginners: A Tutorial](https://www.dataquest.io/blog/jupyter-notebook-tutorial#thenotebookinterface)\n",
    "1. [Python.org (official)](https://www.python.org) <span style=\"display:inline-block; vertical-align:text-bottom\"><a href=\"https://www.python.org\"><img style=\"height:1em;\" src=\"../../figures/flatPYTHONlogo.png\" alt=\"python\"></a></span> \n",
    "1. [The Julia Programming Language (official)](https://www.julialang.org) <span style=\"display:inline-block; vertical-align:bottom\"><a href=\"https://www.julialang.org\"><img style=\"height:1.25em\" src=\"../../figures/juliaLOGO-three-balls.png\" alt=\"julia\" ></a></span> \n",
    "1. [Introducing Julia](https://en.wikibooks.org/wiki/Introducing_Julia)\n",
    "1. [MATLAB–Python–Julia cheatsheet](https://cheatsheets.quantecon.org)\n",
    "1. [The Markdown Guide: Everything you need to learn Markdown](https://www.markdownguide.org)\n",
    "\n",
    "\n",
    "\n",
    "\n",
    "<!-------------------------------------------------------------------\n",
    "\n",
    "\n",
    "[r-bell_pure_2014]: #bell_pure_2014 \"Bell, I. H., Wronski, J., Quoilin, S., & Lemort, V. (2014). Pure and Pseudo-pure Fluid Thermophysical Property Evaluation and the Open-Source Thermophysical Property Library CoolProp. Industrial & Engineering Chemistry Research, 53(6), 2498–2508. doi.org/10.1021/ie4033999\"\n",
    "\n",
    "[r-lemmon_nist_2018]: #lemmon_nist_2018 \"Lemmon, E., Bell, I., Huber, Marcia, McLinden, Mark, Harvey, A., & Hardin, G. (2018). NIST Reference Fluid Thermodynamic and Transport Properties Database (REFPROP) Version 10—SRD 23 [Data set]. National Institute of Standards and Technology. doi.org/10.18434/T4/1502528\"\n",
    "\n",
    "\n",
    "\n",
    "------------------------------------------------------------------->\n",
    "</section>"
   ]
  },
  {
   "cell_type": "markdown",
   "metadata": {},
   "source": [
    "<h1 style=\"background-color: #461d7c; color:#fffdf2; line-height:2em; text-align:center; font-size:3em; font-family:Lora; text-transform: uppercase; font-style:italic;\">Playground</h1>"
   ]
  },
  {
   "cell_type": "markdown",
   "metadata": {
    "nteract": {
     "transient": {
      "deleting": false
     }
    }
   },
   "source": [
    "The best ways to learn are to explore and play. Use it for homework. Replace of Excel. Write project reports. Reach outside of Jupyter. Play, Baby...Play.\n",
    "\n"
   ]
  },
  {
   "cell_type": "markdown",
   "metadata": {},
   "source": [
    "## Julia\n",
    "\n",
    "Julia operates like many high-level, interpreted computer languages. If you have familiarity with Python (though Julia is MUCH faster), you'll be right at home. Julia could act as an 800 kg calculator if you choose. "
   ]
  },
  {
   "cell_type": "code",
   "execution_count": null,
   "metadata": {
    "execution": {
     "iopub.execute_input": "2021-04-09T13:15:59.754Z",
     "iopub.status.busy": "2021-04-09T13:15:59.734Z",
     "iopub.status.idle": "2021-04-09T13:16:00.200Z"
    },
    "jupyter": {
     "outputs_hidden": false,
     "source_hidden": false
    },
    "nteract": {
     "transient": {
      "deleting": false
     }
    }
   },
   "outputs": [],
   "source": [
    "x = 4"
   ]
  },
  {
   "cell_type": "code",
   "execution_count": null,
   "metadata": {
    "execution": {
     "iopub.execute_input": "2021-04-09T13:16:02.622Z",
     "iopub.status.busy": "2021-04-09T13:16:02.604Z",
     "iopub.status.idle": "2021-04-09T13:16:02.660Z"
    },
    "jupyter": {
     "outputs_hidden": false,
     "source_hidden": false
    },
    "nteract": {
     "transient": {
      "deleting": false
     }
    }
   },
   "outputs": [],
   "source": [
    "3*x^2 - 2*x + 9"
   ]
  },
  {
   "cell_type": "markdown",
   "metadata": {},
   "source": [
    "Surprise! She understands coefficients. "
   ]
  },
  {
   "cell_type": "code",
   "execution_count": null,
   "metadata": {
    "execution": {
     "iopub.execute_input": "2021-04-09T13:16:04.328Z",
     "iopub.status.busy": "2021-04-09T13:16:04.307Z",
     "iopub.status.idle": "2021-04-09T13:16:04.368Z"
    },
    "jupyter": {
     "outputs_hidden": false,
     "source_hidden": false
    },
    "nteract": {
     "transient": {
      "deleting": false
     }
    }
   },
   "outputs": [],
   "source": [
    "3x^2 - 2x + 9"
   ]
  },
  {
   "cell_type": "markdown",
   "metadata": {},
   "source": [
    "She's also helpful. If you accidentally use the syntax of another language, she may give tips. See how Julia responds to exponentation syntax like FORTRAN or Python."
   ]
  },
  {
   "cell_type": "code",
   "execution_count": null,
   "metadata": {
    "execution": {
     "iopub.execute_input": "2021-04-09T13:16:06.128Z",
     "iopub.status.busy": "2021-04-09T13:16:06.110Z",
     "iopub.status.idle": "2021-04-09T13:16:06.167Z"
    },
    "jupyter": {
     "outputs_hidden": false,
     "source_hidden": false
    },
    "nteract": {
     "transient": {
      "deleting": false
     }
    }
   },
   "outputs": [],
   "source": [
    "3x**2 - 2x + 9"
   ]
  },
  {
   "cell_type": "markdown",
   "metadata": {},
   "source": [
    "Julia has many built in constants. No more screwing around with `pi = acos(-1.0)`. "
   ]
  },
  {
   "cell_type": "code",
   "execution_count": null,
   "metadata": {
    "execution": {
     "iopub.execute_input": "2021-04-09T13:16:09.240Z",
     "iopub.status.busy": "2021-04-09T13:16:09.222Z",
     "iopub.status.idle": "2021-04-09T13:16:09.554Z"
    },
    "jupyter": {
     "outputs_hidden": false,
     "source_hidden": false
    },
    "nteract": {
     "transient": {
      "deleting": false
     }
    },
    "scrolled": true
   },
   "outputs": [],
   "source": [
    "pi"
   ]
  },
  {
   "cell_type": "markdown",
   "metadata": {},
   "source": [
    "Almost all Unicode characters are available as variable names."
   ]
  },
  {
   "cell_type": "code",
   "execution_count": null,
   "metadata": {
    "execution": {
     "iopub.execute_input": "2021-04-09T13:16:11.224Z",
     "iopub.status.busy": "2021-04-09T13:16:11.203Z",
     "iopub.status.idle": "2021-04-09T13:16:11.265Z"
    },
    "jupyter": {
     "outputs_hidden": false,
     "source_hidden": false
    },
    "nteract": {
     "transient": {
      "deleting": false
     }
    }
   },
   "outputs": [],
   "source": [
    "π"
   ]
  },
  {
   "cell_type": "code",
   "execution_count": null,
   "metadata": {
    "execution": {
     "iopub.execute_input": "2021-04-09T13:16:12.606Z",
     "iopub.status.busy": "2021-04-09T13:16:12.585Z",
     "iopub.status.idle": "2021-04-09T13:16:12.845Z"
    },
    "jupyter": {
     "outputs_hidden": false,
     "source_hidden": false
    },
    "nteract": {
     "transient": {
      "deleting": false
     }
    },
    "scrolled": true
   },
   "outputs": [],
   "source": [
    "ℯ"
   ]
  },
  {
   "cell_type": "code",
   "execution_count": null,
   "metadata": {},
   "outputs": [],
   "source": [
    "Δ𝑓h⁰298_Al₂O₃ = -1675.700    # kJ/mol  (α), NIST Webbook"
   ]
  },
  {
   "cell_type": "markdown",
   "metadata": {},
   "source": [
    "I **told** you she was helpful:"
   ]
  },
  {
   "cell_type": "code",
   "execution_count": null,
   "metadata": {
    "execution": {
     "iopub.execute_input": "2021-04-09T13:16:14.076Z",
     "iopub.status.busy": "2021-04-09T13:16:14.056Z",
     "iopub.status.idle": "2021-04-09T13:16:14.296Z"
    },
    "jupyter": {
     "outputs_hidden": false,
     "source_hidden": false
    },
    "nteract": {
     "transient": {
      "deleting": false
     }
    }
   },
   "outputs": [],
   "source": [
    "√2"
   ]
  },
  {
   "cell_type": "code",
   "execution_count": null,
   "metadata": {
    "execution": {
     "iopub.execute_input": "2021-04-09T13:16:15.354Z",
     "iopub.status.busy": "2021-04-09T13:16:15.334Z",
     "iopub.status.idle": "2021-04-09T13:16:15.393Z"
    },
    "jupyter": {
     "outputs_hidden": false,
     "source_hidden": false
    },
    "nteract": {
     "transient": {
      "deleting": false
     }
    }
   },
   "outputs": [],
   "source": [
    "√10"
   ]
  },
  {
   "cell_type": "code",
   "execution_count": null,
   "metadata": {
    "execution": {
     "iopub.execute_input": "2021-04-09T13:16:17.707Z",
     "iopub.status.busy": "2021-04-09T13:16:17.687Z",
     "iopub.status.idle": "2021-04-09T13:16:17.749Z"
    },
    "jupyter": {
     "outputs_hidden": false,
     "source_hidden": false
    },
    "nteract": {
     "transient": {
      "deleting": false
     }
    }
   },
   "outputs": [],
   "source": [
    "∛27"
   ]
  },
  {
   "cell_type": "code",
   "execution_count": null,
   "metadata": {
    "execution": {
     "iopub.execute_input": "2021-04-09T13:16:18.941Z",
     "iopub.status.busy": "2021-04-09T13:16:18.921Z",
     "iopub.status.idle": "2021-04-09T13:16:18.983Z"
    },
    "jupyter": {
     "outputs_hidden": false,
     "source_hidden": false
    },
    "nteract": {
     "transient": {
      "deleting": false
     }
    }
   },
   "outputs": [],
   "source": [
    "log(ℯ)"
   ]
  },
  {
   "cell_type": "code",
   "execution_count": null,
   "metadata": {
    "execution": {
     "iopub.execute_input": "2021-04-09T13:16:20.083Z",
     "iopub.status.busy": "2021-04-09T13:16:20.062Z",
     "iopub.status.idle": "2021-04-09T13:16:20.128Z"
    },
    "jupyter": {
     "outputs_hidden": false,
     "source_hidden": false
    },
    "nteract": {
     "transient": {
      "deleting": false
     }
    }
   },
   "outputs": [],
   "source": [
    "log10(10)"
   ]
  },
  {
   "cell_type": "code",
   "execution_count": null,
   "metadata": {
    "execution": {
     "iopub.execute_input": "2021-04-09T13:16:21.331Z",
     "iopub.status.busy": "2021-04-09T13:16:21.310Z",
     "iopub.status.idle": "2021-04-09T13:16:21.373Z"
    },
    "jupyter": {
     "outputs_hidden": false,
     "source_hidden": false
    },
    "nteract": {
     "transient": {
      "deleting": false
     }
    }
   },
   "outputs": [],
   "source": [
    "2/3"
   ]
  },
  {
   "cell_type": "markdown",
   "metadata": {},
   "source": [
    "Julia knows **exact** math, for example Rational numbers:"
   ]
  },
  {
   "cell_type": "code",
   "execution_count": null,
   "metadata": {
    "execution": {
     "iopub.execute_input": "2021-04-09T13:16:23.176Z",
     "iopub.status.busy": "2021-04-09T13:16:23.156Z",
     "iopub.status.idle": "2021-04-09T13:16:23.383Z"
    },
    "jupyter": {
     "outputs_hidden": false,
     "source_hidden": false
    },
    "nteract": {
     "transient": {
      "deleting": false
     }
    }
   },
   "outputs": [],
   "source": [
    "35487//90210"
   ]
  },
  {
   "cell_type": "code",
   "execution_count": null,
   "metadata": {
    "execution": {
     "iopub.execute_input": "2021-04-09T13:16:23.176Z",
     "iopub.status.busy": "2021-04-09T13:16:23.156Z",
     "iopub.status.idle": "2021-04-09T13:16:23.383Z"
    },
    "jupyter": {
     "outputs_hidden": false,
     "source_hidden": false
    },
    "nteract": {
     "transient": {
      "deleting": false
     }
    }
   },
   "outputs": [],
   "source": [
    "2//3"
   ]
  },
  {
   "cell_type": "code",
   "execution_count": null,
   "metadata": {
    "execution": {
     "iopub.execute_input": "2021-04-09T13:16:24.411Z",
     "iopub.status.busy": "2021-04-09T13:16:24.391Z",
     "iopub.status.idle": "2021-04-09T13:16:24.580Z"
    },
    "jupyter": {
     "outputs_hidden": false,
     "source_hidden": false
    },
    "nteract": {
     "transient": {
      "deleting": false
     }
    }
   },
   "outputs": [],
   "source": [
    "2/3 == 2//3"
   ]
  },
  {
   "cell_type": "code",
   "execution_count": null,
   "metadata": {
    "execution": {
     "iopub.execute_input": "2021-04-09T13:16:25.500Z",
     "iopub.status.busy": "2021-04-09T13:16:25.480Z",
     "iopub.status.idle": "2021-04-09T13:16:25.542Z"
    },
    "jupyter": {
     "outputs_hidden": false,
     "source_hidden": false
    },
    "nteract": {
     "transient": {
      "deleting": false
     }
    }
   },
   "outputs": [],
   "source": [
    "2/3 ≤ 2//3"
   ]
  },
  {
   "cell_type": "code",
   "execution_count": null,
   "metadata": {
    "execution": {
     "iopub.execute_input": "2021-04-09T13:16:25.500Z",
     "iopub.status.busy": "2021-04-09T13:16:25.480Z",
     "iopub.status.idle": "2021-04-09T13:16:25.542Z"
    },
    "jupyter": {
     "outputs_hidden": false,
     "source_hidden": false
    },
    "nteract": {
     "transient": {
      "deleting": false
     }
    }
   },
   "outputs": [],
   "source": [
    "2/3 / 2//3"
   ]
  },
  {
   "cell_type": "markdown",
   "metadata": {},
   "source": [
    "Hmmmm... let's increase our numerical precision and try that again:"
   ]
  },
  {
   "cell_type": "code",
   "execution_count": null,
   "metadata": {
    "execution": {
     "iopub.execute_input": "2021-04-09T13:16:25.500Z",
     "iopub.status.busy": "2021-04-09T13:16:25.480Z",
     "iopub.status.idle": "2021-04-09T13:16:25.542Z"
    },
    "jupyter": {
     "outputs_hidden": false,
     "source_hidden": false
    },
    "nteract": {
     "transient": {
      "deleting": false
     }
    }
   },
   "outputs": [],
   "source": [
    "BigFloat(2/3) / BigFloat(2//3)"
   ]
  },
  {
   "cell_type": "markdown",
   "metadata": {},
   "source": [
    "So, it's still \"1\", but only in the textbook!"
   ]
  },
  {
   "cell_type": "code",
   "execution_count": null,
   "metadata": {
    "execution": {
     "iopub.execute_input": "2021-04-09T13:16:26.852Z",
     "iopub.status.busy": "2021-04-09T13:16:26.829Z",
     "iopub.status.idle": "2021-04-09T13:16:26.894Z"
    },
    "jupyter": {
     "outputs_hidden": false,
     "source_hidden": false
    },
    "nteract": {
     "transient": {
      "deleting": false
     }
    }
   },
   "outputs": [],
   "source": [
    "factorial(6)"
   ]
  },
  {
   "cell_type": "markdown",
   "metadata": {},
   "source": [
    "Big numbers, no problem..."
   ]
  },
  {
   "cell_type": "code",
   "execution_count": null,
   "metadata": {
    "execution": {
     "iopub.execute_input": "2021-04-09T13:16:28.176Z",
     "iopub.status.busy": "2021-04-09T13:16:28.152Z"
    },
    "jupyter": {
     "outputs_hidden": false,
     "source_hidden": false
    },
    "nteract": {
     "transient": {
      "deleting": false
     }
    }
   },
   "outputs": [],
   "source": [
    "factorial(21)"
   ]
  },
  {
   "cell_type": "code",
   "execution_count": null,
   "metadata": {
    "execution": {
     "iopub.execute_input": "2021-04-09T13:16:29.395Z",
     "iopub.status.busy": "2021-04-09T13:16:29.322Z",
     "iopub.status.idle": "2021-04-09T13:16:30.154Z"
    },
    "jupyter": {
     "outputs_hidden": false,
     "source_hidden": false
    },
    "nteract": {
     "transient": {
      "deleting": false
     }
    }
   },
   "outputs": [],
   "source": [
    "factorial(big(21))"
   ]
  },
  {
   "cell_type": "code",
   "execution_count": null,
   "metadata": {
    "execution": {
     "iopub.execute_input": "2021-04-09T13:16:30.539Z",
     "iopub.status.busy": "2021-04-09T13:16:30.518Z",
     "iopub.status.idle": "2021-04-09T13:16:30.579Z"
    },
    "jupyter": {
     "outputs_hidden": false,
     "source_hidden": false
    },
    "nteract": {
     "transient": {
      "deleting": false
     }
    },
    "scrolled": false
   },
   "outputs": [],
   "source": [
    "factorial(big(212))"
   ]
  },
  {
   "cell_type": "markdown",
   "metadata": {},
   "source": [
    "Let's time this one..."
   ]
  },
  {
   "cell_type": "code",
   "execution_count": null,
   "metadata": {
    "execution": {
     "iopub.execute_input": "2021-04-09T13:16:30.539Z",
     "iopub.status.busy": "2021-04-09T13:16:30.518Z",
     "iopub.status.idle": "2021-04-09T13:16:30.579Z"
    },
    "jupyter": {
     "outputs_hidden": false,
     "source_hidden": false
    },
    "nteract": {
     "transient": {
      "deleting": false
     }
    },
    "scrolled": false
   },
   "outputs": [],
   "source": [
    "@time factorial(big(1225))"
   ]
  },
  {
   "cell_type": "markdown",
   "metadata": {},
   "source": [
    "Y'all didn't hear me. **I told you she was fast!** This could go on forever. How do you like Julia so far? \n",
    "\n",
    "Let's explore the packages we installed. "
   ]
  },
  {
   "cell_type": "markdown",
   "metadata": {},
   "source": [
    "## Unitful"
   ]
  },
  {
   "cell_type": "code",
   "execution_count": null,
   "metadata": {
    "execution": {
     "iopub.execute_input": "2021-04-09T13:16:31.765Z",
     "iopub.status.busy": "2021-04-09T13:16:31.747Z",
     "iopub.status.idle": "2021-04-09T13:16:31.793Z"
    },
    "jupyter": {
     "outputs_hidden": false,
     "source_hidden": false
    },
    "nteract": {
     "transient": {
      "deleting": false
     }
    }
   },
   "outputs": [],
   "source": [
    "using Unitful"
   ]
  },
  {
   "cell_type": "code",
   "execution_count": null,
   "metadata": {
    "execution": {
     "iopub.execute_input": "2021-04-09T13:16:33.179Z",
     "iopub.status.busy": "2021-04-09T13:16:33.161Z",
     "iopub.status.idle": "2021-04-09T13:16:34.498Z"
    },
    "jupyter": {
     "outputs_hidden": false,
     "source_hidden": false
    },
    "nteract": {
     "transient": {
      "deleting": false
     }
    }
   },
   "outputs": [],
   "source": [
    "T = 20u\"°C\""
   ]
  },
  {
   "cell_type": "code",
   "execution_count": null,
   "metadata": {
    "execution": {
     "iopub.execute_input": "2021-04-09T13:16:34.545Z",
     "iopub.status.busy": "2021-04-09T13:16:34.526Z",
     "iopub.status.idle": "2021-04-09T13:16:34.969Z"
    },
    "jupyter": {
     "outputs_hidden": false,
     "source_hidden": false
    },
    "nteract": {
     "transient": {
      "deleting": false
     }
    }
   },
   "outputs": [],
   "source": [
    "T |> u\"K\""
   ]
  },
  {
   "cell_type": "code",
   "execution_count": null,
   "metadata": {
    "execution": {
     "iopub.execute_input": "2021-04-09T13:16:35.567Z",
     "iopub.status.busy": "2021-04-09T13:16:35.547Z",
     "iopub.status.idle": "2021-04-09T13:16:35.742Z"
    },
    "jupyter": {
     "outputs_hidden": false,
     "source_hidden": false
    },
    "nteract": {
     "transient": {
      "deleting": false
     }
    }
   },
   "outputs": [],
   "source": [
    "T |> u\"K\" |> float"
   ]
  },
  {
   "cell_type": "code",
   "execution_count": null,
   "metadata": {
    "execution": {
     "iopub.execute_input": "2021-04-09T13:16:36.637Z",
     "iopub.status.busy": "2021-04-09T13:16:36.619Z",
     "iopub.status.idle": "2021-04-09T13:16:37.344Z"
    },
    "jupyter": {
     "outputs_hidden": false,
     "source_hidden": false
    },
    "nteract": {
     "transient": {
      "deleting": false
     }
    }
   },
   "outputs": [],
   "source": [
    "T |> u\"°F\""
   ]
  },
  {
   "cell_type": "code",
   "execution_count": null,
   "metadata": {
    "execution": {
     "iopub.execute_input": "2021-04-09T13:16:37.705Z",
     "iopub.status.busy": "2021-04-09T13:16:37.687Z",
     "iopub.status.idle": "2021-04-09T13:16:37.905Z"
    },
    "jupyter": {
     "outputs_hidden": false,
     "source_hidden": false
    },
    "nteract": {
     "transient": {
      "deleting": false
     }
    }
   },
   "outputs": [],
   "source": [
    "T |> u\"°F\" |> float"
   ]
  },
  {
   "cell_type": "code",
   "execution_count": null,
   "metadata": {
    "execution": {
     "iopub.execute_input": "2021-04-09T13:16:38.701Z",
     "iopub.status.busy": "2021-04-09T13:16:38.683Z",
     "iopub.status.idle": "2021-04-09T13:16:39.311Z"
    },
    "jupyter": {
     "outputs_hidden": false,
     "source_hidden": false
    },
    "nteract": {
     "transient": {
      "deleting": false
     }
    }
   },
   "outputs": [],
   "source": [
    "P = 1u\"atm\""
   ]
  },
  {
   "cell_type": "code",
   "execution_count": null,
   "metadata": {
    "execution": {
     "iopub.execute_input": "2021-04-09T13:16:39.892Z",
     "iopub.status.busy": "2021-04-09T13:16:39.870Z",
     "iopub.status.idle": "2021-04-09T13:16:40.338Z"
    },
    "jupyter": {
     "outputs_hidden": false,
     "source_hidden": false
    },
    "nteract": {
     "transient": {
      "deleting": false
     }
    }
   },
   "outputs": [],
   "source": [
    "P |> u\"bar\""
   ]
  },
  {
   "cell_type": "code",
   "execution_count": null,
   "metadata": {
    "execution": {
     "iopub.execute_input": "2021-04-09T13:16:41.076Z",
     "iopub.status.busy": "2021-04-09T13:16:41.058Z",
     "iopub.status.idle": "2021-04-09T13:16:41.272Z"
    },
    "jupyter": {
     "outputs_hidden": false,
     "source_hidden": false
    },
    "nteract": {
     "transient": {
      "deleting": false
     }
    }
   },
   "outputs": [],
   "source": [
    "P |> u\"bar\" |> float"
   ]
  },
  {
   "cell_type": "code",
   "execution_count": null,
   "metadata": {
    "execution": {
     "iopub.execute_input": "2021-04-09T13:16:42.245Z",
     "iopub.status.busy": "2021-04-09T13:16:42.225Z",
     "iopub.status.idle": "2021-04-09T13:16:42.660Z"
    },
    "jupyter": {
     "outputs_hidden": false,
     "source_hidden": false
    },
    "nteract": {
     "transient": {
      "deleting": false
     }
    }
   },
   "outputs": [],
   "source": [
    "P |> u\"psi\""
   ]
  },
  {
   "cell_type": "code",
   "execution_count": null,
   "metadata": {
    "execution": {
     "iopub.execute_input": "2021-04-09T13:16:43.527Z",
     "iopub.status.busy": "2021-04-09T13:16:43.506Z",
     "iopub.status.idle": "2021-04-09T13:16:44.412Z"
    },
    "jupyter": {
     "outputs_hidden": false,
     "source_hidden": false
    },
    "nteract": {
     "transient": {
      "deleting": false
     }
    }
   },
   "outputs": [],
   "source": [
    "1u\"gn\""
   ]
  },
  {
   "cell_type": "code",
   "execution_count": null,
   "metadata": {
    "execution": {
     "iopub.execute_input": "2021-04-09T13:16:44.770Z",
     "iopub.status.busy": "2021-04-09T13:16:44.750Z",
     "iopub.status.idle": "2021-04-09T13:16:45.281Z"
    },
    "jupyter": {
     "outputs_hidden": false,
     "source_hidden": false
    },
    "nteract": {
     "transient": {
      "deleting": false
     }
    }
   },
   "outputs": [],
   "source": [
    "1u\"oz\""
   ]
  },
  {
   "cell_type": "code",
   "execution_count": null,
   "metadata": {
    "execution": {
     "iopub.execute_input": "2021-04-09T13:16:45.895Z",
     "iopub.status.busy": "2021-04-09T13:16:45.876Z",
     "iopub.status.idle": "2021-04-09T13:16:47.100Z"
    },
    "jupyter": {
     "outputs_hidden": false,
     "source_hidden": false
    },
    "nteract": {
     "transient": {
      "deleting": false
     }
    }
   },
   "outputs": [],
   "source": [
    "1u\"oz*gn\""
   ]
  },
  {
   "cell_type": "code",
   "execution_count": null,
   "metadata": {
    "execution": {
     "iopub.execute_input": "2021-04-09T13:16:47.150Z",
     "iopub.status.busy": "2021-04-09T13:16:47.130Z",
     "iopub.status.idle": "2021-04-09T13:16:47.192Z"
    },
    "jupyter": {
     "outputs_hidden": false,
     "source_hidden": false
    },
    "nteract": {
     "transient": {
      "deleting": false
     }
    }
   },
   "outputs": [],
   "source": [
    "f = 1u\"oz*gn\""
   ]
  },
  {
   "cell_type": "code",
   "execution_count": null,
   "metadata": {
    "execution": {
     "iopub.execute_input": "2021-04-09T13:16:48.404Z",
     "iopub.status.busy": "2021-04-09T13:16:48.384Z",
     "iopub.status.idle": "2021-04-09T13:16:49.162Z"
    },
    "jupyter": {
     "outputs_hidden": false,
     "source_hidden": false
    },
    "nteract": {
     "transient": {
      "deleting": false
     }
    }
   },
   "outputs": [],
   "source": [
    "f |> u\"lbf\""
   ]
  },
  {
   "cell_type": "code",
   "execution_count": null,
   "metadata": {
    "execution": {
     "iopub.execute_input": "2021-04-09T13:16:49.790Z",
     "iopub.status.busy": "2021-04-09T13:16:49.757Z",
     "iopub.status.idle": "2021-04-09T13:16:49.882Z"
    },
    "jupyter": {
     "outputs_hidden": false,
     "source_hidden": false
    },
    "nteract": {
     "transient": {
      "deleting": false
     }
    }
   },
   "outputs": [],
   "source": [
    "16f |> u\"lbf\""
   ]
  },
  {
   "cell_type": "code",
   "execution_count": null,
   "metadata": {
    "execution": {
     "iopub.execute_input": "2021-04-09T13:16:50.983Z",
     "iopub.status.busy": "2021-04-09T13:16:50.956Z",
     "iopub.status.idle": "2021-04-09T13:16:51.655Z"
    },
    "jupyter": {
     "outputs_hidden": false,
     "source_hidden": false
    },
    "nteract": {
     "transient": {
      "deleting": false
     }
    }
   },
   "outputs": [],
   "source": [
    "V⃗ = 1u\"c\""
   ]
  },
  {
   "cell_type": "code",
   "execution_count": null,
   "metadata": {
    "execution": {
     "iopub.execute_input": "2021-04-09T13:16:52.250Z",
     "iopub.status.busy": "2021-04-09T13:16:52.231Z"
    },
    "jupyter": {
     "outputs_hidden": false,
     "source_hidden": false
    },
    "nteract": {
     "transient": {
      "deleting": false
     }
    }
   },
   "outputs": [],
   "source": [
    "V⃗ |> u\"mile/s\""
   ]
  },
  {
   "cell_type": "markdown",
   "metadata": {},
   "source": [
    "It's ok. You can reference Unitful built-in symbols in it's configuration file: [`pkgdefaults.jl`](https://github.com/PainterQubits/Unitful.jl/blob/master/src/pkgdefaults.jl)"
   ]
  },
  {
   "cell_type": "code",
   "execution_count": null,
   "metadata": {
    "execution": {
     "iopub.execute_input": "2021-04-09T13:16:53.657Z",
     "iopub.status.busy": "2021-04-09T13:16:53.637Z",
     "iopub.status.idle": "2021-04-09T13:16:54.760Z"
    },
    "jupyter": {
     "outputs_hidden": false,
     "source_hidden": false
    },
    "nteract": {
     "transient": {
      "deleting": false
     }
    }
   },
   "outputs": [],
   "source": [
    "V⃗ |> u\"mi/s\""
   ]
  },
  {
   "cell_type": "code",
   "execution_count": null,
   "metadata": {
    "execution": {
     "iopub.execute_input": "2021-04-09T13:16:54.965Z",
     "iopub.status.busy": "2021-04-09T13:16:54.947Z",
     "iopub.status.idle": "2021-04-09T13:16:55.155Z"
    },
    "jupyter": {
     "outputs_hidden": false,
     "source_hidden": false
    },
    "nteract": {
     "transient": {
      "deleting": false
     }
    }
   },
   "outputs": [],
   "source": [
    "V⃗ |> u\"mi/s\" |> float"
   ]
  },
  {
   "cell_type": "code",
   "execution_count": null,
   "metadata": {
    "execution": {
     "iopub.execute_input": "2021-04-09T13:16:56.162Z",
     "iopub.status.busy": "2021-04-09T13:16:56.141Z",
     "iopub.status.idle": "2021-04-09T13:16:56.599Z"
    },
    "jupyter": {
     "outputs_hidden": false,
     "source_hidden": false
    },
    "nteract": {
     "transient": {
      "deleting": false
     }
    },
    "scrolled": true
   },
   "outputs": [],
   "source": [
    "V⃗ |> u\"m/s\" |> float"
   ]
  },
  {
   "cell_type": "markdown",
   "metadata": {},
   "source": [
    "## CoolProp\n",
    "\n",
    "1. [CoolProp](http://www.coolprop.org/index.html) \n",
    "\n",
    "1. [Table of string inputs to `PropsSI`](http://www.coolprop.org/coolprop/HighLevelAPI.html#table-of-string-inputs-to-propssi-function)  \n",
    "    \n",
    "1. [Fluid Properties](http://www.coolprop.org/fluid_properties/index.html#fluid-properties)   \n",
    "    \n",
    "1. [Examples](http://www.coolprop.org/coolprop/examples.html#examples)  \n"
   ]
  },
  {
   "cell_type": "code",
   "execution_count": null,
   "metadata": {
    "execution": {
     "iopub.execute_input": "2021-04-09T13:16:57.220Z",
     "iopub.status.busy": "2021-04-09T13:16:57.202Z",
     "iopub.status.idle": "2021-04-09T13:16:57.258Z"
    },
    "jupyter": {
     "outputs_hidden": false,
     "source_hidden": false
    },
    "nteract": {
     "transient": {
      "deleting": false
     }
    }
   },
   "outputs": [],
   "source": [
    "PropsSI(\"Tcrit\",\"water\")"
   ]
  },
  {
   "cell_type": "markdown",
   "metadata": {},
   "source": [
    "CoolProp defaults to SI unprefixed units for inputs and outputs: kg, m, Pa, J, etc."
   ]
  },
  {
   "cell_type": "code",
   "execution_count": null,
   "metadata": {
    "execution": {
     "iopub.execute_input": "2021-04-09T13:16:58.467Z",
     "iopub.status.busy": "2021-04-09T13:16:58.448Z",
     "iopub.status.idle": "2021-04-09T13:16:58.505Z"
    },
    "jupyter": {
     "outputs_hidden": false,
     "source_hidden": false
    },
    "nteract": {
     "transient": {
      "deleting": false
     }
    }
   },
   "outputs": [],
   "source": [
    "PropsSI(\"Pcrit\",\"water\")"
   ]
  },
  {
   "cell_type": "markdown",
   "metadata": {},
   "source": [
    "## CoolProp + Unitful sitting in a `tree`\n",
    " \n",
    "One convenient feature of Julia is thst packages can extend each other without being dependencies of each other. Each works fine alone, but better together."
   ]
  },
  {
   "cell_type": "code",
   "execution_count": null,
   "metadata": {
    "execution": {
     "iopub.execute_input": "2021-04-09T13:17:01.896Z",
     "iopub.status.busy": "2021-04-09T13:17:01.877Z",
     "iopub.status.idle": "2021-04-09T13:17:01.978Z"
    },
    "jupyter": {
     "outputs_hidden": false,
     "source_hidden": false
    },
    "nteract": {
     "transient": {
      "deleting": false
     }
    }
   },
   "outputs": [],
   "source": [
    "PropsSI(\"D\",\"T\",293.15u\"K\",\"P\",101325u\"Pa\",\"water\")"
   ]
  },
  {
   "cell_type": "markdown",
   "metadata": {},
   "source": [
    "Before you try... CoolProp does not do specific volume, only density."
   ]
  },
  {
   "cell_type": "code",
   "execution_count": null,
   "metadata": {
    "execution": {
     "iopub.execute_input": "2021-04-09T13:17:01.896Z",
     "iopub.status.busy": "2021-04-09T13:17:01.877Z",
     "iopub.status.idle": "2021-04-09T13:17:01.978Z"
    },
    "jupyter": {
     "outputs_hidden": false,
     "source_hidden": false
    },
    "nteract": {
     "transient": {
      "deleting": false
     }
    }
   },
   "outputs": [],
   "source": [
    "v = 1/PropsSI(\"D\",\"T\",293.15u\"K\",\"P\",101325u\"Pa\",\"water\")"
   ]
  },
  {
   "cell_type": "code",
   "execution_count": null,
   "metadata": {
    "execution": {
     "iopub.execute_input": "2021-04-09T13:17:03.486Z",
     "iopub.status.busy": "2021-04-09T13:17:03.466Z",
     "iopub.status.idle": "2021-04-09T13:17:03.527Z"
    },
    "jupyter": {
     "outputs_hidden": false,
     "source_hidden": false
    },
    "nteract": {
     "transient": {
      "deleting": false
     }
    }
   },
   "outputs": [],
   "source": [
    "PropsSI(\"D\",\"T\",293.15u\"K\",\"P\",101325u\"Pa\",\"propane\")"
   ]
  },
  {
   "cell_type": "code",
   "execution_count": null,
   "metadata": {
    "execution": {
     "iopub.execute_input": "2021-04-09T13:17:04.935Z",
     "iopub.status.busy": "2021-04-09T13:17:04.916Z",
     "iopub.status.idle": "2021-04-09T13:17:04.976Z"
    },
    "jupyter": {
     "outputs_hidden": false,
     "source_hidden": false
    },
    "nteract": {
     "transient": {
      "deleting": false
     }
    }
   },
   "outputs": [],
   "source": [
    "PropsSI(\"D\",\"T\",293.15u\"K\",\"P\",101325u\"Pa\",\"R152a\")"
   ]
  },
  {
   "cell_type": "code",
   "execution_count": null,
   "metadata": {
    "execution": {
     "iopub.execute_input": "2021-04-09T13:17:06.077Z",
     "iopub.status.busy": "2021-04-09T13:17:06.057Z",
     "iopub.status.idle": "2021-04-09T13:17:07.545Z"
    },
    "jupyter": {
     "outputs_hidden": false,
     "source_hidden": false
    },
    "nteract": {
     "transient": {
      "deleting": false
     }
    }
   },
   "outputs": [],
   "source": [
    "PropsSI(\"S\",\"T\",293.15u\"K\",\"P\",101325u\"Pa\",\"water\")"
   ]
  },
  {
   "cell_type": "code",
   "execution_count": null,
   "metadata": {
    "execution": {
     "iopub.execute_input": "2021-04-09T13:17:07.598Z",
     "iopub.status.busy": "2021-04-09T13:17:07.578Z",
     "iopub.status.idle": "2021-04-09T13:17:07.641Z"
    },
    "jupyter": {
     "outputs_hidden": false,
     "source_hidden": false
    },
    "nteract": {
     "transient": {
      "deleting": false
     }
    }
   },
   "outputs": [],
   "source": [
    "PropsSI(\"S\",\"T\",293.15u\"K\",\"P\",101325u\"Pa\",\"propane\")"
   ]
  },
  {
   "cell_type": "code",
   "execution_count": null,
   "metadata": {
    "execution": {
     "iopub.execute_input": "2021-04-09T13:17:09.295Z",
     "iopub.status.busy": "2021-04-09T13:17:09.276Z",
     "iopub.status.idle": "2021-04-09T13:17:09.334Z"
    },
    "jupyter": {
     "outputs_hidden": false,
     "source_hidden": false
    },
    "nteract": {
     "transient": {
      "deleting": false
     }
    }
   },
   "outputs": [],
   "source": [
    "PropsSI(\"S\",\"T\",293.15u\"K\",\"P\",101325u\"Pa\",\"R152a\")"
   ]
  },
  {
   "cell_type": "code",
   "execution_count": null,
   "metadata": {
    "execution": {
     "iopub.execute_input": "2021-04-09T13:17:10.547Z",
     "iopub.status.busy": "2021-04-09T13:17:10.528Z",
     "iopub.status.idle": "2021-04-09T13:17:10.588Z"
    },
    "jupyter": {
     "outputs_hidden": false,
     "source_hidden": false
    },
    "nteract": {
     "transient": {
      "deleting": false
     }
    }
   },
   "outputs": [],
   "source": [
    "PropsSI(\"S\",\"T\",293.15u\"K\",\"P\",101325u\"Pa\",\"R152a\")"
   ]
  },
  {
   "cell_type": "code",
   "execution_count": null,
   "metadata": {
    "execution": {
     "iopub.execute_input": "2021-04-09T13:17:12.036Z",
     "iopub.status.busy": "2021-04-09T13:17:12.016Z",
     "iopub.status.idle": "2021-04-09T13:17:12.077Z"
    },
    "jupyter": {
     "outputs_hidden": false,
     "source_hidden": false
    },
    "nteract": {
     "transient": {
      "deleting": false
     }
    }
   },
   "outputs": [],
   "source": [
    "PropsSI(\"S\",\"T\",293.15u\"K\",\"P\",101325u\"Pa\",\"R152a\")"
   ]
  },
  {
   "cell_type": "code",
   "execution_count": null,
   "metadata": {
    "jupyter": {
     "outputs_hidden": false,
     "source_hidden": false
    },
    "nteract": {
     "transient": {
      "deleting": false
     }
    }
   },
   "outputs": [],
   "source": []
  },
  {
   "cell_type": "code",
   "execution_count": null,
   "metadata": {
    "jupyter": {
     "outputs_hidden": false,
     "source_hidden": false
    },
    "nteract": {
     "transient": {
      "deleting": false
     }
    }
   },
   "outputs": [],
   "source": []
  },
  {
   "cell_type": "markdown",
   "metadata": {
    "jupyter": {
     "outputs_hidden": false,
     "source_hidden": false
    },
    "nteract": {
     "transient": {
      "deleting": false
     }
    }
   },
   "source": [
    "<footer style=\"background-color: #461d7c; color:rgba(253,208,35,0.35); line-height:2em; padding-left:1em; padding-right:0.5em; bottom:0; float:bottom; text-align:right;\"><i>ψᵟ</i></footer>"
   ]
  }
 ],
 "metadata": {
  "kernel_info": {
   "name": "julia-1.6"
  },
  "kernelspec": {
   "display_name": "spack⋮wecan⋮Julia 1.7.0-DEV",
   "language": "julia",
   "name": "spack⋮wecan⋮julia-1.7"
  },
  "language_info": {
   "file_extension": ".jl",
   "mimetype": "application/julia",
   "name": "julia",
   "version": "1.7.0"
  },
  "nteract": {
   "version": "0.28.0"
  },
  "toc": {
   "base_numbering": 1,
   "nav_menu": {},
   "number_sections": false,
   "sideBar": false,
   "skip_h1_title": false,
   "title_cell": "Table of Contents",
   "title_sidebar": "iam︙Julia",
   "toc_cell": false,
   "toc_position": {
    "height": "calc(100% - 180px)",
    "left": "10px",
    "top": "150px",
    "width": "219px"
   },
   "toc_section_display": true,
   "toc_window_display": false
  }
 },
 "nbformat": 4,
 "nbformat_minor": 1
}
