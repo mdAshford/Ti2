{
 "cells": [
  {
   "cell_type": "markdown",
   "metadata": {
    "nteract": {
     "transient": {
      "deleting": false
     }
    }
   },
   "source": [
    "\n",
    "<footer class=\"navbar navbar-default navbar-fixed-bottom mcs-psy-nav\" >\n",
    "  <div class=\"container-fluid text-right h4\">\n",
    "    <em>ψᵟ</em>\n",
    "  </div>\n",
    "</footer>\n",
    "\n"
   ]
  },
  {
   "cell_type": "markdown",
   "metadata": {},
   "source": [
    "# New days\n",
    "\n",
    "Long gone are the times when the number of books in a library's collection are a definitive expression of the quantity of information available. Also long gone are the days when a few web searches count for much of anything toward an actual review of a topic. \n",
    "\n",
    "Fortunately, modern university libraries make this easier than ever. Let's examine one of the best resources available through UA Libraries: Databases.\n",
    "\n"
   ]
  },
  {
   "cell_type": "markdown",
   "metadata": {},
   "source": [
    "# UA Libraries' tools\n",
    "\n",
    "Obviously, you have the university catalog and Scout, but more focused research tools are remarkably easy to find and use.\n",
    "\n",
    "![lib.ua.edu](figures/lib1.png)"
   ]
  },
  {
   "cell_type": "markdown",
   "metadata": {},
   "source": [
    "## You want **Databases** and *ScienceDirect* is the place to start\n",
    "\n",
    "There are tons of databases – perhaps too many – each packed with hundreds (thousands) of collections of sources. You'll see the information there is arranged alphabetically, but you can also search by topic. Keep in mind, these are all databases, but topical searches still work. Once inside a particular database, search and search away.\n",
    "\n",
    "\n",
    "![databases](figures/databases.png)\n",
    "\n",
    "\n",
    "*ScienceDirect* is a great first stop. SD connects you to hundreds of journals, conference proceedings, collections, etc. It has a great search engine, and you should find plenty PDFs to download. UA has enough subscriptions that if something you want does not a download available, another journal will.  that you can. Once you get one paper, SicenceDirect starts recommending similar ones. It may end up being your only stop. "
   ]
  },
  {
   "cell_type": "markdown",
   "metadata": {
    "nteract": {
     "transient": {
      "deleting": false
     }
    }
   },
   "source": [
    "### Quick Search: _hvac arena_\n",
    "\n",
    "A quick search on \"hvac arena\" yielded quick results. \n",
    "\n",
    "\n",
    "![sciencedirectsearch.png](figures/sciencedirectsearch.png)\n",
    "\n"
   ]
  },
  {
   "cell_type": "markdown",
   "metadata": {
    "nteract": {
     "transient": {
      "deleting": false
     }
    }
   },
   "source": [
    "### Going deeper\n",
    "\n",
    "A few important things to remember:\n",
    "\n",
    "- _You don't need to find your exact topic_. Keeping in theme, a publication about the nutritional quality of arena food quite possibly has a introduction that describes the indoor environment of a stadium and the factors that influence it.\n",
    "\n",
    "- _A paper's references_ are a great source of other material.\n",
    "\n",
    "- _Citing Articles_ shows publications that reference the one you're reading. \n",
    "\n",
    "- Obviously, the recommended articles are exactly that.\n",
    "\n",
    "![sportshalls](figures/sportshalls.png) \n"
   ]
  },
  {
   "cell_type": "markdown",
   "metadata": {},
   "source": [
    "## Wrapping up\n",
    "\n",
    "ScienceDirect is one of many databases available. \n",
    "Ultimately, a search is what you make it. Google is ok, but it's designed to sell advertisements... by design it cannot compete with search platforms designed to find (peer-reviewed) information and little else. \n",
    "\n",
    "Just don't let yourself be the one who invests less energy on an literature review than you'd spend finding a good movie or a lamb recipe or vacation destination, or something...\n",
    "\n",
    "\n",
    "\n",
    "\n"
   ]
  },
  {
   "cell_type": "markdown",
   "metadata": {},
   "source": [
    "<footer style=\"background-color: #461d7c; color:rgba(253,208,35,0.35); line-height:2em; padding-left:1em; padding-right:0.5em; bottom:0; float:bottom; text-align:right;\"><i>ψᵟ</i></footer>"
   ]
  }
 ],
 "metadata": {
  "kernel_info": {
   "name": "julia-1.6"
  },
  "kernelspec": {
   "display_name": "spack⋮wecan⋮Julia 1.7.0-DEV",
   "language": "julia",
   "name": "spack⋮wecan⋮julia-1.7"
  },
  "language_info": {
   "file_extension": ".jl",
   "mimetype": "application/julia",
   "name": "julia",
   "version": "1.7.0"
  },
  "nteract": {
   "version": "0.28.0"
  },
  "toc": {
   "base_numbering": 1,
   "nav_menu": {},
   "number_sections": false,
   "sideBar": false,
   "skip_h1_title": false,
   "title_cell": "Table of Contents",
   "title_sidebar": "iam︙UA Libraries",
   "toc_cell": false,
   "toc_position": {
    "height": "165.88235473632812px",
    "left": "1111.6361083984375px",
    "top": "109.30146026611328px",
    "width": "195.42279052734375px"
   },
   "toc_section_display": true,
   "toc_window_display": true
  }
 },
 "nbformat": 4,
 "nbformat_minor": 1
}
