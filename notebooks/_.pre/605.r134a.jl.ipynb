{
 "cells": [
  {
   "cell_type": "markdown",
   "metadata": {},
   "source": [
    "<header class=\"banner\">\n",
    " <div class=\"banner\">\n",
    "  <div class=\"logos\">\n",
    "    <div><img title=\"Juli logo\" src=\"figures/julia-logo-color.svg\" alt=\"Julia animated logo\" width=35 /></div>\n",
    "    <div>◌</div>\n",
    "    <div><img title=\"Powered by MathJax\" src=\"https://www.mathjax.org/badge/mj-logo.svg\" alt=\"Powered by MathJax\" width=65/></div>\n",
    "  </div>\n",
    "  <div class=\"cite_textbook \">\n",
    "     #17 First Assessment ⋮⋮ me605 Fall 2020\n",
    "  </div>\n",
    " </div>\n",
    "</header>\n",
    "\n"
   ]
  },
  {
   "cell_type": "markdown",
   "metadata": {},
   "source": [
    "###### crazyindent\n",
    "### Given \n",
    "### Given \n",
    "\n",
    "\n",
    "$\\ce{H2O}:  \n",
    "\\quad\\begin{equation}\n",
    "{\\large\\text{①}}\n",
    "\\left.\n",
    "\\begin{split}\n",
    "P &= \\pu{300 kPa} \\\\\n",
    "T &= \\pu{60°C}\n",
    "\\end{split}\n",
    "\\right\\}\n",
    "\\longrightarrow\n",
    "\\left\\{\n",
    "\\begin{split}\n",
    "P &= \\pu{15 kPa} \\\\\n",
    "V_2 &= 2V_1\n",
    "\\end{split}\n",
    "\\right.\n",
    "{\\large\\text{②}}\n",
    "\\end{equation}\n",
    "$"
   ]
  },
  {
   "cell_type": "markdown",
   "metadata": {},
   "source": [
    "###### crazyindent\n",
    "### Find\n",
    "### Find\n",
    "\n",
    "1. $w_{\\rm out} ~   \\pu{[kJ/kg]},$\n",
    "1. $w_{\\rm rev} ~  \\pu{[kJ/kg]}$, and\n",
    "1. $\\psi_{\\rm out} ~ \\pu{[kJ/kg]}$"
   ]
  },
  {
   "cell_type": "markdown",
   "metadata": {},
   "source": [
    "###### crazyindent\n",
    "### Get organized \n",
    "\n",
    "### Get organized \n",
    "\n",
    "\n",
    "As always, we assess the situation. This one appears to be a simple change of properties between two states, but we do a full examination, anyway. History is littered with disastrous engineering failures that occurred because some species or effect was incorrectly assumed to be negligible.  \n",
    "\n",
    "1. Action: Volume doubles with constant mass: $~\\therefore v_2 =2v_1$\n",
    "1. Mass: Closed system, no change\n",
    "1. Momentum: No effect\n",
    "1. Energy:  \n",
    "   1. Constant volume, no devices: ∴ no work interaction\n",
    "   1. We are given no information we can use to determine heat exchange between the system and surroundings, so we are stuck with assuming the system is adiabatic.\n",
    "   1. Nothing about motion, depth/elevation:  ∴ ΔKE ≅ ΔPE = 0  \n",
    "1. Entropy: No dead state given. No heat transfer. We are left with only the change in properties. \n",
    "\n",
    "#### Assumptions\n",
    "\n",
    "There's nothing wrong with summarizing your assumptions to keep them clear and visible. The less you make yourself remember, the better your solution will be. More importantly, clarity invites review; clutter invites scrutiny.\n",
    "\n",
    "1. W = Q = 0, \n",
    "1. ΔKE ≅ ΔPE = 0"
   ]
  },
  {
   "cell_type": "markdown",
   "metadata": {},
   "source": [
    "###### crazyindent\n",
    "\n",
    "## Attack\n",
    "\n",
    "## Attack\n",
    "\n",
    "\n",
    "Introducing two of my favorite things: Unitful.jl and CoolProp.jl  "
   ]
  },
  {
   "cell_type": "code",
   "execution_count": null,
   "metadata": {},
   "outputs": [],
   "source": [
    "using Unitful, CoolProp\n",
    "\n",
    "# ENV[\"UNITFUL_FANCY_EXPONENTS\"] = true;"
   ]
  },
  {
   "cell_type": "code",
   "execution_count": null,
   "metadata": {},
   "outputs": [],
   "source": [
    "#_____________________________________________________________________________80____5____0\n",
    "\n",
    "#__ given \n",
    "P₁ = 300u\"kPa\"\n",
    "T₁ =  60u\"°C\"\n",
    "P₂ =  15u\"kPa\"\n",
    "\n",
    "#__ find v₂ = 2v₁. \n",
    "v₁ = 1/PropsSI(\"D\",\"P\",P₁,\"T\",T₁,\"water\"); @show v₁  # CoolProp knows ρ, not v\n",
    "v₂ = 2 * v₁\n",
    "\n",
    "#__ find s₁, s₂\n",
    "s₁ = PropsSI(\"S\",\"P\",P₁,\"T\", T₁ ,\"water\"); @show s₁\n",
    "s₂ = PropsSI(\"S\",\"P\",P₂,\"D\",1/v₂,\"water\"); @show s₂\n",
    "Δs = s₂ - s₁\n",
    "\n",
    "println()\n",
    "@show Δs = s₂ - s₁;"
   ]
  },
  {
   "cell_type": "markdown",
   "metadata": {},
   "source": [
    "### What ifs?\n",
    "\n"
   ]
  },
  {
   "cell_type": "code",
   "execution_count": null,
   "metadata": {},
   "outputs": [],
   "source": [
    "T₂ = PropsSI(\"T\",\"P\",P₂,\"D\",1/v₂,\"water\")"
   ]
  },
  {
   "cell_type": "code",
   "execution_count": null,
   "metadata": {},
   "outputs": [],
   "source": [
    "T₂ |> u\"°C\""
   ]
  },
  {
   "cell_type": "markdown",
   "metadata": {},
   "source": [
    "<div class=\"btn-info\">&nbsp;<div class=\"badge\"></div><i class=\"fa fa-exclamation-circle\"></i><strong> Sidebar: Julia bits, and other notes</strong> </div>\n",
    "<div class=\"panel-info\"><div class=\"panel-heading\">\n",
    "    \n",
    "1. Julia allows most of the Unicode character set for variable names. \n",
    "   \n",
    "  These are all valid: \n",
    "  <div class=\"transcode\">\n",
    "    \n",
    "    ```julia\n",
    "    V₂_ft³ = 20 \n",
    "    𝑣₁_ft³lbm⁻¹ = 44 \n",
    "    Δ𝑓h⁰298_Al₂O₃ = -1675.700 \n",
    "    ```\n",
    "    \n",
    "  </div>\n",
    "    \n",
    "1. Julia does not require a semicolon to end a statement, but there's no penalty for including one. \n",
    "   1. By default, Julia *does* show the output of the last statement in a block; an ending semicolon prevents that output.\n",
    "   1. Use semicolons to separate statements on the same line\n",
    "\n",
    "  1. The chaining operator  <span class=\"transcode\"><code class=\"cm-s-ipython\"><span class=\"cm-operator\">|></span></code></span> sends the output of the preceding function to the input of the following one.\n",
    "\n",
    "  <div class=\"transcode\">\n",
    "    \n",
    "    ```julia\n",
    "    121 |> sqrt\n",
    "    11.0\n",
    "    ``` \n",
    "    </div>\n",
    "</div></div>"
   ]
  },
  {
   "cell_type": "markdown",
   "metadata": {},
   "source": [
    "<footer class=\"psy\"><div class=\"psy\">ψᵟ</div></footer>"
   ]
  }
 ],
 "metadata": {
  "@webio": {
   "lastCommId": null,
   "lastKernelId": null
  },
  "kernelspec": {
   "display_name": "Julia 1.5.1",
   "language": "julia",
   "name": "julia-1.5"
  },
  "language_info": {
   "file_extension": ".jl",
   "mimetype": "application/julia",
   "name": "julia",
   "version": "1.5.1"
  }
 },
 "nbformat": 4,
 "nbformat_minor": 4
}
