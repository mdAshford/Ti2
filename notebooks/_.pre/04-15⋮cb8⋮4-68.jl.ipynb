{
 "cells": [
  {
   "cell_type": "markdown",
   "metadata": {},
   "source": [
    "$\\require{cancel}  \\require{bbox} \\require{color} \\require{enclose} \\require{AMSmath} \\require{AMSsymbols} \\require{sinuitx} \\require{mhchem}$\n",
    "<div style=\"display:inline-block; position:absolute; top:0; right:0; color: #230e3e; font:italic 1em serif;\">$\\LaTeX$<span style=\"display:inline-block; vertical-align:bottom\"><a href=\"https://www.mathjax.org\">\n",
    "    <img style=\"height:1.25em\" title=\"Powered by MathJax\"\n",
    "    src=\"https://www.mathjax.org/badge/mj_logo.png\"\n",
    "    border=\"0\" alt=\"Powered by MathJax\" />\n",
    "</a></span> </div>"
   ]
  },
  {
   "cell_type": "markdown",
   "metadata": {},
   "source": [
    "<header style=\"background-color:#e7e2ee; color:#461d7c; line-height:2em; padding-left:1em; padding-right:1em; bottom:0; float:bottom; text-align:right; float:right; font-family:serif; font-size:small;\">Problem 4-68 ⋮ Çengel, Y. A., and Boles, M. A. (2001). <i>Thermodynamics: An Engineering Approach.</i> Boston: McGraw-Hill.</header>  \n",
    "\n"
   ]
  },
  {
   "cell_type": "markdown",
   "metadata": {},
   "source": [
    "## Problem 4-68\n",
    "\n",
    "### Given   \n",
    "A spring-loaded piston-cylinder device contains 1 kg of carbon dioxide. This system is heated from 100 kPa and 25°C to 1000 kPa and 300°C. \n",
    "\n",
    "\n",
    "### Find \n",
    "Determine  \n",
    "$\\quad$ (a) $Q_{in}$   \n",
    "$\\quad$ (b) $W_{out}$\n"
   ]
  },
  {
   "cell_type": "code",
   "execution_count": 1,
   "metadata": {},
   "outputs": [],
   "source": [
    "using Plots\n",
    "using Unitful"
   ]
  },
  {
   "cell_type": "code",
   "execution_count": 2,
   "metadata": {},
   "outputs": [
    {
     "data": {
      "image/svg+xml": [
       "<?xml version=\"1.0\" encoding=\"utf-8\"?>\n",
       "<svg xmlns=\"http://www.w3.org/2000/svg\" xmlns:xlink=\"http://www.w3.org/1999/xlink\" width=\"600\" height=\"400\" viewBox=\"0 0 2400 1600\">\n",
       "<defs>\n",
       "  <clipPath id=\"clip8100\">\n",
       "    <rect x=\"0\" y=\"0\" width=\"2400\" height=\"1600\"/>\n",
       "  </clipPath>\n",
       "</defs>\n",
       "<polygon clip-path=\"url(#clip8100)\" points=\"\n",
       "0,1600 2400,1600 2400,0 0,0 \n",
       "  \" fill=\"#ffffff\" fill-rule=\"evenodd\" fill-opacity=\"1\"/>\n",
       "<defs>\n",
       "  <clipPath id=\"clip8101\">\n",
       "    <rect x=\"480\" y=\"0\" width=\"1681\" height=\"1600\"/>\n",
       "  </clipPath>\n",
       "</defs>\n",
       "<polygon clip-path=\"url(#clip8100)\" points=\"\n",
       "255.898,1425.62 2352.76,1425.62 2352.76,47.2441 255.898,47.2441 \n",
       "  \" fill=\"#ffffff\" fill-rule=\"evenodd\" fill-opacity=\"1\"/>\n",
       "<defs>\n",
       "  <clipPath id=\"clip8102\">\n",
       "    <rect x=\"255\" y=\"47\" width=\"2098\" height=\"1379\"/>\n",
       "  </clipPath>\n",
       "</defs>\n",
       "<polyline clip-path=\"url(#clip8102)\" style=\"stroke:#000000; stroke-width:2; stroke-opacity:0.1; fill:none\" points=\"\n",
       "  315.243,1425.62 315.243,47.2441 \n",
       "  \"/>\n",
       "<polyline clip-path=\"url(#clip8102)\" style=\"stroke:#000000; stroke-width:2; stroke-opacity:0.1; fill:none\" points=\"\n",
       "  974.632,1425.62 974.632,47.2441 \n",
       "  \"/>\n",
       "<polyline clip-path=\"url(#clip8102)\" style=\"stroke:#000000; stroke-width:2; stroke-opacity:0.1; fill:none\" points=\"\n",
       "  1634.02,1425.62 1634.02,47.2441 \n",
       "  \"/>\n",
       "<polyline clip-path=\"url(#clip8102)\" style=\"stroke:#000000; stroke-width:2; stroke-opacity:0.1; fill:none\" points=\"\n",
       "  2293.41,1425.62 2293.41,47.2441 \n",
       "  \"/>\n",
       "<polyline clip-path=\"url(#clip8102)\" style=\"stroke:#000000; stroke-width:2; stroke-opacity:0.1; fill:none\" points=\"\n",
       "  255.898,1386.61 2352.76,1386.61 \n",
       "  \"/>\n",
       "<polyline clip-path=\"url(#clip8102)\" style=\"stroke:#000000; stroke-width:2; stroke-opacity:0.1; fill:none\" points=\"\n",
       "  255.898,1061.52 2352.76,1061.52 \n",
       "  \"/>\n",
       "<polyline clip-path=\"url(#clip8102)\" style=\"stroke:#000000; stroke-width:2; stroke-opacity:0.1; fill:none\" points=\"\n",
       "  255.898,736.431 2352.76,736.431 \n",
       "  \"/>\n",
       "<polyline clip-path=\"url(#clip8102)\" style=\"stroke:#000000; stroke-width:2; stroke-opacity:0.1; fill:none\" points=\"\n",
       "  255.898,411.343 2352.76,411.343 \n",
       "  \"/>\n",
       "<polyline clip-path=\"url(#clip8102)\" style=\"stroke:#000000; stroke-width:2; stroke-opacity:0.1; fill:none\" points=\"\n",
       "  255.898,86.2547 2352.76,86.2547 \n",
       "  \"/>\n",
       "<polyline clip-path=\"url(#clip8100)\" style=\"stroke:#000000; stroke-width:4; stroke-opacity:1; fill:none\" points=\"\n",
       "  255.898,1425.62 2352.76,1425.62 \n",
       "  \"/>\n",
       "<polyline clip-path=\"url(#clip8100)\" style=\"stroke:#000000; stroke-width:4; stroke-opacity:1; fill:none\" points=\"\n",
       "  255.898,1425.62 255.898,47.2441 \n",
       "  \"/>\n",
       "<polyline clip-path=\"url(#clip8100)\" style=\"stroke:#000000; stroke-width:4; stroke-opacity:1; fill:none\" points=\"\n",
       "  315.243,1425.62 315.243,1446.29 \n",
       "  \"/>\n",
       "<polyline clip-path=\"url(#clip8100)\" style=\"stroke:#000000; stroke-width:4; stroke-opacity:1; fill:none\" points=\"\n",
       "  974.632,1425.62 974.632,1446.29 \n",
       "  \"/>\n",
       "<polyline clip-path=\"url(#clip8100)\" style=\"stroke:#000000; stroke-width:4; stroke-opacity:1; fill:none\" points=\"\n",
       "  1634.02,1425.62 1634.02,1446.29 \n",
       "  \"/>\n",
       "<polyline clip-path=\"url(#clip8100)\" style=\"stroke:#000000; stroke-width:4; stroke-opacity:1; fill:none\" points=\"\n",
       "  2293.41,1425.62 2293.41,1446.29 \n",
       "  \"/>\n",
       "<polyline clip-path=\"url(#clip8100)\" style=\"stroke:#000000; stroke-width:4; stroke-opacity:1; fill:none\" points=\"\n",
       "  255.898,1386.61 224.445,1386.61 \n",
       "  \"/>\n",
       "<polyline clip-path=\"url(#clip8100)\" style=\"stroke:#000000; stroke-width:4; stroke-opacity:1; fill:none\" points=\"\n",
       "  255.898,1061.52 224.445,1061.52 \n",
       "  \"/>\n",
       "<polyline clip-path=\"url(#clip8100)\" style=\"stroke:#000000; stroke-width:4; stroke-opacity:1; fill:none\" points=\"\n",
       "  255.898,736.431 224.445,736.431 \n",
       "  \"/>\n",
       "<polyline clip-path=\"url(#clip8100)\" style=\"stroke:#000000; stroke-width:4; stroke-opacity:1; fill:none\" points=\"\n",
       "  255.898,411.343 224.445,411.343 \n",
       "  \"/>\n",
       "<polyline clip-path=\"url(#clip8100)\" style=\"stroke:#000000; stroke-width:4; stroke-opacity:1; fill:none\" points=\"\n",
       "  255.898,86.2547 224.445,86.2547 \n",
       "  \"/>\n",
       "<g clip-path=\"url(#clip8100)\">\n",
       "<text style=\"fill:#000000; fill-opacity:1; font-family:Arial,Helvetica Neue,Helvetica,sans-serif; font-size:48px; text-anchor:middle;\" transform=\"rotate(0, 315.243, 1485.62)\" x=\"315.243\" y=\"1485.62\">0</text>\n",
       "</g>\n",
       "<g clip-path=\"url(#clip8100)\">\n",
       "<text style=\"fill:#000000; fill-opacity:1; font-family:Arial,Helvetica Neue,Helvetica,sans-serif; font-size:48px; text-anchor:middle;\" transform=\"rotate(0, 974.632, 1485.62)\" x=\"974.632\" y=\"1485.62\">100</text>\n",
       "</g>\n",
       "<g clip-path=\"url(#clip8100)\">\n",
       "<text style=\"fill:#000000; fill-opacity:1; font-family:Arial,Helvetica Neue,Helvetica,sans-serif; font-size:48px; text-anchor:middle;\" transform=\"rotate(0, 1634.02, 1485.62)\" x=\"1634.02\" y=\"1485.62\">200</text>\n",
       "</g>\n",
       "<g clip-path=\"url(#clip8100)\">\n",
       "<text style=\"fill:#000000; fill-opacity:1; font-family:Arial,Helvetica Neue,Helvetica,sans-serif; font-size:48px; text-anchor:middle;\" transform=\"rotate(0, 2293.41, 1485.62)\" x=\"2293.41\" y=\"1485.62\">300</text>\n",
       "</g>\n",
       "<g clip-path=\"url(#clip8100)\">\n",
       "<text style=\"fill:#000000; fill-opacity:1; font-family:Arial,Helvetica Neue,Helvetica,sans-serif; font-size:48px; text-anchor:end;\" transform=\"rotate(0, 219.898, 1404.11)\" x=\"219.898\" y=\"1404.11\">0</text>\n",
       "</g>\n",
       "<g clip-path=\"url(#clip8100)\">\n",
       "<text style=\"fill:#000000; fill-opacity:1; font-family:Arial,Helvetica Neue,Helvetica,sans-serif; font-size:48px; text-anchor:end;\" transform=\"rotate(0, 219.898, 1079.02)\" x=\"219.898\" y=\"1079.02\">250</text>\n",
       "</g>\n",
       "<g clip-path=\"url(#clip8100)\">\n",
       "<text style=\"fill:#000000; fill-opacity:1; font-family:Arial,Helvetica Neue,Helvetica,sans-serif; font-size:48px; text-anchor:end;\" transform=\"rotate(0, 219.898, 753.931)\" x=\"219.898\" y=\"753.931\">500</text>\n",
       "</g>\n",
       "<g clip-path=\"url(#clip8100)\">\n",
       "<text style=\"fill:#000000; fill-opacity:1; font-family:Arial,Helvetica Neue,Helvetica,sans-serif; font-size:48px; text-anchor:end;\" transform=\"rotate(0, 219.898, 428.843)\" x=\"219.898\" y=\"428.843\">750</text>\n",
       "</g>\n",
       "<g clip-path=\"url(#clip8100)\">\n",
       "<text style=\"fill:#000000; fill-opacity:1; font-family:Arial,Helvetica Neue,Helvetica,sans-serif; font-size:48px; text-anchor:end;\" transform=\"rotate(0, 219.898, 103.755)\" x=\"219.898\" y=\"103.755\">1000</text>\n",
       "</g>\n",
       "<g clip-path=\"url(#clip8100)\">\n",
       "<text style=\"fill:#000000; fill-opacity:1; font-family:Arial,Helvetica Neue,Helvetica,sans-serif; font-size:66px; text-anchor:middle;\" transform=\"rotate(0, 1304.33, 1559.48)\" x=\"1304.33\" y=\"1559.48\">temperature [°C]</text>\n",
       "</g>\n",
       "<g clip-path=\"url(#clip8100)\">\n",
       "<text style=\"fill:#000000; fill-opacity:1; font-family:Arial,Helvetica Neue,Helvetica,sans-serif; font-size:66px; text-anchor:middle;\" transform=\"rotate(-90, 89.2861, 736.431)\" x=\"89.2861\" y=\"736.431\">pressure [kPa]</text>\n",
       "</g>\n",
       "<polyline clip-path=\"url(#clip8102)\" style=\"stroke:#009af9; stroke-width:4; stroke-opacity:1; fill:none\" points=\"\n",
       "  480.09,1256.57 2293.41,86.2547 \n",
       "  \"/>\n",
       "<circle clip-path=\"url(#clip8102)\" style=\"fill:#ff0000; stroke:none; fill-opacity:1\" cx=\"480.09\" cy=\"1256.57\" r=\"18\"/>\n",
       "<circle clip-path=\"url(#clip8102)\" style=\"fill:#ff0000; stroke:none; fill-opacity:1\" cx=\"480.09\" cy=\"1256.57\" r=\"14\"/>\n",
       "<circle clip-path=\"url(#clip8102)\" style=\"fill:#ff0000; stroke:none; fill-opacity:1\" cx=\"2293.41\" cy=\"86.2547\" r=\"18\"/>\n",
       "<circle clip-path=\"url(#clip8102)\" style=\"fill:#ff0000; stroke:none; fill-opacity:1\" cx=\"2293.41\" cy=\"86.2547\" r=\"14\"/>\n",
       "</svg>\n"
      ]
     },
     "execution_count": 2,
     "metadata": {},
     "output_type": "execute_result"
    }
   ],
   "source": [
    "# Julia does plots, too\n",
    "plot([25,300],[100,1000], label = \"\", \n",
    "    xlabel=\"temperature [°C]\", \n",
    "    ylabel=\"pressure [kPa]\",\n",
    "    xlim=[0,300], ylim=[0,1000], \n",
    "    tick_direction= :out)\n",
    "scatter!([25,300],[100,1000],   # the ! means we're appending to the existing plot\n",
    "    markershape = :circle,\n",
    "    markercolor = :red,\n",
    "    markerstrokecolor = :red,\n",
    "    label = \"\")"
   ]
  },
  {
   "cell_type": "markdown",
   "metadata": {},
   "source": [
    "### Get Organized\n",
    "\n",
    "![figure, cb8, 4-69](./figures/ch04_cen98179_p04068_lg.jpg)\n",
    "\n",
    "These things you should notice right away:\n",
    "1. Closed system ⋮ constant mass.  \n",
    "1. Here is a free-body diagram of our piston. \n",
    "  ![figure, cb8, 4-69, free body diagram](./figures/cb8,4-068fbd.png)\n",
    "  1. State 1 force balance:     \n",
    "  $$ {\\ } \\\\ P_1A - W_\\ce{piston} - F_\\text{spring,1} - P_\\ce{atm}A = 0 \\\\ {}$$\n",
    "  1. State 2 force balance:   \n",
    "  $$ {\\ }\\\\ \\big(P_1 + \\Delta P\\big)A - W_\\ce{piston} - \\big( F_\\text{spring,1} + \\Delta F_\\text{spring} \\big) - P_\\ce{atm}A = 0 \\\\[12pt] \n",
    "  \\Delta PA = \\Delta F_\\text{spring} = k_\\ce{spring} \\Delta z = k_\\ce{spring} \\frac{\\Delta V}{A} \\\\[6pt] $$\n",
    "    The important thing here is that our pressure changes linearly with volume. $\\quad \\\\ \\quad$"
   ]
  },
  {
   "cell_type": "markdown",
   "metadata": {},
   "source": [
    "### Attack\n",
    "\n",
    "#### (a) Find $W_{out}$   \n",
    "\n",
    "\n",
    "![pv diagram](./figures/cb8,4-068pvdiagram.png)\n",
    "    From here, you find your boundary work by integrating, either algebraically or graphically. Either way,\n",
    "    $$\\ \\\\ W_{b,out} = \\int^2_1 P\\,{\\rm d}V \n",
    "         =\\textstyle \\frac{1}{2}\\big(P_1 + P_2 \\big)\\big( V_2 - V_1 \\big) \\\\\n",
    "         PV = mRT \\\\\n",
    "         m = \\ce{1kg} \\\\ \n",
    "         R = \\frac{\\overline{R}}{\\textbf{MW}_{\\ce{CO2}}} = \\frac{8.314\\,\\text{kJ/kmol$\\cdot$K}}{44.01\\,\\text{kJ/kg}}\\\\[12pt]$$\n",
    "\n"
   ]
  },
  {
   "cell_type": "code",
   "execution_count": 3,
   "metadata": {},
   "outputs": [
    {
     "data": {
      "text/plain": [
       "-250.1980685307465 kJ"
      ]
     },
     "execution_count": 3,
     "metadata": {},
     "output_type": "execute_result"
    }
   ],
   "source": [
    "m = 1u\"kg\"\n",
    "\n",
    "R̄ = u\"R\"\n",
    "MW_CO₂ = 44.01u\"kg/kmol\"\n",
    "R_CO₂ = R̄/MW_CO₂ \n",
    "\n",
    "P1 = 100u\"kPa\"\n",
    "P2 = 1u\"MPa\"\n",
    "\n",
    "T1 = (25  + 273.1)u\"K\"\n",
    "T2 = (300 + 273.1)u\"K\"\n",
    "\n",
    "V1 = m*R_CO₂*T1/P1\n",
    "V2 = m*R_CO₂*T2/P2\n",
    "\n",
    "W_out = (P1 + P2)*(V2 - V1)/2 |> u\"kJ\""
   ]
  },
  {
   "cell_type": "code",
   "execution_count": 4,
   "metadata": {},
   "outputs": [
    {
     "data": {
      "image/svg+xml": [
       "<?xml version=\"1.0\" encoding=\"utf-8\"?>\n",
       "<svg xmlns=\"http://www.w3.org/2000/svg\" xmlns:xlink=\"http://www.w3.org/1999/xlink\" width=\"600\" height=\"400\" viewBox=\"0 0 2400 1600\">\n",
       "<defs>\n",
       "  <clipPath id=\"clip8500\">\n",
       "    <rect x=\"0\" y=\"0\" width=\"2400\" height=\"1600\"/>\n",
       "  </clipPath>\n",
       "</defs>\n",
       "<polygon clip-path=\"url(#clip8500)\" points=\"\n",
       "0,1600 2400,1600 2400,0 0,0 \n",
       "  \" fill=\"#ffffff\" fill-rule=\"evenodd\" fill-opacity=\"1\"/>\n",
       "<defs>\n",
       "  <clipPath id=\"clip8501\">\n",
       "    <rect x=\"480\" y=\"0\" width=\"1681\" height=\"1600\"/>\n",
       "  </clipPath>\n",
       "</defs>\n",
       "<polygon clip-path=\"url(#clip8500)\" points=\"\n",
       "255.898,1425.62 2352.76,1425.62 2352.76,47.2441 255.898,47.2441 \n",
       "  \" fill=\"#ffffff\" fill-rule=\"evenodd\" fill-opacity=\"1\"/>\n",
       "<defs>\n",
       "  <clipPath id=\"clip8502\">\n",
       "    <rect x=\"255\" y=\"47\" width=\"2098\" height=\"1379\"/>\n",
       "  </clipPath>\n",
       "</defs>\n",
       "<polyline clip-path=\"url(#clip8502)\" style=\"stroke:#000000; stroke-width:2; stroke-opacity:0.1; fill:none\" points=\"\n",
       "  315.243,1425.62 315.243,47.2441 \n",
       "  \"/>\n",
       "<polyline clip-path=\"url(#clip8502)\" style=\"stroke:#000000; stroke-width:2; stroke-opacity:0.1; fill:none\" points=\"\n",
       "  880.434,1425.62 880.434,47.2441 \n",
       "  \"/>\n",
       "<polyline clip-path=\"url(#clip8502)\" style=\"stroke:#000000; stroke-width:2; stroke-opacity:0.1; fill:none\" points=\"\n",
       "  1445.62,1425.62 1445.62,47.2441 \n",
       "  \"/>\n",
       "<polyline clip-path=\"url(#clip8502)\" style=\"stroke:#000000; stroke-width:2; stroke-opacity:0.1; fill:none\" points=\"\n",
       "  2010.82,1425.62 2010.82,47.2441 \n",
       "  \"/>\n",
       "<polyline clip-path=\"url(#clip8502)\" style=\"stroke:#000000; stroke-width:2; stroke-opacity:0.1; fill:none\" points=\"\n",
       "  255.898,1386.61 2352.76,1386.61 \n",
       "  \"/>\n",
       "<polyline clip-path=\"url(#clip8502)\" style=\"stroke:#000000; stroke-width:2; stroke-opacity:0.1; fill:none\" points=\"\n",
       "  255.898,1091.07 2352.76,1091.07 \n",
       "  \"/>\n",
       "<polyline clip-path=\"url(#clip8502)\" style=\"stroke:#000000; stroke-width:2; stroke-opacity:0.1; fill:none\" points=\"\n",
       "  255.898,795.538 2352.76,795.538 \n",
       "  \"/>\n",
       "<polyline clip-path=\"url(#clip8502)\" style=\"stroke:#000000; stroke-width:2; stroke-opacity:0.1; fill:none\" points=\"\n",
       "  255.898,500.003 2352.76,500.003 \n",
       "  \"/>\n",
       "<polyline clip-path=\"url(#clip8502)\" style=\"stroke:#000000; stroke-width:2; stroke-opacity:0.1; fill:none\" points=\"\n",
       "  255.898,204.469 2352.76,204.469 \n",
       "  \"/>\n",
       "<polyline clip-path=\"url(#clip8500)\" style=\"stroke:#000000; stroke-width:4; stroke-opacity:1; fill:none\" points=\"\n",
       "  255.898,1425.62 2352.76,1425.62 \n",
       "  \"/>\n",
       "<polyline clip-path=\"url(#clip8500)\" style=\"stroke:#000000; stroke-width:4; stroke-opacity:1; fill:none\" points=\"\n",
       "  255.898,1425.62 255.898,47.2441 \n",
       "  \"/>\n",
       "<polyline clip-path=\"url(#clip8500)\" style=\"stroke:#000000; stroke-width:4; stroke-opacity:1; fill:none\" points=\"\n",
       "  315.243,1425.62 315.243,1446.29 \n",
       "  \"/>\n",
       "<polyline clip-path=\"url(#clip8500)\" style=\"stroke:#000000; stroke-width:4; stroke-opacity:1; fill:none\" points=\"\n",
       "  880.434,1425.62 880.434,1446.29 \n",
       "  \"/>\n",
       "<polyline clip-path=\"url(#clip8500)\" style=\"stroke:#000000; stroke-width:4; stroke-opacity:1; fill:none\" points=\"\n",
       "  1445.62,1425.62 1445.62,1446.29 \n",
       "  \"/>\n",
       "<polyline clip-path=\"url(#clip8500)\" style=\"stroke:#000000; stroke-width:4; stroke-opacity:1; fill:none\" points=\"\n",
       "  2010.82,1425.62 2010.82,1446.29 \n",
       "  \"/>\n",
       "<polyline clip-path=\"url(#clip8500)\" style=\"stroke:#000000; stroke-width:4; stroke-opacity:1; fill:none\" points=\"\n",
       "  255.898,1386.61 224.445,1386.61 \n",
       "  \"/>\n",
       "<polyline clip-path=\"url(#clip8500)\" style=\"stroke:#000000; stroke-width:4; stroke-opacity:1; fill:none\" points=\"\n",
       "  255.898,1091.07 224.445,1091.07 \n",
       "  \"/>\n",
       "<polyline clip-path=\"url(#clip8500)\" style=\"stroke:#000000; stroke-width:4; stroke-opacity:1; fill:none\" points=\"\n",
       "  255.898,795.538 224.445,795.538 \n",
       "  \"/>\n",
       "<polyline clip-path=\"url(#clip8500)\" style=\"stroke:#000000; stroke-width:4; stroke-opacity:1; fill:none\" points=\"\n",
       "  255.898,500.003 224.445,500.003 \n",
       "  \"/>\n",
       "<polyline clip-path=\"url(#clip8500)\" style=\"stroke:#000000; stroke-width:4; stroke-opacity:1; fill:none\" points=\"\n",
       "  255.898,204.469 224.445,204.469 \n",
       "  \"/>\n",
       "<g clip-path=\"url(#clip8500)\">\n",
       "<text style=\"fill:#000000; fill-opacity:1; font-family:Arial,Helvetica Neue,Helvetica,sans-serif; font-size:48px; text-anchor:middle;\" transform=\"rotate(0, 315.243, 1485.62)\" x=\"315.243\" y=\"1485.62\">0.0</text>\n",
       "</g>\n",
       "<g clip-path=\"url(#clip8500)\">\n",
       "<text style=\"fill:#000000; fill-opacity:1; font-family:Arial,Helvetica Neue,Helvetica,sans-serif; font-size:48px; text-anchor:middle;\" transform=\"rotate(0, 880.434, 1485.62)\" x=\"880.434\" y=\"1485.62\">0.2</text>\n",
       "</g>\n",
       "<g clip-path=\"url(#clip8500)\">\n",
       "<text style=\"fill:#000000; fill-opacity:1; font-family:Arial,Helvetica Neue,Helvetica,sans-serif; font-size:48px; text-anchor:middle;\" transform=\"rotate(0, 1445.62, 1485.62)\" x=\"1445.62\" y=\"1485.62\">0.4</text>\n",
       "</g>\n",
       "<g clip-path=\"url(#clip8500)\">\n",
       "<text style=\"fill:#000000; fill-opacity:1; font-family:Arial,Helvetica Neue,Helvetica,sans-serif; font-size:48px; text-anchor:middle;\" transform=\"rotate(0, 2010.82, 1485.62)\" x=\"2010.82\" y=\"1485.62\">0.6</text>\n",
       "</g>\n",
       "<g clip-path=\"url(#clip8500)\">\n",
       "<text style=\"fill:#000000; fill-opacity:1; font-family:Arial,Helvetica Neue,Helvetica,sans-serif; font-size:48px; text-anchor:end;\" transform=\"rotate(0, 219.898, 1404.11)\" x=\"219.898\" y=\"1404.11\">0</text>\n",
       "</g>\n",
       "<g clip-path=\"url(#clip8500)\">\n",
       "<text style=\"fill:#000000; fill-opacity:1; font-family:Arial,Helvetica Neue,Helvetica,sans-serif; font-size:48px; text-anchor:end;\" transform=\"rotate(0, 219.898, 1108.57)\" x=\"219.898\" y=\"1108.57\">250</text>\n",
       "</g>\n",
       "<g clip-path=\"url(#clip8500)\">\n",
       "<text style=\"fill:#000000; fill-opacity:1; font-family:Arial,Helvetica Neue,Helvetica,sans-serif; font-size:48px; text-anchor:end;\" transform=\"rotate(0, 219.898, 813.038)\" x=\"219.898\" y=\"813.038\">500</text>\n",
       "</g>\n",
       "<g clip-path=\"url(#clip8500)\">\n",
       "<text style=\"fill:#000000; fill-opacity:1; font-family:Arial,Helvetica Neue,Helvetica,sans-serif; font-size:48px; text-anchor:end;\" transform=\"rotate(0, 219.898, 517.503)\" x=\"219.898\" y=\"517.503\">750</text>\n",
       "</g>\n",
       "<g clip-path=\"url(#clip8500)\">\n",
       "<text style=\"fill:#000000; fill-opacity:1; font-family:Arial,Helvetica Neue,Helvetica,sans-serif; font-size:48px; text-anchor:end;\" transform=\"rotate(0, 219.898, 221.969)\" x=\"219.898\" y=\"221.969\">1000</text>\n",
       "</g>\n",
       "<g clip-path=\"url(#clip8500)\">\n",
       "<text style=\"fill:#000000; fill-opacity:1; font-family:Arial,Helvetica Neue,Helvetica,sans-serif; font-size:66px; text-anchor:middle;\" transform=\"rotate(0, 1304.33, 1559.48)\" x=\"1304.33\" y=\"1559.48\">temperature [°C]</text>\n",
       "</g>\n",
       "<g clip-path=\"url(#clip8500)\">\n",
       "<text style=\"fill:#000000; fill-opacity:1; font-family:Arial,Helvetica Neue,Helvetica,sans-serif; font-size:66px; text-anchor:middle;\" transform=\"rotate(-90, 89.2861, 736.431)\" x=\"89.2861\" y=\"736.431\">pressure [kPa]</text>\n",
       "</g>\n",
       "<polyline clip-path=\"url(#clip8502)\" style=\"stroke:#009af9; stroke-width:4; stroke-opacity:1; fill:none\" points=\"\n",
       "  70964.1,1268.39 848102,204.469 \n",
       "  \"/>\n",
       "<polygon clip-path=\"url(#clip8502)\" points=\"\n",
       "1906.75,1268.39 621.212,204.469 621.212,1386.61 1906.75,1386.61 \n",
       "  \" fill=\"#ff0000\" fill-rule=\"evenodd\" fill-opacity=\"0.1\"/>\n",
       "<circle clip-path=\"url(#clip8502)\" style=\"fill:#ff0000; stroke:none; fill-opacity:1\" cx=\"1906.75\" cy=\"1268.39\" r=\"32\"/>\n",
       "<circle clip-path=\"url(#clip8502)\" style=\"fill:#ff0000; stroke:none; fill-opacity:1\" cx=\"1906.75\" cy=\"1268.39\" r=\"28\"/>\n",
       "<circle clip-path=\"url(#clip8502)\" style=\"fill:#ff0000; stroke:none; fill-opacity:1\" cx=\"621.212\" cy=\"204.469\" r=\"32\"/>\n",
       "<circle clip-path=\"url(#clip8502)\" style=\"fill:#ff0000; stroke:none; fill-opacity:1\" cx=\"621.212\" cy=\"204.469\" r=\"28\"/>\n",
       "<g clip-path=\"url(#clip8500)\">\n",
       "<text style=\"fill:#ffffff; fill-opacity:1; font-family:Arial,Helvetica Neue,Helvetica,sans-serif; font-size:48px; text-anchor:middle;\" transform=\"rotate(0, 1906.75, 1285.89)\" x=\"1906.75\" y=\"1285.89\">1</text>\n",
       "</g>\n",
       "<g clip-path=\"url(#clip8500)\">\n",
       "<text style=\"fill:#ffffff; fill-opacity:1; font-family:Arial,Helvetica Neue,Helvetica,sans-serif; font-size:48px; text-anchor:middle;\" transform=\"rotate(0, 621.212, 221.969)\" x=\"621.212\" y=\"221.969\">2</text>\n",
       "</g>\n",
       "</svg>\n"
      ]
     },
     "execution_count": 4,
     "metadata": {},
     "output_type": "execute_result"
    }
   ],
   "source": [
    "VV1 = V1 |> u\"m^3\" |> ustrip; VV2 = V2 |> u\"m^3\" |> ustrip; \n",
    "PP1 = P1 |> u\"kPa\" |> ustrip; PP2 = P2 |> u\"kPa\" |> ustrip;\n",
    "\n",
    "scatter!([(VV1,PP1),(VV2,PP2)], markersize=8, markercolor = :red, \n",
    "    markershape = :circle, markerstrokecolor = :red, \n",
    "    fill = (0, 0.1, :red), label=\"\", ylabel=\"pressure [kPa]\", )\n",
    "annotate!([(VV1,PP1,Plots.text(\"1\",8,:center,:white)),(VV2,PP2,Plots.text(\"2\",8,:center,:white))] ,\n",
    "ylim=[0,1100], xlim=[0,0.7])\n"
   ]
  },
  {
   "cell_type": "markdown",
   "metadata": {},
   "source": [
    "\n",
    "<div class=\"panel-success\"><div class=\"panel-heading\">   \n",
    "\n",
    "$$(a)\\ W_{in} = 250.20\\,\\ce{kJ}$$\n",
    "\n",
    "</div>\n"
   ]
  },
  {
   "cell_type": "markdown",
   "metadata": {},
   "source": [
    "#### (a) Find $Q_{in}$  \n",
    "\n",
    "Employ the First Law, as usual:\n",
    "\n",
    "\\begin{array}{c}\n",
    "  E_{in} &-& E_{out} &=& \\Delta E_{sys} \\\\\n",
    "  Q_{in} &-& W_{out} &=& m \\big( u_2 - u_1 \\big) &=& m \\displaystyle \\frac{ \\bar{u}_2 - \\bar{u}_1 }{\\textbf{MW}_{\\ce{CO2}}} \\\\\n",
    "\\end{array}\n",
    "\n",
    "$$ Q_{in} = W_{out} + m  \\frac{ \\bar{u}_2 - \\bar{u}_1 }{\\textbf{MW}_{\\ce{CO2}}}$$"
   ]
  },
  {
   "cell_type": "code",
   "execution_count": 5,
   "metadata": {},
   "outputs": [
    {
     "data": {
      "text/plain": [
       "-37.360986049492254 kJ"
      ]
     },
     "execution_count": 5,
     "metadata": {},
     "output_type": "execute_result"
    }
   ],
   "source": [
    "ū1 = 6885u\"kJ/kmol\"       # table\n",
    "ū2 = 16251.96u\"kJ/kmol\"   # table\n",
    "\n",
    "Q_in = W_out + m*(ū2 - ū1)/MW_CO₂ |> u\"kJ\""
   ]
  },
  {
   "cell_type": "markdown",
   "metadata": {},
   "source": [
    "<div class=\"btn-success\">&nbsp;<div class=\"badge\"></div><i class=\"fa fa-spin fa-fw fa-cog\"></i><strong> Finis</strong></div>\n",
    "<div class=\"panel-success\"><div class=\"panel-heading\"><div class=\"badge\"></div> \n",
    "\n",
    "$$ (b) \\ Q_{out} = 37.36 \\,\\ce{kJ} $$\n",
    "\n",
    "\n",
    "\n",
    "\n",
    "</div></div>"
   ]
  },
  {
   "cell_type": "markdown",
   "metadata": {},
   "source": [
    "<footer style=\"background-color: #461d7c; color:rgba(253,208,35,0.35); line-height:2em; padding-left:1em; padding-right:0.5em; bottom:0; float:bottom; text-align:right;\"><i>ψᵟ</i></footer>"
   ]
  }
 ],
 "metadata": {
  "@webio": {
   "lastCommId": null,
   "lastKernelId": null
  },
  "kernelspec": {
   "display_name": "Julia 1.2.0-DEV",
   "language": "julia",
   "name": "julia-1.2"
  },
  "language_info": {
   "file_extension": ".jl",
   "mimetype": "application/julia",
   "name": "julia",
   "version": "1.2.0"
  },
  "varInspector": {
   "cols": {
    "lenName": 16,
    "lenType": 16,
    "lenVar": 40
   },
   "kernels_config": {
    "python": {
     "delete_cmd_postfix": "",
     "delete_cmd_prefix": "del ",
     "library": "var_list.py",
     "varRefreshCmd": "print(var_dic_list())"
    },
    "r": {
     "delete_cmd_postfix": ") ",
     "delete_cmd_prefix": "rm(",
     "library": "var_list.r",
     "varRefreshCmd": "cat(var_dic_list()) "
    }
   },
   "types_to_exclude": [
    "module",
    "function",
    "builtin_function_or_method",
    "instance",
    "_Feature"
   ],
   "window_display": true
  }
 },
 "nbformat": 4,
 "nbformat_minor": 2
}
