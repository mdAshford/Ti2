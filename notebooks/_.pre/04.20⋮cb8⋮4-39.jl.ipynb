{
 "cells": [
  {
   "cell_type": "markdown",
   "metadata": {},
   "source": [
    "<div style=\"display:inline-block; position:absolute; top:0; right:0; color: #230e3e; font:italic 1em serif;\">$\\LaTeX$<span style=\"display:inline-block; vertical-align:bottom\"><a href=\"https://www.mathjax.org\">\n",
    "    <img style=\"height:1.25em\" title=\"Powered by MathJax\"\n",
    "    src=\"https://www.mathjax.org/badge/mj_logo.png\"\n",
    "    border=\"0\" alt=\"Powered by MathJax\" />\n",
    "</a></span> </div>\n",
    "\n",
    "$\\require{color}\\require{mhchem}$"
   ]
  },
  {
   "cell_type": "markdown",
   "metadata": {},
   "source": [
    "<header style=\"background-color:#e7e2ee; color:#461d7c; line-height:2em; padding-left:1em; padding-right:1em; bottom:0; float:bottom; text-align:right; float:right; font-family:serif; font-size:small;\">Problem 4-39 ⋮ Çengel, Y. A., and Boles, M. A. (2001). <i>Thermodynamics: An Engineering Approach.</i> Boston: McGraw-Hill.</header>  "
   ]
  },
  {
   "cell_type": "markdown",
   "metadata": {},
   "source": [
    "\n",
    "### Given   \n",
    "Steam at 75 kPa and 8 percent quality is contained in a spring-loaded piston–cylinder device, as shown in Fig. P4–39, with an initial volume of 2 m³. Steam is now heated until its volume is 5 m³ and its pressure is 225 kPa. \n",
    "\n",
    "### Find \n",
    "1. Heat transfer in\n",
    "1. Work out  \n",
    "\n"
   ]
  },
  {
   "cell_type": "markdown",
   "metadata": {},
   "source": [
    "### Get Organized\n",
    "\n",
    "Even dysfunctional homes deserve a decent diagram.\n",
    "\n",
    "![figure, cb8, 4-39](figures/ch04_cen98179_p04039_lg.jpg)"
   ]
  },
  {
   "cell_type": "markdown",
   "metadata": {},
   "source": [
    "#### This gets easy if you recognize these things:  \n",
    "1. Closed system ⋮ constant mass  \n",
    "1. We do have boundary work  \n",
    "1. We can resolve both states ⋮ $(P_1,x_1),\\ (P_2,v_2)$  \n",
    "1. We can assume $\\rm \\Delta KE = \\Delta PE \\approx 0$  \n",
    "1. Linear P-V relationship\n",
    "\n",
    "#### Assumptions\n",
    "1. $\\rm \\Delta KE = \\Delta PE \\approx 0$   \n",
    "1. Volume will increase. If we're wrong, we'll see it when we calculate boundary work.\n",
    "\n",
    "\n"
   ]
  },
  {
   "cell_type": "markdown",
   "metadata": {},
   "source": [
    "$\\bf \\color{blue} \\Huge\\textit{Attack}$"
   ]
  },
  {
   "cell_type": "markdown",
   "metadata": {},
   "source": [
    "\n",
    "Apply the First Law, with subscripts 1 and 2 representing initial and final states, respectively:\n",
    "\n",
    "\\begin{array}{ccccc}\n",
    "  E_{in} &-& E_{out} &=& \\Delta E_{sys} \\\\\n",
    "  Q_{in} &-& W_{b,out} &=& U_2 - U_1 \\\\\n",
    "\\end{array}\n",
    "\n",
    "We know that the spring will force a linear relationship between pressure and volume, _ie_ $P = \\kappa V$. A graphical solution is easiest.\n",
    "\n",
    "\n",
    "![PV diagram](figures/cb8,4-021,PVdiagram.png)\n",
    "\n",
    "\\begin{gather*}\n",
    " W_{\\rm b,out} = \\int^2_1 P\\,{\\rm d}V = \\frac{1}{2} \\left( P_1 + P_2 \\right)\\left( V_2 - V_1 \\right) \\\\[6pt]\n",
    " P_1 = 75\\,{\\rm kPa} \\quad\n",
    " P_2 = 225\\,{\\rm kPa} \\quad\n",
    " V_1 = 2\\,{\\rm m^3} \\quad\n",
    " V_2 = 5\\,{\\rm m^3} \n",
    "\\end{gather*}\n",
    "\n"
   ]
  },
  {
   "cell_type": "markdown",
   "metadata": {},
   "source": [
    "\n",
    "\\begin{gather*}\n",
    "  Q_\\textit{in} = m\\left( u_2 - u_1 \\right) - W_{\\rm b,out} \\\\[6pt]\n",
    "  m = \\frac{V_1}{v_1}  \\qquad v_1 = v \\left(P_1, x_1 \\right) \n",
    "  \\qquad u_1 = u \\left(P_1, x_1 \\right) \\qquad  u_2 = h \\left( P_2, v_2 \\right)  \\\\\n",
    "\\end{gather*}"
   ]
  },
  {
   "cell_type": "code",
   "execution_count": 1,
   "metadata": {},
   "outputs": [],
   "source": [
    "using Unitful\n",
    "using Plots"
   ]
  },
  {
   "cell_type": "code",
   "execution_count": 2,
   "metadata": {},
   "outputs": [
    {
     "name": "stdout",
     "output_type": "stream",
     "text": [
      "running marcucius...\n",
      "package LaTeXStrings...package Unitful...function roundme...function sopretty...function subscripts...macro sopretty...macro rubber...marcucius done!\n"
     ]
    }
   ],
   "source": [
    "include(\"src/marcucius.jl\");"
   ]
  },
  {
   "cell_type": "code",
   "execution_count": 3,
   "metadata": {},
   "outputs": [
    {
     "data": {
      "text/latex": [
       "$v_{ \\text{f,75kPa}} = \\textstyle 0.001037~\\frac{\\rm  m^{3} }{\\rm  kg }$"
      ],
      "text/plain": [
       "L\"$v_{ \\text{f,75kPa}} = \\textstyle 0.001037~\\frac{\\rm  m^{3} }{\\rm  kg }$\""
      ]
     },
     "metadata": {},
     "output_type": "display_data"
    },
    {
     "data": {
      "text/latex": [
       "$v_{ \\text{g,75kPa}} = \\textstyle 2.226~\\frac{\\rm  m^{3} }{\\rm  kg }$"
      ],
      "text/plain": [
       "L\"$v_{ \\text{g,75kPa}} = \\textstyle 2.226~\\frac{\\rm  m^{3} }{\\rm  kg }$\""
      ]
     },
     "metadata": {},
     "output_type": "display_data"
    },
    {
     "data": {
      "text/latex": [
       "$u_{ \\text{f,75kPa}} = \\textstyle 384.105~\\frac{\\rm  kJ }{\\rm  kg }$"
      ],
      "text/plain": [
       "L\"$u_{ \\text{f,75kPa}} = \\textstyle 384.105~\\frac{\\rm  kJ }{\\rm  kg }$\""
      ]
     },
     "metadata": {},
     "output_type": "display_data"
    },
    {
     "data": {
      "text/latex": [
       "$u_{ \\text{g,75kPa}} = \\textstyle 2496.65~\\frac{\\rm  kJ }{\\rm  kg }$"
      ],
      "text/plain": [
       "L\"$u_{ \\text{g,75kPa}} = \\textstyle 2496.65~\\frac{\\rm  kJ }{\\rm  kg }$\""
      ]
     },
     "metadata": {},
     "output_type": "display_data"
    },
    {
     "data": {
      "text/latex": [
       "$v_{ \\text{f,225kPa}} = \\textstyle 0.00106385~\\frac{\\rm  m^{3} }{\\rm  kg }$"
      ],
      "text/plain": [
       "L\"$v_{ \\text{f,225kPa}} = \\textstyle 0.00106385~\\frac{\\rm  m^{3} }{\\rm  kg }$\""
      ]
     },
     "metadata": {},
     "output_type": "display_data"
    },
    {
     "data": {
      "text/latex": [
       "$v_{ \\text{g,225kPa}} = \\textstyle 0.8022~\\frac{\\rm  m^{3} }{\\rm  kg }$"
      ],
      "text/plain": [
       "L\"$v_{ \\text{g,225kPa}} = \\textstyle 0.8022~\\frac{\\rm  m^{3} }{\\rm  kg }$\""
      ]
     },
     "metadata": {},
     "output_type": "display_data"
    },
    {
     "data": {
      "text/latex": [
       "$u_{ \\text{f,225kPa}} = \\textstyle 519.795~\\frac{\\rm  kJ }{\\rm  kg }$"
      ],
      "text/plain": [
       "L\"$u_{ \\text{f,225kPa}} = \\textstyle 519.795~\\frac{\\rm  kJ }{\\rm  kg }$\""
      ]
     },
     "metadata": {},
     "output_type": "display_data"
    },
    {
     "data": {
      "text/latex": [
       "$u_{ \\text{g,225kPa}} = \\textstyle 2533.35~\\frac{\\rm  kJ }{\\rm  kg }$"
      ],
      "text/plain": [
       "L\"$u_{ \\text{g,225kPa}} = \\textstyle 2533.35~\\frac{\\rm  kJ }{\\rm  kg }$\""
      ]
     },
     "metadata": {},
     "output_type": "display_data"
    }
   ],
   "source": [
    "#___ given____________\n",
    "V_1 = 2u\"m^3\"\n",
    "V_2 = 5u\"m^3\"\n",
    "x_1 = 0.08\n",
    "P_1 = 75u\"kPa\"\n",
    "P_2 = 225u\"kPa\"\n",
    "\n",
    "v_f_70kPa = 1.0360e-3u\"m^3/kg\" \n",
    "v_f_80kPa = 1.0380e-3u\"m^3/kg\" \n",
    "v_f_75kPa = roundme((v_f_70kPa + v_f_80kPa)/2,10)\n",
    "\n",
    "v_g_70kPa = 2.365u\"m^3/kg\" \n",
    "v_g_80kPa = 2.087u\"m^3/kg\" \n",
    "v_g_75kPa = (v_g_70kPa + v_g_80kPa)/2\n",
    "\n",
    "u_f_70kPa = 376.63u\"kJ/kg\" \n",
    "u_f_80kPa = 391.58u\"kJ/kg\"\n",
    "u_f_75kPa = (u_f_70kPa + u_f_80kPa)/2\n",
    "\n",
    "u_g_70kPa = 2494.5u\"kJ/kg\" \n",
    "u_g_80kPa = 2498.8u\"kJ/kg\" \n",
    "u_g_75kPa = (u_g_70kPa + u_g_80kPa)/2\n",
    "\n",
    "v_f_200kPa = 1.0605e-3u\"m^3/kg\"\n",
    "v_f_250kPa = 1.0672e-3u\"m^3/kg\"\n",
    "v_f_225kPa = roundme((v_f_200kPa + v_f_250kPa)/2,10)\n",
    "\n",
    "v_g_200kPa = 0.8857u\"m^3/kg\"\n",
    "v_g_250kPa = 0.7187u\"m^3/kg\"\n",
    "v_g_225kPa = roundme((v_g_200kPa + v_g_250kPa)/2,10)\n",
    "\n",
    "u_f_200kPa = 504.49u\"kJ/kg\" \n",
    "u_f_250kPa = 535.10u\"kJ/kg\" \n",
    "u_f_225kPa = roundme((u_f_200kPa + u_f_250kPa)/2,10)\n",
    "\n",
    "u_g_200kPa = 2529.5u\"kJ/kg\" \n",
    "u_g_250kPa = 2537.2u\"kJ/kg\" \n",
    "u_g_225kPa = roundme((u_g_200kPa + u_g_250kPa)/2,10)\n",
    "\n",
    "(@sopretty v_f_75kPa  render left fraction) |> display\n",
    "(@sopretty v_g_75kPa  render left fraction) |> display\n",
    "(@sopretty u_f_75kPa  render left fraction) |> display\n",
    "(@sopretty u_g_75kPa  render left fraction) |> display\n",
    "(@sopretty v_f_225kPa render left fraction) |> display\n",
    "(@sopretty v_g_225kPa render left fraction) |> display\n",
    "(@sopretty u_f_225kPa render left fraction) |> display\n",
    "(@sopretty u_g_225kPa render left fraction) |> display"
   ]
  },
  {
   "cell_type": "code",
   "execution_count": 4,
   "metadata": {},
   "outputs": [
    {
     "data": {
      "text/latex": [
       "$W_{ \\text{b,out}} = \\textstyle 450.0~{\\rm  kJ }{\\rm  }$"
      ],
      "text/plain": [
       "L\"$W_{ \\text{b,out}} = \\textstyle 450.0~{\\rm  kJ }{\\rm  }$\""
      ]
     },
     "metadata": {},
     "output_type": "display_data"
    },
    {
     "data": {
      "text/latex": [
       "$v_{ \\text{1}} = \\textstyle 0.17903404~\\frac{\\rm  m^{3} }{\\rm  kg }$"
      ],
      "text/plain": [
       "L\"$v_{ \\text{1}} = \\textstyle 0.17903404~\\frac{\\rm  m^{3} }{\\rm  kg }$\""
      ]
     },
     "metadata": {},
     "output_type": "display_data"
    },
    {
     "data": {
      "text/latex": [
       "$m = \\textstyle 11.1711~{\\rm  kg }{\\rm  }$"
      ],
      "text/plain": [
       "L\"$m = \\textstyle 11.1711~{\\rm  kg }{\\rm  }$\""
      ]
     },
     "metadata": {},
     "output_type": "display_data"
    },
    {
     "data": {
      "text/latex": [
       "$v_{ \\text{2}} = \\textstyle 0.4475851~\\frac{\\rm  m^{3} }{\\rm  kg }$"
      ],
      "text/plain": [
       "L\"$v_{ \\text{2}} = \\textstyle 0.4475851~\\frac{\\rm  m^{3} }{\\rm  kg }$\""
      ]
     },
     "metadata": {},
     "output_type": "display_data"
    },
    {
     "data": {
      "text/latex": [
       "$u_{ \\text{1}} = \\textstyle 553.1086~\\frac{\\rm  kJ }{\\rm  kg }$"
      ],
      "text/plain": [
       "L\"$u_{ \\text{1}} = \\textstyle 553.1086~\\frac{\\rm  kJ }{\\rm  kg }$\""
      ]
     },
     "metadata": {},
     "output_type": "display_data"
    },
    {
     "data": {
      "text/latex": [
       "$u_{ \\text{2}} = \\textstyle 1642.07~\\frac{\\rm  kJ }{\\rm  kg }$"
      ],
      "text/plain": [
       "L\"$u_{ \\text{2}} = \\textstyle 1642.07~\\frac{\\rm  kJ }{\\rm  kg }$\""
      ]
     },
     "metadata": {},
     "output_type": "display_data"
    },
    {
     "data": {
      "text/latex": [
       "$Q_{ \\text{in}} = \\textstyle 12614.8967~{\\rm  kJ }{\\rm  }$"
      ],
      "text/plain": [
       "L\"$Q_{ \\text{in}} = \\textstyle 12614.8967~{\\rm  kJ }{\\rm  }$\""
      ]
     },
     "metadata": {},
     "output_type": "display_data"
    }
   ],
   "source": [
    "W_b_out = ((P_1 + P_2) * (V_2 - V_1) / 2) |> u\"kJ\"  # trapezoid\n",
    "\n",
    "v_1 = v_f_75kPa + x_1 * (v_g_75kPa - v_f_75kPa)\n",
    "v_2 = v_1 * V_2 / V_1\n",
    "\n",
    "m   = V_1 / v_1 |> roundme\n",
    "u_1 = u_f_75kPa + x_1 * (u_g_75kPa - u_f_75kPa)\n",
    "\n",
    "x_2 = (v_2 - v_f_225kPa)/(v_g_225kPa - v_f_225kPa)\n",
    "u_2 = u_f_225kPa + x_2 * (u_g_225kPa - u_f_225kPa) |> roundme\n",
    "\n",
    "Q_in = (m * (u_2 - u_1) + W_b_out) |> roundme\n",
    "\n",
    "\n",
    "(@sopretty W_b_out render left fraction) |> display\n",
    "(@sopretty v_1     render left fraction) |> display\n",
    "(@sopretty m       render left fraction) |> display\n",
    "(@sopretty v_2     render left fraction) |> display\n",
    "(@sopretty u_1     render left fraction) |> display\n",
    "(@sopretty u_2     render left fraction) |> display\n",
    "(@sopretty Q_in    render left fraction) |> display"
   ]
  },
  {
   "cell_type": "markdown",
   "metadata": {},
   "source": [
    "<div class=\"btn-success\">&nbsp;<div class=\"badge\"></div><i class=\"fa fa-bomb\"></i><strong> Boom</strong></div>\n",
    "<div class=\"panel-success\"><div class=\"panel-heading\"><div class=\"badge\"></div> \n",
    "\n",
    "\\begin{equation*}\n",
    "   Q_{in} = 12614.90\\,\\text{kJ}\n",
    "\\end{equation*}  \n",
    "\n",
    "\n",
    "</div></div>"
   ]
  }
 ],
 "metadata": {
  "@webio": {
   "lastCommId": null,
   "lastKernelId": null
  },
  "kernelspec": {
   "display_name": "Julia 1.5.0-DEV",
   "language": "julia",
   "name": "julia-1.5"
  },
  "language_info": {
   "file_extension": ".jl",
   "mimetype": "application/julia",
   "name": "julia",
   "version": "1.5.0"
  },
  "varInspector": {
   "cols": {
    "lenName": 16,
    "lenType": 16,
    "lenVar": 40
   },
   "kernels_config": {
    "python": {
     "delete_cmd_postfix": "",
     "delete_cmd_prefix": "del ",
     "library": "var_list.py",
     "varRefreshCmd": "print(var_dic_list())"
    },
    "r": {
     "delete_cmd_postfix": ") ",
     "delete_cmd_prefix": "rm(",
     "library": "var_list.r",
     "varRefreshCmd": "cat(var_dic_list()) "
    }
   },
   "types_to_exclude": [
    "module",
    "function",
    "builtin_function_or_method",
    "instance",
    "_Feature"
   ],
   "window_display": true
  }
 },
 "nbformat": 4,
 "nbformat_minor": 2
}
