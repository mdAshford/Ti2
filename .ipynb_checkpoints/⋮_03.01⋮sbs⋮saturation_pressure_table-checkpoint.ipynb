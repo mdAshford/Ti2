{
 "cells": [
  {
   "cell_type": "markdown",
   "metadata": {},
   "source": [
    "<header class=\"banner\"><div class=\"banner\">\n",
    "  <div class=\"logos\">\n",
    "    <div><img title=\"Julia logo\" src=\"figures/julia-logo-color.svg\" alt=\"Julia animated logo\" width=35 /></div>\n",
    "    <div>◌</div>\n",
    "    <div><img title=\"Powered by MathJax\" src=\"https://www.mathjax.org/badge/mj-logo.svg\"\n",
    "              alt=\"Powered by MathJax\" width=65 />\n",
    "    </div>\n",
    "  </div>  <!-- logos -->\n",
    "<!--   <div class=\"cite_textbook cb8\">1-67 <span class=\"authors\"></span></div> -->\n",
    "</div></header>\n"
   ]
  },
  {
   "cell_type": "markdown",
   "metadata": {},
   "source": [
    "$\\colorbox{#f1f1f0}{$x^6$}$\n",
    "$\\bbox[#f1f1f0,0.2em]{\\color{#16344a}\\rm P = 400\\,kPa},$\n",
    "\n"
   ]
  },
  {
   "cell_type": "code",
   "execution_count": 7,
   "metadata": {},
   "outputs": [
    {
     "data": {
      "text/plain": [
       "(22, 52, 74)"
      ]
     },
     "execution_count": 7,
     "metadata": {},
     "output_type": "execute_result"
    }
   ],
   "source": [
    "Int(0x16),Int(0x34),Int(0x4a)"
   ]
  },
  {
   "cell_type": "markdown",
   "metadata": {},
   "source": [
    "### Given   $\\require{cancel} \\require{mhchem} \\require{bbox} \\require{color} \\require{AMSmath} \\require{AMSsymbols} \\definecolor{oldgold}{RGB}{253,208,035}$    \n",
    "\n",
    "$\\quad\\ce{H2O} \n",
    "\\left\\{ \n",
    "  \\begin{split}\n",
    "    P &=  400\\,\\rm kPa \\\\\n",
    "    u &= 1450\\,\\rm kJ/kg\n",
    "  \\end{split} \n",
    "\\right.$\n",
    "\n",
    "\n",
    "### Find \n",
    "1. Specific volume, enthalpy, and entropy.  \n",
    "2. Describe the phase.\n",
    "\n",
    "## Attack \n",
    "1. We are given pressure ($P$) and internal energy ($u$), **two independent properties**, so they fix our state.\n",
    "2. Not knowing the phase of the water, we head to the Saturation Pressure Table and locate the row corresponding to `P = 400 kPa = 4 bar = 0.4 MPa`.\n",
    "\n",
    "    ![03%7C01.png](./figures/0301.png)"
   ]
  },
  {
   "cell_type": "markdown",
   "metadata": {},
   "source": [
    "3. From\n",
    "$\\bbox[#f1f1f0,0.2em]{\\color{#16344a}\\rm P = 400\\,kPa},$\n",
    "we get internal energy values for the saturated liquid \n",
    "$\\bbox[#f1f1f0,0.2em]{u_f = 604.31\\, \\rm kJ/kg}$\n",
    "\n",
    "$\\enclose{}[mathbackground=#f1f1f0,mathcolor=#16344a]{\\displaystyle u_f = 604.31\\,\\rm kJ/kg}$\n",
    "\n",
    "$\\bbox[#f1f1f0,0.2em]{\\color{#16344a}\\rm u_f = 604.31\\,\\rm kJ/kg},$\n",
    "\n",
    "\n",
    "\n",
    "and saturated vapor\n",
    "$\\enclose{}[mathbackground=#f1f1f0, mathcolor=#16344a]{\\displaystyle u_g = 2553.6\\,\\rm  kJ/kg}$. \n",
    "\n",
    "4. Comparing those to the internal energy given $\\left(u=1450 \\text{ kJ/kg}\\right),$ we see that $u_f < u < u_g.$\n",
    "5. Therefore,\n",
    "    - We have saturation conditions, but keep in mind:\n",
    "        - were $u < u_f$, our $\\ce{H2O}$ would be *Compressed (Subcooled) Liquid*\n",
    "        - were $u > u_g$, our $\\ce{H2O}$ would be *Superheated Vapor*\n",
    "    - Our phase is **saturated mixture**\n",
    "        - Had $u = u_f$, phase would be *saturated liquid*\n",
    "        - Had $u = u_g$, phase would be *saturated vapor*\n",
    "    - The temperature comes directly from the table: $\\enclose{}[mathbackground=#f1f1f0, mathcolor=#16344a]{T = T_{saturation} = 143.6 \\ ^\\circ \\text{F.}}$ **Never forget:** temperature and pressure are absolutely **NOT** independent under saturation conditions. If you know one, you know the other."
   ]
  },
  {
   "cell_type": "markdown",
   "metadata": {},
   "source": [
    "6. Before we determine the remaining properties $v, h,$ and $s,$ we should discuss the property tables. Saturation tables only contain data along phase boundaries. For mixed-phase conditions, the average propeties of the mixture are a weighted average of the properties of each phase present. For vapor/liquid mixtures, we introduce a new property, quality, which is the mass fraction of vapor in a vapor/liquid mixture. A quality $x=0$ denotes a saturated liquid, and quality $x=1$ represents a saturated vapor. **Quality is undefined outside of saturation conditions.**  \n",
    "\n",
    "   ![03%7C01.png](figures/0301_saturation_dome.png)  \n",
    "    \n",
    "  To determine $v, h,$ and $s,$ we first calculate $x,$ then use it to calculate the other properties. Remember, get values from the saturation tables at $\\color{#16344a} \\colorbox{#f1f1f0}{P = 400 kPa}.$  \n",
    "  \n",
    "    $ \\displaystyle x = \\frac{u - u_f}{u_g - u_f} = \\frac{\\left(\\rlap{1450}\\hphantom{2553.6} - 604.31\\right)\\,{\\rm kJ/kg}}{\\left(2553.6 - 604.31\\right)\\,{\\rm kJ/kg}} = 0.434 $  \n",
    "    \n",
    "    $\\begin{alignat*}{3}\n",
    "    v &= v_f + x \\big( v_g &- v_f \\big) &= \n",
    "    0.001086 \\text{ m}^3/ \\text{kg} &&+ 0.434 \\big(  \n",
    "    0.4625 \\text{ m}^3/ \\text{kg} &&-\n",
    "    0.001086 \\text{ m}^3/ \\text{kg}  &\\big)\n",
    "    &= {\\color{#ff2600}v = 0.201 \\text{ m}^3/ \\text{kg }}\n",
    "    \\\\\n",
    "    h &= h_f + x \\big( h_g &- h_f \\big) &= \n",
    "    604.74 \\text{ kJ/kg} &&+ 0.434 \\big(  \n",
    "    2738.6 \\text{ kJ/kg} &&-\n",
    "    604.74 \\text{ kJ/kg}  &\\big)\n",
    "    &= {\\color{#ff2600}h = 1530.50 \\text{ kJ/kg}}\n",
    "    \\\\\n",
    "    s &= s_f + x \\big( s_g &- s_f \\big) &= \n",
    "    1.7766 \\text{ kJ/kg} \\cdot \\text{K} &&+ 0.434 \\big(  \n",
    "    6.8959 \\text{ kJ/kg} \\cdot \\text{K} &&-\n",
    "    1.7766 \\text{ kJ/kg}\\cdot \\text{K}  &\\big)\n",
    "    &= {\\color{#ff2600}s = 4.00 \\text{ kJ/kg}\\cdot \\text{K}}\n",
    "    \\end{alignat*}\n",
    "    $  \n",
    "    "
   ]
  },
  {
   "cell_type": "code",
   "execution_count": 6,
   "metadata": {},
   "outputs": [
    {
     "name": "stdout",
     "output_type": "stream",
     "text": [
      "x = 0.4338451436163937\n",
      "v = 0.2012682230966147\n",
      "h = 1530.5047981572777\n",
      "s = 3.9975834437154045\n"
     ]
    }
   ],
   "source": [
    "x = (1450 - 604.31)/(2553.6 -   604.31)   #  no units\n",
    "\n",
    "v = 0.001086 + x * (0.4625  - 0.001086)   #  m³/kg\n",
    "h = 604.74   + x * (2738.6  -   604.74)   #  kJ/kg\n",
    "s = 1.7766   + x * (6.8959  -   1.7766)   #  kJ/kg⋅K\n",
    "\n",
    "@show x v h s;"
   ]
  },
  {
   "cell_type": "markdown",
   "metadata": {},
   "source": [
    "<footer style=\"background-color: #461d7c; color:rgba(253,208,35,0.35); line-height:2em; padding-left:1em; padding-right:0.5em; bottom:0; float:bottom; text-align:right;\"><i>ψᵟ</i></footer>"
   ]
  }
 ],
 "metadata": {
  "@webio": {
   "lastCommId": null,
   "lastKernelId": null
  },
  "kernelspec": {
   "display_name": "Julia 1.5.1",
   "language": "julia",
   "name": "julia-1.5"
  },
  "language_info": {
   "file_extension": ".jl",
   "mimetype": "application/julia",
   "name": "julia",
   "version": "1.5.1"
  },
  "varInspector": {
   "cols": {
    "lenName": 16,
    "lenType": 16,
    "lenVar": 40
   },
   "kernels_config": {
    "python": {
     "delete_cmd_postfix": "",
     "delete_cmd_prefix": "del ",
     "library": "var_list.py",
     "varRefreshCmd": "print(var_dic_list())"
    },
    "r": {
     "delete_cmd_postfix": ") ",
     "delete_cmd_prefix": "rm(",
     "library": "var_list.r",
     "varRefreshCmd": "cat(var_dic_list()) "
    }
   },
   "types_to_exclude": [
    "module",
    "function",
    "builtin_function_or_method",
    "instance",
    "_Feature"
   ],
   "window_display": true
  }
 },
 "nbformat": 4,
 "nbformat_minor": 2
}
