{
 "cells": [
  {
   "cell_type": "markdown",
   "metadata": {
    "nteract": {
     "transient": {
      "deleting": false
     }
    }
   },
   "source": [
    "\n",
    "<div style=\"display:inline-block; position:absolute; top:0; right:0; color: #230e3e; font:italic 1em serif;\">$\\LaTeX$<span style=\"display:inline-block; vertical-align:bottom\"><a href=\"https://www.mathjax.org\">\n",
    "    <img style=\"height:1.55em\" title=\"Powered by MathJax\"\n",
    "    src=\"https://www.mathjax.org/badge/mj_logo.png\"\n",
    "    border=\"0\" alt=\"Powered by MathJax\" /></a></span> </div>\n",
    "    \n",
    "<p style=\"color: #461d7c; font-size: 250%; line-height:2em; margin-left:1em; font-weight:900; margin-top:-0.5em;\">\n",
    "youCAN do thermodynamics</p>\n",
    "\n",
    "<div style=\"margin-top:-0.68em; padding-botton:0; margin-bottom:-0.5em; background-color:#fcf8e3; \">\n",
    "    <p style=\"text-align:right; background-color:#461D7C; color:#fcf8e3; padding-right:1em;\">a production of the BENGAL-TIGER Laboratory at the University of Alabama</p>\n",
    "  <div style=\"background-color:#fcf8e3; color:#461d7c; padding:0.6em 1em 0 1em; margin-bottom:0;\">A repository of guided solutions to thermodynamics problems, presented in Jupyter Notebooks. Notebooks combine rich media with live code execution. More information about Jupyter Notebooks and the programming languages used herein can be found at  \n",
    "\n",
    "+ [Project Jupyter](https://jupyter.org)\n",
    "+ [Dataquest.io Jupyter Notebook for Beginners: A Tutorial](https://www.dataquest.io/blog/jupyter-notebook-tutorial#thenotebookinterface)\n",
    "+ [Python.org](https://www.python.org) <span style=\"display:inline-block; vertical-align:text-bottom\"><a href=\"https://www.python.org\"><img style=\"height:1em;\" src=\"./figures/flatPYTHONlogo.png\" alt=\"python\"></a></span> \n",
    "+ [The Julia Programming Language](https://www.julialang.org) <span style=\"display:inline-block; vertical-align:bottom\"><a href=\"https://www.julialang.org\"><img style=\"height:1.25em\" src=\"./figures/juliaLOGO-three-balls.png\" alt=\"julia\" ></a></span> \n",
    "+ [Python For Data Science Jupyter Notebook Cheat Sheet](./figures/Jupyter_Notebook_Cheat_Sheet.pdf)\n",
    "+ [The Markdown Guide: Everything you need to learn Markdown](https://www.markdownguide.org)\n",
    "\n",
    "$$$$**Quickstart:**\n",
    "Double-click cells to edit. Execute cells with ⇧⏎. The Help menu is pretty good.\n",
    "  </div>\n",
    "  <p style = \"background-image: url(./figures/cream-tiles.png); background-color:blue; line-height: 2px; padding:0; margin-top:4px;\" >&nbsp;</p>\n",
    "</div>"
   ]
  },
  {
   "cell_type": "markdown",
   "metadata": {
    "nteract": {
     "transient": {
      "deleting": false
     }
    }
   },
   "source": [
    "MathJax.Hub.Config({\n",
    "  extensions: [\"mhchem.js\"],\n",
    "  TeX: { equationNumbers: { autoNumber: \"AMS\" } }\n",
    "});"
   ]
  },
  {
   "cell_type": "markdown",
   "metadata": {},
   "source": [
    "\\begin{equation}\n",
    "x^2\n",
    "\\end{equation}"
   ]
  },
  {
   "cell_type": "markdown",
   "metadata": {},
   "source": [
    "$b^5 \\qquad \\ce{H2O}$"
   ]
  },
  {
   "cell_type": "code",
   "execution_count": null,
   "metadata": {},
   "outputs": [],
   "source": [
    "http://localhost:8888/kernelspecs/python3/logo-64x64.png"
   ]
  }
 ],
 "metadata": {
  "kernel_info": {
   "name": "python3"
  },
  "kernelspec": {
   "display_name": "Python 3",
   "language": "python",
   "name": "python3"
  },
  "language_info": {
   "codemirror_mode": {
    "name": "ipython",
    "version": 3
   },
   "file_extension": ".py",
   "mimetype": "text/x-python",
   "name": "python",
   "nbconvert_exporter": "python",
   "pygments_lexer": "ipython3",
   "version": "3.8.2"
  },
  "nteract": {
   "version": "0.24.1"
  }
 },
 "nbformat": 4,
 "nbformat_minor": 1
}
